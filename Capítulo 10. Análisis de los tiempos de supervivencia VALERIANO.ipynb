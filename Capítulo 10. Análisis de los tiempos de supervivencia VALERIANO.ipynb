{
 "cells": [
  {
   "cell_type": "code",
   "execution_count": 2,
   "id": "0f4ad810",
   "metadata": {},
   "outputs": [],
   "source": [
    "import numpy as np\n",
    "import pandas as pd\n",
    "from scipy import stats\n",
    "import scipy.stats as st\n",
    "import pingouin as pg\n",
    "import statsmodels.formula.api as smf\n",
    "\n",
    "import matplotlib.pyplot as plt\n",
    "import seaborn as sns\n",
    "\n",
    "from IPython.display import Image"
   ]
  },
  {
   "cell_type": "markdown",
   "id": "c61a7f6f",
   "metadata": {},
   "source": [
    "¿Cómo lidiar con los sujetos que abandonan un estudio?\n",
    "\n",
    "Ej: supongamos que probamos un nuevo medicamento contra el cáncer. \n",
    "\n",
    "Mientras que algunos sujetos mueren, otros pueden creer que el nuevo fármaco no es efectivo y deciden abandonar el estudio antes de que finalice. \n",
    "\n",
    "Ej: investigar cuánto tiempo dura una máquina antes de que se averíe, o cuánto tiempo las personas se suscriben a las listas de correo (donde la \"muerte\" corresponde a darse de baja de una lista de correo)."
   ]
  },
  {
   "cell_type": "markdown",
   "id": "8b552f2a",
   "metadata": {},
   "source": [
    "# 10.1 Distribuciones de Supervivencia"
   ]
  },
  {
   "cell_type": "markdown",
   "id": "022ee5cf",
   "metadata": {},
   "source": [
    "La distribución de Weibull se usa para modelar datos de confiabilidad o datos de supervivencia. \n",
    "\n",
    "También llamado distribución Fréchet. \n",
    "\n",
    "La distribución de Weibull se caracteriza por un parámetro de forma, el módulo $k$ de Weibull. "
   ]
  },
  {
   "cell_type": "code",
   "execution_count": 2,
   "id": "c0312f0a",
   "metadata": {},
   "outputs": [],
   "source": [
    "# Genere algunos datos de muestra, con un módulo de Weibull de 1.5\n",
    "WeibullDist = stats.weibull_min(1.5)\n",
    "data = WeibullDist.rvs(500)"
   ]
  },
  {
   "cell_type": "code",
   "execution_count": 3,
   "id": "79ced960",
   "metadata": {},
   "outputs": [
    {
     "data": {
      "text/plain": [
       "(1.5062507245554997, 0.021445067747171885, 0.9979403844962673)"
      ]
     },
     "execution_count": 3,
     "metadata": {},
     "output_type": "execute_result"
    }
   ],
   "source": [
    "# Ajuste el parámetro\n",
    "fitPars = stats.weibull_min.fit(data)\n",
    "fitPars"
   ]
  },
  {
   "cell_type": "code",
   "execution_count": 4,
   "id": "f33418dd",
   "metadata": {},
   "outputs": [
    {
     "name": "stdout",
     "output_type": "stream",
     "text": [
      "El módulo de Weibull ajustado es  1.51, en comparación con el valor exacto de 1.5.\n"
     ]
    }
   ],
   "source": [
    "# fitPars contiene (WeibullModulus, Location, Scale)\n",
    "print(f'El módulo de Weibull ajustado es {fitPars[0]:5.2f}, en comparación con el valor exacto de 1.5.')"
   ]
  },
  {
   "cell_type": "markdown",
   "id": "088be4ce",
   "metadata": {},
   "source": [
    "# 10.2 Probabilidades de supervivencia"
   ]
  },
  {
   "cell_type": "markdown",
   "id": "228e4e2d",
   "metadata": {},
   "source": [
    "## 10.2.1 Censura"
   ]
  },
  {
   "cell_type": "markdown",
   "id": "c0dc01b9",
   "metadata": {},
   "source": [
    "La dificultad de usar datos para el análisis de supervivencia es que, al final de un estudio, muchas personas pueden estar todavía \"vivas\". \n",
    "\n",
    "Censura: valores de medición que solo se conocen parcialmente. \n",
    "\n",
    "Ej: una lista de correo cuyos suscriptores se dividen en 2 subgrupos. \n",
    "\n",
    "Grupo Uno: se cansa rápidamente de los correos electrónicos y se da de baja después de 3 meses. \n",
    "\n",
    "Grupo Dos: lo disfruta y generalmente se suscribe por un año y medio. \n",
    "\n",
    "Realizamos un estudio que dura un año y queremos investigar la duración promedio de suscripción:"
   ]
  },
  {
   "cell_type": "code",
   "execution_count": 9,
   "id": "0b858055",
   "metadata": {},
   "outputs": [],
   "source": [
    "from numpy.random import uniform, exponential\n",
    "from lifelines.plotting import plot_lifetimes"
   ]
  },
  {
   "cell_type": "code",
   "execution_count": 10,
   "id": "13d9df9a",
   "metadata": {},
   "outputs": [
    {
     "data": {
      "image/png": "[encoded data removed]",
      "text/plain": [
       "<Figure size 640x480 with 1 Axes>"
      ]
     },
     "metadata": {},
     "output_type": "display_data"
    }
   ],
   "source": [
    "# Generar algunos datos ficticios\n",
    "np.set_printoptions(precision=2)\n",
    "N = 20\n",
    "study_duration = 12\n",
    "    \n",
    "# Nota: ¡una tasa de deserción constante es equivalente a una distribución exponencial!\n",
    "subsciption_list = [ [exponential(18), exponential(3)][uniform()<0.5] for i in range(N) ]\n",
    "actual_subscriptiontimes = np.array(subsciption_list)\n",
    "observed_subscriptiontimes = np.minimum(actual_subscriptiontimes,study_duration)\n",
    "observed= actual_subscriptiontimes < study_duration\n",
    "    \n",
    "# Grafico\n",
    "plot_lifetimes(observed_subscriptiontimes, event_observed=observed)\n",
    "\n",
    "plt.xlim(0,24)\n",
    "plt.vlines(12, 0, 30, lw=2, linestyles=\"--\")\n",
    "plt.xlabel('Tiempo')\n",
    "plt.title('Tiempos de Suscripción, a $t=12$ meses')\n",
    "\n",
    "plt.show()"
   ]
  },
  {
   "cell_type": "code",
   "execution_count": 12,
   "id": "fad4c425",
   "metadata": {},
   "outputs": [
    {
     "name": "stdout",
     "output_type": "stream",
     "text": [
      "Tiempo de suscripción observado a tiempo 12\n",
      " [ 6.24 10.27  1.49 12.    4.87  4.28 11.86  3.72  0.38  2.04 12.    0.31\n",
      "  0.8   9.96 12.   11.61  1.55 10.09 12.   12.  ]\n"
     ]
    }
   ],
   "source": [
    "print(f'Tiempo de suscripción observado a tiempo {study_duration:d}\\n', observed_subscriptiontimes)"
   ]
  },
  {
   "cell_type": "markdown",
   "id": "2231bf97",
   "metadata": {},
   "source": [
    "Las líneas rojas indican el tiempo de suscripción de los individuos donde se ha observado el evento de abandono, y las líneas azules indican el tiempo de suscripción de los individuos censurados por la derecha (no se han observado abandonos). \n",
    "\n",
    "Si se nos pide que estimemos el tiempo promedio de suscripción de nuestra población, e ingenuamente decidimos no incluir a los individuos censurados por la derecha, está claro que estaríamos muy por debajo de la estimación del verdadero tiempo promedio de suscripción. \n",
    "\n",
    "Otro problema similar ocurre si algunos sujetos aumentan su configuración de privacidad en medio del estudio, es decir, nos prohíben monitorearlos antes de que finalice el estudio. \n",
    "\n",
    "Estos datos son datos censurados por la derecha."
   ]
  },
  {
   "cell_type": "markdown",
   "id": "5b924568",
   "metadata": {},
   "source": [
    "## 10.2.2 Curva de supervivencia de Kaplan-Meier"
   ]
  },
  {
   "cell_type": "markdown",
   "id": "5241121e",
   "metadata": {},
   "source": [
    "Primero, el tiempo se subdivide en pequeños períodos. \n",
    "\n",
    "Luego se calcula la probabilidad de que un sujeto sobreviva un período dado. \n",
    "\n",
    "$ p_k = p_{k-1}*\\frac{r_k - f_k}{r_k} $,\n",
    "\n",
    "donde\n",
    "- $p_k$: probabilidad de sobrevivir al periodo $k$\n",
    "- $r_k$: número de sujetos que todavía están en riesgo (todavía en seguimiento) inmediatamente antes del k-ésimo día\n",
    "- $f_k$: número de fallas observadas en el día k. \n",
    "\n",
    "La curva que describe la probabilidad de supervivencia resultante se llama tabla de vida, curva de supervivencia o curva de Kaplan-Meier."
   ]
  },
  {
   "cell_type": "markdown",
   "id": "943d9824",
   "metadata": {},
   "source": [
    "Ej: Los datos muestran los resultados de un estudio con moscas de la fruta del género Drosophila. \n",
    "\n",
    "Los números dan los genotipos de las moscas y el número de días de supervivencia. \n",
    "\n",
    "Como trabajamos con moscas, no tenemos que preocuparnos por la censura a la izquierda: sabemos la fecha de nacimiento de todas las moscas. \n",
    "\n",
    "Tenemos problemas con matar accidentalmente a algunos o si algunos escapan. \n",
    "\n",
    "Estos serían censurados por la derecha ya que en realidad no observamos su muerte debido a causas \"naturales\"."
   ]
  },
  {
   "cell_type": "code",
   "execution_count": 13,
   "id": "400749d6",
   "metadata": {},
   "outputs": [],
   "source": [
    "from lifelines.datasets import load_waltons\n",
    "from lifelines import KaplanMeierFitter\n",
    "from lifelines.statistics import logrank_test"
   ]
  },
  {
   "cell_type": "code",
   "execution_count": 14,
   "id": "5ae0a5b3",
   "metadata": {},
   "outputs": [
    {
     "data": {
      "text/html": [
       "<div>\n",
       "<style scoped>\n",
       "    .dataframe tbody tr th:only-of-type {\n",
       "        vertical-align: middle;\n",
       "    }\n",
       "\n",
       "    .dataframe tbody tr th {\n",
       "        vertical-align: top;\n",
       "    }\n",
       "\n",
       "    .dataframe thead th {\n",
       "        text-align: right;\n",
       "    }\n",
       "</style>\n",
       "<table border=\"1\" class=\"dataframe\">\n",
       "  <thead>\n",
       "    <tr style=\"text-align: right;\">\n",
       "      <th></th>\n",
       "      <th>T</th>\n",
       "      <th>E</th>\n",
       "      <th>group</th>\n",
       "    </tr>\n",
       "  </thead>\n",
       "  <tbody>\n",
       "    <tr>\n",
       "      <th>0</th>\n",
       "      <td>6.0</td>\n",
       "      <td>1</td>\n",
       "      <td>miR-137</td>\n",
       "    </tr>\n",
       "    <tr>\n",
       "      <th>1</th>\n",
       "      <td>13.0</td>\n",
       "      <td>1</td>\n",
       "      <td>miR-137</td>\n",
       "    </tr>\n",
       "    <tr>\n",
       "      <th>2</th>\n",
       "      <td>13.0</td>\n",
       "      <td>1</td>\n",
       "      <td>miR-137</td>\n",
       "    </tr>\n",
       "    <tr>\n",
       "      <th>3</th>\n",
       "      <td>13.0</td>\n",
       "      <td>1</td>\n",
       "      <td>miR-137</td>\n",
       "    </tr>\n",
       "    <tr>\n",
       "      <th>4</th>\n",
       "      <td>19.0</td>\n",
       "      <td>1</td>\n",
       "      <td>miR-137</td>\n",
       "    </tr>\n",
       "  </tbody>\n",
       "</table>\n",
       "</div>"
      ],
      "text/plain": [
       "      T  E    group\n",
       "0   6.0  1  miR-137\n",
       "1  13.0  1  miR-137\n",
       "2  13.0  1  miR-137\n",
       "3  13.0  1  miR-137\n",
       "4  19.0  1  miR-137"
      ]
     },
     "execution_count": 14,
     "metadata": {},
     "output_type": "execute_result"
    }
   ],
   "source": [
    "# Datos\n",
    "df = load_waltons() \n",
    "df.head()"
   ]
  },
  {
   "cell_type": "code",
   "execution_count": 15,
   "id": "924681e0",
   "metadata": {},
   "outputs": [],
   "source": [
    "T = df['T']\n",
    "E = df['E']"
   ]
  },
  {
   "cell_type": "code",
   "execution_count": 16,
   "id": "996044d2",
   "metadata": {},
   "outputs": [],
   "source": [
    "groups = df['group']\n",
    "ix = (groups == 'miR-137')"
   ]
  },
  {
   "cell_type": "code",
   "execution_count": 17,
   "id": "cfca98b7",
   "metadata": {},
   "outputs": [
    {
     "data": {
      "text/plain": [
       "<lifelines.KaplanMeierFitter>"
      ]
     },
     "execution_count": 17,
     "metadata": {},
     "output_type": "execute_result"
    }
   ],
   "source": [
    "kmf = KaplanMeierFitter()\n",
    "kmf"
   ]
  },
  {
   "cell_type": "code",
   "execution_count": 18,
   "id": "bb30dddb",
   "metadata": {},
   "outputs": [
    {
     "data": {
      "image/png": "[encoded data removed]",
      "text/plain": [
       "<Figure size 640x480 with 1 Axes>"
      ]
     },
     "metadata": {},
     "output_type": "display_data"
    }
   ],
   "source": [
    "kmf.fit(T[~ix], E[~ix], label='control')\n",
    "ax = kmf.plot()\n",
    "\n",
    "kmf.fit(T[ix], E[ix], label='miR-137')\n",
    "kmf.plot(ax=ax)\n",
    "\n",
    "plt.ylabel('Probabilidad de supervivencia')\n",
    "\n",
    "plt.show()"
   ]
  },
  {
   "cell_type": "code",
   "execution_count": 19,
   "id": "2b53a263",
   "metadata": {},
   "outputs": [
    {
     "data": {
      "text/html": [
       "<div>\n",
       "<style scoped>\n",
       "    .dataframe tbody tr th:only-of-type {\n",
       "        vertical-align: middle;\n",
       "    }\n",
       "\n",
       "    .dataframe tbody tr th {\n",
       "        vertical-align: top;\n",
       "    }\n",
       "\n",
       "    .dataframe thead th {\n",
       "        text-align: right;\n",
       "    }\n",
       "</style>\n",
       "<table border=\"1\" class=\"dataframe\">\n",
       "  <tbody>\n",
       "    <tr>\n",
       "      <th>t_0</th>\n",
       "      <td>-1</td>\n",
       "    </tr>\n",
       "    <tr>\n",
       "      <th>null_distribution</th>\n",
       "      <td>chi squared</td>\n",
       "    </tr>\n",
       "    <tr>\n",
       "      <th>degrees_of_freedom</th>\n",
       "      <td>1</td>\n",
       "    </tr>\n",
       "    <tr>\n",
       "      <th>test_name</th>\n",
       "      <td>logrank_test</td>\n",
       "    </tr>\n",
       "  </tbody>\n",
       "</table>\n",
       "</div><table border=\"1\" class=\"dataframe\">\n",
       "  <thead>\n",
       "    <tr style=\"text-align: right;\">\n",
       "      <th></th>\n",
       "      <th>test_statistic</th>\n",
       "      <th>p</th>\n",
       "      <th>-log2(p)</th>\n",
       "    </tr>\n",
       "  </thead>\n",
       "  <tbody>\n",
       "    <tr>\n",
       "      <th>0</th>\n",
       "      <td>122.25</td>\n",
       "      <td>&lt;0.005</td>\n",
       "      <td>91.99</td>\n",
       "    </tr>\n",
       "  </tbody>\n",
       "</table>"
      ],
      "text/latex": [
       "\\begin{tabular}{lrrr}\n",
       " & test_statistic & p & -log2(p) \\\\\n",
       "0 & 122.25 & 0.00 & 91.99 \\\\\n",
       "\\end{tabular}\n"
      ],
      "text/plain": [
       "<lifelines.StatisticalResult: logrank_test>\n",
       "               t_0 = -1\n",
       " null_distribution = chi squared\n",
       "degrees_of_freedom = 1\n",
       "         test_name = logrank_test\n",
       "\n",
       "---\n",
       " test_statistic      p  -log2(p)\n",
       "         122.25 <0.005     91.99"
      ]
     },
     "metadata": {},
     "output_type": "display_data"
    }
   ],
   "source": [
    "# Compara las dos curvas\n",
    "results = logrank_test(T[ix], T[~ix], event_observed_A=E[ix], event_observed_B=E[~ix])\n",
    "results.print_summary()"
   ]
  },
  {
   "cell_type": "markdown",
   "id": "c61de892",
   "metadata": {},
   "source": [
    "La curva de supervivencia cambia solo cuando ocurre un \"fracaso\", es decir, cuando un sujeto muere. \n",
    "\n",
    "Las entradas censuradas, que describen cuándo un sujeto abandona el estudio o cuándo finaliza el estudio, se tienen en cuenta en los momentos de \"fallo\", pero por lo demás no afectan la curva de supervivencia."
   ]
  },
  {
   "cell_type": "code",
   "execution_count": 25,
   "id": "de7dcba5",
   "metadata": {},
   "outputs": [
    {
     "data": {
      "text/plain": [
       "array([[ 30.,   0.],\n",
       "       [ 50.,   0.],\n",
       "       [ 50.,   1.],\n",
       "       [ 51.,   0.],\n",
       "       [ 66.,   1.],\n",
       "       [ 82.,   0.],\n",
       "       [ 92.,   0.],\n",
       "       [120.,   1.],\n",
       "       [120.,   1.],\n",
       "       [120.,   1.],\n",
       "       [120.,   1.],\n",
       "       [120.,   1.],\n",
       "       [120.,   1.],\n",
       "       [120.,   1.],\n",
       "       [120.,   1.],\n",
       "       [120.,   1.],\n",
       "       [120.,   1.],\n",
       "       [120.,   1.],\n",
       "       [120.,   1.],\n",
       "       [120.,   1.],\n",
       "       [120.,   1.]])"
      ]
     },
     "execution_count": 25,
     "metadata": {},
     "output_type": "execute_result"
    }
   ],
   "source": [
    "data_1 = np.genfromtxt(r'Datos/altman_13_2.txt', delimiter=',')\n",
    "\n",
    "data_1"
   ]
  },
  {
   "cell_type": "code",
   "execution_count": 26,
   "id": "d5bf774a",
   "metadata": {},
   "outputs": [
    {
     "data": {
      "text/plain": [
       "array([[  5.,   0.],\n",
       "       [  6.,   1.],\n",
       "       [ 11.,   0.],\n",
       "       [ 11.,   0.],\n",
       "       [ 13.,   0.],\n",
       "       [ 24.,   0.],\n",
       "       [ 63.,   0.],\n",
       "       [ 65.,   0.],\n",
       "       [ 69.,   0.],\n",
       "       [ 69.,   0.],\n",
       "       [ 79.,   0.],\n",
       "       [ 82.,   0.],\n",
       "       [ 82.,   0.],\n",
       "       [102.,   0.],\n",
       "       [115.,   0.],\n",
       "       [120.,   1.],\n",
       "       [120.,   1.],\n",
       "       [120.,   1.],\n",
       "       [120.,   1.],\n",
       "       [120.,   1.],\n",
       "       [120.,   1.],\n",
       "       [120.,   1.],\n",
       "       [120.,   1.],\n",
       "       [120.,   1.],\n",
       "       [120.,   1.],\n",
       "       [120.,   1.],\n",
       "       [120.,   1.],\n",
       "       [120.,   1.]])"
      ]
     },
     "execution_count": 26,
     "metadata": {},
     "output_type": "execute_result"
    }
   ],
   "source": [
    "data_2 = np.genfromtxt(r'Datos/altman_13_3.txt', delimiter=',')\n",
    "\n",
    "data_2"
   ]
  },
  {
   "cell_type": "code",
   "execution_count": 27,
   "id": "800ac402",
   "metadata": {},
   "outputs": [],
   "source": [
    "def kaplanmeier(data):\n",
    "    '''Determine y la curva de Kaplan-Meier para los datos dados. \n",
    "    Los tiempos censurados se indican con \"1\" en la segunda columna, los no censurados con \"0\"\n",
    "    '''\n",
    "    \n",
    "    times = data[:,0]\n",
    "    censored = data[:,1]\n",
    "    atRisk = np.arange(len(times),0,-1)\n",
    "    \n",
    "    failures = times[censored==0]\n",
    "    num_failures = len(failures)\n",
    "    p = np.ones(num_failures+1)\n",
    "    r = np.zeros(num_failures+1)\n",
    "    se = np.zeros(num_failures+1)\n",
    "    \n",
    "    # Calcule los números en riesgo, la probabilidad de supervivencia y el error estándar\n",
    "    for i in range(num_failures):\n",
    "        if failures[i] == failures[i-1]:\n",
    "            r[i+1] = r[i]\n",
    "            p[i+1] = p[i]\n",
    "            se[i+1] = se[i]\n",
    "            \n",
    "        else:\n",
    "            r[i+1] = np.max(atRisk[times==failures[i]])\n",
    "            p[i+1] = p[i] * (r[i+1] - sum(failures==failures[i]))/r[i+1]\n",
    "            se[i+1] = p[i+1]*np.sqrt((1-p[i+1])/r[i+1])\n",
    "            # ci = p +/- 1.96 se\n",
    "    \n",
    "    # Grafico la curva de supervivencia (curva Kaplan-Meier)\n",
    "    # Comience siempre en t=0 y p=1, y haga una línea hasta la última medición\n",
    "    \n",
    "    t = np.hstack((0, failures, np.max(times)))\n",
    "    sp = np.hstack((p, p[-1]))\n",
    "    \n",
    "    return(p,atRisk,t,sp,se)"
   ]
  },
  {
   "cell_type": "code",
   "execution_count": 28,
   "id": "1d3266a6",
   "metadata": {},
   "outputs": [],
   "source": [
    "# Determinar las curvas de Kaplan-Meier\n",
    "(p1, r1, t1, sp1,se1) = kaplanmeier(data_1)\n",
    "(p2, r2, t2, sp2,se2) = kaplanmeier(data_2)"
   ]
  },
  {
   "cell_type": "code",
   "execution_count": 32,
   "id": "5294f691",
   "metadata": {},
   "outputs": [
    {
     "data": {
      "image/png": "[encoded data removed]",
      "text/plain": [
       "<Figure size 640x480 with 1 Axes>"
      ]
     },
     "metadata": {},
     "output_type": "display_data"
    }
   ],
   "source": [
    "# Hacer un gráfico combinado para ambos conjuntos de datos\n",
    "plt.step(t1,sp1, where='post')\n",
    "plt.step(t2,sp2,'r', where='post')\n",
    "\n",
    "plt.legend(['Data1', 'Data2'])\n",
    "plt.ylim(0,1)\n",
    "plt.xlabel('Tiempo')\n",
    "plt.ylabel('Probabilidad de supervivencia')\n",
    "\n",
    "plt.show()"
   ]
  },
  {
   "cell_type": "markdown",
   "id": "1e2b261b",
   "metadata": {},
   "source": [
    "# 10.3 Comparación de las curvas de supervivencia en dos grupos"
   ]
  },
  {
   "cell_type": "markdown",
   "id": "692a8551",
   "metadata": {},
   "source": [
    "Prueba de rango logarítmico: compara grupos independientes de tiempos de supervivencia. \n",
    "\n",
    "Es una prueba de hipótesis no paramétrica, que prueba la probabilidad de que ambos grupos provengan de la misma población subyacente. "
   ]
  },
  {
   "cell_type": "code",
   "execution_count": 33,
   "id": "c11e0985",
   "metadata": {},
   "outputs": [],
   "source": [
    "times_1 = data_1[:,0]\n",
    "\n",
    "censored_1 = data_1[:,1]\n",
    "\n",
    "atRisk_1 = np.arange(len(times_1),0,-1)\n",
    "\n",
    "failures_1 = times_1[censored_1==0]"
   ]
  },
  {
   "cell_type": "code",
   "execution_count": 34,
   "id": "a4d49959",
   "metadata": {},
   "outputs": [],
   "source": [
    "times_2 = data_2[:,0]\n",
    "\n",
    "censored_2 = data_2[:,1]\n",
    "\n",
    "atRisk_2 = np.arange(len(times_2),0,-1)\n",
    "\n",
    "failures_2 = times_2[censored_2==0]"
   ]
  },
  {
   "cell_type": "code",
   "execution_count": 35,
   "id": "107a0fdd",
   "metadata": {},
   "outputs": [],
   "source": [
    "failures = np.unique(np.hstack((times_1[censored_1==0], times_2[censored_2==0])))\n",
    "\n",
    "num_failures = len(failures)\n",
    "\n",
    "r1 = np.zeros(num_failures)\n",
    "r2 = np.zeros(num_failures)\n",
    "r  = np.zeros(num_failures)\n",
    "\n",
    "f1 = np.zeros(num_failures)\n",
    "f2 = np.zeros(num_failures)\n",
    "f  = np.zeros(num_failures)\n",
    "\n",
    "e1 = np.zeros(num_failures)\n",
    "\n",
    "f1me1 = np.zeros(num_failures)\n",
    "\n",
    "v = np.zeros(num_failures)"
   ]
  },
  {
   "cell_type": "code",
   "execution_count": 36,
   "id": "13d8039e",
   "metadata": {},
   "outputs": [],
   "source": [
    "for i in range(num_failures):\n",
    "    r1[i] = np.sum(times_1 >= failures[i])\n",
    "    r2[i] = np.sum(times_2 >= failures[i])\n",
    "    r[i] = r1[i] + r2[i]\n",
    "    \n",
    "    f1[i] = np.sum(failures_1==failures[i])\n",
    "    f2[i] = np.sum(failures_2==failures[i])\n",
    "    f[i] = f1[i] + f2[i]\n",
    "    \n",
    "    e1[i] = r1[i]*f[i]/r[i]\n",
    "    f1me1[i] = f1[i] - e1[i]\n",
    "    v[i] = r1[i]*r2[i]*f[i]*(r[i]-f[i]) / ( r[i]**2 *(r[i]-1) )\n",
    "\n",
    "    O1 = np.sum(f1)\n",
    "    O2 = np.sum(f2)\n",
    "    E1 = np.sum(e1)\n",
    "    O1mE1 = np.sum(f1me1)\n",
    "    V = sum(v)"
   ]
  },
  {
   "cell_type": "code",
   "execution_count": 37,
   "id": "6599734f",
   "metadata": {},
   "outputs": [],
   "source": [
    "chi2 = (O1-E1)**2/V\n",
    "\n",
    "p = stats.chi2.sf(chi2, 1)"
   ]
  },
  {
   "cell_type": "code",
   "execution_count": 41,
   "id": "1132843f",
   "metadata": {},
   "outputs": [
    {
     "name": "stdout",
     "output_type": "stream",
     "text": [
      "Chi2 = 3.207\n"
     ]
    }
   ],
   "source": [
    "print(f'Chi2 = {chi2:5.3f}')"
   ]
  },
  {
   "cell_type": "code",
   "execution_count": 42,
   "id": "fc32ee38",
   "metadata": {},
   "outputs": [
    {
     "name": "stdout",
     "output_type": "stream",
     "text": [
      "p=0.0000, las dos curvas de supervivencia no son signifcativamente diferentes.\n"
     ]
    }
   ],
   "source": [
    "if p < 0.05:\n",
    "    print(f'p={0:6.4f}, las dos curvas de supervivencia son signifcativamente diferentes.')\n",
    "else:\n",
    "    print(f'p={0:6.4f}, las dos curvas de supervivencia no son signifcativamente diferentes.')"
   ]
  }
 ],
 "metadata": {
  "kernelspec": {
   "display_name": "Python 3 (ipykernel)",
   "language": "python",
   "name": "python3"
  },
  "language_info": {
   "codemirror_mode": {
    "name": "ipython",
    "version": 3
   },
   "file_extension": ".py",
   "mimetype": "text/x-python",
   "name": "python",
   "nbconvert_exporter": "python",
   "pygments_lexer": "ipython3",
   "version": "3.10.9"
  }
 },
 "nbformat": 4,
 "nbformat_minor": 5
}
