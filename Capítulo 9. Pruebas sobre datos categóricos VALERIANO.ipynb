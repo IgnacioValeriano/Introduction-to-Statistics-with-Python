{
 "cells": [
  {
   "cell_type": "code",
   "execution_count": 1,
   "id": "0963484a",
   "metadata": {},
   "outputs": [],
   "source": [
    "import numpy as np\n",
    "import pandas as pd\n",
    "from scipy import stats\n",
    "import scipy.stats as st\n",
    "import pingouin as pg\n",
    "import statsmodels.formula.api as smf\n",
    "\n",
    "import matplotlib.pyplot as plt\n",
    "import seaborn as sns\n",
    "\n",
    "from IPython.display import Image"
   ]
  },
  {
   "cell_type": "markdown",
   "id": "b1ec72dd",
   "metadata": {},
   "source": [
    "Frecuencia: número de datos que caen en un grupo particular.\n",
    "\n",
    "Análisis de datos categóricos: análisis de frecuencias.\n",
    "\n",
    "Cuando se comparan 2 o más grupos, los datos a menudo se muestran en forma de tabla de frecuencia, también llamada tabla de contingencia.\n",
    "\n",
    "| |Diestro|Zurdo|Total|\n",
    "|---|---|---|---|\n",
    "|Hombres|43|9|52|\n",
    "|Mujeres|44|4|48|\n",
    "|Total|87|13|100|\n",
    "\n",
    "Si tenemos un solo factor (una tabla con una sola fila), las opciones de análisis son limitadas. \n",
    "\n",
    "Pruebas estadísticas para el análisis de tablas de frecuencia: \n",
    "- Prueba de chi-cuadrado\n",
    "    - Es el tipo más común. \n",
    "    - Es una prueba de hipótesis, que verifica si las entradas en las celdas individuales en una tabla de frecuencia provienen todas de la misma distribución. \n",
    "    - Comprueba la hipótesis nula $H_0$ de que los resultados son independientes de la fila o columna en la que aparecen.\n",
    "    - La hipótesis alternativa $H_a$ no especifica el tipo de asociación, por lo que se requiere mucha atención a los datos para interpretar correctamente la información proporcionada por la prueba. \n",
    "    - Es una prueba aproximada.\n",
    "\n",
    "- Prueba exacta de Fisher \n",
    "    - Es una prueba exacta. \n",
    "    - Es computacionalmente más costoso y complejo.\n",
    "    - Originalmente se usó solo para números de muestra pequeños. \n",
    "    - Ahora es la prueba más recomendable de utilizar. \n",
    "\n",
    "- Prueba de McNemar\n",
    "    - Es una prueba de pares emparejados para tablas de 2×2.\n",
    "    - Ej: si desea ver si 2 médicos obtienen resultados comparables al comprobar (los mismos) pacientes si son aptos para el trabajo. \n",
    "    \n",
    "- Prueba Q de Cochran\n",
    "    - Es una extensión de la prueba de McNemar para muestras relacionadas que proporciona un método para probar las diferencias entre 3 o más conjuntos de frecuencias o proporciones emparejados/emparejados. \n",
    "    - Ej: si tiene exactamente las mismas muestras analizadas por 3 laboratorios diferentes y desea verificar si los resultados son estadísticamente equivalentes."
   ]
  },
  {
   "cell_type": "markdown",
   "id": "0e5b17ba",
   "metadata": {},
   "source": [
    "# 9.1 Proporciones e Intervalos de Confianza"
   ]
  },
  {
   "cell_type": "markdown",
   "id": "f4fd0502",
   "metadata": {},
   "source": [
    "Si tenemos un grupo de datos de muestra, podemos verificar si la muestra es representativa de la población estándar. \n",
    "\n",
    "Tenemos que conocer la proporción $p$ de la característica en la población estándar. \n",
    "\n",
    "La ocurrencia de una característica en un grupo de $n$ personas se describe mediante la distribución binomial, con\n",
    "- $media = p ∗ n$. \n",
    "- error estándar de las muestras = $se(p) = \\sqrt{\\frac{p(1 − p)}{n}}$\n",
    "- Intervalo de confianza del 95% = $ci = mean \\pm se ∗ t_{n,0.025}$\n",
    "\n",
    "$t_{n,0.025}$ puede calcularse como la función de supervivencia inversa (ISF) de la distribución t, en el valor 0,025. \n",
    "\n",
    "Si los datos se encuentran fuera de este intervalo de confianza, no son representativos de la población."
   ]
  },
  {
   "cell_type": "markdown",
   "id": "629232e2",
   "metadata": {},
   "source": [
    "## 9.1.1 Explicación"
   ]
  },
  {
   "cell_type": "markdown",
   "id": "afbe0a99",
   "metadata": {},
   "source": [
    "la ecuación\n",
    "\n",
    "$se(p) = \\sqrt{\\frac{p(1 − p)}{n}}$\n",
    "\n",
    "es más complicado de lo que parece: \n",
    "\n",
    "Si tenemos $n$ muestras independientes de una distribución binomial $B(k, p)$, la varianza de su media muestral es\n",
    "\n",
    "$ var(\\frac{1}{n} \\sum\\limits_{i=1}^{n} X_i) = \\frac{1}{n^2} \\sum\\limits_{i=1}^{n} X_i var(X_i) = \\frac{n~var(X_i)}{n^2} = \\frac{var(X_i)}{n} = \\frac{kpq}{n} $\n",
    "\n",
    "donde $q = 1 − p$\n",
    "\n",
    "1. $var(cX) = c^2 ~ var(X)$, para cualquier variable aleatoria, X, y cualquier constante c. \n",
    "\n",
    "2. La varianza de una suma de variables aleatorias independientes es igual a la suma de las varianzas. \n",
    "\n",
    "$ SEM = se(\\bar{X}) = \\sqrt{var(X_i)} = \\sqrt{kpq}{n}$\n",
    "\n",
    "- Cuando $k = n$, obtenemos \n",
    "\n",
    "$ se = \\sqrt{pq} $\n",
    "\n",
    "- Cuando $k = 1$, y las variables binomiales son solo ensayos de Bernoulli, \n",
    "\n",
    "$ se = \\sqrt{\\frac{pq}{n}} $ "
   ]
  },
  {
   "cell_type": "markdown",
   "id": "209fa66e",
   "metadata": {},
   "source": [
    "## 9.1.2 Ejemplo"
   ]
  },
  {
   "cell_type": "markdown",
   "id": "a7bf2f36",
   "metadata": {},
   "source": [
    "Analicemos la incidencia y la mortalidad del cáncer de mama e intentemos\n",
    "\n",
    "Entre los estudiantes de la Universidad de Ciencias Aplicadas de Alta Austria (\"FH\") \n",
    "\n",
    "¿Cuántos casos de cáncer de mama deberíamos esperar por año? \n",
    "\n",
    "¿Cuántas de las estudiantes de FH probablemente morirán de cáncer de mama al final de su vida? \n",
    "\n",
    "Sabemos que:\n",
    "\n",
    "- La Universidad de Ciencias Aplicadas de Alta Austria tiene alrededor de 5000 estudiantes, de los cuales aproximadamente la mitad son mujeres.\n",
    "\n",
    "- El cáncer de mama afecta predominantemente a las mujeres. \n",
    "\n",
    "- La incidencia del cáncer de mama en el grupo de edad de 20 a 30 años es de aproximadamente 10, donde la incidencia se define normalmente como las nuevas apariciones de una enfermedad por año por cada 100 000 personas.\n",
    "\n",
    "- 3.8% de todas las mujeres mueren de cáncer. \n",
    "\n",
    "Parámetros para nuestros cálculos: \n",
    "\n",
    "- n = 2500 \n",
    "- $p_{incidencia} = \\frac{10}{100000} $ \n",
    "- $p_{mortalidad} = \\frac{3.8}{100} $\n",
    "\n",
    "IC del 95% para la incidencia de cáncer de mama es [-0,7, 1,2] y para el número de muertes [76, 114]. \n",
    "\n",
    "Esperamos que cada año, lo más probable es que ninguna o una de las estudiantes de FH sea diagnosticada con cáncer de mama, pero entre 76 y 114 de las estudiantes actuales morirán eventualmente a causa de esta enfermedad."
   ]
  },
  {
   "cell_type": "code",
   "execution_count": 2,
   "id": "db93a335",
   "metadata": {},
   "outputs": [],
   "source": [
    "# Datos proporcionados\n",
    "total_estudiantes = 5000\n",
    "mujeres_estudiantes = total_estudiantes / 2\n",
    "p_incidencia = 10 / 100000\n",
    "p_mortalidad = 3.8 / 100"
   ]
  },
  {
   "cell_type": "code",
   "execution_count": 3,
   "id": "253a4c0e",
   "metadata": {},
   "outputs": [
    {
     "name": "stdout",
     "output_type": "stream",
     "text": [
      "El error estándar de la media muestral para la incidencia es 0.00020.\n"
     ]
    }
   ],
   "source": [
    "# Cálculo del error estándar de la media muestral para la incidencia\n",
    "sem_incidencia = np.sqrt(p_incidencia * (1 - p_incidencia) / mujeres_estudiantes)\n",
    "print(f'El error estándar de la media muestral para la incidencia es {sem_incidencia:.5f}.')"
   ]
  },
  {
   "cell_type": "code",
   "execution_count": 4,
   "id": "53f8c250",
   "metadata": {},
   "outputs": [
    {
     "name": "stdout",
     "output_type": "stream",
     "text": [
      "El error estándar de la media muestral para la mortalidad es 0.00382.\n"
     ]
    }
   ],
   "source": [
    "# Cálculo del error estándar de la media muestral para la mortalidad\n",
    "sem_mortalidad = np.sqrt(p_mortalidad * (1 - p_mortalidad) / mujeres_estudiantes)\n",
    "print(f'El error estándar de la media muestral para la mortalidad es {sem_mortalidad:.5f}.')"
   ]
  },
  {
   "cell_type": "code",
   "execution_count": 8,
   "id": "ab9aef44",
   "metadata": {},
   "outputs": [
    {
     "data": {
      "text/plain": [
       "2499.0"
      ]
     },
     "execution_count": 8,
     "metadata": {},
     "output_type": "execute_result"
    }
   ],
   "source": [
    "alpha = 0.05\n",
    "\n",
    "# Grados de libertad (n - 1)\n",
    "df = mujeres_estudiantes - 1\n",
    "df"
   ]
  },
  {
   "cell_type": "code",
   "execution_count": 6,
   "id": "67c2f3b2",
   "metadata": {},
   "outputs": [
    {
     "name": "stdout",
     "output_type": "stream",
     "text": [
      "El valor crítico t es: 1.96\n"
     ]
    }
   ],
   "source": [
    "# Valor crítico t para el nivel de confianza dado y grados de libertad\n",
    "t_critico = stats.t.ppf(1 - alpha/2, df)\n",
    "print(f\"El valor crítico t es: {t_critico:.2f}\")"
   ]
  },
  {
   "cell_type": "code",
   "execution_count": 42,
   "id": "b0dcc6e7",
   "metadata": {},
   "outputs": [
    {
     "name": "stdout",
     "output_type": "stream",
     "text": [
      "El IC del 95% para la incidencia es: [-0.00029 , 0.00049].\n"
     ]
    }
   ],
   "source": [
    "# Intervalo de confianza del 95% para la incidencia\n",
    "ic_incidencia_inferior = p_incidencia - t_critico * sem_incidencia\n",
    "ic_incidencia_superior = p_incidencia + t_critico * sem_incidencia\n",
    "\n",
    "print(f'El IC del 95% para la incidencia es: [{ic_incidencia_inferior:.5f} , {ic_incidencia_superior:.5f}].')"
   ]
  },
  {
   "cell_type": "code",
   "execution_count": 43,
   "id": "aaa92add",
   "metadata": {},
   "outputs": [
    {
     "name": "stdout",
     "output_type": "stream",
     "text": [
      "El IC del 95% para la mortalidad es: [0.03050 , 0.04550].\n"
     ]
    }
   ],
   "source": [
    "# Intervalo de confianza del 95% para la mortalidad\n",
    "ic_mortalidad_inferior = p_mortalidad - t_critico * sem_mortalidad\n",
    "ic_moratalidad_superior = p_mortalidad + t_critico * sem_mortalidad\n",
    "\n",
    "print(f'El IC del 95% para la mortalidad es: [{ic_mortalidad_inferior:.5f} , {ic_moratalidad_superior:.5f}].')"
   ]
  },
  {
   "cell_type": "code",
   "execution_count": 44,
   "id": "a058b7c1",
   "metadata": {},
   "outputs": [
    {
     "name": "stdout",
     "output_type": "stream",
     "text": [
      "La incidencia esperada de los casos de cáncer de mama por año es 0.25.\n"
     ]
    }
   ],
   "source": [
    "# Cálculo de los casos de cáncer de mama esperados por año\n",
    "incidencia_esperada = mujeres_estudiantes * p_incidencia\n",
    "print(f'La incidencia esperada de los casos de cáncer de mama por año es {incidencia_esperada}.')"
   ]
  },
  {
   "cell_type": "code",
   "execution_count": 45,
   "id": "42a99fa7",
   "metadata": {},
   "outputs": [
    {
     "name": "stdout",
     "output_type": "stream",
     "text": [
      "La mortalidad esperada de los estudiantes es 95.0.\n"
     ]
    }
   ],
   "source": [
    "# Cálculo del número de estudiantes de FH que morirán de cáncer de mama\n",
    "mortalidad_esperada = mujeres_estudiantes * p_mortalidad\n",
    "print(f'La mortalidad esperada de los estudiantes es {mortalidad_esperada}.')"
   ]
  },
  {
   "cell_type": "code",
   "execution_count": 9,
   "id": "f36a411a",
   "metadata": {},
   "outputs": [
    {
     "data": {
      "text/plain": [
       "(0.0, 2.0)"
      ]
     },
     "execution_count": 9,
     "metadata": {},
     "output_type": "execute_result"
    }
   ],
   "source": [
    "# Intervalo de confianza para la incidencia\n",
    "ci_incidence = stats.binom.interval(1 - alpha, n=mujeres_estudiantes, p=p_incidencia)\n",
    "ci_incidence # Consultar"
   ]
  },
  {
   "cell_type": "code",
   "execution_count": 10,
   "id": "79b843e5",
   "metadata": {},
   "outputs": [
    {
     "data": {
      "text/plain": [
       "(77.0, 114.0)"
      ]
     },
     "execution_count": 10,
     "metadata": {},
     "output_type": "execute_result"
    }
   ],
   "source": [
    "# Intervalo de confianza para el número de muertes\n",
    "ci_mortality = stats.binom.interval(1- alpha, n=mujeres_estudiantes, p=p_mortalidad)\n",
    "ci_mortality"
   ]
  },
  {
   "cell_type": "markdown",
   "id": "e2ed6289",
   "metadata": {},
   "source": [
    "# 9.2 Pruebas usando tablas de frecuencia"
   ]
  },
  {
   "cell_type": "markdown",
   "id": "a9b06f43",
   "metadata": {},
   "source": [
    "Los datos se organizan en un conjunto de categorías y se dan como frecuencias (el número total de muestras en cada categoría) (no como porcentajes)\n",
    "\n",
    "Muchas pruebas analizan la desviación de un valor esperado.\n",
    "\n",
    "Pruebas de chi-cuadrado: se usan dado que la distribución de chi-cuadrado caracteriza la variabilidad de los datos (su desviación de un valor medio).\n",
    "\n",
    "$n$ es el número total de observaciones incluidas en la tabla.\n",
    "\n",
    "Valor esperado para cada celda en una tabla de doble entrada:\n",
    "\n",
    "||Derecho|Zurdo|Total|\n",
    "|---|---|---|---|\n",
    "|Hombres|45.2|6.8|52|\n",
    "|Mujeres|41.8|6.2|48|\n",
    "|Total|87|13|100|\n",
    "\n",
    "$ Frecuencia~esperada = \\frac{Total~de~filas * Total~de~filas}{n} $\n",
    "\n",
    "Frecuencias absolutas observadas ($o_i$) \n",
    "\n",
    "Frecuencias absolutas esperadas ($e_i$). \n",
    "\n",
    "$H_0$: todos los datos provienen de la misma población.\n",
    "\n",
    "Estadístico de prueba\n",
    "\n",
    "V = $ \\sum_i \\frac{(o_i - e_i)^2}{e_i} \\thickapprox \\chi_f^2$\n",
    "\n",
    "- sigue una distribución chi-cuadrado con f grados de libertad.\n",
    "- $i$ va desde 1, ..., f , o un índice múltiple ($i_1, ..., i_n$) que va desde (1, ..., 1) a ($f_1, ..., f_n$)\n",
    "- $f = \\sum\\limits_{i=1}^n f_i$ \n",
    "\n",
    "Algunos programas de análisis requieren que los datos de entrada no estén en un formato de tabla de frecuencias, sino en un formato que corresponda a los datos sin procesar originales. \n",
    "\n",
    "| |Diestro|Zurdo|Total|\n",
    "|---|---|---|---|\n",
    "|Hombres|43|9|52|\n",
    "|Mujeres|44|4|48|\n",
    "|Total|87|13|100|\n",
    "\n",
    "la representamos como\n",
    "\n",
    "|Id|Género|Mano|\n",
    "|---|---|---|\n",
    "|0|Hombre|Derecho|\n",
    "|1|Mujer|Zurdo|\n",
    "|2|Mujer|Derecho|\n",
    "|3|Hombre|Derecho|\n",
    "|4|Mujer|Zurdo|\n",
    "|...|...|...|\n",
    "\n",
    "Los valores categóricos pueden representarse como números enteros: \n",
    "- hombre/mujer = 0/1 \n",
    "- derecha/izquierda = 0/1. \n",
    "\n",
    "|Id|Género|Mano|\n",
    "|---|---|---|\n",
    "|0|0|0|\n",
    "|1|1|1|\n",
    "|2|1|0|\n",
    "|3|0|0|\n",
    "|4|1|1|\n",
    "|...|...|...|\n",
    "\n",
    "Para más de 2 variables, se debe usar \"codificación ficticia\" de variables categóricas."
   ]
  },
  {
   "cell_type": "code",
   "execution_count": 34,
   "id": "be8281e2",
   "metadata": {},
   "outputs": [
    {
     "data": {
      "text/html": [
       "<div>\n",
       "<style scoped>\n",
       "    .dataframe tbody tr th:only-of-type {\n",
       "        vertical-align: middle;\n",
       "    }\n",
       "\n",
       "    .dataframe tbody tr th {\n",
       "        vertical-align: top;\n",
       "    }\n",
       "\n",
       "    .dataframe thead th {\n",
       "        text-align: right;\n",
       "    }\n",
       "</style>\n",
       "<table border=\"1\" class=\"dataframe\">\n",
       "  <thead>\n",
       "    <tr style=\"text-align: right;\">\n",
       "      <th></th>\n",
       "      <th>Género</th>\n",
       "      <th>Mano</th>\n",
       "    </tr>\n",
       "  </thead>\n",
       "  <tbody>\n",
       "    <tr>\n",
       "      <th>0</th>\n",
       "      <td>Hombre</td>\n",
       "      <td>Derecho</td>\n",
       "    </tr>\n",
       "    <tr>\n",
       "      <th>1</th>\n",
       "      <td>Mujer</td>\n",
       "      <td>Zurdo</td>\n",
       "    </tr>\n",
       "    <tr>\n",
       "      <th>2</th>\n",
       "      <td>Mujer</td>\n",
       "      <td>Derecho</td>\n",
       "    </tr>\n",
       "    <tr>\n",
       "      <th>3</th>\n",
       "      <td>Hombre</td>\n",
       "      <td>Derecho</td>\n",
       "    </tr>\n",
       "    <tr>\n",
       "      <th>4</th>\n",
       "      <td>Mujer</td>\n",
       "      <td>Zurdo</td>\n",
       "    </tr>\n",
       "  </tbody>\n",
       "</table>\n",
       "</div>"
      ],
      "text/plain": [
       "   Género     Mano\n",
       "0  Hombre  Derecho\n",
       "1   Mujer    Zurdo\n",
       "2   Mujer  Derecho\n",
       "3  Hombre  Derecho\n",
       "4   Mujer    Zurdo"
      ]
     },
     "execution_count": 34,
     "metadata": {},
     "output_type": "execute_result"
    }
   ],
   "source": [
    "# DataFrame original\n",
    "data = {\n",
    "    'Género': ['Hombre', 'Mujer', 'Mujer', 'Hombre', 'Mujer'],\n",
    "    'Mano': ['Derecho', 'Zurdo', 'Derecho', 'Derecho', 'Zurdo']\n",
    "}\n",
    "\n",
    "df_original = pd.DataFrame(data)\n",
    "df_original"
   ]
  },
  {
   "cell_type": "code",
   "execution_count": 35,
   "id": "e84e3115",
   "metadata": {},
   "outputs": [],
   "source": [
    "# Mapeo de género y mano a valores binarios (0 o 1)\n",
    "mapeo_genero = {'Hombre': 0, 'Mujer': 1}\n",
    "mapeo_mano = {'Derecho': 0, 'Zurdo': 1}"
   ]
  },
  {
   "cell_type": "code",
   "execution_count": 36,
   "id": "dc68af9a",
   "metadata": {},
   "outputs": [],
   "source": [
    "# Aplicar los mapeos al DataFrame original\n",
    "df_original['Género'] = df_original['Género'].map(mapeo_genero)\n",
    "df_original['Mano'] = df_original['Mano'].map(mapeo_mano)"
   ]
  },
  {
   "cell_type": "code",
   "execution_count": 37,
   "id": "5c5b159e",
   "metadata": {},
   "outputs": [
    {
     "data": {
      "text/html": [
       "<div>\n",
       "<style scoped>\n",
       "    .dataframe tbody tr th:only-of-type {\n",
       "        vertical-align: middle;\n",
       "    }\n",
       "\n",
       "    .dataframe tbody tr th {\n",
       "        vertical-align: top;\n",
       "    }\n",
       "\n",
       "    .dataframe thead th {\n",
       "        text-align: right;\n",
       "    }\n",
       "</style>\n",
       "<table border=\"1\" class=\"dataframe\">\n",
       "  <thead>\n",
       "    <tr style=\"text-align: right;\">\n",
       "      <th></th>\n",
       "      <th>Género</th>\n",
       "      <th>Mano</th>\n",
       "    </tr>\n",
       "  </thead>\n",
       "  <tbody>\n",
       "    <tr>\n",
       "      <th>0</th>\n",
       "      <td>0</td>\n",
       "      <td>0</td>\n",
       "    </tr>\n",
       "    <tr>\n",
       "      <th>1</th>\n",
       "      <td>1</td>\n",
       "      <td>1</td>\n",
       "    </tr>\n",
       "    <tr>\n",
       "      <th>2</th>\n",
       "      <td>1</td>\n",
       "      <td>0</td>\n",
       "    </tr>\n",
       "    <tr>\n",
       "      <th>3</th>\n",
       "      <td>0</td>\n",
       "      <td>0</td>\n",
       "    </tr>\n",
       "    <tr>\n",
       "      <th>4</th>\n",
       "      <td>1</td>\n",
       "      <td>1</td>\n",
       "    </tr>\n",
       "  </tbody>\n",
       "</table>\n",
       "</div>"
      ],
      "text/plain": [
       "   Género  Mano\n",
       "0       0     0\n",
       "1       1     1\n",
       "2       1     0\n",
       "3       0     0\n",
       "4       1     1"
      ]
     },
     "execution_count": 37,
     "metadata": {},
     "output_type": "execute_result"
    }
   ],
   "source": [
    "df_original"
   ]
  },
  {
   "cell_type": "markdown",
   "id": "1ea6830e",
   "metadata": {},
   "source": [
    "## 9.2.1 Prueba de chi-cuadrado unidireccional"
   ]
  },
  {
   "cell_type": "markdown",
   "id": "a97526e7",
   "metadata": {},
   "source": [
    "Suponga que va de excursión con sus amigos. \n",
    "\n",
    "Todas las noches sorteas quién tiene que lavar los platos. Pero al final del viaje, parece que has hecho la mayor parte del trabajo:\n",
    "\n",
    "|Tú|Peter|Hans|Paul|Mary|Joe|\n",
    "|---|---|---|---|---|---|\n",
    "|10|6|5|4|5|3|\n",
    "\n",
    "Esperas que haya habido algún juego sucio y calculas la probabilidad de que esta distribución se produzca por casualidad. La\n",
    "\n",
    "$ Frecuencia~esperada = \\frac{n_{total}}{n_{personas}} $\n",
    "\n",
    "es 5.5. \n",
    "\n",
    "La probabilidad de que esta distribución resulte por casualidad es"
   ]
  },
  {
   "cell_type": "code",
   "execution_count": 46,
   "id": "59a2291c",
   "metadata": {},
   "outputs": [
    {
     "data": {
      "text/html": [
       "<div>\n",
       "<style scoped>\n",
       "    .dataframe tbody tr th:only-of-type {\n",
       "        vertical-align: middle;\n",
       "    }\n",
       "\n",
       "    .dataframe tbody tr th {\n",
       "        vertical-align: top;\n",
       "    }\n",
       "\n",
       "    .dataframe thead th {\n",
       "        text-align: right;\n",
       "    }\n",
       "</style>\n",
       "<table border=\"1\" class=\"dataframe\">\n",
       "  <thead>\n",
       "    <tr style=\"text-align: right;\">\n",
       "      <th></th>\n",
       "      <th>Nombre</th>\n",
       "      <th>Noches</th>\n",
       "    </tr>\n",
       "  </thead>\n",
       "  <tbody>\n",
       "    <tr>\n",
       "      <th>0</th>\n",
       "      <td>Tú</td>\n",
       "      <td>10</td>\n",
       "    </tr>\n",
       "    <tr>\n",
       "      <th>1</th>\n",
       "      <td>Peter</td>\n",
       "      <td>6</td>\n",
       "    </tr>\n",
       "    <tr>\n",
       "      <th>2</th>\n",
       "      <td>Hans</td>\n",
       "      <td>5</td>\n",
       "    </tr>\n",
       "    <tr>\n",
       "      <th>3</th>\n",
       "      <td>Paul</td>\n",
       "      <td>4</td>\n",
       "    </tr>\n",
       "    <tr>\n",
       "      <th>4</th>\n",
       "      <td>Mary</td>\n",
       "      <td>5</td>\n",
       "    </tr>\n",
       "    <tr>\n",
       "      <th>5</th>\n",
       "      <td>Joe</td>\n",
       "      <td>3</td>\n",
       "    </tr>\n",
       "  </tbody>\n",
       "</table>\n",
       "</div>"
      ],
      "text/plain": [
       "  Nombre  Noches\n",
       "0     Tú      10\n",
       "1  Peter       6\n",
       "2   Hans       5\n",
       "3   Paul       4\n",
       "4   Mary       5\n",
       "5    Joe       3"
      ]
     },
     "execution_count": 46,
     "metadata": {},
     "output_type": "execute_result"
    }
   ],
   "source": [
    "data = pd.DataFrame({\n",
    "    'Nombre':['Tú','Peter','Hans','Paul','Mary','Joe'],\n",
    "    'Noches':[10,6,5,4,5,3]})\n",
    "\n",
    "data"
   ]
  },
  {
   "cell_type": "code",
   "execution_count": 48,
   "id": "b8fe5cba",
   "metadata": {},
   "outputs": [],
   "source": [
    "data.set_index('Nombre', inplace=True)"
   ]
  },
  {
   "cell_type": "code",
   "execution_count": 49,
   "id": "af489982",
   "metadata": {},
   "outputs": [
    {
     "data": {
      "text/html": [
       "<div>\n",
       "<style scoped>\n",
       "    .dataframe tbody tr th:only-of-type {\n",
       "        vertical-align: middle;\n",
       "    }\n",
       "\n",
       "    .dataframe tbody tr th {\n",
       "        vertical-align: top;\n",
       "    }\n",
       "\n",
       "    .dataframe thead th {\n",
       "        text-align: right;\n",
       "    }\n",
       "</style>\n",
       "<table border=\"1\" class=\"dataframe\">\n",
       "  <thead>\n",
       "    <tr style=\"text-align: right;\">\n",
       "      <th></th>\n",
       "      <th>Noches</th>\n",
       "    </tr>\n",
       "    <tr>\n",
       "      <th>Nombre</th>\n",
       "      <th></th>\n",
       "    </tr>\n",
       "  </thead>\n",
       "  <tbody>\n",
       "    <tr>\n",
       "      <th>Tú</th>\n",
       "      <td>10</td>\n",
       "    </tr>\n",
       "    <tr>\n",
       "      <th>Peter</th>\n",
       "      <td>6</td>\n",
       "    </tr>\n",
       "    <tr>\n",
       "      <th>Hans</th>\n",
       "      <td>5</td>\n",
       "    </tr>\n",
       "    <tr>\n",
       "      <th>Paul</th>\n",
       "      <td>4</td>\n",
       "    </tr>\n",
       "    <tr>\n",
       "      <th>Mary</th>\n",
       "      <td>5</td>\n",
       "    </tr>\n",
       "    <tr>\n",
       "      <th>Joe</th>\n",
       "      <td>3</td>\n",
       "    </tr>\n",
       "  </tbody>\n",
       "</table>\n",
       "</div>"
      ],
      "text/plain": [
       "        Noches\n",
       "Nombre        \n",
       "Tú          10\n",
       "Peter        6\n",
       "Hans         5\n",
       "Paul         4\n",
       "Mary         5\n",
       "Joe          3"
      ]
     },
     "execution_count": 49,
     "metadata": {},
     "output_type": "execute_result"
    }
   ],
   "source": [
    "data"
   ]
  },
  {
   "cell_type": "code",
   "execution_count": 61,
   "id": "0198c5d4",
   "metadata": {},
   "outputs": [
    {
     "data": {
      "text/plain": [
       "33"
      ]
     },
     "execution_count": 61,
     "metadata": {},
     "output_type": "execute_result"
    }
   ],
   "source": [
    "n_total = data['Noches'].sum()\n",
    "n_total"
   ]
  },
  {
   "cell_type": "code",
   "execution_count": 62,
   "id": "62754dc1",
   "metadata": {},
   "outputs": [
    {
     "data": {
      "text/plain": [
       "6"
      ]
     },
     "execution_count": 62,
     "metadata": {},
     "output_type": "execute_result"
    }
   ],
   "source": [
    "n_personas = len(data)\n",
    "n_personas"
   ]
  },
  {
   "cell_type": "code",
   "execution_count": 64,
   "id": "6ecc1979",
   "metadata": {},
   "outputs": [
    {
     "name": "stdout",
     "output_type": "stream",
     "text": [
      "La frecuencia esperada es: 5.5.\n"
     ]
    }
   ],
   "source": [
    "frecuencia_esperada =   n_total / n_personas\n",
    "print(f'La frecuencia esperada es: {frecuencia_esperada}.')"
   ]
  },
  {
   "cell_type": "code",
   "execution_count": 50,
   "id": "ed4eb39a",
   "metadata": {},
   "outputs": [
    {
     "data": {
      "text/plain": [
       "array([0.37313039])"
      ]
     },
     "execution_count": 50,
     "metadata": {},
     "output_type": "execute_result"
    }
   ],
   "source": [
    "V, p = stats.chisquare(data)\n",
    "p"
   ]
  },
  {
   "cell_type": "code",
   "execution_count": 65,
   "id": "b4529dec",
   "metadata": {},
   "outputs": [],
   "source": [
    "alpha = 0.05"
   ]
  },
  {
   "cell_type": "code",
   "execution_count": 68,
   "id": "8d61494b",
   "metadata": {},
   "outputs": [
    {
     "name": "stdout",
     "output_type": "stream",
     "text": [
      "Con un p-value de [0.37313039] no podemos rechazar la hipótesis nula.\n",
      "\n",
      "No hay suficiente evidencia para afirmar que haya una diferencia significativa en la distribución de lavado de platos entre los amigos.\n"
     ]
    }
   ],
   "source": [
    "if p <= alpha:\n",
    "    print(f\"Con un p-value de {p}, podemos rechazar la hipótesis nula.\\n\")\n",
    "    print(\"Hay evidencia suficiente para afirmar que hay una diferencia significativa en la distribución de lavado de platos entre los amigos.\")\n",
    "else:\n",
    "    print(f\"Con un p-value de {p} no podemos rechazar la hipótesis nula.\\n\")\n",
    "    print(\"No hay suficiente evidencia para afirmar que haya una diferencia significativa en la distribución de lavado de platos entre los amigos.\")\n"
   ]
  },
  {
   "cell_type": "markdown",
   "id": "29b5f759",
   "metadata": {},
   "source": [
    "¡Que usted haya lavado mucho los platos realmente podría haber sido por casualidad!"
   ]
  },
  {
   "cell_type": "markdown",
   "id": "5ba12355",
   "metadata": {},
   "source": [
    "## 9.2.2 Prueba de contingencia chi-cuadrado"
   ]
  },
  {
   "cell_type": "markdown",
   "id": "863f78e3",
   "metadata": {},
   "source": [
    "Prueba de contingencia: Cuando los datos se pueden organizar en filas y columnas, podemos verificar si los números en las columnas individuales dependen del valor de la fila. \n",
    "\n",
    "| |Diestro|Zurdo|Total|\n",
    "|---|---|---|---|\n",
    "|Hombres|43|9|52|\n",
    "|Mujeres|44|4|48|\n",
    "|Total|87|13|100|\n",
    "\n",
    "Si las mujeres fueran más zurdas que los hombres, la proporción de zurdos a diestros dependería de la fila y sería mayor para las mujeres que para los hombres. \n",
    "\n",
    "La prueba se basa en una estadística de prueba que mide la divergencia de los datos observados de los valores que se esperarían bajo la hipótesis nula de “no asociación”.\n",
    "\n",
    "||Derecho|Zurdo|Total|\n",
    "|---|---|---|---|\n",
    "|Hombres|45.2|6.8|52|\n",
    "|Mujeres|41.8|6.2|48|\n",
    "|Total|87|13|100|"
   ]
  },
  {
   "cell_type": "markdown",
   "id": "510d9426",
   "metadata": {},
   "source": [
    "### a) Supuestos de la prueba de contingencia Chi-Cuadrado"
   ]
  },
  {
   "cell_type": "markdown",
   "id": "f8a17577",
   "metadata": {},
   "source": [
    "El estadístico de prueba V tiene una distribución aproximada de $\\chi^2$, si \n",
    "- Para todas las frecuencias absolutas esperadas $e_i$: $e_i \\geq 1$\n",
    "- Para al menos el 80% de las frecuencias absolutas esperadas $e_i$: $e_i \\geq 5$ \n",
    "\n",
    "Corrección de Yates: Para números de muestra pequeños, se deben hacer correcciones por algún sesgo causado por el uso de la distribución continua de chi-cuadrado, mientras que las frecuencias son números enteros."
   ]
  },
  {
   "cell_type": "markdown",
   "id": "ab4c9d64",
   "metadata": {},
   "source": [
    "### b) Grados de libertad"
   ]
  },
  {
   "cell_type": "markdown",
   "id": "6ba86e8b",
   "metadata": {},
   "source": [
    "Se pueden calcular mediante el número de frecuencias absolutas observadas que se pueden elegir libremente. \n",
    "\n",
    "Ej: solo se debe llenar una celda de una tabla de 2×2 con las sumas al costado y en la parte inferior, y las demás se pueden encontrar mediante resta. \n",
    "\n",
    "En general, una tabla r×c con r filas y c columnas tiene\n",
    "\n",
    "$ df = (r - 1)(c - 1) $ \n",
    "\n",
    "grados de libertad. \n",
    "\n",
    "La suma de las frecuencias esperadas absolutas es\n",
    "\n",
    "$ \\sum_i o_i = n $.\n",
    "\n",
    "Es posible que tengamos que restar del número de grados de libertad, el número de parámetros que necesitamos estimar de la muestra, ya que esto implica relaciones adicionales entre las frecuencias observadas."
   ]
  },
  {
   "cell_type": "markdown",
   "id": "9d038d9b",
   "metadata": {},
   "source": [
    "### c) Ejemplo 1"
   ]
  },
  {
   "cell_type": "code",
   "execution_count": 69,
   "id": "cc3c1df7",
   "metadata": {},
   "outputs": [
    {
     "data": {
      "text/plain": [
       "array([[43,  9],\n",
       "       [44,  4]])"
      ]
     },
     "execution_count": 69,
     "metadata": {},
     "output_type": "execute_result"
    }
   ],
   "source": [
    "data = np.array([[43,9],\n",
    "                 [44,4]])\n",
    "\n",
    "data"
   ]
  },
  {
   "cell_type": "code",
   "execution_count": 70,
   "id": "da0632f0",
   "metadata": {},
   "outputs": [],
   "source": [
    "# Con corrección de Yates\n",
    "V, p, dof, expected = stats.chi2_contingency(data) # valor χ2, valor p, grados de libertad, valores esperados"
   ]
  },
  {
   "cell_type": "code",
   "execution_count": 74,
   "id": "80bd3d66",
   "metadata": {},
   "outputs": [
    {
     "name": "stdout",
     "output_type": "stream",
     "text": [
      "Valor chi2: 1.072\n",
      "\n",
      "Valor p: 0.300\n",
      "\n",
      "Grados de libertad: 1\n",
      "\n",
      "Valores esperados: [[45.24  6.76]\n",
      " [41.76  6.24]]\n"
     ]
    }
   ],
   "source": [
    "print(f'Valor chi2: {V:1.3f}\\n')\n",
    "print(f'Valor p: {p:1.3f}\\n')\n",
    "print(f'Grados de libertad: {dof}\\n')\n",
    "print(f'Valores esperados: {expected}')"
   ]
  },
  {
   "cell_type": "code",
   "execution_count": 75,
   "id": "49826a73",
   "metadata": {},
   "outputs": [
    {
     "name": "stdout",
     "output_type": "stream",
     "text": [
      "No hay una diferencia entre las personas zurdas y las personas diestras entre hombres y mujeres.\n"
     ]
    }
   ],
   "source": [
    "alpha = 0.05\n",
    "\n",
    "if p < alpha:\n",
    "    print(f'Hay una diferencia entre las personas zurdas y las personas diestras entre hombres y mujeres.')\n",
    "else:\n",
    "    print(f'No hay una diferencia entre las personas zurdas y las personas diestras entre hombres y mujeres.')"
   ]
  },
  {
   "cell_type": "code",
   "execution_count": 76,
   "id": "8b095110",
   "metadata": {},
   "outputs": [],
   "source": [
    "# Sin corrección de Yates\n",
    "V, p, dof, expected = stats.chi2_contingency(data, correction = False) "
   ]
  },
  {
   "cell_type": "code",
   "execution_count": 77,
   "id": "aad0f15f",
   "metadata": {},
   "outputs": [
    {
     "name": "stdout",
     "output_type": "stream",
     "text": [
      "Valor chi2: 1.777\n",
      "\n",
      "Valor p: 0.182\n",
      "\n",
      "Grados de libertad: 1\n",
      "\n",
      "Valores esperados: [[45.24  6.76]\n",
      " [41.76  6.24]]\n"
     ]
    }
   ],
   "source": [
    "print(f'Valor chi2: {V:1.3f}\\n')\n",
    "print(f'Valor p: {p:1.3f}\\n')\n",
    "print(f'Grados de libertad: {dof}\\n')\n",
    "print(f'Valores esperados: {expected}')"
   ]
  },
  {
   "cell_type": "code",
   "execution_count": 78,
   "id": "97ef8452",
   "metadata": {},
   "outputs": [
    {
     "name": "stdout",
     "output_type": "stream",
     "text": [
      "No hay una diferencia entre las personas zurdas y las personas diestras entre hombres y mujeres.\n"
     ]
    }
   ],
   "source": [
    "alpha = 0.05\n",
    "\n",
    "if p < alpha:\n",
    "    print(f'Hay una diferencia entre las personas zurdas y las personas diestras entre hombres y mujeres.')\n",
    "else:\n",
    "    print(f'No hay una diferencia entre las personas zurdas y las personas diestras entre hombres y mujeres.')"
   ]
  },
  {
   "cell_type": "code",
   "execution_count": null,
   "id": "1ac833fb",
   "metadata": {},
   "outputs": [],
   "source": [
    "# Manualmente"
   ]
  },
  {
   "cell_type": "markdown",
   "id": "49cc35ca",
   "metadata": {},
   "source": [
    "$ V = \\sum_i \\frac{(o_i - e_i)^2}{e_i} \\thickapprox \\chi_f^2$"
   ]
  },
  {
   "cell_type": "code",
   "execution_count": 80,
   "id": "5f480773",
   "metadata": {},
   "outputs": [
    {
     "data": {
      "text/plain": [
       "array([[43,  9],\n",
       "       [44,  4]])"
      ]
     },
     "execution_count": 80,
     "metadata": {},
     "output_type": "execute_result"
    }
   ],
   "source": [
    "data"
   ]
  },
  {
   "cell_type": "code",
   "execution_count": 81,
   "id": "688b2976",
   "metadata": {},
   "outputs": [
    {
     "data": {
      "text/plain": [
       "100"
      ]
     },
     "execution_count": 81,
     "metadata": {},
     "output_type": "execute_result"
    }
   ],
   "source": [
    "# Total de la tabla de contingencia\n",
    "total_general = data.sum()\n",
    "total_general"
   ]
  },
  {
   "cell_type": "code",
   "execution_count": 82,
   "id": "b8edaffd",
   "metadata": {},
   "outputs": [],
   "source": [
    "# Totales de las filas y columnas\n",
    "total_filas = data.sum(axis=1)\n",
    "total_columnas = data.sum(axis=0)"
   ]
  },
  {
   "cell_type": "code",
   "execution_count": 83,
   "id": "070256de",
   "metadata": {},
   "outputs": [
    {
     "data": {
      "text/plain": [
       "array([52, 48])"
      ]
     },
     "execution_count": 83,
     "metadata": {},
     "output_type": "execute_result"
    }
   ],
   "source": [
    "total_filas"
   ]
  },
  {
   "cell_type": "code",
   "execution_count": 84,
   "id": "c8801e9c",
   "metadata": {},
   "outputs": [
    {
     "data": {
      "text/plain": [
       "array([87, 13])"
      ]
     },
     "execution_count": 84,
     "metadata": {},
     "output_type": "execute_result"
    }
   ],
   "source": [
    "total_columnas"
   ]
  },
  {
   "cell_type": "code",
   "execution_count": 85,
   "id": "27cd1273",
   "metadata": {},
   "outputs": [
    {
     "data": {
      "text/plain": [
       "array([[45.24,  6.76],\n",
       "       [41.76,  6.24]])"
      ]
     },
     "execution_count": 85,
     "metadata": {},
     "output_type": "execute_result"
    }
   ],
   "source": [
    "# Calcular los valores esperados\n",
    "frecuencia_esperada = np.outer(total_filas, total_columnas) / total_general\n",
    "frecuencia_esperada"
   ]
  },
  {
   "cell_type": "code",
   "execution_count": 86,
   "id": "59c88fd6",
   "metadata": {},
   "outputs": [
    {
     "data": {
      "text/plain": [
       "array([[-2.24,  2.24],\n",
       "       [ 2.24, -2.24]])"
      ]
     },
     "execution_count": 86,
     "metadata": {},
     "output_type": "execute_result"
    }
   ],
   "source": [
    "# Calcular las diferencias entre los valores observados y los valores esperados\n",
    "diferencias = data - frecuencia_esperada\n",
    "diferencias"
   ]
  },
  {
   "cell_type": "code",
   "execution_count": 87,
   "id": "2e066751",
   "metadata": {},
   "outputs": [
    {
     "name": "stdout",
     "output_type": "stream",
     "text": [
      "El estadístico de chi-cuadrado (V) es: 1.7774150400145103\n"
     ]
    }
   ],
   "source": [
    "# Calcular el estadístico de chi-cuadrado\n",
    "V = np.sum((diferencias ** 2) / frecuencia_esperada)\n",
    "print(\"El estadístico de chi-cuadrado (V) es:\", V)"
   ]
  },
  {
   "cell_type": "markdown",
   "id": "b809f0ff",
   "metadata": {},
   "source": [
    "### d) Ejemplo 2"
   ]
  },
  {
   "cell_type": "markdown",
   "id": "93a693cb",
   "metadata": {},
   "source": [
    "Se puede utilizar para generar una prueba de normalidad \"rápida y sucia\".\n",
    "\n",
    "$H_0$: la variable aleatoria $X$ se distribuye simétricamente \n",
    "\n",
    "$H_1$: la variable aleatoria X no se distribuye simétricamente. \n",
    "\n",
    "En el caso de una distribución simétrica, la media aritmética $\\bar{x}$ y la mediana deberían ser casi iguales. \n",
    "\n",
    "Una forma simple de probar esta hipótesis sería contar cuántas observaciones son menores que la media ($n_{-}$) y cuántas observaciones son mayores que la media aritmética ($n_{+}$). \n",
    "\n",
    "Si la media y la mediana son iguales, entonces el 50% de la observación debe ser menor que la media y el 50% debe ser mayor que la media. \n",
    "\n",
    "$ V = \\frac{(n_{-} - \\frac{n}{2})^2}{\\frac{n}{2}} + \\frac{(n_{+} - \\frac{n}{2})^2}{\\frac{n}{2}} \\thickapprox \\chi_1^2 $"
   ]
  },
  {
   "cell_type": "code",
   "execution_count": 88,
   "id": "bec5a79a",
   "metadata": {},
   "outputs": [
    {
     "data": {
      "text/plain": [
       "array([[43,  9],\n",
       "       [44,  4]])"
      ]
     },
     "execution_count": 88,
     "metadata": {},
     "output_type": "execute_result"
    }
   ],
   "source": [
    "data"
   ]
  },
  {
   "cell_type": "code",
   "execution_count": 89,
   "id": "4802ce08",
   "metadata": {},
   "outputs": [
    {
     "name": "stdout",
     "output_type": "stream",
     "text": [
      "La media aritmética es: 25.0 \n"
     ]
    }
   ],
   "source": [
    "# Calcular la media aritmética\n",
    "media_aritmetica = np.mean(data)\n",
    "print(f'La media aritmética es: {media_aritmetica} ')"
   ]
  },
  {
   "cell_type": "code",
   "execution_count": 90,
   "id": "a1328a26",
   "metadata": {},
   "outputs": [
    {
     "name": "stdout",
     "output_type": "stream",
     "text": [
      "La mediana es: 26.0.\n"
     ]
    }
   ],
   "source": [
    "# Calcular la mediana\n",
    "mediana = np.median(data)\n",
    "print(f'La mediana es: {mediana}.')"
   ]
  },
  {
   "cell_type": "code",
   "execution_count": 91,
   "id": "c747661b",
   "metadata": {},
   "outputs": [
    {
     "data": {
      "text/plain": [
       "2"
      ]
     },
     "execution_count": 91,
     "metadata": {},
     "output_type": "execute_result"
    }
   ],
   "source": [
    "# Contar cuántas observaciones son menores que la media\n",
    "n_menos = np.sum(data < media_aritmetica)\n",
    "n_menos"
   ]
  },
  {
   "cell_type": "code",
   "execution_count": 92,
   "id": "e8c984a6",
   "metadata": {},
   "outputs": [
    {
     "data": {
      "text/plain": [
       "2"
      ]
     },
     "execution_count": 92,
     "metadata": {},
     "output_type": "execute_result"
    }
   ],
   "source": [
    "# Contar cuántas observaciones mayores que la media\n",
    "n_mas = np.sum(data > media_aritmetica)\n",
    "n_mas"
   ]
  },
  {
   "cell_type": "code",
   "execution_count": 93,
   "id": "536c1665",
   "metadata": {},
   "outputs": [
    {
     "data": {
      "text/plain": [
       "100"
      ]
     },
     "execution_count": 93,
     "metadata": {},
     "output_type": "execute_result"
    }
   ],
   "source": [
    "n_total = data.sum()\n",
    "n_total"
   ]
  },
  {
   "cell_type": "code",
   "execution_count": 95,
   "id": "45c47f62",
   "metadata": {},
   "outputs": [
    {
     "name": "stdout",
     "output_type": "stream",
     "text": [
      "El estadístico de chi-cuadrado es: 92.16.\n"
     ]
    }
   ],
   "source": [
    "# Calcular el estadístico de chi-cuadrado (V)\n",
    "V = ((n_menos - n_total/2)**2 / (n_total/2)) + ((n_mas - n_total/2)**2 / (n_total/2))\n",
    "print(f'El estadístico de chi-cuadrado es: {V}.')"
   ]
  },
  {
   "cell_type": "code",
   "execution_count": 96,
   "id": "eae32f0c",
   "metadata": {},
   "outputs": [
    {
     "data": {
      "text/plain": [
       "0.0"
      ]
     },
     "execution_count": 96,
     "metadata": {},
     "output_type": "execute_result"
    }
   ],
   "source": [
    "# Obtengo el p-value\n",
    "p_value = 1 - stats.chi2.cdf(V, df=1)\n",
    "p_value"
   ]
  },
  {
   "cell_type": "code",
   "execution_count": 97,
   "id": "adb5af19",
   "metadata": {},
   "outputs": [],
   "source": [
    "alpha = 0.05"
   ]
  },
  {
   "cell_type": "code",
   "execution_count": 98,
   "id": "6a9c932f",
   "metadata": {},
   "outputs": [
    {
     "name": "stdout",
     "output_type": "stream",
     "text": [
      "Con un p-value de 0.0, podemos rechazar la hipótesis nula.\n",
      "\n",
      "Hay evidencia suficiente para afirmar que la variable no se distribuye simétricamente.\n"
     ]
    }
   ],
   "source": [
    "if p_value < alpha:\n",
    "    print(f\"Con un p-value de {p_value}, podemos rechazar la hipótesis nula.\\n\")\n",
    "    print(\"Hay evidencia suficiente para afirmar que la variable no se distribuye simétricamente.\")\n",
    "else:\n",
    "    print(f\"Con un p-value de {p_value}, no podemos rechazar la hipótesis nula.\\n\")\n",
    "    print(\"No hay suficiente evidencia para afirmar que la variable se distribuye simétricamente.\")"
   ]
  },
  {
   "cell_type": "markdown",
   "id": "e4864abc",
   "metadata": {},
   "source": [
    "### e) Comentarios"
   ]
  },
  {
   "cell_type": "markdown",
   "id": "f871cf19",
   "metadata": {},
   "source": [
    "Es una prueba de hipótesis pura. \n",
    "\n",
    "Le dice si la frecuencia observada puede deberse a una selección de muestra aleatoria de una sola población. "
   ]
  },
  {
   "cell_type": "markdown",
   "id": "e0346f80",
   "metadata": {},
   "source": [
    "## 9.2.3 Prueba exacta de Fisher"
   ]
  },
  {
   "cell_type": "markdown",
   "id": "a5a4bcf9",
   "metadata": {},
   "source": [
    "Se usa cuando no se cumple el requisito de que el 80% de las celdas deben tener valores esperados de al menos 5.\n",
    "\n",
    "Se basa en los totales de fila y columna observados. \n",
    "\n",
    "Consiste en evaluar la probabilidad asociada con todas las tablas 2×2 posibles que tienen los mismos totales de fila y columna que los datos observados, asumiendo que la hipótesis nula (que las variables de fila y columna no están relacionadas) es verdadera. \n",
    "\n",
    "Es preferible a la prueba de chi-cuadrado. \n",
    "\n",
    "Debe usarlo hasta 10-15 celdas en las tablas de frecuencia.\n",
    "\n",
    "Se llama \"exacta\" porque la importancia de la desviación de una hipótesis nula se puede calcular con exactitud, en lugar de depender de una aproximación que se vuelve exacta en el límite a medida que el tamaño de la muestra crece hasta el infinito, como ocurre con muchas pruebas estadísticas. \n",
    "\n",
    "Debe decidir si desea usar una prueba de\n",
    "- 1 cola\n",
    "    - Busca la probabilidad de encontrar una distribución tan extrema o más extrema que la observada.\n",
    "- 2 colas \n",
    "    - Considera las tablas como extremas en la dirección opuesta. \n",
    "    \n",
    "Nota: El comando python stats.fisher_exact devuelve por defecto el valor p para encontrar un valor tan extremo o más extremo que el observado. Según Altman (1999), este es un enfoque razonable, aunque no todos los estadísticos están de acuerdo en ese punto."
   ]
  },
  {
   "cell_type": "code",
   "execution_count": 125,
   "id": "5c9ac9a1",
   "metadata": {},
   "outputs": [
    {
     "data": {
      "text/html": [
       "<div>\n",
       "<style scoped>\n",
       "    .dataframe tbody tr th:only-of-type {\n",
       "        vertical-align: middle;\n",
       "    }\n",
       "\n",
       "    .dataframe tbody tr th {\n",
       "        vertical-align: top;\n",
       "    }\n",
       "\n",
       "    .dataframe thead th {\n",
       "        text-align: right;\n",
       "    }\n",
       "</style>\n",
       "<table border=\"1\" class=\"dataframe\">\n",
       "  <thead>\n",
       "    <tr style=\"text-align: right;\">\n",
       "      <th></th>\n",
       "      <th>Género</th>\n",
       "      <th>Resultado</th>\n",
       "    </tr>\n",
       "  </thead>\n",
       "  <tbody>\n",
       "    <tr>\n",
       "      <th>0</th>\n",
       "      <td>Hombre</td>\n",
       "      <td>Fracaso</td>\n",
       "    </tr>\n",
       "    <tr>\n",
       "      <th>1</th>\n",
       "      <td>Mujer</td>\n",
       "      <td>Éxito</td>\n",
       "    </tr>\n",
       "    <tr>\n",
       "      <th>2</th>\n",
       "      <td>Hombre</td>\n",
       "      <td>Éxito</td>\n",
       "    </tr>\n",
       "    <tr>\n",
       "      <th>3</th>\n",
       "      <td>Mujer</td>\n",
       "      <td>Éxito</td>\n",
       "    </tr>\n",
       "    <tr>\n",
       "      <th>4</th>\n",
       "      <td>Hombre</td>\n",
       "      <td>Éxito</td>\n",
       "    </tr>\n",
       "    <tr>\n",
       "      <th>5</th>\n",
       "      <td>Mujer</td>\n",
       "      <td>Fracaso</td>\n",
       "    </tr>\n",
       "  </tbody>\n",
       "</table>\n",
       "</div>"
      ],
      "text/plain": [
       "   Género Resultado\n",
       "0  Hombre   Fracaso\n",
       "1   Mujer     Éxito\n",
       "2  Hombre     Éxito\n",
       "3   Mujer     Éxito\n",
       "4  Hombre     Éxito\n",
       "5   Mujer   Fracaso"
      ]
     },
     "execution_count": 125,
     "metadata": {},
     "output_type": "execute_result"
    }
   ],
   "source": [
    "data = pd.DataFrame({\n",
    "    'Género': ['Hombre', 'Mujer', 'Hombre', 'Mujer', 'Hombre', 'Mujer'],\n",
    "    'Resultado': ['Fracaso', 'Éxito', 'Éxito', 'Éxito', 'Éxito', 'Fracaso']\n",
    "})\n",
    "\n",
    "data"
   ]
  },
  {
   "cell_type": "code",
   "execution_count": 126,
   "id": "b4681a09",
   "metadata": {},
   "outputs": [
    {
     "data": {
      "text/html": [
       "<div>\n",
       "<style scoped>\n",
       "    .dataframe tbody tr th:only-of-type {\n",
       "        vertical-align: middle;\n",
       "    }\n",
       "\n",
       "    .dataframe tbody tr th {\n",
       "        vertical-align: top;\n",
       "    }\n",
       "\n",
       "    .dataframe thead th {\n",
       "        text-align: right;\n",
       "    }\n",
       "</style>\n",
       "<table border=\"1\" class=\"dataframe\">\n",
       "  <thead>\n",
       "    <tr style=\"text-align: right;\">\n",
       "      <th>Resultado</th>\n",
       "      <th>Fracaso</th>\n",
       "      <th>Éxito</th>\n",
       "    </tr>\n",
       "    <tr>\n",
       "      <th>Género</th>\n",
       "      <th></th>\n",
       "      <th></th>\n",
       "    </tr>\n",
       "  </thead>\n",
       "  <tbody>\n",
       "    <tr>\n",
       "      <th>Hombre</th>\n",
       "      <td>1</td>\n",
       "      <td>2</td>\n",
       "    </tr>\n",
       "    <tr>\n",
       "      <th>Mujer</th>\n",
       "      <td>1</td>\n",
       "      <td>2</td>\n",
       "    </tr>\n",
       "  </tbody>\n",
       "</table>\n",
       "</div>"
      ],
      "text/plain": [
       "Resultado  Fracaso  Éxito\n",
       "Género                   \n",
       "Hombre           1      2\n",
       "Mujer            1      2"
      ]
     },
     "execution_count": 126,
     "metadata": {},
     "output_type": "execute_result"
    }
   ],
   "source": [
    "# Crear la tabla de contingencia 2x2\n",
    "contingency_table = pd.crosstab(data['Género'], data['Resultado'])\n",
    "contingency_table"
   ]
  },
  {
   "cell_type": "code",
   "execution_count": 127,
   "id": "682f4246",
   "metadata": {},
   "outputs": [],
   "source": [
    "# Realizar el test de Fisher\n",
    "odds_ratio, p_value = stats.fisher_exact(contingency_table)"
   ]
  },
  {
   "cell_type": "code",
   "execution_count": 128,
   "id": "2233e97c",
   "metadata": {},
   "outputs": [
    {
     "data": {
      "text/plain": [
       "1.0"
      ]
     },
     "execution_count": 128,
     "metadata": {},
     "output_type": "execute_result"
    }
   ],
   "source": [
    "odds_ratio"
   ]
  },
  {
   "cell_type": "code",
   "execution_count": 129,
   "id": "23d823e9",
   "metadata": {},
   "outputs": [
    {
     "data": {
      "text/plain": [
       "1.0"
      ]
     },
     "execution_count": 129,
     "metadata": {},
     "output_type": "execute_result"
    }
   ],
   "source": [
    "p_value"
   ]
  },
  {
   "cell_type": "code",
   "execution_count": 130,
   "id": "ede284c5",
   "metadata": {},
   "outputs": [
    {
     "name": "stdout",
     "output_type": "stream",
     "text": [
      "Con un p-value de 1.0 no podemos rechazar la hipótesis nula.\n",
      "\n",
      "No hay suficiente evidencia para afirmar que existe una asociación significativa entre el género y el resultado del experimento.\n"
     ]
    }
   ],
   "source": [
    "alpha = 0.05\n",
    "\n",
    "if p_value < alpha:\n",
    "    print(\"Con un p-value de\", p_value, \"podemos rechazar la hipótesis nula.\\n\")\n",
    "    print(\"Hay evidencia suficiente para afirmar que existe una asociación significativa entre el género y el resultado del experimento.\")\n",
    "else:\n",
    "    print(\"Con un p-value de\", p_value, \"no podemos rechazar la hipótesis nula.\\n\")\n",
    "    print(\"No hay suficiente evidencia para afirmar que existe una asociación significativa entre el género y el resultado del experimento.\")"
   ]
  },
  {
   "cell_type": "markdown",
   "id": "a891bedc",
   "metadata": {},
   "source": [
    "Ej: “Una dama probando té” \n",
    "\n",
    "Una dama inglesa de que podía decir si la leche se vertía antes del té o no. \n",
    "\n",
    "Ya, poco tiempo después de su llegada a Rothamstead, su presencia había transformado una hora del té común y corriente en un acontecimiento histórico. Sucedió una tarde cuando sacó una taza de té de la urna y se la ofreció a la señora que estaba a su lado, la Dra. B. Muriel Bristol, algóloga. Ella lo rechazó, afirmando que prefería una taza en la que se hubiera vertido primero la leche. \"Tonterías\", respondió Fisher, sonriendo, \"Seguramente no hace ninguna diferencia\". Pero ella sostuvo, con énfasis, que por supuesto que sí. Justo detrás, una voz sugirió: \"Vamos a probarla\". Fue William Roach quien no tardó mucho en casarse con la señorita Bristol. Inmediatamente, se embarcaron en los preliminares del experimento, Roach ayudó con las tazas y se regocijó de que la señorita Bristol adivinó correctamente más que suficientes de esas tazas en las que se había vertido té primero para probar su caso.\n",
    "\n",
    "El triunfo personal de la señorita Bristol nunca quedó registrado, y quizás Fisher no quedó satisfecho en ese momento con el improvisado procedimiento experimental. Uno puede estar seguro, sin embargo, de que incluso cuando concibió y llevó a cabo el experimento junto a la mesa de caballetes, y los espectadores, sin duda, tomaron partido en cuanto a su resultado, estaba pensando en las preguntas que planteaba. \n",
    "\n",
    "El verdadero significado científico de este experimento está en estas preguntas.\n",
    "\n",
    "- ¿Qué se debe hacer con las variaciones fortuitas de temperatura, dulzura, etc.? \n",
    "    - Idealmente, a uno le gustaría que todas las tazas de té fueran idénticas excepto por el orden de verter la leche primero o el té primero.\n",
    "    - Pero nunca es posible controlar todas las formas en que las tazas de té pueden diferir entre sí.\n",
    "    - Si no podemos controlar estas variaciones, entonces lo mejor que podemos hacer (nos referimos a lo \"mejor\") es mediante la aleatorización. \n",
    "\n",
    "- ¿Cuántas tazas se deben usar en la prueba? ¿Deberían estar emparejados? ¿En qué orden se deben presentar las copas? \n",
    "    - El número y el orden de las tazas deberían permitirle al sujeto una amplia oportunidad de probar sus habilidades y evitar que un fraude logre discriminar correctamente el orden de servir todas las tazas de té servidas. \n",
    "\n",
    "- ¿Qué conclusión se podría sacar de una puntuación perfecta o de una con uno o más errores?\n",
    "    - Si la dama no puede discriminar entre los diferentes órdenes de vertido, entonces, solo con adivinar, debería ser muy poco probable que esa persona determine correctamente qué tazas son cuáles para todas las tazas probadas. \n",
    "    - Si ella realmente posee alguna habilidad para diferenciar entre los órdenes de vertido, entonces puede ser irrazonable exigirle que no cometa errores para distinguir su habilidad de un adivino puro.\n",
    "\n",
    "Escenario\n",
    "\n",
    "- Para cada taza, registramos el orden de vertido real y cuál es el orden que dice la señora. "
   ]
  },
  {
   "cell_type": "code",
   "execution_count": 132,
   "id": "8fdcbbed",
   "metadata": {},
   "outputs": [
    {
     "data": {
      "image/png": "[encoded data removed]",
      "text/plain": [
       "<IPython.core.display.Image object>"
      ]
     },
     "execution_count": 132,
     "metadata": {},
     "output_type": "execute_result"
    }
   ],
   "source": [
    "Image(filename = 'Imagenes/tablafisher.png')"
   ]
  },
  {
   "cell_type": "markdown",
   "id": "cc269669",
   "metadata": {},
   "source": [
    "$n$: número total de tazas de té preparadas. \n",
    "\n",
    "$ a + c $: número de tazas donde se sirve el té primero \n",
    "\n",
    "$ a + b $: la señora clasifica como té primero. \n",
    "\n",
    "Si \n",
    "- Puede notar la diferencia\n",
    "    - b y c deberían ser pequeños. \n",
    "- No puede notar la diferencia\n",
    "    - a y c deberían ser más o menos iguales. \n",
    "\n",
    "- Suponga ahora que\n",
    "    - Para probar las habilidades de la dama, se preparan 8 tazas de té, 4 de té primero, 4 de leche primero, y se le informa del diseño (que hay 4 tazas de leche primero y 4 tazas de té primero). \n",
    "    - Los vasos se le presentan en orden aleatorio. \n",
    "\n",
    "Debemos identificar las 4 tazas de leche primero y las 4 tazas de té primero. \n",
    "\n",
    "Este diseño fija los totales de fila y columna en la tabla anterior para que sean 4 cada uno. \n",
    "\n",
    "$a + b = a + c = c + d = b + d = 4$\n",
    "\n",
    "Con estas restricciones, cuando se especifica cualquiera de a, b, c, d, los 3 restantes se determinan de forma única:\n",
    "\n",
    "$b = 4 − a$, $c = 4 − a$, y $d = a$.\n",
    "\n",
    "Para este diseño, no importa cuántas tazas (n) se sirvan, el total de la fila $a + b$ será igual a $a + c$ porque el sujeto sabe cuántas de las tazas son de “té primero” (o de un tipo como se supone al otro). Entonces, una vez que se da $a$, se especifican los otros tres recuentos. \n",
    "\n",
    "- Podemos probar la habilidad discriminatoria de la dama, si la hay, aleatorizando el orden de las tazas servidas. \n",
    "\n",
    "Si tomamos la posición de que ella no tiene habilidad para discriminar, entonces la aleatorización del orden hace que las 4 tazas elegidas por ella como té primero tengan la misma probabilidad de ser 4 de las 8 tazas servidas. \n",
    "\n",
    "Hay $\\binom{8}{4} = 70$ \n",
    "\n",
    "formas posibles de clasificar 4 de las 8 tazas como \"primero el té\"."
   ]
  },
  {
   "cell_type": "code",
   "execution_count": 140,
   "id": "be1a7bd5",
   "metadata": {},
   "outputs": [
    {
     "data": {
      "text/plain": [
       "70"
      ]
     },
     "execution_count": 140,
     "metadata": {},
     "output_type": "execute_result"
    }
   ],
   "source": [
    "from scipy.special import comb\n",
    "comb(8, 4, exact=True)"
   ]
  },
  {
   "cell_type": "markdown",
   "id": "cf399872",
   "metadata": {},
   "source": [
    "Si el sujeto no tiene la capacidad de discriminar entre 2 preparaciones, entonces, mediante la aleatorización, cada una de estas 70 formas es igualmente probable. \n",
    "\n",
    "Solo una de las 70 formas conduce a una clasificación completamente correcta. \n",
    "\n",
    "Alguien sin habilidad para discriminar tiene 1/70 de posibilidades de no cometer errores.\n",
    "\n",
    "- Si asumimos que no tiene habilidad para discriminar, el número de clasificaciones correctas de té primero (\"a\") tiene una distribución de probabilidad \"hipergeométrica\""
   ]
  },
  {
   "cell_type": "code",
   "execution_count": 142,
   "id": "b706f65d",
   "metadata": {},
   "outputs": [
    {
     "data": {
      "text/plain": [
       "<scipy.stats._distn_infrastructure.rv_discrete_frozen at 0x1fc51204250>"
      ]
     },
     "execution_count": 142,
     "metadata": {},
     "output_type": "execute_result"
    }
   ],
   "source": [
    "hd = stats.hypergeom(8, 4, 4)\n",
    "hd"
   ]
  },
  {
   "cell_type": "markdown",
   "id": "a5dd7557",
   "metadata": {},
   "source": [
    "Hay 5 posibilidades para \"a\": 0, 1, 2, 3, 4, y las probabilidades correspondientes."
   ]
  },
  {
   "cell_type": "code",
   "execution_count": 143,
   "id": "edda54a2",
   "metadata": {},
   "outputs": [
    {
     "data": {
      "text/plain": [
       "[0, 1, 2, 3, 4]"
      ]
     },
     "execution_count": 143,
     "metadata": {},
     "output_type": "execute_result"
    }
   ],
   "source": [
    "correctas = list(range(5))\n",
    "correctas"
   ]
  },
  {
   "cell_type": "markdown",
   "id": "8a09924d",
   "metadata": {},
   "source": [
    "- Podemos calcular el valor p para la prueba de la hipótesis de que la dama no puede diferenciar entre las dos preparaciones. \n",
    "\n",
    "El valor p es la probabilidad de observar un resultado tan extremo o más extremo que el resultado observado asumiendo la hipótesis nula. "
   ]
  },
  {
   "cell_type": "code",
   "execution_count": 148,
   "id": "1df5a1e6",
   "metadata": {},
   "outputs": [
    {
     "data": {
      "text/plain": [
       "array([0.01428571, 0.22857143, 0.51428571, 0.22857143, 0.01428571])"
      ]
     },
     "execution_count": 148,
     "metadata": {},
     "output_type": "execute_result"
    }
   ],
   "source": [
    "hd.pmf(correctas)"
   ]
  },
  {
   "cell_type": "code",
   "execution_count": 146,
   "id": "134b35ad",
   "metadata": {},
   "outputs": [
    {
     "name": "stdout",
     "output_type": "stream",
     "text": [
      "La probabilidad de tener 0 respuestas correctas es 0.014.\n",
      "La probabilidad de tener 1 respuestas correctas es 0.229.\n",
      "La probabilidad de tener 2 respuestas correctas es 0.514.\n",
      "La probabilidad de tener 3 respuestas correctas es 0.229.\n",
      "La probabilidad de tener 4 respuestas correctas es 0.014.\n"
     ]
    }
   ],
   "source": [
    "for correcta in correctas:\n",
    "    print(f'La probabilidad de tener {correcta} respuestas correctas es {hd.pmf(correcta):.3f}.')"
   ]
  },
  {
   "cell_type": "code",
   "execution_count": 149,
   "id": "e53677cb",
   "metadata": {},
   "outputs": [
    {
     "data": {
      "text/plain": [
       "0.9999999999999999"
      ]
     },
     "execution_count": 149,
     "metadata": {},
     "output_type": "execute_result"
    }
   ],
   "source": [
    "hd.pmf(correctas).sum()"
   ]
  },
  {
   "cell_type": "markdown",
   "id": "fce958c0",
   "metadata": {},
   "source": [
    "Se conoce como “prueba exacta de Fisher”.\n",
    "\n",
    "odds_ratio, p = stats.fisher_exact(obs, lternative=’greater’)\n",
    "\n",
    "donde obs es la matriz que contiene las observaciones."
   ]
  },
  {
   "cell_type": "code",
   "execution_count": 151,
   "id": "fdb4b950",
   "metadata": {},
   "outputs": [
    {
     "data": {
      "text/plain": [
       "array([[2, 2],\n",
       "       [3, 1]])"
      ]
     },
     "execution_count": 151,
     "metadata": {},
     "output_type": "execute_result"
    }
   ],
   "source": [
    "# Creamos la matriz de observaciones\n",
    "obs = np.array([[2, 2], [3, 1]])\n",
    "obs"
   ]
  },
  {
   "cell_type": "code",
   "execution_count": 152,
   "id": "df9e2d3f",
   "metadata": {},
   "outputs": [],
   "source": [
    "# Realizamos la prueba exacta de Fisher con el argumento 'alternative' en 'greater'\n",
    "odds_ratio, p_value = stats.fisher_exact(obs, alternative='greater')"
   ]
  },
  {
   "cell_type": "code",
   "execution_count": 153,
   "id": "067ce3c5",
   "metadata": {},
   "outputs": [
    {
     "data": {
      "text/plain": [
       "0.3333333333333333"
      ]
     },
     "execution_count": 153,
     "metadata": {},
     "output_type": "execute_result"
    }
   ],
   "source": [
    "odds_ratio"
   ]
  },
  {
   "cell_type": "code",
   "execution_count": 154,
   "id": "382b8592",
   "metadata": {},
   "outputs": [
    {
     "data": {
      "text/plain": [
       "0.9285714285714286"
      ]
     },
     "execution_count": 154,
     "metadata": {},
     "output_type": "execute_result"
    }
   ],
   "source": [
    "p_value"
   ]
  },
  {
   "cell_type": "code",
   "execution_count": 155,
   "id": "09ae974f",
   "metadata": {},
   "outputs": [],
   "source": [
    "alpha = 0.05"
   ]
  },
  {
   "cell_type": "code",
   "execution_count": 157,
   "id": "7c1c5c42",
   "metadata": {},
   "outputs": [
    {
     "name": "stdout",
     "output_type": "stream",
     "text": [
      "Con un p-value de 0.929 no podemos rechazar la hipótesis nula.\n",
      "\n",
      "No hay suficiente evidencia para afirmar que la dama tiene habilidad para discriminar entre té que primero le pone la leche y el que primero pone el té .\n"
     ]
    }
   ],
   "source": [
    "if p_value < alpha:\n",
    "    print(f\"Con un p-value de {p_value:.3f} podemos rechazar la hipótesis nula.\\n\")\n",
    "    print(\"Hay evidencia suficiente para afirmar que la dama tiene habilidad para discriminar entre el té que primero le pone la leche y el que primero pone el té .\")\n",
    "else:\n",
    "    print(f\"Con un p-value de {p_value:.3f} no podemos rechazar la hipótesis nula.\\n\")\n",
    "    print(\"No hay suficiente evidencia para afirmar que la dama tiene habilidad para discriminar entre té que primero le pone la leche y el que primero pone el té .\")"
   ]
  },
  {
   "cell_type": "markdown",
   "id": "1d240a2c",
   "metadata": {},
   "source": [
    "## 9.2.4 Prueba de McNemar"
   ]
  },
  {
   "cell_type": "markdown",
   "id": "5c6b5f7a",
   "metadata": {},
   "source": [
    "Es una prueba estadística utilizada en datos nominales emparejados. \n",
    "\n",
    "Se aplica a tablas de contingencia 2×2 con rasgo dicotómico (“0/1”), con pares de sujetos emparejados. \n",
    "\n",
    "Tiene un parecido superficial con una prueba de asociación categórica, como podría realizarse con una prueba de chi-cuadrado de 2×2 o una prueba de probabilidad exacta de Fisher de 2 × 2.\n",
    "\n",
    "Haciendo algo bastante diferente, \n",
    "- Prueba de asociación: examina la relación que existe entre las celdas de la tabla. \n",
    "- Prueba de McNemar: examina la diferencia entre las proporciones que se derivan de las sumas marginales de la tabla."
   ]
  },
  {
   "cell_type": "code",
   "execution_count": 159,
   "id": "fadf81b7",
   "metadata": {},
   "outputs": [
    {
     "data": {
      "image/png": "[encoded data removed]",
      "text/plain": [
       "<IPython.core.display.Image object>"
      ]
     },
     "execution_count": 159,
     "metadata": {},
     "output_type": "execute_result"
    }
   ],
   "source": [
    "Image(filename = 'Imagenes/T9.5.png')"
   ]
  },
  {
   "cell_type": "markdown",
   "id": "204a322b",
   "metadata": {},
   "source": [
    "$ p_A = \\frac{(a + b)}{N} $\n",
    "\n",
    "$ p_B = \\frac{(a + c)}{N} $\n",
    "\n",
    "¿Difieren significativamente estas 2 proporciones, $p_A$ y $p_B$? \n",
    "\n",
    "La respuesta que reciba debe tener en cuenta que las dos proporciones no son independientes. \n",
    "\n",
    "La correlación de $p_A$ y $p_B$ es ocasionada por el hecho de que ambos incluyen la cantidad en la celda superior izquierda de la tabla.\n",
    "\n",
    "Ej:\n",
    "- En estudios en los que los pacientes sirven como su propio control\n",
    "- En estudios con diseño de “antes y después”. \n",
    "\n",
    "A diferencia de la prueba de chi-cuadrado, los mismos temas/partes se categorizan en las filas y columnas."
   ]
  },
  {
   "cell_type": "markdown",
   "id": "7668dad5",
   "metadata": {},
   "source": [
    "Ejemplo\n",
    "\n",
    "Un investigador intenta determinar si un fármaco tiene un efecto sobre una enfermedad en particular. \n",
    "\n",
    "Los recuentos de individuos se dan en tabla, con el diagnóstico (enfermedad: presente o ausente) antes del tratamiento en las filas y el diagnóstico después del tratamiento en las columnas. \n",
    "\n",
    "La prueba requiere que se incluyan los mismos sujetos en las mediciones de antes y después (pares emparejados).\n",
    "\n",
    "| |Después:presente|Después:ausente|Total|\n",
    "|---|---|---|---|\n",
    "|Antes:presente|101|121|222|\n",
    "|Antes:ausente|59|33|92|\n",
    "|Total|160|154|314|\n",
    "\n",
    "\n",
    "La hipótesis nula de “homogeneidad marginal” significaría que no hubo efecto del tratamiento. \n",
    "\n",
    "Estadístico de prueba de McNemar con la corrección de continuidad de Yates \n",
    "\n",
    "$ \\chi^2 = \\frac{(|b - c| - Factor~de~correcion)^2}{b + c} $\n",
    "\n",
    "$ \\chi^2 $ tiene una distribución chi-cuadrado con 1 grado de libertad. \n",
    "\n",
    "Para números de muestra pequeños, el factor de corrección debe ser \n",
    "- 0.5: corrección de Yates\n",
    "- 1: corrección de Edward. \n",
    "\n",
    "Para b + c < 25, se debe realizar el cálculo binomial ya que el resultado es una prueba exacta en todos los casos. \n",
    "\n",
    "Usando la corrección de Yates, obtenemos\n",
    "\n",
    "$ \\chi^2 = \\frac{(|121 - 59| - 0.5)^2}{121 + 59} $\n",
    "\n",
    "\n",
    "= 21.01\n",
    "\n",
    "Es extremadamente improbable a partir de la distribución implícita en la hipótesis nula ($p_b = p_c$). \n",
    "\n",
    "La prueba proporciona una fuerte evidencia para rechazar la hipótesis nula de ningún efecto del tratamiento."
   ]
  },
  {
   "cell_type": "code",
   "execution_count": 161,
   "id": "1807ad6d",
   "metadata": {},
   "outputs": [],
   "source": [
    "a = 101\n",
    "b = 121\n",
    "c = 59\n",
    "d = 33"
   ]
  },
  {
   "cell_type": "code",
   "execution_count": 162,
   "id": "d90799d0",
   "metadata": {},
   "outputs": [
    {
     "data": {
      "text/plain": [
       "[[101, 121], [59, 33]]"
      ]
     },
     "execution_count": 162,
     "metadata": {},
     "output_type": "execute_result"
    }
   ],
   "source": [
    "obs = [[a,b], [c, d]]\n",
    "obs"
   ]
  },
  {
   "cell_type": "code",
   "execution_count": 166,
   "id": "2ded14fb",
   "metadata": {},
   "outputs": [
    {
     "data": {
      "text/plain": [
       "<bunch containing results, print to see contents>"
      ]
     },
     "execution_count": 166,
     "metadata": {},
     "output_type": "execute_result"
    }
   ],
   "source": [
    "from statsmodels.stats.contingency_tables import mcnemar\n",
    "result = mcnemar(obs)\n",
    "result"
   ]
  },
  {
   "cell_type": "code",
   "execution_count": 167,
   "id": "90df9e35",
   "metadata": {},
   "outputs": [],
   "source": [
    "# Obtener el estadístico de prueba y el valor p\n",
    "chi2_statistic = result.statistic\n",
    "p_value = result.pvalue"
   ]
  },
  {
   "cell_type": "code",
   "execution_count": 168,
   "id": "72ee62c7",
   "metadata": {},
   "outputs": [
    {
     "data": {
      "text/plain": [
       "59.0"
      ]
     },
     "execution_count": 168,
     "metadata": {},
     "output_type": "execute_result"
    }
   ],
   "source": [
    "chi2_statistic"
   ]
  },
  {
   "cell_type": "code",
   "execution_count": 169,
   "id": "8a771050",
   "metadata": {},
   "outputs": [
    {
     "data": {
      "text/plain": [
       "4.4344492637551645e-06"
      ]
     },
     "execution_count": 169,
     "metadata": {},
     "output_type": "execute_result"
    }
   ],
   "source": [
    "p_value"
   ]
  },
  {
   "cell_type": "code",
   "execution_count": 170,
   "id": "2cb2c769",
   "metadata": {},
   "outputs": [],
   "source": [
    "alpha = 0.05"
   ]
  },
  {
   "cell_type": "code",
   "execution_count": 174,
   "id": "0262d808",
   "metadata": {},
   "outputs": [
    {
     "name": "stdout",
     "output_type": "stream",
     "text": [
      "Con un p-value de 0.000004 podemos rechazar la hipótesis nula.\n",
      "\n",
      "Hay evidencia suficiente para afirmar que el fármaco tiene un efecto sobre la enfermedad en particular.\n"
     ]
    }
   ],
   "source": [
    "if p_value < alpha:\n",
    "    print(f\"Con un p-value de {p_value:.6f} podemos rechazar la hipótesis nula.\\n\")\n",
    "    print(\"Hay evidencia suficiente para afirmar que el fármaco tiene un efecto sobre la enfermedad en particular.\")\n",
    "else:\n",
    "    print(f\"Con un p-value de {p_value:.6f} no podemos rechazar la hipótesis nula.\\n\")\n",
    "    print(\"No hay suficiente evidencia para afirmar que el fármaco tiene un efecto sobre la enfermedad en particular.\")"
   ]
  },
  {
   "cell_type": "markdown",
   "id": "c5c7b906",
   "metadata": {},
   "source": [
    "## 9.2.5 Prueba Q de Cochran"
   ]
  },
  {
   "cell_type": "markdown",
   "id": "deab26fc",
   "metadata": {},
   "source": [
    "Es una extensión de la prueba de McNemar. \n",
    "\n",
    "Proporciona un método para probar las diferencias entre tres o más conjuntos de frecuencias coincidentes. Usaría esta prueba, por ejemplo, si tiene exactamente las mismas muestras analizadas por tres laboratorios diferentes y desea verificar si los resultados son estadísticamente equivalentes. Al igual que la prueba de McNemar, la prueba Q de Cochran es una prueba de hipótesis en la que la variable de respuesta puede tomar solo dos resultados posibles (codificados como 0 y 1). Es una prueba estadística no paramétrica para verificar si k tratamientos tienen efectos idénticos. La prueba Q de Cochran no debe confundirse con la prueba C de Cochran, que es una prueba de valores atípicos de varianza. \n",
    "\n",
    "Ejemplo \n",
    "\n",
    "Se pide a 12 sujetos que realicen 3 tareas. El resultado de cada tarea es el éxito o el fracaso. Los resultados se codifican 0 para fracaso y 1 para éxito. En el ejemplo, el sujeto 1 tuvo éxito en la tarea 2, pero falló en las tareas 1 y 3.\n",
    "\n",
    "|Sujeto|Tarea 1|Tarea 2|Tarea 3|\n",
    "|---|---|---|---|\n",
    "|0|0|1|0|\n",
    "|1|1|1|0|\n",
    "|2|1|1|1|\n",
    "|3|0|0|0|\n",
    "|4|1|0|0|\n",
    "|5|0|1|1|\n",
    "|6|0|0|0|\n",
    "|7|1|1|0|\n",
    "|8|0|1|0|\n",
    "|9|0|1|0|\n",
    "|10|0|1|0|\n",
    "|11|0|1|0|\n",
    "\n",
    "\n",
    "La hipótesis nula es que no existen diferencias entre las variables. \n",
    "\n",
    "Si la probabilidad calculada $p$ está por debajo del nivel de significancia seleccionado, se rechaza la hipótesis nula y se puede concluir que las proporciones en al menos 2 de las variables son significativamente diferentes entre sí. \n",
    "\n",
    "Q de Cochran = 8,6667\n",
    "\n",
    "p = 0.013.\n",
    "\n",
    "Al menos una de las 3 tareas es más fácil o más difícil que las demás. "
   ]
  },
  {
   "cell_type": "code",
   "execution_count": 19,
   "id": "67e17be1",
   "metadata": {},
   "outputs": [
    {
     "data": {
      "text/html": [
       "<div>\n",
       "<style scoped>\n",
       "    .dataframe tbody tr th:only-of-type {\n",
       "        vertical-align: middle;\n",
       "    }\n",
       "\n",
       "    .dataframe tbody tr th {\n",
       "        vertical-align: top;\n",
       "    }\n",
       "\n",
       "    .dataframe thead th {\n",
       "        text-align: right;\n",
       "    }\n",
       "</style>\n",
       "<table border=\"1\" class=\"dataframe\">\n",
       "  <thead>\n",
       "    <tr style=\"text-align: right;\">\n",
       "      <th></th>\n",
       "      <th>Sujeto</th>\n",
       "      <th>Tarea 1</th>\n",
       "      <th>Tarea 2</th>\n",
       "      <th>Tarea 3</th>\n",
       "    </tr>\n",
       "  </thead>\n",
       "  <tbody>\n",
       "    <tr>\n",
       "      <th>0</th>\n",
       "      <td>0</td>\n",
       "      <td>0</td>\n",
       "      <td>1</td>\n",
       "      <td>0</td>\n",
       "    </tr>\n",
       "    <tr>\n",
       "      <th>1</th>\n",
       "      <td>1</td>\n",
       "      <td>1</td>\n",
       "      <td>1</td>\n",
       "      <td>0</td>\n",
       "    </tr>\n",
       "    <tr>\n",
       "      <th>2</th>\n",
       "      <td>2</td>\n",
       "      <td>1</td>\n",
       "      <td>1</td>\n",
       "      <td>1</td>\n",
       "    </tr>\n",
       "    <tr>\n",
       "      <th>3</th>\n",
       "      <td>3</td>\n",
       "      <td>0</td>\n",
       "      <td>0</td>\n",
       "      <td>0</td>\n",
       "    </tr>\n",
       "    <tr>\n",
       "      <th>4</th>\n",
       "      <td>4</td>\n",
       "      <td>1</td>\n",
       "      <td>0</td>\n",
       "      <td>0</td>\n",
       "    </tr>\n",
       "    <tr>\n",
       "      <th>5</th>\n",
       "      <td>5</td>\n",
       "      <td>0</td>\n",
       "      <td>1</td>\n",
       "      <td>1</td>\n",
       "    </tr>\n",
       "    <tr>\n",
       "      <th>6</th>\n",
       "      <td>6</td>\n",
       "      <td>0</td>\n",
       "      <td>0</td>\n",
       "      <td>0</td>\n",
       "    </tr>\n",
       "    <tr>\n",
       "      <th>7</th>\n",
       "      <td>7</td>\n",
       "      <td>1</td>\n",
       "      <td>1</td>\n",
       "      <td>0</td>\n",
       "    </tr>\n",
       "    <tr>\n",
       "      <th>8</th>\n",
       "      <td>8</td>\n",
       "      <td>0</td>\n",
       "      <td>1</td>\n",
       "      <td>0</td>\n",
       "    </tr>\n",
       "    <tr>\n",
       "      <th>9</th>\n",
       "      <td>9</td>\n",
       "      <td>0</td>\n",
       "      <td>1</td>\n",
       "      <td>0</td>\n",
       "    </tr>\n",
       "    <tr>\n",
       "      <th>10</th>\n",
       "      <td>10</td>\n",
       "      <td>0</td>\n",
       "      <td>1</td>\n",
       "      <td>0</td>\n",
       "    </tr>\n",
       "    <tr>\n",
       "      <th>11</th>\n",
       "      <td>11</td>\n",
       "      <td>0</td>\n",
       "      <td>1</td>\n",
       "      <td>0</td>\n",
       "    </tr>\n",
       "  </tbody>\n",
       "</table>\n",
       "</div>"
      ],
      "text/plain": [
       "    Sujeto  Tarea 1  Tarea 2  Tarea 3\n",
       "0        0        0        1        0\n",
       "1        1        1        1        0\n",
       "2        2        1        1        1\n",
       "3        3        0        0        0\n",
       "4        4        1        0        0\n",
       "5        5        0        1        1\n",
       "6        6        0        0        0\n",
       "7        7        1        1        0\n",
       "8        8        0        1        0\n",
       "9        9        0        1        0\n",
       "10      10        0        1        0\n",
       "11      11        0        1        0"
      ]
     },
     "execution_count": 19,
     "metadata": {},
     "output_type": "execute_result"
    }
   ],
   "source": [
    "obs = pd.DataFrame({\n",
    "    'Sujeto': np.arange(12),\n",
    "    'Tarea 1': [0,1,1,0,1,0,0,1,0,0,0,0],\n",
    "    'Tarea 2': [1,1,1,0,0,1,0,1,1,1,1,1],\n",
    "    'Tarea 3': [0,0,1,0,0,1,0,0,0,0,0,0]\n",
    "})\n",
    "\n",
    "obs"
   ]
  },
  {
   "cell_type": "code",
   "execution_count": 20,
   "id": "93113277",
   "metadata": {},
   "outputs": [],
   "source": [
    "obs.set_index('Sujeto',inplace = True)"
   ]
  },
  {
   "cell_type": "code",
   "execution_count": 21,
   "id": "d1bcbdfe",
   "metadata": {},
   "outputs": [
    {
     "data": {
      "text/html": [
       "<div>\n",
       "<style scoped>\n",
       "    .dataframe tbody tr th:only-of-type {\n",
       "        vertical-align: middle;\n",
       "    }\n",
       "\n",
       "    .dataframe tbody tr th {\n",
       "        vertical-align: top;\n",
       "    }\n",
       "\n",
       "    .dataframe thead th {\n",
       "        text-align: right;\n",
       "    }\n",
       "</style>\n",
       "<table border=\"1\" class=\"dataframe\">\n",
       "  <thead>\n",
       "    <tr style=\"text-align: right;\">\n",
       "      <th></th>\n",
       "      <th>Tarea 1</th>\n",
       "      <th>Tarea 2</th>\n",
       "      <th>Tarea 3</th>\n",
       "    </tr>\n",
       "    <tr>\n",
       "      <th>Sujeto</th>\n",
       "      <th></th>\n",
       "      <th></th>\n",
       "      <th></th>\n",
       "    </tr>\n",
       "  </thead>\n",
       "  <tbody>\n",
       "    <tr>\n",
       "      <th>0</th>\n",
       "      <td>0</td>\n",
       "      <td>1</td>\n",
       "      <td>0</td>\n",
       "    </tr>\n",
       "    <tr>\n",
       "      <th>1</th>\n",
       "      <td>1</td>\n",
       "      <td>1</td>\n",
       "      <td>0</td>\n",
       "    </tr>\n",
       "    <tr>\n",
       "      <th>2</th>\n",
       "      <td>1</td>\n",
       "      <td>1</td>\n",
       "      <td>1</td>\n",
       "    </tr>\n",
       "    <tr>\n",
       "      <th>3</th>\n",
       "      <td>0</td>\n",
       "      <td>0</td>\n",
       "      <td>0</td>\n",
       "    </tr>\n",
       "    <tr>\n",
       "      <th>4</th>\n",
       "      <td>1</td>\n",
       "      <td>0</td>\n",
       "      <td>0</td>\n",
       "    </tr>\n",
       "    <tr>\n",
       "      <th>5</th>\n",
       "      <td>0</td>\n",
       "      <td>1</td>\n",
       "      <td>1</td>\n",
       "    </tr>\n",
       "    <tr>\n",
       "      <th>6</th>\n",
       "      <td>0</td>\n",
       "      <td>0</td>\n",
       "      <td>0</td>\n",
       "    </tr>\n",
       "    <tr>\n",
       "      <th>7</th>\n",
       "      <td>1</td>\n",
       "      <td>1</td>\n",
       "      <td>0</td>\n",
       "    </tr>\n",
       "    <tr>\n",
       "      <th>8</th>\n",
       "      <td>0</td>\n",
       "      <td>1</td>\n",
       "      <td>0</td>\n",
       "    </tr>\n",
       "    <tr>\n",
       "      <th>9</th>\n",
       "      <td>0</td>\n",
       "      <td>1</td>\n",
       "      <td>0</td>\n",
       "    </tr>\n",
       "    <tr>\n",
       "      <th>10</th>\n",
       "      <td>0</td>\n",
       "      <td>1</td>\n",
       "      <td>0</td>\n",
       "    </tr>\n",
       "    <tr>\n",
       "      <th>11</th>\n",
       "      <td>0</td>\n",
       "      <td>1</td>\n",
       "      <td>0</td>\n",
       "    </tr>\n",
       "  </tbody>\n",
       "</table>\n",
       "</div>"
      ],
      "text/plain": [
       "        Tarea 1  Tarea 2  Tarea 3\n",
       "Sujeto                           \n",
       "0             0        1        0\n",
       "1             1        1        0\n",
       "2             1        1        1\n",
       "3             0        0        0\n",
       "4             1        0        0\n",
       "5             0        1        1\n",
       "6             0        0        0\n",
       "7             1        1        0\n",
       "8             0        1        0\n",
       "9             0        1        0\n",
       "10            0        1        0\n",
       "11            0        1        0"
      ]
     },
     "execution_count": 21,
     "metadata": {},
     "output_type": "execute_result"
    }
   ],
   "source": [
    "obs"
   ]
  },
  {
   "cell_type": "code",
   "execution_count": 22,
   "id": "478e0421",
   "metadata": {},
   "outputs": [
    {
     "data": {
      "text/plain": [
       "<bunch containing results, print to see contents>"
      ]
     },
     "execution_count": 22,
     "metadata": {},
     "output_type": "execute_result"
    }
   ],
   "source": [
    "from statsmodels.stats.contingency_tables import cochrans_q\n",
    "result = cochrans_q(obs)\n",
    "result"
   ]
  },
  {
   "cell_type": "code",
   "execution_count": 23,
   "id": "78b97bd5",
   "metadata": {},
   "outputs": [
    {
     "data": {
      "text/plain": [
       "8.666666666666666"
      ]
     },
     "execution_count": 23,
     "metadata": {},
     "output_type": "execute_result"
    }
   ],
   "source": [
    "q_stat = result.statistic\n",
    "q_stat"
   ]
  },
  {
   "cell_type": "code",
   "execution_count": 24,
   "id": "d8f43576",
   "metadata": {},
   "outputs": [
    {
     "data": {
      "text/plain": [
       "0.013123728736940971"
      ]
     },
     "execution_count": 24,
     "metadata": {},
     "output_type": "execute_result"
    }
   ],
   "source": [
    "p = result.pvalue\n",
    "p"
   ]
  },
  {
   "cell_type": "code",
   "execution_count": 25,
   "id": "f833b537",
   "metadata": {},
   "outputs": [],
   "source": [
    "alpha = 0.05"
   ]
  },
  {
   "cell_type": "code",
   "execution_count": 26,
   "id": "8ec373a4",
   "metadata": {},
   "outputs": [
    {
     "name": "stdout",
     "output_type": "stream",
     "text": [
      "Al menos una de las 3 tareas es más fácil o más difícil que las demás.\n"
     ]
    }
   ],
   "source": [
    "if p < alpha:\n",
    "    print('Al menos una de las 3 tareas es más fácil o más difícil que las demás.')\n",
    "else:\n",
    "    print('No existen diferencias entre la dificultad de las tareas.')"
   ]
  },
  {
   "cell_type": "code",
   "execution_count": 27,
   "id": "7b8d0eab",
   "metadata": {},
   "outputs": [
    {
     "data": {
      "text/plain": [
       "array([[0, 1, 1, 0, 1, 0, 0, 1, 0, 0, 0, 0],\n",
       "       [1, 1, 1, 0, 0, 1, 0, 1, 1, 1, 1, 1],\n",
       "       [0, 0, 1, 0, 0, 1, 0, 0, 0, 0, 0, 0]])"
      ]
     },
     "execution_count": 27,
     "metadata": {},
     "output_type": "execute_result"
    }
   ],
   "source": [
    "# Datos\n",
    "tareas = np.array([[0,1,1,0,1,0,0,1,0,0,0,0],\n",
    "                   [1,1,1,0,0,1,0,1,1,1,1,1],\n",
    "                   [0,0,1,0,0,1,0,0,0,0,0,0]])\n",
    "tareas"
   ]
  },
  {
   "cell_type": "code",
   "execution_count": 28,
   "id": "5348adc6",
   "metadata": {},
   "outputs": [],
   "source": [
    "out = np.nan * np.ones((1, 3))  # Valor ficticio para matriz de salida de iniciación"
   ]
  },
  {
   "cell_type": "code",
   "execution_count": 29,
   "id": "11038bb9",
   "metadata": {},
   "outputs": [],
   "source": [
    "subjects = np.arange(tareas.shape[1])\n",
    "\n",
    "categories = np.arange(tareas.shape[0])"
   ]
  },
  {
   "cell_type": "code",
   "execution_count": 30,
   "id": "02b16d27",
   "metadata": {},
   "outputs": [],
   "source": [
    "for i in categories:\n",
    "    new = np.column_stack((subjects, i*np.ones(len(subjects)), tareas[i,:]))\n",
    "    out = np.vstack((out, new))"
   ]
  },
  {
   "cell_type": "code",
   "execution_count": 31,
   "id": "d2cf7be3",
   "metadata": {},
   "outputs": [
    {
     "data": {
      "text/plain": [
       "array([[nan, nan, nan],\n",
       "       [ 0.,  0.,  0.],\n",
       "       [ 1.,  0.,  1.],\n",
       "       [ 2.,  0.,  1.],\n",
       "       [ 3.,  0.,  0.],\n",
       "       [ 4.,  0.,  1.],\n",
       "       [ 5.,  0.,  0.],\n",
       "       [ 6.,  0.,  0.],\n",
       "       [ 7.,  0.,  1.],\n",
       "       [ 8.,  0.,  0.],\n",
       "       [ 9.,  0.,  0.],\n",
       "       [10.,  0.,  0.],\n",
       "       [11.,  0.,  0.],\n",
       "       [ 0.,  1.,  1.],\n",
       "       [ 1.,  1.,  1.],\n",
       "       [ 2.,  1.,  1.],\n",
       "       [ 3.,  1.,  0.],\n",
       "       [ 4.,  1.,  0.],\n",
       "       [ 5.,  1.,  1.],\n",
       "       [ 6.,  1.,  0.],\n",
       "       [ 7.,  1.,  1.],\n",
       "       [ 8.,  1.,  1.],\n",
       "       [ 9.,  1.,  1.],\n",
       "       [10.,  1.,  1.],\n",
       "       [11.,  1.,  1.],\n",
       "       [ 0.,  2.,  0.],\n",
       "       [ 1.,  2.,  0.],\n",
       "       [ 2.,  2.,  1.],\n",
       "       [ 3.,  2.,  0.],\n",
       "       [ 4.,  2.,  0.],\n",
       "       [ 5.,  2.,  1.],\n",
       "       [ 6.,  2.,  0.],\n",
       "       [ 7.,  2.,  0.],\n",
       "       [ 8.,  2.,  0.],\n",
       "       [ 9.,  2.,  0.],\n",
       "       [10.,  2.,  0.],\n",
       "       [11.,  2.,  0.]])"
      ]
     },
     "execution_count": 31,
     "metadata": {},
     "output_type": "execute_result"
    }
   ],
   "source": [
    "out"
   ]
  },
  {
   "cell_type": "code",
   "execution_count": 32,
   "id": "078fe994",
   "metadata": {},
   "outputs": [],
   "source": [
    "out = out[1:,:] # Eliminar la fila de inicio ficticia"
   ]
  },
  {
   "cell_type": "code",
   "execution_count": 35,
   "id": "492c7290",
   "metadata": {},
   "outputs": [
    {
     "data": {
      "text/html": [
       "<div>\n",
       "<style scoped>\n",
       "    .dataframe tbody tr th:only-of-type {\n",
       "        vertical-align: middle;\n",
       "    }\n",
       "\n",
       "    .dataframe tbody tr th {\n",
       "        vertical-align: top;\n",
       "    }\n",
       "\n",
       "    .dataframe thead th {\n",
       "        text-align: right;\n",
       "    }\n",
       "</style>\n",
       "<table border=\"1\" class=\"dataframe\">\n",
       "  <thead>\n",
       "    <tr style=\"text-align: right;\">\n",
       "      <th></th>\n",
       "      <th>Sujetos</th>\n",
       "      <th>Categorias</th>\n",
       "      <th>Valores</th>\n",
       "    </tr>\n",
       "  </thead>\n",
       "  <tbody>\n",
       "    <tr>\n",
       "      <th>0</th>\n",
       "      <td>0.0</td>\n",
       "      <td>0.0</td>\n",
       "      <td>0.0</td>\n",
       "    </tr>\n",
       "    <tr>\n",
       "      <th>1</th>\n",
       "      <td>1.0</td>\n",
       "      <td>0.0</td>\n",
       "      <td>1.0</td>\n",
       "    </tr>\n",
       "    <tr>\n",
       "      <th>2</th>\n",
       "      <td>2.0</td>\n",
       "      <td>0.0</td>\n",
       "      <td>1.0</td>\n",
       "    </tr>\n",
       "    <tr>\n",
       "      <th>3</th>\n",
       "      <td>3.0</td>\n",
       "      <td>0.0</td>\n",
       "      <td>0.0</td>\n",
       "    </tr>\n",
       "    <tr>\n",
       "      <th>4</th>\n",
       "      <td>4.0</td>\n",
       "      <td>0.0</td>\n",
       "      <td>1.0</td>\n",
       "    </tr>\n",
       "    <tr>\n",
       "      <th>5</th>\n",
       "      <td>5.0</td>\n",
       "      <td>0.0</td>\n",
       "      <td>0.0</td>\n",
       "    </tr>\n",
       "    <tr>\n",
       "      <th>6</th>\n",
       "      <td>6.0</td>\n",
       "      <td>0.0</td>\n",
       "      <td>0.0</td>\n",
       "    </tr>\n",
       "    <tr>\n",
       "      <th>7</th>\n",
       "      <td>7.0</td>\n",
       "      <td>0.0</td>\n",
       "      <td>1.0</td>\n",
       "    </tr>\n",
       "    <tr>\n",
       "      <th>8</th>\n",
       "      <td>8.0</td>\n",
       "      <td>0.0</td>\n",
       "      <td>0.0</td>\n",
       "    </tr>\n",
       "    <tr>\n",
       "      <th>9</th>\n",
       "      <td>9.0</td>\n",
       "      <td>0.0</td>\n",
       "      <td>0.0</td>\n",
       "    </tr>\n",
       "    <tr>\n",
       "      <th>10</th>\n",
       "      <td>10.0</td>\n",
       "      <td>0.0</td>\n",
       "      <td>0.0</td>\n",
       "    </tr>\n",
       "    <tr>\n",
       "      <th>11</th>\n",
       "      <td>11.0</td>\n",
       "      <td>0.0</td>\n",
       "      <td>0.0</td>\n",
       "    </tr>\n",
       "    <tr>\n",
       "      <th>12</th>\n",
       "      <td>0.0</td>\n",
       "      <td>1.0</td>\n",
       "      <td>1.0</td>\n",
       "    </tr>\n",
       "    <tr>\n",
       "      <th>13</th>\n",
       "      <td>1.0</td>\n",
       "      <td>1.0</td>\n",
       "      <td>1.0</td>\n",
       "    </tr>\n",
       "    <tr>\n",
       "      <th>14</th>\n",
       "      <td>2.0</td>\n",
       "      <td>1.0</td>\n",
       "      <td>1.0</td>\n",
       "    </tr>\n",
       "    <tr>\n",
       "      <th>15</th>\n",
       "      <td>3.0</td>\n",
       "      <td>1.0</td>\n",
       "      <td>0.0</td>\n",
       "    </tr>\n",
       "    <tr>\n",
       "      <th>16</th>\n",
       "      <td>4.0</td>\n",
       "      <td>1.0</td>\n",
       "      <td>0.0</td>\n",
       "    </tr>\n",
       "    <tr>\n",
       "      <th>17</th>\n",
       "      <td>5.0</td>\n",
       "      <td>1.0</td>\n",
       "      <td>1.0</td>\n",
       "    </tr>\n",
       "    <tr>\n",
       "      <th>18</th>\n",
       "      <td>6.0</td>\n",
       "      <td>1.0</td>\n",
       "      <td>0.0</td>\n",
       "    </tr>\n",
       "    <tr>\n",
       "      <th>19</th>\n",
       "      <td>7.0</td>\n",
       "      <td>1.0</td>\n",
       "      <td>1.0</td>\n",
       "    </tr>\n",
       "    <tr>\n",
       "      <th>20</th>\n",
       "      <td>8.0</td>\n",
       "      <td>1.0</td>\n",
       "      <td>1.0</td>\n",
       "    </tr>\n",
       "    <tr>\n",
       "      <th>21</th>\n",
       "      <td>9.0</td>\n",
       "      <td>1.0</td>\n",
       "      <td>1.0</td>\n",
       "    </tr>\n",
       "    <tr>\n",
       "      <th>22</th>\n",
       "      <td>10.0</td>\n",
       "      <td>1.0</td>\n",
       "      <td>1.0</td>\n",
       "    </tr>\n",
       "    <tr>\n",
       "      <th>23</th>\n",
       "      <td>11.0</td>\n",
       "      <td>1.0</td>\n",
       "      <td>1.0</td>\n",
       "    </tr>\n",
       "    <tr>\n",
       "      <th>24</th>\n",
       "      <td>0.0</td>\n",
       "      <td>2.0</td>\n",
       "      <td>0.0</td>\n",
       "    </tr>\n",
       "    <tr>\n",
       "      <th>25</th>\n",
       "      <td>1.0</td>\n",
       "      <td>2.0</td>\n",
       "      <td>0.0</td>\n",
       "    </tr>\n",
       "    <tr>\n",
       "      <th>26</th>\n",
       "      <td>2.0</td>\n",
       "      <td>2.0</td>\n",
       "      <td>1.0</td>\n",
       "    </tr>\n",
       "    <tr>\n",
       "      <th>27</th>\n",
       "      <td>3.0</td>\n",
       "      <td>2.0</td>\n",
       "      <td>0.0</td>\n",
       "    </tr>\n",
       "    <tr>\n",
       "      <th>28</th>\n",
       "      <td>4.0</td>\n",
       "      <td>2.0</td>\n",
       "      <td>0.0</td>\n",
       "    </tr>\n",
       "    <tr>\n",
       "      <th>29</th>\n",
       "      <td>5.0</td>\n",
       "      <td>2.0</td>\n",
       "      <td>1.0</td>\n",
       "    </tr>\n",
       "    <tr>\n",
       "      <th>30</th>\n",
       "      <td>6.0</td>\n",
       "      <td>2.0</td>\n",
       "      <td>0.0</td>\n",
       "    </tr>\n",
       "    <tr>\n",
       "      <th>31</th>\n",
       "      <td>7.0</td>\n",
       "      <td>2.0</td>\n",
       "      <td>0.0</td>\n",
       "    </tr>\n",
       "    <tr>\n",
       "      <th>32</th>\n",
       "      <td>8.0</td>\n",
       "      <td>2.0</td>\n",
       "      <td>0.0</td>\n",
       "    </tr>\n",
       "    <tr>\n",
       "      <th>33</th>\n",
       "      <td>9.0</td>\n",
       "      <td>2.0</td>\n",
       "      <td>0.0</td>\n",
       "    </tr>\n",
       "    <tr>\n",
       "      <th>34</th>\n",
       "      <td>10.0</td>\n",
       "      <td>2.0</td>\n",
       "      <td>0.0</td>\n",
       "    </tr>\n",
       "    <tr>\n",
       "      <th>35</th>\n",
       "      <td>11.0</td>\n",
       "      <td>2.0</td>\n",
       "      <td>0.0</td>\n",
       "    </tr>\n",
       "  </tbody>\n",
       "</table>\n",
       "</div>"
      ],
      "text/plain": [
       "    Sujetos  Categorias  Valores\n",
       "0       0.0         0.0      0.0\n",
       "1       1.0         0.0      1.0\n",
       "2       2.0         0.0      1.0\n",
       "3       3.0         0.0      0.0\n",
       "4       4.0         0.0      1.0\n",
       "5       5.0         0.0      0.0\n",
       "6       6.0         0.0      0.0\n",
       "7       7.0         0.0      1.0\n",
       "8       8.0         0.0      0.0\n",
       "9       9.0         0.0      0.0\n",
       "10     10.0         0.0      0.0\n",
       "11     11.0         0.0      0.0\n",
       "12      0.0         1.0      1.0\n",
       "13      1.0         1.0      1.0\n",
       "14      2.0         1.0      1.0\n",
       "15      3.0         1.0      0.0\n",
       "16      4.0         1.0      0.0\n",
       "17      5.0         1.0      1.0\n",
       "18      6.0         1.0      0.0\n",
       "19      7.0         1.0      1.0\n",
       "20      8.0         1.0      1.0\n",
       "21      9.0         1.0      1.0\n",
       "22     10.0         1.0      1.0\n",
       "23     11.0         1.0      1.0\n",
       "24      0.0         2.0      0.0\n",
       "25      1.0         2.0      0.0\n",
       "26      2.0         2.0      1.0\n",
       "27      3.0         2.0      0.0\n",
       "28      4.0         2.0      0.0\n",
       "29      5.0         2.0      1.0\n",
       "30      6.0         2.0      0.0\n",
       "31      7.0         2.0      0.0\n",
       "32      8.0         2.0      0.0\n",
       "33      9.0         2.0      0.0\n",
       "34     10.0         2.0      0.0\n",
       "35     11.0         2.0      0.0"
      ]
     },
     "execution_count": 35,
     "metadata": {},
     "output_type": "execute_result"
    }
   ],
   "source": [
    "df = pd.DataFrame(out, columns=['Sujetos', 'Categorias', 'Valores'])\n",
    "\n",
    "df"
   ]
  },
  {
   "cell_type": "code",
   "execution_count": 36,
   "id": "89e418c5",
   "metadata": {},
   "outputs": [
    {
     "data": {
      "text/html": [
       "<div>\n",
       "<style scoped>\n",
       "    .dataframe tbody tr th:only-of-type {\n",
       "        vertical-align: middle;\n",
       "    }\n",
       "\n",
       "    .dataframe tbody tr th {\n",
       "        vertical-align: top;\n",
       "    }\n",
       "\n",
       "    .dataframe thead th {\n",
       "        text-align: right;\n",
       "    }\n",
       "</style>\n",
       "<table border=\"1\" class=\"dataframe\">\n",
       "  <thead>\n",
       "    <tr style=\"text-align: right;\">\n",
       "      <th></th>\n",
       "      <th>Source</th>\n",
       "      <th>dof</th>\n",
       "      <th>Q</th>\n",
       "      <th>p-unc</th>\n",
       "    </tr>\n",
       "  </thead>\n",
       "  <tbody>\n",
       "    <tr>\n",
       "      <th>cochran</th>\n",
       "      <td>Categorias</td>\n",
       "      <td>2</td>\n",
       "      <td>8.666667</td>\n",
       "      <td>0.013124</td>\n",
       "    </tr>\n",
       "  </tbody>\n",
       "</table>\n",
       "</div>"
      ],
      "text/plain": [
       "             Source  dof         Q     p-unc\n",
       "cochran  Categorias    2  8.666667  0.013124"
      ]
     },
     "execution_count": 36,
     "metadata": {},
     "output_type": "execute_result"
    }
   ],
   "source": [
    "# Con pingouin\n",
    "\n",
    "pg_out = pg.cochran(df, dv='Valores', within='Categorias', subject='Sujetos')\n",
    "\n",
    "pg_out"
   ]
  },
  {
   "cell_type": "code",
   "execution_count": 37,
   "id": "8b07a528",
   "metadata": {},
   "outputs": [
    {
     "name": "stdout",
     "output_type": "stream",
     "text": [
      "Q = 8.667, p = 0.013\n"
     ]
    }
   ],
   "source": [
    "print(f'Q = {sm_results.statistic:5.3f}, p = {sm_results.pvalue:5.3f}')"
   ]
  },
  {
   "cell_type": "code",
   "execution_count": 38,
   "id": "93f414e8",
   "metadata": {},
   "outputs": [
    {
     "name": "stdout",
     "output_type": "stream",
     "text": [
      "Hay una diferencia significativa entre las tres tareas.\n"
     ]
    }
   ],
   "source": [
    "if sm_results.pvalue < 0.05:\n",
    "    print(\"Hay una diferencia significativa entre las tres tareas.\")\n",
    "else:\n",
    "    print(\"No hay una diferencia significativa entre las tres tareas.\")"
   ]
  },
  {
   "cell_type": "markdown",
   "id": "bd84053b",
   "metadata": {},
   "source": [
    "Calcular los intervalos de confianza de la población, en base a una muestra de datos dada. \n",
    "\n",
    "Los datos están tomados de Altman, capítulo 10.2.1. \n",
    "\n",
    "Suponga que un médico general elige una muestra aleatoria de 215 mujeres del registro de pacientes para su práctica general y descubre que 39 de ellas tienen antecedentes de sufrir asma. \n",
    "\n",
    "¿Cuál es el intervalo de confianza para la prevalencia del asma? "
   ]
  },
  {
   "cell_type": "code",
   "execution_count": 39,
   "id": "20761a4e",
   "metadata": {},
   "outputs": [],
   "source": [
    "# Datos\n",
    "\n",
    "numTotal = 215\n",
    "\n",
    "numPositive = 39"
   ]
  },
  {
   "cell_type": "code",
   "execution_count": 40,
   "id": "bf559a62",
   "metadata": {},
   "outputs": [],
   "source": [
    "p = float(numPositive)/numTotal\n",
    "\n",
    "se = np.sqrt(p*(1-p)/numTotal)\n",
    "\n",
    "td = stats.t(numTotal-1)"
   ]
  },
  {
   "cell_type": "code",
   "execution_count": 43,
   "id": "189b5422",
   "metadata": {},
   "outputs": [
    {
     "name": "stdout",
     "output_type": "stream",
     "text": [
      "IC de la muestra: [0.130 , 0.233]\n"
     ]
    }
   ],
   "source": [
    "# Calculo los IC\n",
    "\n",
    "ci = p + np.array([-1,1])*td.isf(0.025)*se\n",
    "\n",
    "print(f'IC de la muestra: [{ci[0]:5.3f} , {ci[1]:5.3f}]')"
   ]
  },
  {
   "cell_type": "markdown",
   "id": "1bfef89b",
   "metadata": {},
   "source": [
    "Aplicación de una prueba de chi cuadrado a una tabla de 2x2. \n",
    "\n",
    "Los cálculos se realizan con y sin la corrección de continuidad de Yate. \n",
    "\n",
    "Los datos se tomaron de Altman, Tabla 10.10: \n",
    "\n",
    "Comparación del número de horas de natación de nadadores con o sin erosión del esmalte dental. >= 6h: 32 sí, 118 no < 6h: 17 sí, 127 no."
   ]
  },
  {
   "cell_type": "code",
   "execution_count": 44,
   "id": "032ae2c0",
   "metadata": {},
   "outputs": [],
   "source": [
    "# Datos\n",
    "\n",
    "obs = np.array([[32, 118],\n",
    "                [17, 127]])"
   ]
  },
  {
   "cell_type": "code",
   "execution_count": 45,
   "id": "830c3568",
   "metadata": {},
   "outputs": [],
   "source": [
    "# Test chi-cuadrado con statsmodels\n",
    "\n",
    "chi2_corrected = stats.chi2_contingency(obs, correction=True)\n",
    "\n",
    "chi2_uncorrected = stats.chi2_contingency(obs, correction=False)"
   ]
  },
  {
   "cell_type": "code",
   "execution_count": 47,
   "id": "e07db5c4",
   "metadata": {},
   "outputs": [
    {
     "name": "stdout",
     "output_type": "stream",
     "text": [
      "El valor de chi2 corregido es 4.141, con p=0.042\n",
      "\n",
      "El valor de chi2 no corregido es 4.802, con p=0.028\n"
     ]
    }
   ],
   "source": [
    "print(f'El valor de chi2 corregido es {chi2_corrected[0]:5.3f}, con p={chi2_corrected[1]:5.3f}\\n')\n",
    "\n",
    "print(f'El valor de chi2 no corregido es {chi2_uncorrected[0]:5.3f}, con p={chi2_uncorrected[1]:5.3f}')"
   ]
  },
  {
   "cell_type": "code",
   "execution_count": 49,
   "id": "552ad4a6",
   "metadata": {},
   "outputs": [],
   "source": [
    "if len(obs.shape) == 1:\n",
    "    events = np.array([])\n",
    "\n",
    "    for i, value in enumerate(obs):\n",
    "        events = np.hstack((events, i*np.ones(value)))\n",
    "\n",
    "else:\n",
    "    events = np.nan * np.ones((1,2)) # necesita una matriz de inicio ficticia de 2 columnas\n",
    "\n",
    "    obs = np.atleast_2d(obs)\n",
    "    for i in range(obs.shape[0]):\n",
    "        for j in range(obs.shape[1]):\n",
    "            new = np.repeat([[i, j]], obs[i,j], axis=0)\n",
    "            events = np.vstack((events, new))\n",
    "\n",
    "    events = events[1:,:]   # quitar el arrancador ficticio"
   ]
  },
  {
   "cell_type": "code",
   "execution_count": 55,
   "id": "a95c8761",
   "metadata": {},
   "outputs": [
    {
     "data": {
      "text/plain": [
       "array([[0., 0.],\n",
       "       [0., 0.],\n",
       "       [0., 0.],\n",
       "       [0., 0.],\n",
       "       [0., 0.]])"
      ]
     },
     "execution_count": 55,
     "metadata": {},
     "output_type": "execute_result"
    }
   ],
   "source": [
    "events[:5]"
   ]
  },
  {
   "cell_type": "code",
   "execution_count": 58,
   "id": "bf5ff07a",
   "metadata": {},
   "outputs": [
    {
     "data": {
      "text/plain": [
       "(y     0.0    1.0\n",
       " x               \n",
       " 0.0  25.0  125.0\n",
       " 1.0  24.0  120.0,\n",
       " y     0.0    1.0\n",
       " x               \n",
       " 0.0  31.5  118.5\n",
       " 1.0  17.5  126.5,\n",
       "                  test    lambda      chi2  dof      pval    cramer     power\n",
       " 0             pearson  1.000000  4.140500  1.0  0.041869  0.118673  0.529868\n",
       " 1        cressie-read  0.666667  4.153838  1.0  0.041540  0.118864  0.531171\n",
       " 2      log-likelihood  0.000000  4.195094  1.0  0.040541  0.119453  0.535183\n",
       " 3       freeman-tukey -0.500000  4.239288  1.0  0.039499  0.120081  0.539456\n",
       " 4  mod-log-likelihood -1.000000  4.295414  1.0  0.038215  0.120873  0.544843\n",
       " 5              neyman -2.000000  4.446088  1.0  0.034981  0.122975  0.559093)"
      ]
     },
     "execution_count": 58,
     "metadata": {},
     "output_type": "execute_result"
    }
   ],
   "source": [
    "# Con pingouin\n",
    "\n",
    "df = pd.DataFrame(events, columns=['x', 'y'])\n",
    "\n",
    "pg_out = pg.chi2_independence(df, 'x', 'y')\n",
    "\n",
    "pg_out"
   ]
  },
  {
   "cell_type": "markdown",
   "id": "a9c3e06e",
   "metadata": {},
   "source": [
    "Prueba exacta de Fisher: Los datos se tomaron de Altman, Tabla 10.14 \n",
    "\n",
    "Uso de anteojos entre delincuentes juveniles y no delincuentes que reprobaron una prueba de visión. \n",
    "\n",
    "Usuarios de gafas: 1 delincuente, 5 no delincuentes \n",
    "\n",
    "No usuarios de gafas: 8 delincuentes, 2 no delincuentes"
   ]
  },
  {
   "cell_type": "code",
   "execution_count": 59,
   "id": "4d070139",
   "metadata": {},
   "outputs": [],
   "source": [
    "# Datos\n",
    "\n",
    "obs = np.array([[1,5], \n",
    "                [8,2]])"
   ]
  },
  {
   "cell_type": "code",
   "execution_count": 63,
   "id": "a9a0b48f",
   "metadata": {},
   "outputs": [
    {
     "name": "stdout",
     "output_type": "stream",
     "text": [
      "La probabilidad de obtener una distribución al menos tan extrema como la que realmente se observó, asumiendo que la hipótesis nula es cierta, es: 0.035.\n"
     ]
    }
   ],
   "source": [
    "# Calcule la prueba exacta de Fisher \n",
    "\n",
    "# De forma predeterminada, se establece la opción \"alternativa = 'dos colas'.\n",
    "\n",
    "# Otras opciones son 'menor' o 'mayor'.\n",
    "\n",
    "fisher_result = stats.fisher_exact(obs)\n",
    "\n",
    "print('La probabilidad de obtener una distribución al menos tan extrema como la que realmente se observó, ' +\n",
    "    f'asumiendo que la hipótesis nula es cierta, es: {fisher_result[1]:5.3f}.')"
   ]
  },
  {
   "cell_type": "markdown",
   "id": "bb062b59",
   "metadata": {},
   "source": [
    "La prueba de McNemar debe ejecutarse en la versión \"exacta\", aunque fórmulas aproximadas son generalmente se da en los guiones de las conferencias. \n",
    "\n",
    "Simplemente ignore la estadística que es devuelto, porque es diferente para las dos opciones. \n",
    "\n",
    "En el siguiente ejemplo, un investigador intenta determinar si un fármaco tiene un efecto sobre una enfermedad en particular.\n",
    "\n",
    "Los conteos de individuos se dan en el tabla, con el diagnóstico (enfermedad: presente o ausente) antes del tratamiento dado en las filas, y el diagnóstico después del tratamiento en las columnas. \n",
    "\n",
    "La prueba requiere que los mismos sujetos sean incluidos en el antes y el después medidas (pares emparejados)."
   ]
  },
  {
   "cell_type": "code",
   "execution_count": 64,
   "id": "c61564e3",
   "metadata": {},
   "outputs": [
    {
     "data": {
      "text/plain": [
       "array([[101, 121],\n",
       "       [ 59,  33]])"
      ]
     },
     "execution_count": 64,
     "metadata": {},
     "output_type": "execute_result"
    }
   ],
   "source": [
    "f_obs = np.array([[101, 121],[59, 33]])\n",
    "\n",
    "f_obs"
   ]
  },
  {
   "cell_type": "code",
   "execution_count": 69,
   "id": "2af46c30",
   "metadata": {},
   "outputs": [
    {
     "name": "stdout",
     "output_type": "stream",
     "text": [
      "pvalue      5.450094825427117e-06\n",
      "statistic   20.67222222222222\n"
     ]
    }
   ],
   "source": [
    "# Con statsmodels \n",
    "\n",
    "sm_out = mcnemar(f_obs, exact=False, correction=True)  # estadístico, pvalue\n",
    "\n",
    "print(sm_out)"
   ]
  },
  {
   "cell_type": "code",
   "execution_count": 70,
   "id": "70861d63",
   "metadata": {},
   "outputs": [
    {
     "name": "stdout",
     "output_type": "stream",
     "text": [
      "Hubo un cambio significativo en la enfermedad por el tratamiento.\n"
     ]
    }
   ],
   "source": [
    "if sm_out.pvalue < 0.05:\n",
    "    print(\"Hubo un cambio significativo en la enfermedad por el tratamiento.\")\n",
    "    \n",
    "else:\n",
    "    print(\"No hubo un cambio significativo en la enfermedad por el tratamiento.\")"
   ]
  },
  {
   "cell_type": "code",
   "execution_count": 72,
   "id": "66d959ab",
   "metadata": {},
   "outputs": [],
   "source": [
    "if len(f_obs.shape) == 1:\n",
    "    events = np.array([])\n",
    "\n",
    "    for i, value in enumerate(f_obs):\n",
    "        events = np.hstack((events, i*np.ones(value)))\n",
    "\n",
    "else:\n",
    "    events = np.nan * np.ones((1,2)) # necesita una matriz de inicio ficticia de 2 columnas\n",
    "\n",
    "    f_obs = np.atleast_2d(obs)\n",
    "    for i in range(f_obs.shape[0]):\n",
    "        for j in range(f_obs.shape[1]):\n",
    "            new = np.repeat([[i, j]], f_obs[i,j], axis=0)\n",
    "            events = np.vstack((events, new))\n",
    "\n",
    "    events = events[1:,:]   # quitar el arrancador ficticio"
   ]
  },
  {
   "cell_type": "code",
   "execution_count": 77,
   "id": "0e8aa619",
   "metadata": {},
   "outputs": [
    {
     "name": "stdout",
     "output_type": "stream",
     "text": [
      "(             chi2  dof  p-approx   p-exact\n",
      "mcnemar  0.307692    1    0.5791  0.581055,)\n"
     ]
    }
   ],
   "source": [
    "# Con pingouin\n",
    "\n",
    "#events = freq2events(f_obs)\n",
    "\n",
    "df = pd.DataFrame(events, columns=['x', 'y'])\n",
    "\n",
    "pg_out = pg.chi2_mcnemar(df, 'x', 'y', correction=True)\n",
    "\n",
    "print(pg_out[1:])"
   ]
  },
  {
   "cell_type": "markdown",
   "id": "3738cd17",
   "metadata": {},
   "source": [
    "# 9.3 Ejercicios"
   ]
  },
  {
   "cell_type": "markdown",
   "id": "63699dd0",
   "metadata": {},
   "source": [
    "1. Prueba exacta de Fisher: el experimento del té \n",
    "\n",
    "En una fiesta, una señora afirmó poder decir si el té o la leche se añadían primero a una taza. \n",
    "\n",
    "Fisher propuso darle 8 tazas, 4 de cada variedad, en orden aleatorio. \n",
    "\n",
    "Uno podría preguntar cuál era la probabilidad de que obtuviera el número correcto, pero solo por casualidad. \n",
    "\n",
    "El experimento proporcionó a la Señora 8 tazas de té ordenadas al azar: 4 preparadas añadiendo primero leche, 4 preparadas añadiendo primero el té. Debía seleccionar las 4 tazas preparadas por un método. \n",
    "\n",
    "La hipótesis nula era que la Dama no tenía tal habilidad.\n",
    "\n",
    "Calcule si la afirmación de la dama se sustenta si acierta 3 de los 4 pares. \n",
    "\n",
    "(Respuesta correcta: No. Si acierta 3, la probabilidad de que una selección de \"3 o más\" sea aleatoria es de 0.243. Necesita acertar las 4, si fijamos el umbral de rechazo en 0,05)."
   ]
  },
  {
   "cell_type": "code",
   "execution_count": 11,
   "id": "19130bb1",
   "metadata": {},
   "outputs": [
    {
     "data": {
      "text/plain": [
       "[[3, 1], [1, 3]]"
      ]
     },
     "execution_count": 11,
     "metadata": {},
     "output_type": "execute_result"
    }
   ],
   "source": [
    "obs = [[3,1], [1,3]]\n",
    "obs"
   ]
  },
  {
   "cell_type": "code",
   "execution_count": 17,
   "id": "cb12083a",
   "metadata": {},
   "outputs": [],
   "source": [
    "_, p = stats.fisher_exact(obs, alternative='greater')"
   ]
  },
  {
   "cell_type": "code",
   "execution_count": 18,
   "id": "d8219c21",
   "metadata": {},
   "outputs": [
    {
     "name": "stdout",
     "output_type": "stream",
     "text": [
      "La probabilidad de que la señora seleccione 3 o más vasos correctamente por casualidad es: 0.243\n"
     ]
    }
   ],
   "source": [
    "print(f'La probabilidad de que la señora seleccione 3 o más vasos correctamente por casualidad es: {p:.3f}')"
   ]
  },
  {
   "cell_type": "code",
   "execution_count": 15,
   "id": "7e40b51d",
   "metadata": {},
   "outputs": [],
   "source": [
    "alpha = 0.05"
   ]
  },
  {
   "cell_type": "code",
   "execution_count": 19,
   "id": "111466c5",
   "metadata": {},
   "outputs": [
    {
     "name": "stdout",
     "output_type": "stream",
     "text": [
      "Con un p-value de 0.243 no podemos rechazar la hipótesis nula.\n",
      "\n",
      "No hay suficiente evidencia para afirmar que la dama tiene habilidad para discriminar entre té que primero le pone la leche y el que primero pone el té .\n"
     ]
    }
   ],
   "source": [
    "if p < alpha:\n",
    "    print(f\"Con un p-value de {p:.3f} podemos rechazar la hipótesis nula.\\n\")\n",
    "    print(\"Hay evidencia suficiente para afirmar que la dama tiene habilidad para discriminar entre el té que primero le pone la leche y el que primero pone el té .\")\n",
    "else:\n",
    "    print(f\"Con un p-value de {p:.3f} no podemos rechazar la hipótesis nula.\\n\")\n",
    "    print(\"No hay suficiente evidencia para afirmar que la dama tiene habilidad para discriminar entre té que primero le pone la leche y el que primero pone el té .\")"
   ]
  },
  {
   "cell_type": "code",
   "execution_count": 20,
   "id": "ddf264f6",
   "metadata": {},
   "outputs": [
    {
     "data": {
      "text/plain": [
       "[[4, 0], [0, 4]]"
      ]
     },
     "execution_count": 20,
     "metadata": {},
     "output_type": "execute_result"
    }
   ],
   "source": [
    "obs2 = [[4,0], [0,4]]\n",
    "obs2"
   ]
  },
  {
   "cell_type": "code",
   "execution_count": 21,
   "id": "dafa4b84",
   "metadata": {},
   "outputs": [],
   "source": [
    "_, p = stats.fisher_exact(obs2, alternative='greater')"
   ]
  },
  {
   "cell_type": "code",
   "execution_count": 22,
   "id": "a6f145d6",
   "metadata": {},
   "outputs": [
    {
     "name": "stdout",
     "output_type": "stream",
     "text": [
      "Con un p-value de 0.014 podemos rechazar la hipótesis nula.\n",
      "\n",
      "Hay evidencia suficiente para afirmar que la dama tiene habilidad para discriminar entre el té que primero le pone la leche y el que primero pone el té .\n"
     ]
    }
   ],
   "source": [
    "if p < alpha:\n",
    "    print(f\"Con un p-value de {p:.3f} podemos rechazar la hipótesis nula.\\n\")\n",
    "    print(\"Hay evidencia suficiente para afirmar que la dama tiene habilidad para discriminar entre el té que primero le pone la leche y el que primero pone el té .\")\n",
    "else:\n",
    "    print(f\"Con un p-value de {p:.3f} no podemos rechazar la hipótesis nula.\\n\")\n",
    "    print(\"No hay suficiente evidencia para afirmar que la dama tiene habilidad para discriminar entre té que primero le pone la leche y el que primero pone el té .\")"
   ]
  },
  {
   "cell_type": "markdown",
   "id": "efbaa30c",
   "metadata": {},
   "source": [
    "2. Prueba de contingencia Chi2 (1 DOF) \n",
    "\n",
    "Una prueba del efecto de un nuevo fármaco sobre la frecuencia cardíaca ha arrojado los siguientes resultados: "
   ]
  },
  {
   "cell_type": "code",
   "execution_count": 23,
   "id": "b0fd7b01",
   "metadata": {},
   "outputs": [
    {
     "data": {
      "image/png": "[encoded data removed]",
      "text/plain": [
       "<IPython.core.display.Image object>"
      ]
     },
     "execution_count": 23,
     "metadata": {},
     "output_type": "execute_result"
    }
   ],
   "source": [
    "Image(filename = 'Imagenes/T9.6.png')"
   ]
  },
  {
   "cell_type": "markdown",
   "id": "8447d4a9",
   "metadata": {},
   "source": [
    "- ¿Afecta la droga la frecuencia cardíaca? (Respuesta correcta: no) \n",
    "- ¿Cuál sería el resultado si la respuesta en una de las personas no tratadas hubiera sido diferente? Realice esta prueba con y sin la corrección de Yates. (Respuesta correcta: sin corrección de Yates: sí, p = 0.042 con corrección de Yates: no, p = 0.067)"
   ]
  },
  {
   "cell_type": "markdown",
   "id": "1d09721f",
   "metadata": {},
   "source": [
    "$\\textbf{a)}$"
   ]
  },
  {
   "cell_type": "code",
   "execution_count": 24,
   "id": "992bb26b",
   "metadata": {},
   "outputs": [
    {
     "data": {
      "text/plain": [
       "[[36, 14], [30, 25]]"
      ]
     },
     "execution_count": 24,
     "metadata": {},
     "output_type": "execute_result"
    }
   ],
   "source": [
    "bs = [[36,14], [30,25]]\n",
    "bs"
   ]
  },
  {
   "cell_type": "code",
   "execution_count": 25,
   "id": "c4357ac9",
   "metadata": {},
   "outputs": [],
   "source": [
    "chi2, p, dof, expected = stats.chi2_contingency(obs)"
   ]
  },
  {
   "cell_type": "code",
   "execution_count": 26,
   "id": "41f01c9d",
   "metadata": {},
   "outputs": [
    {
     "name": "stdout",
     "output_type": "stream",
     "text": [
      "La droga no afecta la frecuencia cardiaca. p=0.4795\n"
     ]
    }
   ],
   "source": [
    "if p < alpha:\n",
    "    print(f'La droga afecta la frecuencia cardiaca. p={p:.4f}')\n",
    "else:\n",
    "    print(f'La droga no afecta la frecuencia cardiaca. p={p:.4f}')"
   ]
  },
  {
   "cell_type": "markdown",
   "id": "d1fea743",
   "metadata": {},
   "source": [
    "$\\textbf{b)}$"
   ]
  },
  {
   "cell_type": "code",
   "execution_count": 36,
   "id": "6dc8f0c0",
   "metadata": {},
   "outputs": [],
   "source": [
    "obs2 = [[36,14], [29,26]]"
   ]
  },
  {
   "cell_type": "code",
   "execution_count": 37,
   "id": "846aa00e",
   "metadata": {},
   "outputs": [],
   "source": [
    "# Con corrección de Yates\n",
    "chi2, p, dof, expected = stats.chi2_contingency(obs2)"
   ]
  },
  {
   "cell_type": "code",
   "execution_count": 38,
   "id": "16c38571",
   "metadata": {},
   "outputs": [
    {
     "name": "stdout",
     "output_type": "stream",
     "text": [
      "Si la respuesta en 1 persona no tratada fuera diferente, obtendríamos p=0.0673 con corrección de Yates\n"
     ]
    }
   ],
   "source": [
    "print(f'Si la respuesta en 1 persona no tratada fuera diferente, obtendríamos p={p:.4f} con corrección de Yates')"
   ]
  },
  {
   "cell_type": "code",
   "execution_count": 39,
   "id": "9b88afe2",
   "metadata": {},
   "outputs": [
    {
     "name": "stdout",
     "output_type": "stream",
     "text": [
      "La droga no afecta la frecuencia cardiaca. p=0.0673\n"
     ]
    }
   ],
   "source": [
    "if p < alpha:\n",
    "    print(f'La droga afecta la frecuencia cardiaca. p={p:.4f}')\n",
    "else:\n",
    "    print(f'La droga no afecta la frecuencia cardiaca. p={p:.4f}')"
   ]
  },
  {
   "cell_type": "code",
   "execution_count": 40,
   "id": "eecf4171",
   "metadata": {},
   "outputs": [],
   "source": [
    "# Sin corrección de Yates\n",
    "chi2, p, dof, expected = stats.chi2_contingency(obs2, correction=False)"
   ]
  },
  {
   "cell_type": "code",
   "execution_count": 41,
   "id": "fa34b489",
   "metadata": {},
   "outputs": [
    {
     "name": "stdout",
     "output_type": "stream",
     "text": [
      "Si la respuesta en 1 persona no tratada fuera diferente, obtendríamos p=0.0423 sin corrección de Yates\n"
     ]
    }
   ],
   "source": [
    "print(f'Si la respuesta en 1 persona no tratada fuera diferente, obtendríamos p={p:.4f} sin corrección de Yates')"
   ]
  },
  {
   "cell_type": "code",
   "execution_count": 42,
   "id": "4cdabb0b",
   "metadata": {},
   "outputs": [
    {
     "name": "stdout",
     "output_type": "stream",
     "text": [
      "La droga afecta la frecuencia cardiaca. p = 0.0423\n"
     ]
    }
   ],
   "source": [
    "if p < alpha:\n",
    "    print(f'La droga afecta la frecuencia cardiaca. p = {p:.4f}')\n",
    "else:\n",
    "    print(f'La droga no afecta la frecuencia cardiaca. p = {p:.4f}')"
   ]
  },
  {
   "cell_type": "markdown",
   "id": "6c5b2081",
   "metadata": {},
   "source": [
    "3. Prueba Chi2 de una vía (>1 DOF) \n",
    "\n",
    "La ciudad de Linz quiere saber si la gente quiere construir una playa larga a lo largo del Danubio. \n",
    "\n",
    "Entrevistan a la población local y deciden recopilar 20 respuestas de cada uno de los 5 grupos de edad: (<15, 15–30, 30–45, 45–60, >60).\n",
    "\n",
    "El cuestionario dice: \"Un desarrollo junto a la playa beneficiará a Linz\". y las posibles respuestas son"
   ]
  },
  {
   "cell_type": "code",
   "execution_count": 45,
   "id": "4a4a81d1",
   "metadata": {},
   "outputs": [
    {
     "data": {
      "image/png": "[encoded data removed]",
      "text/plain": [
       "<IPython.core.display.Image object>"
      ]
     },
     "execution_count": 45,
     "metadata": {},
     "output_type": "execute_result"
    }
   ],
   "source": [
    "Image(filename = 'Imagenes/T9.7.png')"
   ]
  },
  {
   "cell_type": "markdown",
   "id": "348d4be5",
   "metadata": {},
   "source": [
    "El concejo municipal quiere averiguar si la edad de las personas influyó en los sentimientos sobre el desarrollo, particularmente de aquellos que se sintieron negativamente (es decir, \"en desacuerdo\" o \"muy en desacuerdo\") sobre el desarrollo planificado."
   ]
  },
  {
   "cell_type": "code",
   "execution_count": 46,
   "id": "9787236b",
   "metadata": {},
   "outputs": [
    {
     "data": {
      "image/png": "[encoded data removed]",
      "text/plain": [
       "<IPython.core.display.Image object>"
      ]
     },
     "execution_count": 46,
     "metadata": {},
     "output_type": "execute_result"
    }
   ],
   "source": [
    "Image(filename = 'Imagenes/T9.8.png')"
   ]
  },
  {
   "cell_type": "markdown",
   "id": "a96d00c6",
   "metadata": {},
   "source": [
    "Las categorías parecen mostrar grandes diferencias de opinión entre los grupos. \n",
    "- ¿Son significativas estas diferencias? (Respuesta correcta: sí, p = 0,034.) \n",
    "- ¿Cuántos grados de libertad tiene el análisis resultante? (Respuesta correcta: 4.)"
   ]
  },
  {
   "cell_type": "code",
   "execution_count": 47,
   "id": "a93ad633",
   "metadata": {},
   "outputs": [
    {
     "data": {
      "text/plain": [
       "[4, 6, 14, 10, 16]"
      ]
     },
     "execution_count": 47,
     "metadata": {},
     "output_type": "execute_result"
    }
   ],
   "source": [
    "# Chi2-oneway-test\n",
    "obs = [4,6,14,10,16]\n",
    "obs"
   ]
  },
  {
   "cell_type": "markdown",
   "id": "6d0f2ff3",
   "metadata": {},
   "source": [
    "$ \\textbf{a)} $"
   ]
  },
  {
   "cell_type": "code",
   "execution_count": 48,
   "id": "4ef01023",
   "metadata": {},
   "outputs": [],
   "source": [
    "_, p = stats.chisquare(obs)"
   ]
  },
  {
   "cell_type": "code",
   "execution_count": 49,
   "id": "e3faa289",
   "metadata": {},
   "outputs": [
    {
     "name": "stdout",
     "output_type": "stream",
     "text": [
      "La diferencia de opinión entre los distintos grupos de edad es significativa (p=0.0342)\n"
     ]
    }
   ],
   "source": [
    "if p < alpha:\n",
    "    print(f'La diferencia de opinión entre los distintos grupos de edad es significativa (p={p:6.4f})')\n",
    "else:\n",
    "    print(f'TLa diferencia de opinión entre los distintos grupos de edad no es significativa (p={p:6.4f})')"
   ]
  },
  {
   "cell_type": "markdown",
   "id": "8e8396a4",
   "metadata": {},
   "source": [
    "$ \\textbf{b)} $"
   ]
  },
  {
   "cell_type": "code",
   "execution_count": 51,
   "id": "a2626f1f",
   "metadata": {},
   "outputs": [
    {
     "name": "stdout",
     "output_type": "stream",
     "text": [
      "DOF =   4\n"
     ]
    }
   ],
   "source": [
    "print(f'DOF = {len(obs)-1:3d}')"
   ]
  },
  {
   "cell_type": "markdown",
   "id": "2a8b57b6",
   "metadata": {},
   "source": [
    "4. Prueba de McNemar \n",
    "\n",
    "En una demanda por asesinato, la defensa utiliza un cuestionario para demostrar que el acusado está loco. \n",
    "\n",
    "Como resultado del cuestionario, el imputado se declara “no culpable por razón de demencia”. \n",
    "\n",
    "En respuesta, el abogado del estado quiere demostrar que el cuestionario no funciona. \n",
    "\n",
    "Contrata a un neurólogo experimentado y le presenta 40 pacientes, 20 de los cuales han completado el cuestionario con un resultado \"loco\" y 20 con un resultado \"cuerdo\". \n",
    "\n",
    "Cuando lo examina el neurólogo, el resultado es mixto: 19 de las personas \"sanas\" se encuentran sanas, pero 6 de las 20 personas \"locas\" son etiquetadas como cuerdas por el experto.\n",
    "\n",
    "- ¿Es este resultado significativamente diferente del cuestionario? (Respuesta correcta: no) \n",
    "- ¿Sería significativamente diferente el resultado si el experto hubiera diagnosticado correctamente a todas las personas “sanas”? (Respuesta correcta: sí.)"
   ]
  },
  {
   "cell_type": "markdown",
   "id": "9bd65b29",
   "metadata": {},
   "source": [
    "$\\textbf{a)}$"
   ]
  },
  {
   "cell_type": "code",
   "execution_count": 2,
   "id": "77a16919",
   "metadata": {},
   "outputs": [
    {
     "data": {
      "text/plain": [
       "[[19, 1], [6, 14]]"
      ]
     },
     "execution_count": 2,
     "metadata": {},
     "output_type": "execute_result"
    }
   ],
   "source": [
    "obs = [[19,1], [6, 14]]\n",
    "obs"
   ]
  },
  {
   "cell_type": "code",
   "execution_count": 6,
   "id": "a089f7f6",
   "metadata": {},
   "outputs": [
    {
     "data": {
      "text/plain": [
       "<bunch containing results, print to see contents>"
      ]
     },
     "execution_count": 6,
     "metadata": {},
     "output_type": "execute_result"
    }
   ],
   "source": [
    "resultado1 = mcnemar(obs)\n",
    "resultado1"
   ]
  },
  {
   "cell_type": "code",
   "execution_count": 8,
   "id": "13f07611",
   "metadata": {},
   "outputs": [
    {
     "data": {
      "text/plain": [
       "1.0"
      ]
     },
     "execution_count": 8,
     "metadata": {},
     "output_type": "execute_result"
    }
   ],
   "source": [
    "estadistico1 = resultado1.statistic\n",
    "estadistico1"
   ]
  },
  {
   "cell_type": "code",
   "execution_count": 9,
   "id": "4a516643",
   "metadata": {},
   "outputs": [
    {
     "data": {
      "text/plain": [
       "0.125"
      ]
     },
     "execution_count": 9,
     "metadata": {},
     "output_type": "execute_result"
    }
   ],
   "source": [
    "pvalue1 = resultado1.pvalue\n",
    "pvalue1"
   ]
  },
  {
   "cell_type": "code",
   "execution_count": 10,
   "id": "caa18a60",
   "metadata": {},
   "outputs": [],
   "source": [
    "alpha = 0.05"
   ]
  },
  {
   "cell_type": "code",
   "execution_count": 22,
   "id": "60fbd745",
   "metadata": {},
   "outputs": [
    {
     "name": "stdout",
     "output_type": "stream",
     "text": [
      "Los resultados del neurólogo no son significativamente diferentes del cuestionario (p = 0.125).\n"
     ]
    }
   ],
   "source": [
    "if pvalue1 < alpha:\n",
    "    print(f'Los resultados del neurólogo son significativamente diferentes del cuestionario. (p = {pvalue1:.3f}).')\n",
    "else:\n",
    "    print(f'Los resultados del neurólogo no son significativamente diferentes del cuestionario (p = {pvalue1:.3f}).')"
   ]
  },
  {
   "cell_type": "markdown",
   "id": "4b1e6de9",
   "metadata": {},
   "source": [
    "$\\textbf{b)}$"
   ]
  },
  {
   "cell_type": "code",
   "execution_count": 15,
   "id": "1c607854",
   "metadata": {},
   "outputs": [],
   "source": [
    "obs2 = [[20,0], [6, 14]]"
   ]
  },
  {
   "cell_type": "code",
   "execution_count": 16,
   "id": "ce772628",
   "metadata": {},
   "outputs": [
    {
     "data": {
      "text/plain": [
       "<bunch containing results, print to see contents>"
      ]
     },
     "execution_count": 16,
     "metadata": {},
     "output_type": "execute_result"
    }
   ],
   "source": [
    "resultado2 = mcnemar(obs2)\n",
    "resultado2"
   ]
  },
  {
   "cell_type": "code",
   "execution_count": 17,
   "id": "0af59bd4",
   "metadata": {},
   "outputs": [
    {
     "data": {
      "text/plain": [
       "0.0"
      ]
     },
     "execution_count": 17,
     "metadata": {},
     "output_type": "execute_result"
    }
   ],
   "source": [
    "estadistico2 = resultado2.statistic\n",
    "estadistico2"
   ]
  },
  {
   "cell_type": "code",
   "execution_count": 18,
   "id": "9d2d0f11",
   "metadata": {},
   "outputs": [
    {
     "data": {
      "text/plain": [
       "0.03125"
      ]
     },
     "execution_count": 18,
     "metadata": {},
     "output_type": "execute_result"
    }
   ],
   "source": [
    "pvalue2 = resultado2.pvalue\n",
    "pvalue2"
   ]
  },
  {
   "cell_type": "code",
   "execution_count": 23,
   "id": "bddaa688",
   "metadata": {},
   "outputs": [
    {
     "name": "stdout",
     "output_type": "stream",
     "text": [
      "Los resultados del neurólogo son significativamente diferentes del cuestionario. (p = 0.031).\n"
     ]
    }
   ],
   "source": [
    "if pvalue2 < alpha:\n",
    "    print(f'Los resultados del neurólogo son significativamente diferentes del cuestionario. (p = {pvalue2:.3f}).')\n",
    "else:\n",
    "    print(f'Los resultados del neurólogo no son significativamente diferentes del cuestionario (p = {pvalue2:.3f}).')"
   ]
  },
  {
   "cell_type": "code",
   "execution_count": 19,
   "id": "f6a188fc",
   "metadata": {},
   "outputs": [
    {
     "data": {
      "text/plain": [
       "False"
      ]
     },
     "execution_count": 19,
     "metadata": {},
     "output_type": "execute_result"
    }
   ],
   "source": [
    "pvalue1 < alpha"
   ]
  },
  {
   "cell_type": "code",
   "execution_count": 20,
   "id": "a9d4e92c",
   "metadata": {},
   "outputs": [
    {
     "data": {
      "text/plain": [
       "True"
      ]
     },
     "execution_count": 20,
     "metadata": {},
     "output_type": "execute_result"
    }
   ],
   "source": [
    "pvalue2 < alpha"
   ]
  },
  {
   "cell_type": "code",
   "execution_count": 21,
   "id": "f2006f61",
   "metadata": {},
   "outputs": [
    {
     "name": "stdout",
     "output_type": "stream",
     "text": [
      "Los resultados cambiarían si el experto hubiera diagnosticado correctamente a todas las personas \"cuerdas\".\n"
     ]
    }
   ],
   "source": [
    "if (pvalue1 < alpha == pvalue2 < alpha):\n",
    "    print('Los resultados no cambiarían si el experto hubiera diagnosticado correctamente a todas las personas \"cuerdas\".')\n",
    "else:\n",
    "    print('Los resultados cambiarían si el experto hubiera diagnosticado correctamente a todas las personas \"cuerdas\".')"
   ]
  }
 ],
 "metadata": {
  "kernelspec": {
   "display_name": "Python 3 (ipykernel)",
   "language": "python",
   "name": "python3"
  },
  "language_info": {
   "codemirror_mode": {
    "name": "ipython",
    "version": 3
   },
   "file_extension": ".py",
   "mimetype": "text/x-python",
   "name": "python",
   "nbconvert_exporter": "python",
   "pygments_lexer": "ipython3",
   "version": "3.10.9"
  }
 },
 "nbformat": 4,
 "nbformat_minor": 5
}
