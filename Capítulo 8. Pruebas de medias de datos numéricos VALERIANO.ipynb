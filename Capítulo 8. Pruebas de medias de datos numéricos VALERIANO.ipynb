{
 "cells": [
  {
   "cell_type": "code",
   "execution_count": 1,
   "id": "2e13e736",
   "metadata": {},
   "outputs": [],
   "source": [
    "import numpy as np\n",
    "import pandas as pd\n",
    "from scipy import stats\n",
    "import scipy.stats as st\n",
    "import pingouin as pg\n",
    "import statsmodels.formula.api as smf\n",
    "\n",
    "import matplotlib.pyplot as plt\n",
    "import seaborn as sns\n",
    "\n",
    "from IPython.display import Image"
   ]
  },
  {
   "cell_type": "markdown",
   "id": "7d8a424e",
   "metadata": {},
   "source": [
    "Pruebas de hipótesis para los valores medios de los grupos: \n",
    "- Comparación de un grupo con un valor fijo\n",
    "- Comparación de 2 grupos entre sí\n",
    "- Comparación de 3 o más grupos entre sí\n",
    "\n",
    "Distinguimos entre 2 casos. \n",
    "- Si los datos tienen una distribución aproximadamente normal\n",
    "    - Se pueden utilizar pruebas paramétricas. \n",
    "    - Son más sensibles que las pruebas no paramétricas, pero requieren que se cumplan ciertos supuestos. \n",
    "- Si los datos no se distribuyen normalmente, o si solo están disponibles en forma clasificada\n",
    "    - Se deben utilizar las pruebas no paramétricas."
   ]
  },
  {
   "cell_type": "markdown",
   "id": "fd4aaf0f",
   "metadata": {},
   "source": [
    "# 8.1 Distribución de una media muestral"
   ]
  },
  {
   "cell_type": "markdown",
   "id": "701a8016",
   "metadata": {},
   "source": [
    "## 8.1.1 Prueba T de una muestra para un valor medio"
   ]
  },
  {
   "cell_type": "markdown",
   "id": "92d2f28c",
   "metadata": {},
   "source": [
    "La distribución t describe la distribución del valor medio de las muestras tomadas de una distribución normal. \n",
    "\n",
    "Para verificar el valor medio de los datos normalmente distribuidos contra un valor de referencia, generalmente usamos la prueba t de una muestra, que se basa en la distribución t. \n",
    "\n",
    "Si conociéramos la media y la desviación estándar de una población distribuida normalmente, podríamos calcular el error estándar correspondiente y usar los valores de la distribución normal para determinar la probabilidad de encontrar un cierto valor. \n",
    "\n",
    "En la práctica tenemos que estimar la media y la desviación estándar de la muestra; y la distribución t, que caracteriza la distribución de medias muestrales para datos normalmente distribuidos, se desvía ligeramente de la distribución normal."
   ]
  },
  {
   "cell_type": "markdown",
   "id": "684e2a0a",
   "metadata": {},
   "source": [
    "### a) Ejemplo"
   ]
  },
  {
   "cell_type": "markdown",
   "id": "d2af8898",
   "metadata": {},
   "source": [
    "Tomamos 100 datos distribuidos normalmente, con una media de 7 y una desviación estándar de 3. \n",
    "\n",
    "¿Cuál es la probabilidad de encontrar un valor medio a una distancia de 0,5 o más de la media? \n",
    "\n",
    "Respuesta: \n",
    "\n",
    "La probabilidad de la prueba t en el ejemplo es 0.057 y de la distribución normal 0.054.\n",
    "\n",
    "- Tenemos una población, con un valor medio de 7 y una desviación estándar de 3. \n",
    "\n",
    "- De esa población, un observador toma 100 muestras aleatorias. \n",
    "    - La media muestral es 7.10, cercana pero diferente de la media real. \n",
    "    - La desviación estándar de la muestra es 3.12\n",
    "    - El error estándar de la media 0.312. "
   ]
  },
  {
   "cell_type": "code",
   "execution_count": 3,
   "id": "10f2ca18",
   "metadata": {},
   "outputs": [],
   "source": [
    "# Parámetros\n",
    "media = 7\n",
    "se = 3"
   ]
  },
  {
   "cell_type": "code",
   "execution_count": 5,
   "id": "9eccc439",
   "metadata": {},
   "outputs": [],
   "source": [
    "# Genero los datos\n",
    "np.random.seed(12345)\n",
    "data = stats.norm(media,se).rvs(100)"
   ]
  },
  {
   "cell_type": "code",
   "execution_count": 6,
   "id": "91cc8145",
   "metadata": {},
   "outputs": [],
   "source": [
    "# Ajustar media y SD\n",
    "meanVal = np.mean(data)\n",
    "stdVal = np.std(data, ddof=1)"
   ]
  },
  {
   "cell_type": "code",
   "execution_count": 12,
   "id": "3e26d957",
   "metadata": {},
   "outputs": [],
   "source": [
    "sem = stats.sem(data)"
   ]
  },
  {
   "cell_type": "code",
   "execution_count": 15,
   "id": "9453325a",
   "metadata": {},
   "outputs": [
    {
     "name": "stdout",
     "output_type": "stream",
     "text": [
      "La media real es: 7.000.\n",
      "\n",
      "La media muestral es: 7.101.\n",
      "\n",
      "La desviación estándar real es: 3.000.\n",
      "\n",
      "La desviación estándar muestral es: 3.121.\n",
      "\n",
      "El error estándar de la media es: 0.312.\n"
     ]
    }
   ],
   "source": [
    "print(f'La media real es: {media:1.3f}.\\n')\n",
    "print(f'La media muestral es: {meanVal:1.3f}.\\n')\n",
    "print(f'La desviación estándar real es: {se:1.3f}.\\n')\n",
    "print(f'La desviación estándar muestral es: {stdVal:1.3f}.\\n')\n",
    "print(f'El error estándar de la media es: {sem:.3f}.')"
   ]
  },
  {
   "cell_type": "markdown",
   "id": "45cf69d7",
   "metadata": {},
   "source": [
    "- El observador sabe que la distribución de la media muestral sigue una distribución t, y que el error estándar de la media (SEM) caracteriza el ancho de esa distribución.\n",
    "\n",
    "- ¿Qué probabilidad hay de que la media real tenga un valor de $x_0$ (ej, 6.5)? \n",
    "    - Para averiguarlo, el valor debe transformarse restando la media muestral y dividiendo por el error estándar \n",
    "    \n",
    "    $ t = \\frac{\\bar{x}-\\mu}{\\frac{s}{\\sqrt{n}}} = \\frac{\\bar{x}-\\mu}{SE} $)."
   ]
  },
  {
   "cell_type": "markdown",
   "id": "67165424",
   "metadata": {},
   "source": [
    "Esto proporciona el estadístico t para esta prueba (−1,93). \n",
    "\n",
    "- El valor p nos dice qué tan probable es que la media real tenga un valor extremo de 6.5 o más en relación con la media de la muestra: $2*CDF(estadistico~t) = 0.057$, lo que significa que la diferencia con 6.5 simplemente no es significativa. El factor \"2\" proviene del hecho de que tenemos que verificar en ambas colas y, por lo tanto, esta prueba se conoce como prueba t de 2 colas. \n",
    "\n",
    "- La probabilidad de encontrar un valor de 6.5 o menos es la mitad (p = 0.0285). Dado que en este caso solo buscamos en una cola de la distribución, esto se denomina prueba t de una cola."
   ]
  },
  {
   "cell_type": "code",
   "execution_count": 10,
   "id": "a9236ce6",
   "metadata": {},
   "outputs": [],
   "source": [
    "checkVal = 6.5"
   ]
  },
  {
   "cell_type": "code",
   "execution_count": 25,
   "id": "6c090e2a",
   "metadata": {},
   "outputs": [
    {
     "name": "stdout",
     "output_type": "stream",
     "text": [
      "El estadístico t para 6.5 es: -1.93.\n",
      "\n",
      "El estadístico t es: 1.93 y su valor-p es 0.057 para 2 colas.\n"
     ]
    }
   ],
   "source": [
    "# Definición de t\n",
    "tVal = (checkVal-meanVal) / sem\n",
    "print(f'El estadístico t para {checkVal} es: {tVal:1.2f}.\\n')\n",
    "\n",
    "# Compare esto con el resultado de la prueba t\n",
    "(tstatistic, pVal) = stats.ttest_1samp(data, checkVal)\n",
    "print(f'El estadístico t es: {tstatistic:1.2f} y su valor-p es {pVal:.3f} para 2 colas.')"
   ]
  },
  {
   "cell_type": "code",
   "execution_count": 26,
   "id": "4423f30e",
   "metadata": {},
   "outputs": [
    {
     "name": "stdout",
     "output_type": "stream",
     "text": [
      "El estadístico t es: 1.93 y su valor-p es 0.057 para 1 cola.\n"
     ]
    }
   ],
   "source": [
    "t_statistic, p_value_ttest = stats.ttest_1samp(data, checkVal, alternative='greater')\n",
    "print(f'El estadístico t es: {tstatistic:1.2f} y su valor-p es {pVal:.3f} para 1 cola.')"
   ]
  },
  {
   "cell_type": "code",
   "execution_count": 28,
   "id": "15b466c1",
   "metadata": {},
   "outputs": [
    {
     "data": {
      "image/png": "[encoded data removed]",
      "text/plain": [
       "<Figure size 640x480 with 2 Axes>"
      ]
     },
     "metadata": {},
     "output_type": "display_data"
    }
   ],
   "source": [
    "# Preparo el gráfico\n",
    "sns.set_context('notebook')\n",
    "sns.set_style('ticks')\n",
    "fig, axs = plt.subplots(1,2)\n",
    "#setFonts(14)\n",
    "\n",
    "# Gráfico izquierdo ------------------------------------\n",
    "# Trace el histograma de los datos, superpuesto con el ajuste normal\n",
    "xval = np.linspace(-5,20, 100)\n",
    "yval = stats.norm(meanVal,stdVal).pdf(xval)\n",
    "\n",
    "axs[0].hist(data, density=True, color='C0', alpha=0.1)\n",
    "axs[0].plot(xval, yval, 'C0', label='normal fit')\n",
    "axs[0].set_title('Datos registrados')\n",
    "axs[0].legend()\n",
    "\n",
    "# Marque el valor medio, así como el valor de interés\n",
    "axs[0].plot(meanVal, 0, marker='d', color='C0', ms=12, alpha=0.5)\n",
    "axs[0].plot(checkVal, 0, marker='d', color='C1', ms=12, alpha=0.5)\n",
    "axs[0].set_xlabel('Valores [x]')\n",
    "axs[0].set_ylabel('Densidad(x)')\n",
    "\n",
    "sns.despine()\n",
    "\n",
    "# Gráfico derecho ------------------------------------\n",
    "# La distribución t correspondiente\n",
    "xv2 = np.linspace(-4,4, 100)\n",
    "yv2 = stats.t(len(data)-1).pdf(xv2)\n",
    "\n",
    "\n",
    "tFill = yv2.copy()\n",
    "tFill[(xv2>-tstatistic) & (xv2<tstatistic)] = 0\n",
    "\n",
    "axs[1].plot(xv2, yv2, color='C1')\n",
    "axs[1].fill_between(xv2, tFill, color='C1', alpha=0.3, lw=0)\n",
    "axs[1].plot(tVal, 0, marker='d', color='C1', ms=12)\n",
    "axs[1].plot(0, 0, marker='d', color='C0', ms=12)\n",
    "axs[1].set_xlabel('Estadístico t')\n",
    "axs[1].set_title('Distribución t, df=n-1')\n",
    "axs[1].margins(y=0)\n",
    "# axs[1].legend(loc='upper right')\n",
    "\n",
    "sns.despine()\n",
    "\n",
    "plt.show()"
   ]
  },
  {
   "cell_type": "markdown",
   "id": "7032d21e",
   "metadata": {},
   "source": [
    "### b) Pingouin"
   ]
  },
  {
   "cell_type": "code",
   "execution_count": 30,
   "id": "481a6d88",
   "metadata": {},
   "outputs": [],
   "source": [
    "# Generamos los datos\n",
    "np.random.seed(12345)\n",
    "data = stats.norm(7,3).rvs(100)"
   ]
  },
  {
   "cell_type": "code",
   "execution_count": 31,
   "id": "88f57d23",
   "metadata": {},
   "outputs": [
    {
     "data": {
      "text/html": [
       "<div>\n",
       "<style scoped>\n",
       "    .dataframe tbody tr th:only-of-type {\n",
       "        vertical-align: middle;\n",
       "    }\n",
       "\n",
       "    .dataframe tbody tr th {\n",
       "        vertical-align: top;\n",
       "    }\n",
       "\n",
       "    .dataframe thead th {\n",
       "        text-align: right;\n",
       "    }\n",
       "</style>\n",
       "<table border=\"1\" class=\"dataframe\">\n",
       "  <thead>\n",
       "    <tr style=\"text-align: right;\">\n",
       "      <th></th>\n",
       "      <th>T</th>\n",
       "      <th>dof</th>\n",
       "      <th>alternative</th>\n",
       "      <th>p-val</th>\n",
       "      <th>CI95%</th>\n",
       "      <th>cohen-d</th>\n",
       "      <th>BF10</th>\n",
       "      <th>power</th>\n",
       "    </tr>\n",
       "  </thead>\n",
       "  <tbody>\n",
       "    <tr>\n",
       "      <th>T-test</th>\n",
       "      <td>1.925</td>\n",
       "      <td>99</td>\n",
       "      <td>two-sided</td>\n",
       "      <td>0.057</td>\n",
       "      <td>[6.48, 7.72]</td>\n",
       "      <td>0.193</td>\n",
       "      <td>0.651</td>\n",
       "      <td>0.479</td>\n",
       "    </tr>\n",
       "  </tbody>\n",
       "</table>\n",
       "</div>"
      ],
      "text/plain": [
       "            T  dof alternative  p-val         CI95%  cohen-d   BF10  power\n",
       "T-test  1.925   99   two-sided  0.057  [6.48, 7.72]    0.193  0.651  0.479"
      ]
     },
     "execution_count": 31,
     "metadata": {},
     "output_type": "execute_result"
    }
   ],
   "source": [
    "# Test T con pingouin\n",
    "result = pg.ttest(data, checkVal)\n",
    "result.round(3)"
   ]
  },
  {
   "cell_type": "code",
   "execution_count": 32,
   "id": "b42eb2da",
   "metadata": {},
   "outputs": [
    {
     "data": {
      "text/plain": [
       "T-test    1.925225\n",
       "Name: T, dtype: float64"
      ]
     },
     "execution_count": 32,
     "metadata": {},
     "output_type": "execute_result"
    }
   ],
   "source": [
    "result['T']"
   ]
  },
  {
   "cell_type": "code",
   "execution_count": 33,
   "id": "2db8ac02",
   "metadata": {},
   "outputs": [
    {
     "data": {
      "text/plain": [
       "T-test    0.057071\n",
       "Name: p-val, dtype: float64"
      ]
     },
     "execution_count": 33,
     "metadata": {},
     "output_type": "execute_result"
    }
   ],
   "source": [
    "result['p-val']"
   ]
  },
  {
   "cell_type": "markdown",
   "id": "2c09bf4e",
   "metadata": {},
   "source": [
    "T \n",
    "- Diferencia entre la media de la muestra y el valor de referencia, normalizada por el SEM \n",
    "\n",
    "dof\n",
    "- len(data)-1 \n",
    "\n",
    "tail \n",
    "- Por defecto se realiza una comparación bilateral, es decir, se comprueba si los datos son diferentes del valor de referencia. \n",
    "- Las comparaciones que usan alternative = 'greater' o alternative = 'less' emplean las comparaciones unilaterales correspondientes. \n",
    "    \n",
    "p-val \n",
    "- El área bajo la distribución T para valores T más extremos que el valor observado \n",
    "    \n",
    "IC95% \n",
    "- Intervalo de confianza del 95% alrededor de la media de la muestra. \n",
    "- Dado que en el ejemplo anterior esto incluye el valor de referencia (6.5), el resultado no es significativo. \n",
    "    \n",
    "cohen-d\n",
    "- Tamaño del efecto.\n",
    "- Diferencia entre la media de la muestra y el valor de referencia, normalizada por la desviación estándar de la muestra \n",
    "    \n",
    "BF10 (\"Factor de Bayes uno-cero\") \n",
    "- Una alternativa bayesiana a la prueba de hipótesis clásica. \n",
    "    \n",
    "potencia \n",
    "- Es el área bajo la curva de la distribución de probabilidad de la media muestral, fuera de los valores críticos (áreas sombreadas en la figura)."
   ]
  },
  {
   "cell_type": "code",
   "execution_count": 4,
   "id": "ad2a3a46",
   "metadata": {},
   "outputs": [
    {
     "data": {
      "image/png": "[encoded data removed]",
      "text/plain": [
       "<IPython.core.display.Image object>"
      ]
     },
     "execution_count": 4,
     "metadata": {},
     "output_type": "execute_result"
    }
   ],
   "source": [
    "Image(filename = 'Imagenes/7.7.png')"
   ]
  },
  {
   "cell_type": "markdown",
   "id": "97902776",
   "metadata": {},
   "source": [
    "Aquí esta distribución es una distribución T no central relativa al valor de referencia."
   ]
  },
  {
   "cell_type": "markdown",
   "id": "acdb01e8",
   "metadata": {},
   "source": [
    "Análisis de un grupo de datos \n",
    "- Usar una prueba t para una sola media \n",
    "- Usar una prueba no paramétrica (suma de rango con signo de Wilcoxon) para verificar una sola media \n",
    "- Comparar los valores de la distribución t con los de una distribución normal"
   ]
  },
  {
   "cell_type": "code",
   "execution_count": 37,
   "id": "daebf15f",
   "metadata": {},
   "outputs": [
    {
     "name": "stdout",
     "output_type": "stream",
     "text": [
      "La media es: 6753.636363636364.\n",
      "\n",
      "La desviación estándar es: 1142.1232221373727.\n",
      "\n",
      "El intervalo de confianza es: [5986.35 - 7520.93].\n",
      "\n",
      "7725 es significativamente diferente de la media (p=0.018).\n",
      "\n",
      "Es improbable que el valor sea 7725.\n"
     ]
    }
   ],
   "source": [
    "# Datos\n",
    "inFile = 'Datos/altman_91.txt'\n",
    "data = np.genfromtxt(inFile, delimiter=',')\n",
    "\n",
    "# Cuidado: por defecto, la desviación estándar en numpy se calcula con ddof=0, correspondiente a 1/N!\n",
    "myMean = np.mean(data)\n",
    "mySD = np.std(data, ddof=1)     # desviación estándar de la muestra\n",
    "print(f'La media es: {myMean}.\\n')\n",
    "print(f'La desviación estándar es: {mySD}.\\n')\n",
    "\n",
    "# Intervalos de confianza\n",
    "tf = stats.t(len(data)-1)\n",
    "# multiplicación con np.array[-1,1]  es un buen truco para implementar \"+/-\"\n",
    "ci = myMean + stats.sem(data)*np.array([-1,1])*tf.ppf(0.975)\n",
    "print(f'El intervalo de confianza es: [{ci[0]:4.2f} - {ci[1]:4.2f}].\\n')\n",
    "\n",
    "# Compruebe si hay una diferencia significativa en relación con \"checkValue\"\n",
    "checkValue = 7725\n",
    "\n",
    "t, prob = stats.ttest_1samp(data, checkValue)\n",
    "if prob < 0.05:\n",
    "    print(f'{checkValue} es significativamente diferente de la media (p={prob:.3f}).\\n')\n",
    "\n",
    "# Para datos que no se distribuyen normalmente, use la prueba de suma de rango con signo de Wilcoxon\n",
    "(rank, pVal) = stats.wilcoxon(data-checkValue)\n",
    "if pVal < 0.05:\n",
    "    issignificant = 'improbable'\n",
    "else:\n",
    "    issignificant = 'probable'\n",
    "\n",
    "print(f'Es {issignificant} que el valor sea {checkValue}.')"
   ]
  },
  {
   "cell_type": "code",
   "execution_count": 38,
   "id": "4ccf7e3d",
   "metadata": {},
   "outputs": [],
   "source": [
    "from pprint import pprint"
   ]
  },
  {
   "cell_type": "code",
   "execution_count": 39,
   "id": "ddee8088",
   "metadata": {},
   "outputs": [
    {
     "name": "stdout",
     "output_type": "stream",
     "text": [
      "{'ci': array([6.48158937, 7.72009696]),\n",
      " 'd': 0.19252254884316808,\n",
      " 'dof': 99,\n",
      " 'p_val': 0.05707107880872914,\n",
      " 'power': 0.47875082678530345,\n",
      " 't_val': 1.9252254884316808}\n"
     ]
    }
   ],
   "source": [
    "# Generamos los datos\n",
    "np.random.seed(12345)\n",
    "n = 100\n",
    "data = stats.norm(7,3).rvs(n)\n",
    "\n",
    "# Parámetros de análisis\n",
    "c = 6.5\n",
    "alpha = 0.05\n",
    "\n",
    "# Parámetros estándar\n",
    "mean = np.mean(data)\n",
    "sem = stats.sem(data) # Poblacional\n",
    "std = np.std(data, ddof=1) # Muestral\n",
    "dof = n - 1\n",
    "\n",
    "h1 = stats.t(df = len(data)-1, loc = mean, scale = sem)\n",
    "\n",
    "# Reproducir los resultados de la prueba T de pingouin\n",
    "results = {}\n",
    "\n",
    "results['dof'] = dof\n",
    "results['t_val'] = (mean-c)/sem\n",
    "results['d'] = (mean-c)/np.std(data, ddof=1)\n",
    "\n",
    "tc = stats.t(dof).isf(alpha/2)\n",
    "results['p_val'] = stats.t(dof).sf(results['t_val'])*2\n",
    "\n",
    "results['ci'] = h1.ppf([alpha/2, 1-alpha/2])\n",
    "\n",
    "# Cálculo de potencia\n",
    "nct = stats.nct(df = dof, nc = (mean-c)/sem)\n",
    "results['power'] = nct.sf(tc) + nct.cdf(-tc)\n",
    "\n",
    "pprint(results)"
   ]
  },
  {
   "cell_type": "markdown",
   "id": "9aaa9b6e",
   "metadata": {},
   "source": [
    "Diferencia entre la distribución t y la distribución normal"
   ]
  },
  {
   "cell_type": "code",
   "execution_count": 40,
   "id": "0fd9d425",
   "metadata": {},
   "outputs": [
    {
     "name": "stdout",
     "output_type": "stream",
     "text": [
      "La probabilidad de la prueba t es 0.0571, y de la distribución normal 0.0542.\n"
     ]
    }
   ],
   "source": [
    "# Generamos los datos\n",
    "np.random.seed(12345)\n",
    "normDist = stats.norm(loc=7, scale=3)\n",
    "data = normDist.rvs(100)\n",
    "checkVal = 6.5\n",
    "\n",
    "# Test T\n",
    "t, tProb = stats.ttest_1samp(data, checkVal)\n",
    "\n",
    "# Comparación con la distribución normal correspondiente\n",
    "mmean = np.mean(data)\n",
    "mstd = np.std(data, ddof=1)\n",
    "normProb = stats.norm.cdf(checkVal, loc=mmean,\n",
    "                          scale=mstd/np.sqrt(len(data)))*2\n",
    "\n",
    "# Comparamos\n",
    "print(f'La probabilidad de la prueba t es {tProb:.4f}, y de la distribución normal {normProb:.4f}.')"
   ]
  },
  {
   "cell_type": "markdown",
   "id": "3d63a18e",
   "metadata": {},
   "source": [
    "## 8.1.2 Prueba de la suma de rangos con signo de Wilcoxon"
   ]
  },
  {
   "cell_type": "markdown",
   "id": "05a8130c",
   "metadata": {},
   "source": [
    "Si los datos no se distribuyen normalmente, no se debe usar la prueba t de una muestra, aunque esta prueba es bastante sólida frente a las desviaciones de la normalidad"
   ]
  },
  {
   "cell_type": "code",
   "execution_count": 41,
   "id": "b5f04fbd",
   "metadata": {},
   "outputs": [
    {
     "data": {
      "image/png": "[encoded data removed]",
      "text/plain": [
       "<IPython.core.display.Image object>"
      ]
     },
     "execution_count": 41,
     "metadata": {},
     "output_type": "execute_result"
    }
   ],
   "source": [
    "Image(filename = 'Imagenes/6.17.png')"
   ]
  },
  {
   "cell_type": "markdown",
   "id": "fa6ded97",
   "metadata": {},
   "source": [
    "En su lugar, debemos utilizar una prueba no paramétrica sobre el valor medio. \n",
    "\n",
    "Podemos hacer esto realizando una prueba de suma de rango con signo de Wilcoxon. \n",
    "\n",
    "Tenga en cuenta que, a diferencia de la prueba t de una muestra, esta prueba verifica una diferencia de nulo:\n",
    "\n",
    "Consta de 3 pasos:\n",
    "\n",
    "1. Calcular la diferencia entre cada observación y el valor de interés. \n",
    "\n",
    "2. Ignorando los signos de las diferencias, ubíquelos en orden de magnitud. \n",
    "\n",
    "3. Calcular la suma de los rangos de todos los rangos negativos (o positivos), correspondientes a las observaciones por debajo (o por encima) del valor hipotético elegido.\n",
    "\n",
    "Ej: se prueba la importancia de una desviación del valor de 7725.\n",
    "\n",
    "| Sujeto | Ingesta diaria de energía (kJ) | Diferencia de 7725 kJ | Rangos de diferencias |\n",
    "|---|---|---|---|\n",
    "| 1 | 5260 | 2465 | 11 |\n",
    "| 2 | 5470 | 2255 | 10 |\n",
    "| 3 | 5640 | 2085 | 9 |\n",
    "| 4 | 6180 | 1545 | 8 |\n",
    "| 5 | 6390 | 1335 | 7 |\n",
    "| 6 | 6515 | 1210 | 6 |\n",
    "| 7 | 6805 | 920 | 4 |\n",
    "| 8 | 7515 | 210 | 1.5 |\n",
    "| 9 | 7515 | 210 | 1.5 |\n",
    "| 10 | 8230 | −505 | 3 |\n",
    "| 11 | 8770 | −1045 | 5 |\n",
    "\n",
    "La suma de rangos de los valores negativos da 3 + 5 = 8, y se puede buscar en las tablas correspondientes para que sean significativos. \n",
    "\n",
    "Los valores empatados (7515) obtienen su rango medio (1.5)."
   ]
  },
  {
   "cell_type": "code",
   "execution_count": 42,
   "id": "c81a31c4",
   "metadata": {},
   "outputs": [],
   "source": [
    "# Datos\n",
    "inFile = 'Datos/altman_91.txt'\n",
    "data = np.genfromtxt(inFile, delimiter=',')"
   ]
  },
  {
   "cell_type": "code",
   "execution_count": 43,
   "id": "d0568d90",
   "metadata": {},
   "outputs": [],
   "source": [
    "# Compruebe si hay una diferencia significativa en relación con \"checkValue\"\n",
    "checkValue = 7725"
   ]
  },
  {
   "cell_type": "code",
   "execution_count": 44,
   "id": "b3829ef5",
   "metadata": {},
   "outputs": [
    {
     "name": "stdout",
     "output_type": "stream",
     "text": [
      "Es improbable que el valor sea 7725.\n"
     ]
    }
   ],
   "source": [
    "# Para datos que no se distribuyen normalmente, use la prueba de suma de rango con signo de Wilcoxon\n",
    "(rank, pVal) = stats.wilcoxon(data-checkValue)\n",
    "if pVal < 0.05:\n",
    "    issignificant = 'improbable'\n",
    "else:\n",
    "    issignificant = 'probable'\n",
    "\n",
    "print(f'Es {issignificant} que el valor sea {checkValue}.')"
   ]
  },
  {
   "cell_type": "code",
   "execution_count": 45,
   "id": "145e18cf",
   "metadata": {},
   "outputs": [
    {
     "data": {
      "text/plain": [
       "8.0"
      ]
     },
     "execution_count": 45,
     "metadata": {},
     "output_type": "execute_result"
    }
   ],
   "source": [
    "rank"
   ]
  },
  {
   "cell_type": "code",
   "execution_count": 46,
   "id": "64ab32a0",
   "metadata": {},
   "outputs": [
    {
     "data": {
      "text/plain": [
       "0.0244140625"
      ]
     },
     "execution_count": 46,
     "metadata": {},
     "output_type": "execute_result"
    }
   ],
   "source": [
    "pVal"
   ]
  },
  {
   "cell_type": "markdown",
   "id": "d614699d",
   "metadata": {},
   "source": [
    "### a) Pingouin "
   ]
  },
  {
   "cell_type": "markdown",
   "id": "5bbf0bc5",
   "metadata": {},
   "source": [
    "Para las pruebas no paramétricas, la \"potencia\" y el valor \"BF10\" no están definidos. \n",
    "\n",
    "Para tales pruebas, pingouin devuelve los siguientes valores: \n",
    "\n",
    "- CLES (\"tamaño del efecto del lenguaje común\") \n",
    "    - Probabilidad de que una puntuación seleccionada al azar de una población sea mayor que una puntuación de una muestra aleatoria de la otra población.\n",
    "- RBC (“correlación biserial de rango”) \n",
    "    - Otra forma de caracterizar el tamaño del efecto para variables continuas que no se distribuyen normalmente. \n",
    "    - Relacionado con el CLES.\n",
    "\n",
    "result = pg.wilcoxon(data, checkValue*np.ones_like(data))"
   ]
  },
  {
   "cell_type": "code",
   "execution_count": 47,
   "id": "84017d2e",
   "metadata": {},
   "outputs": [
    {
     "data": {
      "text/html": [
       "<div>\n",
       "<style scoped>\n",
       "    .dataframe tbody tr th:only-of-type {\n",
       "        vertical-align: middle;\n",
       "    }\n",
       "\n",
       "    .dataframe tbody tr th {\n",
       "        vertical-align: top;\n",
       "    }\n",
       "\n",
       "    .dataframe thead th {\n",
       "        text-align: right;\n",
       "    }\n",
       "</style>\n",
       "<table border=\"1\" class=\"dataframe\">\n",
       "  <thead>\n",
       "    <tr style=\"text-align: right;\">\n",
       "      <th></th>\n",
       "      <th>W-val</th>\n",
       "      <th>alternative</th>\n",
       "      <th>p-val</th>\n",
       "      <th>RBC</th>\n",
       "      <th>CLES</th>\n",
       "    </tr>\n",
       "  </thead>\n",
       "  <tbody>\n",
       "    <tr>\n",
       "      <th>Wilcoxon</th>\n",
       "      <td>8.0</td>\n",
       "      <td>two-sided</td>\n",
       "      <td>0.024414</td>\n",
       "      <td>-0.757576</td>\n",
       "      <td>NaN</td>\n",
       "    </tr>\n",
       "  </tbody>\n",
       "</table>\n",
       "</div>"
      ],
      "text/plain": [
       "          W-val alternative     p-val       RBC  CLES\n",
       "Wilcoxon    8.0   two-sided  0.024414 -0.757576   NaN"
      ]
     },
     "execution_count": 47,
     "metadata": {},
     "output_type": "execute_result"
    }
   ],
   "source": [
    "# Prueba de suma de rangos con signo de Wilcoxon\n",
    "result = pg.wilcoxon(data - checkValue)\n",
    "result"
   ]
  },
  {
   "cell_type": "markdown",
   "id": "65ee7906",
   "metadata": {},
   "source": [
    "# 8.2 Comparación de 2 grupos"
   ]
  },
  {
   "cell_type": "markdown",
   "id": "c7ea024c",
   "metadata": {},
   "source": [
    "## 8.2.1 Prueba T pareada"
   ]
  },
  {
   "cell_type": "markdown",
   "id": "5e4fdd27",
   "metadata": {},
   "source": [
    "Se comparan entre sí 2 valores registrados del mismo sujeto en momentos diferentes. \n",
    "- Ej: el tamaño de los estudiantes cuando ingresan a la escuela primaria y después de su primer año, para verificar si han crecido."
   ]
  },
  {
   "cell_type": "code",
   "execution_count": 48,
   "id": "8f310c12",
   "metadata": {},
   "outputs": [
    {
     "data": {
      "image/png": "[encoded data removed]",
      "text/plain": [
       "<Figure size 640x480 with 1 Axes>"
      ]
     },
     "metadata": {},
     "output_type": "display_data"
    }
   ],
   "source": [
    "# Generamos los datos \n",
    "x = np.r_[3, 1.5, 4, 6, 3, 2]\n",
    "dx = np.r_[0.1, 0.3, 0.2, 0.2, 0.3, 0.25]\n",
    "xs = x-dx\n",
    "index = range(len(x))\n",
    "\n",
    "# Grafico\n",
    "#setFonts(20)\n",
    "plt.plot(x, 'o', ms=10, label='pre')\n",
    "plt.plot(xs, 'r*', ms=12, label='post')\n",
    "plt.bar(index, dx, width=0.5, align='center',\n",
    "        color=0.75*np.ones(3), label='pre-post')\n",
    "\n",
    "\n",
    "plt.legend(loc='upper left')\n",
    "plt.axhline(0, ls='--')\n",
    "plt.xlim(-0.3, 5.3)\n",
    "plt.ylim(-0.2, 6.2)\n",
    "plt.xlabel('Subject Nr')\n",
    "plt.ylabel('Value')\n",
    "plt.tight_layout()\n",
    "\n",
    "plt.show()"
   ]
  },
  {
   "cell_type": "code",
   "execution_count": 49,
   "id": "cc000a34",
   "metadata": {},
   "outputs": [
    {
     "name": "stdout",
     "output_type": "stream",
     "text": [
      "Una comparación pareada produce p = 0.0008, mientras que una prueba T no pareada nos da p = 0.815\n"
     ]
    }
   ],
   "source": [
    "# Valores P para pruebas T pareadas y no pareadas\n",
    "_, p_paired = stats.ttest_rel(x, xs)\n",
    "_, p_ind = stats.ttest_ind(x, xs)\n",
    "\n",
    "print(f'Una comparación pareada produce p = {p_paired:.4f}, mientras que una prueba T no pareada nos da p = {p_ind:.3f}')"
   ]
  },
  {
   "cell_type": "markdown",
   "id": "3c566c6d",
   "metadata": {},
   "source": [
    "Dado que solo estamos interesados en la diferencia en cada sujeto entre la primera y la segunda medición, esta prueba se denomina prueba t pareada y es esencialmente equivalente a una prueba t de una muestra para la diferencia de medias. \n",
    "\n",
    "Por lo tanto, las dos pruebas stats.ttest_1samp y stats.ttest_rel proporcionan el mismo resultado (hay una diferencia mínima):"
   ]
  },
  {
   "cell_type": "code",
   "execution_count": 50,
   "id": "0e6ec4e9",
   "metadata": {},
   "outputs": [
    {
     "data": {
      "text/plain": [
       "array([  6.32161379,   3.86875442,   6.29932761, -10.318926  ,\n",
       "        -2.29097556,   0.99775476,   2.98685547,   0.9089362 ,\n",
       "         6.72148733,  -9.87721272])"
      ]
     },
     "execution_count": 50,
     "metadata": {},
     "output_type": "execute_result"
    }
   ],
   "source": [
    "np.random.seed(1234)\n",
    "\n",
    "diffs = np.random.randn(10) + 0.1\n",
    "data_1 = np.random.randn(10) * 5 \n",
    "data_2 = data_1 + diffs # misma diferencia de grupo que 'diffs'\n",
    "\n",
    "data_2"
   ]
  },
  {
   "cell_type": "code",
   "execution_count": 52,
   "id": "4777f504",
   "metadata": {},
   "outputs": [
    {
     "data": {
      "text/plain": [
       "TtestResult(statistic=-0.12458492298731401, pvalue=0.9035904508547086, df=9)"
      ]
     },
     "execution_count": 52,
     "metadata": {},
     "output_type": "execute_result"
    }
   ],
   "source": [
    "stats.ttest_1samp(diffs, 0)"
   ]
  },
  {
   "cell_type": "code",
   "execution_count": 53,
   "id": "8403e9c7",
   "metadata": {},
   "outputs": [
    {
     "data": {
      "text/plain": [
       "TtestResult(statistic=-0.12458492298731347, pvalue=0.9035904508547089, df=9)"
      ]
     },
     "execution_count": 53,
     "metadata": {},
     "output_type": "execute_result"
    }
   ],
   "source": [
    "stats.ttest_rel(data_2, data_1)"
   ]
  },
  {
   "cell_type": "markdown",
   "id": "c751a7c2",
   "metadata": {},
   "source": [
    "## 8.2.2 Prueba T entre grupos independientes"
   ]
  },
  {
   "cell_type": "markdown",
   "id": "899fe816",
   "metadata": {},
   "source": [
    "Una prueba t no pareada, o prueba t para 2 grupos independientes, compara 2 grupos. \n",
    "\n",
    "Ej: comparación del efecto de 2 medicamentos administrados a 2 grupos diferentes de pacientes. \n",
    "\n",
    "La idea básica es la misma que para la prueba t de una muestra. Pero en lugar de la varianza de la media, necesitamos la varianza de la diferencia entre las medias de los 2 grupos. \n",
    "\n",
    "Dado que la varianza de una suma (o diferencia) de variables aleatorias independientes es igual a la suma de las varianzas, tenemos\n",
    "\n",
    "$ sd(\\bar{x_1} \\pm \\bar{x_2}) = \\sqrt{var(\\bar{x_1}) + var(\\bar{x_2})} $\n",
    "\n",
    "= $ \\sqrt{\\{sd(\\bar{x_1}\\}^2 + \\{sd(\\bar{x_1}\\}^2} $\n",
    "\n",
    "= $ \\sqrt{\\frac{s_1^2}{n_1} + \\frac{s_2^2}{n_2}} $\n",
    "\n",
    "donde $ \\bar{x_i} $ es la media de la i-ésima muestra, y $ sd(\\bar{x}) indica aquí el error estándar de la media."
   ]
  },
  {
   "cell_type": "code",
   "execution_count": 54,
   "id": "1419fb56",
   "metadata": {},
   "outputs": [],
   "source": [
    "t_statistic, pVal = stats.ttest_ind(data_1, data_2)"
   ]
  },
  {
   "cell_type": "code",
   "execution_count": 55,
   "id": "aff14b4c",
   "metadata": {},
   "outputs": [
    {
     "data": {
      "text/plain": [
       "0.016280259660677216"
      ]
     },
     "execution_count": 55,
     "metadata": {},
     "output_type": "execute_result"
    }
   ],
   "source": [
    "t_statistic"
   ]
  },
  {
   "cell_type": "code",
   "execution_count": 56,
   "id": "1d00dac8",
   "metadata": {},
   "outputs": [
    {
     "data": {
      "text/plain": [
       "0.9871899046495229"
      ]
     },
     "execution_count": 56,
     "metadata": {},
     "output_type": "execute_result"
    }
   ],
   "source": [
    "pVal"
   ]
  },
  {
   "cell_type": "markdown",
   "id": "b697f344",
   "metadata": {},
   "source": [
    "## 8.2.3 Pruebas T con Pingouin"
   ]
  },
  {
   "cell_type": "code",
   "execution_count": 60,
   "id": "237df707",
   "metadata": {},
   "outputs": [
    {
     "data": {
      "text/plain": [
       "TtestResult(statistic=19.593087062591213, pvalue=2.6234726029998787e-09, df=10)"
      ]
     },
     "execution_count": 60,
     "metadata": {},
     "output_type": "execute_result"
    }
   ],
   "source": [
    "# Test T de una muestra\n",
    "stats.ttest_1samp(data, checkVal)"
   ]
  },
  {
   "cell_type": "code",
   "execution_count": 61,
   "id": "34599c05",
   "metadata": {},
   "outputs": [
    {
     "data": {
      "text/html": [
       "<div>\n",
       "<style scoped>\n",
       "    .dataframe tbody tr th:only-of-type {\n",
       "        vertical-align: middle;\n",
       "    }\n",
       "\n",
       "    .dataframe tbody tr th {\n",
       "        vertical-align: top;\n",
       "    }\n",
       "\n",
       "    .dataframe thead th {\n",
       "        text-align: right;\n",
       "    }\n",
       "</style>\n",
       "<table border=\"1\" class=\"dataframe\">\n",
       "  <thead>\n",
       "    <tr style=\"text-align: right;\">\n",
       "      <th></th>\n",
       "      <th>T</th>\n",
       "      <th>dof</th>\n",
       "      <th>alternative</th>\n",
       "      <th>p-val</th>\n",
       "      <th>CI95%</th>\n",
       "      <th>cohen-d</th>\n",
       "      <th>BF10</th>\n",
       "      <th>power</th>\n",
       "    </tr>\n",
       "  </thead>\n",
       "  <tbody>\n",
       "    <tr>\n",
       "      <th>T-test</th>\n",
       "      <td>19.593087</td>\n",
       "      <td>10</td>\n",
       "      <td>two-sided</td>\n",
       "      <td>2.623473e-09</td>\n",
       "      <td>[5986.35, 7520.93]</td>\n",
       "      <td>5.907538</td>\n",
       "      <td>3.192e+06</td>\n",
       "      <td>1.0</td>\n",
       "    </tr>\n",
       "  </tbody>\n",
       "</table>\n",
       "</div>"
      ],
      "text/plain": [
       "                T  dof alternative         p-val               CI95%  \\\n",
       "T-test  19.593087   10   two-sided  2.623473e-09  [5986.35, 7520.93]   \n",
       "\n",
       "         cohen-d       BF10  power  \n",
       "T-test  5.907538  3.192e+06    1.0  "
      ]
     },
     "execution_count": 61,
     "metadata": {},
     "output_type": "execute_result"
    }
   ],
   "source": [
    "pg.ttest(data, checkVal)"
   ]
  },
  {
   "cell_type": "code",
   "execution_count": 62,
   "id": "59fad7d5",
   "metadata": {},
   "outputs": [
    {
     "data": {
      "text/plain": [
       "Ttest_indResult(statistic=0.016280259660677216, pvalue=0.9871899046495229)"
      ]
     },
     "execution_count": 62,
     "metadata": {},
     "output_type": "execute_result"
    }
   ],
   "source": [
    "# Test T no pareada\n",
    "stats.ttest_ind(data_1, data_2)"
   ]
  },
  {
   "cell_type": "code",
   "execution_count": 63,
   "id": "580d7a47",
   "metadata": {},
   "outputs": [
    {
     "data": {
      "text/html": [
       "<div>\n",
       "<style scoped>\n",
       "    .dataframe tbody tr th:only-of-type {\n",
       "        vertical-align: middle;\n",
       "    }\n",
       "\n",
       "    .dataframe tbody tr th {\n",
       "        vertical-align: top;\n",
       "    }\n",
       "\n",
       "    .dataframe thead th {\n",
       "        text-align: right;\n",
       "    }\n",
       "</style>\n",
       "<table border=\"1\" class=\"dataframe\">\n",
       "  <thead>\n",
       "    <tr style=\"text-align: right;\">\n",
       "      <th></th>\n",
       "      <th>T</th>\n",
       "      <th>dof</th>\n",
       "      <th>alternative</th>\n",
       "      <th>p-val</th>\n",
       "      <th>CI95%</th>\n",
       "      <th>cohen-d</th>\n",
       "      <th>BF10</th>\n",
       "      <th>power</th>\n",
       "    </tr>\n",
       "  </thead>\n",
       "  <tbody>\n",
       "    <tr>\n",
       "      <th>T-test</th>\n",
       "      <td>0.01628</td>\n",
       "      <td>18</td>\n",
       "      <td>two-sided</td>\n",
       "      <td>0.98719</td>\n",
       "      <td>[-5.59, 5.68]</td>\n",
       "      <td>0.007281</td>\n",
       "      <td>0.397</td>\n",
       "      <td>0.050027</td>\n",
       "    </tr>\n",
       "  </tbody>\n",
       "</table>\n",
       "</div>"
      ],
      "text/plain": [
       "              T  dof alternative    p-val          CI95%   cohen-d   BF10  \\\n",
       "T-test  0.01628   18   two-sided  0.98719  [-5.59, 5.68]  0.007281  0.397   \n",
       "\n",
       "           power  \n",
       "T-test  0.050027  "
      ]
     },
     "execution_count": 63,
     "metadata": {},
     "output_type": "execute_result"
    }
   ],
   "source": [
    "pg.ttest(data_1, data_2)"
   ]
  },
  {
   "cell_type": "code",
   "execution_count": 64,
   "id": "c8ee19e3",
   "metadata": {},
   "outputs": [
    {
     "data": {
      "text/plain": [
       "TtestResult(statistic=0.12458492298731347, pvalue=0.9035904508547089, df=9)"
      ]
     },
     "execution_count": 64,
     "metadata": {},
     "output_type": "execute_result"
    }
   ],
   "source": [
    "# Test T pareada\n",
    "stats.ttest_rel(data_1, data_2)"
   ]
  },
  {
   "cell_type": "code",
   "execution_count": 65,
   "id": "0d79daa5",
   "metadata": {},
   "outputs": [
    {
     "data": {
      "text/html": [
       "<div>\n",
       "<style scoped>\n",
       "    .dataframe tbody tr th:only-of-type {\n",
       "        vertical-align: middle;\n",
       "    }\n",
       "\n",
       "    .dataframe tbody tr th {\n",
       "        vertical-align: top;\n",
       "    }\n",
       "\n",
       "    .dataframe thead th {\n",
       "        text-align: right;\n",
       "    }\n",
       "</style>\n",
       "<table border=\"1\" class=\"dataframe\">\n",
       "  <thead>\n",
       "    <tr style=\"text-align: right;\">\n",
       "      <th></th>\n",
       "      <th>T</th>\n",
       "      <th>dof</th>\n",
       "      <th>alternative</th>\n",
       "      <th>p-val</th>\n",
       "      <th>CI95%</th>\n",
       "      <th>cohen-d</th>\n",
       "      <th>BF10</th>\n",
       "      <th>power</th>\n",
       "    </tr>\n",
       "  </thead>\n",
       "  <tbody>\n",
       "    <tr>\n",
       "      <th>T-test</th>\n",
       "      <td>0.124585</td>\n",
       "      <td>9</td>\n",
       "      <td>two-sided</td>\n",
       "      <td>0.90359</td>\n",
       "      <td>[-0.75, 0.84]</td>\n",
       "      <td>0.007281</td>\n",
       "      <td>0.311</td>\n",
       "      <td>0.050049</td>\n",
       "    </tr>\n",
       "  </tbody>\n",
       "</table>\n",
       "</div>"
      ],
      "text/plain": [
       "               T  dof alternative    p-val          CI95%   cohen-d   BF10  \\\n",
       "T-test  0.124585    9   two-sided  0.90359  [-0.75, 0.84]  0.007281  0.311   \n",
       "\n",
       "           power  \n",
       "T-test  0.050049  "
      ]
     },
     "execution_count": 65,
     "metadata": {},
     "output_type": "execute_result"
    }
   ],
   "source": [
    "pg.ttest(data_1, data_2, paired=True)"
   ]
  },
  {
   "cell_type": "markdown",
   "id": "e176c88f",
   "metadata": {},
   "source": [
    "## 8.2.4 Comparación no paramétrica de 2 grupos: prueba de Mann-Whitney"
   ]
  },
  {
   "cell_type": "markdown",
   "id": "f8a70298",
   "metadata": {},
   "source": [
    "Si los valores de medición de 2 grupos no se distribuyen normalmente, tenemos que recurrir a una prueba no paramétrica. \n",
    "\n",
    "La más común para la comparación de 2 grupos independientes es la prueba de Mann-Whitney (-Wilcoxon). \n",
    "\n",
    "Esta prueba también se conoce como prueba de suma de rangos de Wilcoxon. ¡Esto es diferente de la prueba de suma de rangos con signo de Wilcoxon! \n",
    "\n",
    "El estadístico de prueba se indica comúnmente con u:"
   ]
  },
  {
   "cell_type": "code",
   "execution_count": 66,
   "id": "1f70618a",
   "metadata": {},
   "outputs": [],
   "source": [
    "# Con scipy.stats\n",
    "u_statistic, pVal = stats.mannwhitneyu(data_1, data_2)"
   ]
  },
  {
   "cell_type": "code",
   "execution_count": 67,
   "id": "dd2fb0b6",
   "metadata": {},
   "outputs": [
    {
     "data": {
      "text/plain": [
       "49.0"
      ]
     },
     "execution_count": 67,
     "metadata": {},
     "output_type": "execute_result"
    }
   ],
   "source": [
    "u_statistic"
   ]
  },
  {
   "cell_type": "code",
   "execution_count": 68,
   "id": "696c0b9d",
   "metadata": {},
   "outputs": [
    {
     "data": {
      "text/plain": [
       "0.9698499769931556"
      ]
     },
     "execution_count": 68,
     "metadata": {},
     "output_type": "execute_result"
    }
   ],
   "source": [
    "pVal"
   ]
  },
  {
   "cell_type": "code",
   "execution_count": 69,
   "id": "c2c607a7",
   "metadata": {},
   "outputs": [
    {
     "data": {
      "text/html": [
       "<div>\n",
       "<style scoped>\n",
       "    .dataframe tbody tr th:only-of-type {\n",
       "        vertical-align: middle;\n",
       "    }\n",
       "\n",
       "    .dataframe tbody tr th {\n",
       "        vertical-align: top;\n",
       "    }\n",
       "\n",
       "    .dataframe thead th {\n",
       "        text-align: right;\n",
       "    }\n",
       "</style>\n",
       "<table border=\"1\" class=\"dataframe\">\n",
       "  <thead>\n",
       "    <tr style=\"text-align: right;\">\n",
       "      <th></th>\n",
       "      <th>U-val</th>\n",
       "      <th>alternative</th>\n",
       "      <th>p-val</th>\n",
       "      <th>RBC</th>\n",
       "      <th>CLES</th>\n",
       "    </tr>\n",
       "  </thead>\n",
       "  <tbody>\n",
       "    <tr>\n",
       "      <th>MWU</th>\n",
       "      <td>49.0</td>\n",
       "      <td>two-sided</td>\n",
       "      <td>0.96985</td>\n",
       "      <td>0.02</td>\n",
       "      <td>0.49</td>\n",
       "    </tr>\n",
       "  </tbody>\n",
       "</table>\n",
       "</div>"
      ],
      "text/plain": [
       "     U-val alternative    p-val   RBC  CLES\n",
       "MWU   49.0   two-sided  0.96985  0.02  0.49"
      ]
     },
     "execution_count": 69,
     "metadata": {},
     "output_type": "execute_result"
    }
   ],
   "source": [
    "# Con pingouin\n",
    "results = pg.mwu(data_1, data_2)\n",
    "results"
   ]
  },
  {
   "cell_type": "markdown",
   "id": "d1c60984",
   "metadata": {},
   "source": [
    "Comparación de 2 grupos\n",
    "- Análisis de datos pareados\n",
    "- Análisis de datos no apareados"
   ]
  },
  {
   "cell_type": "markdown",
   "id": "d9e3c689",
   "metadata": {},
   "source": [
    "Análisis de datos pareados: compare la ingesta diaria media durante 10 días premenstruales y 10 días posmenstruales (en kJ)."
   ]
  },
  {
   "cell_type": "code",
   "execution_count": 3,
   "id": "fd4aedb4",
   "metadata": {},
   "outputs": [
    {
     "data": {
      "text/plain": [
       "array([[5260., 3910.],\n",
       "       [5470., 4220.],\n",
       "       [5640., 3885.],\n",
       "       [6180., 5160.],\n",
       "       [6390., 5645.],\n",
       "       [6515., 4680.],\n",
       "       [6805., 5265.],\n",
       "       [7515., 5975.],\n",
       "       [7515., 6790.],\n",
       "       [8230., 6900.],\n",
       "       [8770., 7335.]])"
      ]
     },
     "execution_count": 3,
     "metadata": {},
     "output_type": "execute_result"
    }
   ],
   "source": [
    "# Obtenga los datos: ingesta diaria de energía en kJ para 11 mujeres\n",
    "inFile = r'Datos/altman_93.txt'\n",
    "data = np.genfromtxt(inFile, delimiter=',')\n",
    "data"
   ]
  },
  {
   "cell_type": "code",
   "execution_count": 4,
   "id": "b0622064",
   "metadata": {},
   "outputs": [
    {
     "data": {
      "text/plain": [
       "array([6753.63636364, 5433.18181818])"
      ]
     },
     "execution_count": 4,
     "metadata": {},
     "output_type": "execute_result"
    }
   ],
   "source": [
    "np.mean(data, axis=0)"
   ]
  },
  {
   "cell_type": "code",
   "execution_count": 5,
   "id": "7218d154",
   "metadata": {},
   "outputs": [
    {
     "data": {
      "text/plain": [
       "array([1142.12322214, 1216.83251257])"
      ]
     },
     "execution_count": 5,
     "metadata": {},
     "output_type": "execute_result"
    }
   ],
   "source": [
    "np.std(data, axis=0, ddof=1)"
   ]
  },
  {
   "cell_type": "code",
   "execution_count": 6,
   "id": "7282d3f4",
   "metadata": {},
   "outputs": [
    {
     "data": {
      "text/plain": [
       "array([5260., 5470., 5640., 6180., 6390., 6515., 6805., 7515., 7515.,\n",
       "       8230., 8770.])"
      ]
     },
     "execution_count": 6,
     "metadata": {},
     "output_type": "execute_result"
    }
   ],
   "source": [
    "pre = data[:,0]\n",
    "pre"
   ]
  },
  {
   "cell_type": "code",
   "execution_count": 7,
   "id": "8e48c8c1",
   "metadata": {},
   "outputs": [
    {
     "data": {
      "text/plain": [
       "array([3910., 4220., 3885., 5160., 5645., 4680., 5265., 5975., 6790.,\n",
       "       6900., 7335.])"
      ]
     },
     "execution_count": 7,
     "metadata": {},
     "output_type": "execute_result"
    }
   ],
   "source": [
    "post = data[:,1]\n",
    "post"
   ]
  },
  {
   "cell_type": "code",
   "execution_count": 8,
   "id": "774418e2",
   "metadata": {},
   "outputs": [
    {
     "name": "stdout",
     "output_type": "stream",
     "text": [
      "El estadístico t es: -11.941392877647603 y el valor-p es: 3.059020942934875e-07.\n"
     ]
    }
   ],
   "source": [
    "# Prueba t pareada: hacer 2 mediciones en la misma unidad experimental\n",
    "# por ejemplo, antes y después de un tratamiento\n",
    "t_statistic, p_value = st.ttest_1samp(post - pre, 0)\n",
    "print(f'El estadístico t es: {t_statistic} y el valor-p es: {p_value}.')"
   ]
  },
  {
   "cell_type": "code",
   "execution_count": 9,
   "id": "5ed197cd",
   "metadata": {},
   "outputs": [
    {
     "name": "stdout",
     "output_type": "stream",
     "text": [
      "La diferencia en la media no es igual a 0.\n"
     ]
    }
   ],
   "source": [
    "alpha = 0.05\n",
    "\n",
    "if p_value < alpha:\n",
    "    print('La diferencia en la media no es igual a 0.')\n",
    "else:\n",
    "    print('La diferencia en la media es igual a 0')"
   ]
  },
  {
   "cell_type": "code",
   "execution_count": 12,
   "id": "74355fe9",
   "metadata": {},
   "outputs": [
    {
     "name": "stdout",
     "output_type": "stream",
     "text": [
      "El valor-p para el test de suma de rangos con signo de Wilcoxon es 0.0009765625.\n"
     ]
    }
   ],
   "source": [
    "# Alternativa a la prueba t pareada cuando los datos tienen una escala ordinaria o cuando no se distribuyen normalmente\n",
    "rankSum, p_value = st.wilcoxon(post - pre)\n",
    "print(f\"El valor-p para el test de suma de rangos con signo de Wilcoxon es {p_value}.\")"
   ]
  },
  {
   "cell_type": "code",
   "execution_count": 23,
   "id": "bf68d10b",
   "metadata": {},
   "outputs": [
    {
     "data": {
      "text/plain": [
       "0.0"
      ]
     },
     "execution_count": 23,
     "metadata": {},
     "output_type": "execute_result"
    }
   ],
   "source": [
    "rankSum"
   ]
  },
  {
   "cell_type": "markdown",
   "id": "a2724d60",
   "metadata": {},
   "source": [
    "Análisis de datos no pareados: gasto energético total de 24 horas (MJ/día), en grupos de mujeres delgadas y obesas."
   ]
  },
  {
   "cell_type": "code",
   "execution_count": 13,
   "id": "096489be",
   "metadata": {},
   "outputs": [
    {
     "data": {
      "text/plain": [
       "array([[ 9.21,  0.  ],\n",
       "       [ 7.53,  1.  ],\n",
       "       [ 7.48,  1.  ],\n",
       "       [ 8.08,  1.  ],\n",
       "       [ 8.09,  1.  ],\n",
       "       [10.15,  1.  ],\n",
       "       [ 8.4 ,  1.  ],\n",
       "       [10.88,  1.  ],\n",
       "       [ 6.13,  1.  ],\n",
       "       [ 7.9 ,  1.  ],\n",
       "       [11.51,  0.  ],\n",
       "       [12.79,  0.  ],\n",
       "       [ 7.05,  1.  ],\n",
       "       [11.85,  0.  ],\n",
       "       [ 9.97,  0.  ],\n",
       "       [ 7.48,  1.  ],\n",
       "       [ 8.79,  0.  ],\n",
       "       [ 9.69,  0.  ],\n",
       "       [ 9.68,  0.  ],\n",
       "       [ 7.58,  1.  ],\n",
       "       [ 9.19,  0.  ],\n",
       "       [ 8.11,  1.  ]])"
      ]
     },
     "execution_count": 13,
     "metadata": {},
     "output_type": "execute_result"
    }
   ],
   "source": [
    "# Obtener los datos: gasto de energía en mJ y estatura (0=obeso, 1=delgado)\n",
    "inFile = r'Datos/altman_94.txt'\n",
    "energ = np.genfromtxt(inFile, delimiter=',')\n",
    "energ"
   ]
  },
  {
   "cell_type": "code",
   "execution_count": 14,
   "id": "1e971123",
   "metadata": {},
   "outputs": [],
   "source": [
    "# Agrupalos\n",
    "group1 = energ[:, 1] == 0\n",
    "group1 = energ[group1][:, 0]\n",
    "group2 = energ[:, 1] == 1\n",
    "group2 = energ[group2][:, 0]"
   ]
  },
  {
   "cell_type": "code",
   "execution_count": 15,
   "id": "0975edf7",
   "metadata": {},
   "outputs": [
    {
     "data": {
      "text/plain": [
       "array([ 9.21, 11.51, 12.79, 11.85,  9.97,  8.79,  9.69,  9.68,  9.19])"
      ]
     },
     "execution_count": 15,
     "metadata": {},
     "output_type": "execute_result"
    }
   ],
   "source": [
    "group1"
   ]
  },
  {
   "cell_type": "code",
   "execution_count": 16,
   "id": "5d5263e0",
   "metadata": {},
   "outputs": [
    {
     "data": {
      "text/plain": [
       "array([ 7.53,  7.48,  8.08,  8.09, 10.15,  8.4 , 10.88,  6.13,  7.9 ,\n",
       "        7.05,  7.48,  7.58,  8.11])"
      ]
     },
     "execution_count": 16,
     "metadata": {},
     "output_type": "execute_result"
    }
   ],
   "source": [
    "group2"
   ]
  },
  {
   "cell_type": "code",
   "execution_count": 17,
   "id": "f345fc6d",
   "metadata": {},
   "outputs": [
    {
     "data": {
      "text/plain": [
       "10.297777777777776"
      ]
     },
     "execution_count": 17,
     "metadata": {},
     "output_type": "execute_result"
    }
   ],
   "source": [
    "np.mean(group1)"
   ]
  },
  {
   "cell_type": "code",
   "execution_count": 18,
   "id": "5426ef9f",
   "metadata": {},
   "outputs": [
    {
     "data": {
      "text/plain": [
       "8.066153846153847"
      ]
     },
     "execution_count": 18,
     "metadata": {},
     "output_type": "execute_result"
    }
   ],
   "source": [
    "np.mean(group2)"
   ]
  },
  {
   "cell_type": "code",
   "execution_count": 19,
   "id": "6b01be29",
   "metadata": {},
   "outputs": [
    {
     "name": "stdout",
     "output_type": "stream",
     "text": [
      "El estadístico t es: 3.9455649161549835 y el valor-p es: 0.0007989982111700593.\n"
     ]
    }
   ],
   "source": [
    "# Test t de 2 muestras\n",
    "# Hipótesis nula: los dos grupos tienen la misma media\n",
    "# Esta prueba asume que los dos grupos tienen la misma varianza\n",
    "# (se puede verificar con pruebas para la misma varianza)\n",
    "# grupos independientes: por ejemplo, cómo les va a los niños y niñas en un examen\n",
    "# grupos dependientes: por ejemplo, cómo le va a la misma clase en 2 exámenes diferentes\n",
    "t_statistic, p_value = st.ttest_ind(group1, group2)\n",
    "print(f'El estadístico t es: {t_statistic} y el valor-p es: {p_value}.')"
   ]
  },
  {
   "cell_type": "code",
   "execution_count": 20,
   "id": "60575312",
   "metadata": {},
   "outputs": [
    {
     "name": "stdout",
     "output_type": "stream",
     "text": [
      "No tienen la misma media al 5% de nivel de significancia.\n"
     ]
    }
   ],
   "source": [
    "alpha = 0.05\n",
    "\n",
    "if p_value < alpha:\n",
    "    print('No tienen la misma media al 5% de nivel de significancia.')\n",
    "else:\n",
    "    print('Tienen la misma media al 5% de nivel de significancia.')"
   ]
  },
  {
   "cell_type": "code",
   "execution_count": 21,
   "id": "57f1b9bb",
   "metadata": {},
   "outputs": [
    {
     "name": "stdout",
     "output_type": "stream",
     "text": [
      "El valor-p para el test Mann-Whitney es: 0.002121613385880049.\n"
     ]
    }
   ],
   "source": [
    "# Para datos que no se distribuyen normalmente, realice la prueba de Wilcoxon de dos muestras\n",
    "# alias Mann Whitney U\n",
    "u, p_value = st.mannwhitneyu(group1, group2, alternative='two-sided')\n",
    "print(f\"El valor-p para el test Mann-Whitney es: {p_value}.\")"
   ]
  },
  {
   "cell_type": "code",
   "execution_count": 22,
   "id": "07fb5b04",
   "metadata": {},
   "outputs": [
    {
     "data": {
      "text/plain": [
       "105.0"
      ]
     },
     "execution_count": 22,
     "metadata": {},
     "output_type": "execute_result"
    }
   ],
   "source": [
    "u"
   ]
  },
  {
   "cell_type": "code",
   "execution_count": 25,
   "id": "42037d25",
   "metadata": {},
   "outputs": [
    {
     "data": {
      "image/png": "[encoded data removed]",
      "text/plain": [
       "<Figure size 640x480 with 1 Axes>"
      ]
     },
     "metadata": {},
     "output_type": "display_data"
    }
   ],
   "source": [
    "# Grafico\n",
    "plt.plot(group1, 'bx', label='Obeso')\n",
    "plt.plot(group2, 'ro', label='Delgado')\n",
    "\n",
    "plt.legend(loc=0)\n",
    "\n",
    "plt.show()"
   ]
  },
  {
   "cell_type": "code",
   "execution_count": 26,
   "id": "29ec3cfa",
   "metadata": {},
   "outputs": [
    {
     "data": {
      "text/html": [
       "<div>\n",
       "<style scoped>\n",
       "    .dataframe tbody tr th:only-of-type {\n",
       "        vertical-align: middle;\n",
       "    }\n",
       "\n",
       "    .dataframe tbody tr th {\n",
       "        vertical-align: top;\n",
       "    }\n",
       "\n",
       "    .dataframe thead th {\n",
       "        text-align: right;\n",
       "    }\n",
       "</style>\n",
       "<table border=\"1\" class=\"dataframe\">\n",
       "  <thead>\n",
       "    <tr style=\"text-align: right;\">\n",
       "      <th></th>\n",
       "      <th>energy</th>\n",
       "      <th>weightClass</th>\n",
       "    </tr>\n",
       "  </thead>\n",
       "  <tbody>\n",
       "    <tr>\n",
       "      <th>0</th>\n",
       "      <td>9.21</td>\n",
       "      <td>0.0</td>\n",
       "    </tr>\n",
       "    <tr>\n",
       "      <th>1</th>\n",
       "      <td>7.53</td>\n",
       "      <td>1.0</td>\n",
       "    </tr>\n",
       "    <tr>\n",
       "      <th>2</th>\n",
       "      <td>7.48</td>\n",
       "      <td>1.0</td>\n",
       "    </tr>\n",
       "    <tr>\n",
       "      <th>3</th>\n",
       "      <td>8.08</td>\n",
       "      <td>1.0</td>\n",
       "    </tr>\n",
       "    <tr>\n",
       "      <th>4</th>\n",
       "      <td>8.09</td>\n",
       "      <td>1.0</td>\n",
       "    </tr>\n",
       "    <tr>\n",
       "      <th>5</th>\n",
       "      <td>10.15</td>\n",
       "      <td>1.0</td>\n",
       "    </tr>\n",
       "    <tr>\n",
       "      <th>6</th>\n",
       "      <td>8.40</td>\n",
       "      <td>1.0</td>\n",
       "    </tr>\n",
       "    <tr>\n",
       "      <th>7</th>\n",
       "      <td>10.88</td>\n",
       "      <td>1.0</td>\n",
       "    </tr>\n",
       "    <tr>\n",
       "      <th>8</th>\n",
       "      <td>6.13</td>\n",
       "      <td>1.0</td>\n",
       "    </tr>\n",
       "    <tr>\n",
       "      <th>9</th>\n",
       "      <td>7.90</td>\n",
       "      <td>1.0</td>\n",
       "    </tr>\n",
       "    <tr>\n",
       "      <th>10</th>\n",
       "      <td>11.51</td>\n",
       "      <td>0.0</td>\n",
       "    </tr>\n",
       "    <tr>\n",
       "      <th>11</th>\n",
       "      <td>12.79</td>\n",
       "      <td>0.0</td>\n",
       "    </tr>\n",
       "    <tr>\n",
       "      <th>12</th>\n",
       "      <td>7.05</td>\n",
       "      <td>1.0</td>\n",
       "    </tr>\n",
       "    <tr>\n",
       "      <th>13</th>\n",
       "      <td>11.85</td>\n",
       "      <td>0.0</td>\n",
       "    </tr>\n",
       "    <tr>\n",
       "      <th>14</th>\n",
       "      <td>9.97</td>\n",
       "      <td>0.0</td>\n",
       "    </tr>\n",
       "    <tr>\n",
       "      <th>15</th>\n",
       "      <td>7.48</td>\n",
       "      <td>1.0</td>\n",
       "    </tr>\n",
       "    <tr>\n",
       "      <th>16</th>\n",
       "      <td>8.79</td>\n",
       "      <td>0.0</td>\n",
       "    </tr>\n",
       "    <tr>\n",
       "      <th>17</th>\n",
       "      <td>9.69</td>\n",
       "      <td>0.0</td>\n",
       "    </tr>\n",
       "    <tr>\n",
       "      <th>18</th>\n",
       "      <td>9.68</td>\n",
       "      <td>0.0</td>\n",
       "    </tr>\n",
       "    <tr>\n",
       "      <th>19</th>\n",
       "      <td>7.58</td>\n",
       "      <td>1.0</td>\n",
       "    </tr>\n",
       "    <tr>\n",
       "      <th>20</th>\n",
       "      <td>9.19</td>\n",
       "      <td>0.0</td>\n",
       "    </tr>\n",
       "    <tr>\n",
       "      <th>21</th>\n",
       "      <td>8.11</td>\n",
       "      <td>1.0</td>\n",
       "    </tr>\n",
       "  </tbody>\n",
       "</table>\n",
       "</div>"
      ],
      "text/plain": [
       "    energy  weightClass\n",
       "0     9.21          0.0\n",
       "1     7.53          1.0\n",
       "2     7.48          1.0\n",
       "3     8.08          1.0\n",
       "4     8.09          1.0\n",
       "5    10.15          1.0\n",
       "6     8.40          1.0\n",
       "7    10.88          1.0\n",
       "8     6.13          1.0\n",
       "9     7.90          1.0\n",
       "10   11.51          0.0\n",
       "11   12.79          0.0\n",
       "12    7.05          1.0\n",
       "13   11.85          0.0\n",
       "14    9.97          0.0\n",
       "15    7.48          1.0\n",
       "16    8.79          0.0\n",
       "17    9.69          0.0\n",
       "18    9.68          0.0\n",
       "19    7.58          1.0\n",
       "20    9.19          0.0\n",
       "21    8.11          1.0"
      ]
     },
     "execution_count": 26,
     "metadata": {},
     "output_type": "execute_result"
    }
   ],
   "source": [
    "# Los mismos cálculos, pero implementados con pandas, serían:\n",
    "df = pd.DataFrame(energ, columns = ['energy', 'weightClass'])\n",
    "df"
   ]
  },
  {
   "cell_type": "code",
   "execution_count": 27,
   "id": "f67a2136",
   "metadata": {},
   "outputs": [
    {
     "data": {
      "text/plain": [
       "<pandas.core.groupby.generic.DataFrameGroupBy object at 0x000001758F0089D0>"
      ]
     },
     "execution_count": 27,
     "metadata": {},
     "output_type": "execute_result"
    }
   ],
   "source": [
    "grouped = df.groupby('weightClass')\n",
    "grouped"
   ]
  },
  {
   "cell_type": "code",
   "execution_count": 28,
   "id": "5f85d5dd",
   "metadata": {},
   "outputs": [
    {
     "data": {
      "text/html": [
       "<div>\n",
       "<style scoped>\n",
       "    .dataframe tbody tr th:only-of-type {\n",
       "        vertical-align: middle;\n",
       "    }\n",
       "\n",
       "    .dataframe tbody tr th {\n",
       "        vertical-align: top;\n",
       "    }\n",
       "\n",
       "    .dataframe thead th {\n",
       "        text-align: right;\n",
       "    }\n",
       "</style>\n",
       "<table border=\"1\" class=\"dataframe\">\n",
       "  <thead>\n",
       "    <tr style=\"text-align: right;\">\n",
       "      <th></th>\n",
       "      <th>energy</th>\n",
       "    </tr>\n",
       "    <tr>\n",
       "      <th>weightClass</th>\n",
       "      <th></th>\n",
       "    </tr>\n",
       "  </thead>\n",
       "  <tbody>\n",
       "    <tr>\n",
       "      <th>0.0</th>\n",
       "      <td>10.297778</td>\n",
       "    </tr>\n",
       "    <tr>\n",
       "      <th>1.0</th>\n",
       "      <td>8.066154</td>\n",
       "    </tr>\n",
       "  </tbody>\n",
       "</table>\n",
       "</div>"
      ],
      "text/plain": [
       "                energy\n",
       "weightClass           \n",
       "0.0          10.297778\n",
       "1.0           8.066154"
      ]
     },
     "execution_count": 28,
     "metadata": {},
     "output_type": "execute_result"
    }
   ],
   "source": [
    "grouped.mean()"
   ]
  },
  {
   "cell_type": "code",
   "execution_count": 29,
   "id": "53e0a13e",
   "metadata": {},
   "outputs": [
    {
     "name": "stdout",
     "output_type": "stream",
     "text": [
      "El estadístico t es: 3.9455649161549835 y su valor-p es: 0.0007989982111700593.\n"
     ]
    }
   ],
   "source": [
    "t_statistic, p_value = stats.ttest_ind(grouped.get_group(0).energy,\n",
    "                                       grouped.get_group(1).energy)\n",
    "print(f'El estadístico t es: {t_statistic} y su valor-p es: {p_value}.')"
   ]
  },
  {
   "cell_type": "code",
   "execution_count": 30,
   "id": "5a845ddd",
   "metadata": {},
   "outputs": [
    {
     "name": "stdout",
     "output_type": "stream",
     "text": [
      "No tienen la misma media al 5% de nivel de significancia.\n"
     ]
    }
   ],
   "source": [
    "alpha = 0.05\n",
    "\n",
    "if p_value < alpha:\n",
    "    print('No tienen la misma media al 5% de nivel de significancia.')\n",
    "else:\n",
    "    print('Tienen la misma media al 5% de nivel de significancia.')"
   ]
  },
  {
   "cell_type": "code",
   "execution_count": 32,
   "id": "0cacf531",
   "metadata": {},
   "outputs": [
    {
     "data": {
      "image/png": "[encoded data removed]",
      "text/plain": [
       "<Figure size 640x480 with 1 Axes>"
      ]
     },
     "metadata": {},
     "output_type": "display_data"
    }
   ],
   "source": [
    "grouped.energy.plot(marker='o', lw=0)\n",
    "\n",
    "plt.legend(['Obeso', 'Delgado'])\n",
    "\n",
    "plt.show()"
   ]
  },
  {
   "cell_type": "markdown",
   "id": "20146165",
   "metadata": {},
   "source": [
    "Los problemas se pueden ver desde 2 perspectivas: \n",
    "- Uno puede hacer una hipótesis estadística y verificar o falsear esa hipótesis\n",
    "- Uno puede hacer un modelo estadístico y analizar la importancia de los parámetros del modelo. "
   ]
  },
  {
   "cell_type": "markdown",
   "id": "e5cccb01",
   "metadata": {},
   "source": [
    "Equivalencia entre T-Test y Modelo Estadístico."
   ]
  },
  {
   "cell_type": "code",
   "execution_count": 34,
   "id": "21366bae",
   "metadata": {},
   "outputs": [],
   "source": [
    "# Generar datos normalmente distribuidos alrededor de 'reference' + 0.2\n",
    "np.random.seed(123)\n",
    "reference = 5\n",
    "diffs = 0.2 + np.random.randn(100)"
   ]
  },
  {
   "cell_type": "markdown",
   "id": "22c54cca",
   "metadata": {},
   "source": [
    "random.seed(123) inicializa el generador de números aleatorios con el número 123, lo que garantiza que 2 ejecuciones consecutivas de este código produzcan el mismo resultado. "
   ]
  },
  {
   "cell_type": "code",
   "execution_count": 35,
   "id": "11b02c42",
   "metadata": {},
   "outputs": [
    {
     "data": {
      "text/plain": [
       "array([4.1143694 , 6.19734545, 5.4829785 , 3.69370529, 4.62139975,\n",
       "       6.85143654, 2.77332076, 4.77108737, 6.46593626, 4.3332596 ,\n",
       "       4.52111385, 5.10529103, 6.69138963, 4.561098  , 4.75601804,\n",
       "       4.76564872, 7.40593008, 7.38678609, 6.2040539 , 5.5861864 ,\n",
       "       5.93736858, 6.69073203, 4.26416613, 6.37582904, 3.94611933,\n",
       "       4.5622485 , 6.1071052 , 3.7713193 , 5.05993128, 4.3382451 ,\n",
       "       4.94438063, 2.40141089, 3.4284669 , 4.50012277, 6.12746243,\n",
       "       5.02636432, 5.20284592, 5.88822271, 4.32046366, 5.48362732,\n",
       "       4.39463348, 3.47233051, 4.80910021, 5.77380586, 5.53858905,\n",
       "       5.18816951, 7.59236527, 5.61291216, 6.17873601, 7.43814334,\n",
       "       3.90591468, 4.16121179, 6.94371223, 4.40193726, 5.22968323,\n",
       "       6.26931597, 6.09070639, 6.95488618, 6.69564414, 6.26939267,\n",
       "       4.42729129, 5.99486267, 5.51427199, 3.87373454, 6.61729905,\n",
       "       6.00723653, 5.24549008, 4.96690794, 4.00169886, 5.39952407,\n",
       "       5.66843912, 4.36884502, 6.36220405, 4.10279695, 3.07689965,\n",
       "       6.23972709, 4.79663396, 5.07397041, 4.36248328, 3.59403724,\n",
       "       6.45523737, 4.51113102, 6.86095249, 6.00730819, 4.88524185,\n",
       "       4.1140976 , 4.46753801, 3.98747687, 7.28711336, 5.36444123,\n",
       "       6.35020554, 3.93264795, 5.38103513, 6.37786194, 4.86498924,\n",
       "       6.23111446, 4.11543209, 3.83652846, 5.57940061, 4.82082357])"
      ]
     },
     "execution_count": 35,
     "metadata": {},
     "output_type": "execute_result"
    }
   ],
   "source": [
    "values = reference + diffs\n",
    "values"
   ]
  },
  {
   "cell_type": "code",
   "execution_count": 36,
   "id": "6be429ee",
   "metadata": {},
   "outputs": [
    {
     "data": {
      "text/html": [
       "<div>\n",
       "<style scoped>\n",
       "    .dataframe tbody tr th:only-of-type {\n",
       "        vertical-align: middle;\n",
       "    }\n",
       "\n",
       "    .dataframe tbody tr th {\n",
       "        vertical-align: top;\n",
       "    }\n",
       "\n",
       "    .dataframe thead th {\n",
       "        text-align: right;\n",
       "    }\n",
       "</style>\n",
       "<table border=\"1\" class=\"dataframe\">\n",
       "  <thead>\n",
       "    <tr style=\"text-align: right;\">\n",
       "      <th></th>\n",
       "      <th>diffs</th>\n",
       "    </tr>\n",
       "  </thead>\n",
       "  <tbody>\n",
       "    <tr>\n",
       "      <th>0</th>\n",
       "      <td>-0.885631</td>\n",
       "    </tr>\n",
       "    <tr>\n",
       "      <th>1</th>\n",
       "      <td>1.197345</td>\n",
       "    </tr>\n",
       "    <tr>\n",
       "      <th>2</th>\n",
       "      <td>0.482978</td>\n",
       "    </tr>\n",
       "    <tr>\n",
       "      <th>3</th>\n",
       "      <td>-1.306295</td>\n",
       "    </tr>\n",
       "    <tr>\n",
       "      <th>4</th>\n",
       "      <td>-0.378600</td>\n",
       "    </tr>\n",
       "    <tr>\n",
       "      <th>...</th>\n",
       "      <td>...</td>\n",
       "    </tr>\n",
       "    <tr>\n",
       "      <th>95</th>\n",
       "      <td>1.231114</td>\n",
       "    </tr>\n",
       "    <tr>\n",
       "      <th>96</th>\n",
       "      <td>-0.884568</td>\n",
       "    </tr>\n",
       "    <tr>\n",
       "      <th>97</th>\n",
       "      <td>-1.163472</td>\n",
       "    </tr>\n",
       "    <tr>\n",
       "      <th>98</th>\n",
       "      <td>0.579401</td>\n",
       "    </tr>\n",
       "    <tr>\n",
       "      <th>99</th>\n",
       "      <td>-0.179176</td>\n",
       "    </tr>\n",
       "  </tbody>\n",
       "</table>\n",
       "<p>100 rows × 1 columns</p>\n",
       "</div>"
      ],
      "text/plain": [
       "       diffs\n",
       "0  -0.885631\n",
       "1   1.197345\n",
       "2   0.482978\n",
       "3  -1.306295\n",
       "4  -0.378600\n",
       "..       ...\n",
       "95  1.231114\n",
       "96 -0.884568\n",
       "97 -1.163472\n",
       "98  0.579401\n",
       "99 -0.179176\n",
       "\n",
       "[100 rows x 1 columns]"
      ]
     },
     "execution_count": 36,
     "metadata": {},
     "output_type": "execute_result"
    }
   ],
   "source": [
    "diffs_df = pd.DataFrame({'diffs': diffs})  \n",
    "diffs_df"
   ]
  },
  {
   "cell_type": "code",
   "execution_count": 38,
   "id": "0ea460fc",
   "metadata": {},
   "outputs": [
    {
     "name": "stdout",
     "output_type": "stream",
     "text": [
      "La probabilidad de que la media muestral sea diferente de 5 es 0.048.\n"
     ]
    }
   ],
   "source": [
    "# Test t\n",
    "(t, pVal) = st.ttest_1samp(values, reference) \n",
    "print(f'La probabilidad de que la media muestral sea diferente de {reference} es {pVal:.3f}.')"
   ]
  },
  {
   "cell_type": "code",
   "execution_count": 42,
   "id": "7084c290",
   "metadata": {},
   "outputs": [
    {
     "data": {
      "text/plain": [
       "2.002859150054274"
      ]
     },
     "execution_count": 42,
     "metadata": {},
     "output_type": "execute_result"
    }
   ],
   "source": [
    "t"
   ]
  },
  {
   "cell_type": "code",
   "execution_count": 41,
   "id": "22c14532",
   "metadata": {},
   "outputs": [
    {
     "name": "stdout",
     "output_type": "stream",
     "text": [
      "La media de la muestra es significativamente diferente de la referencia.\n"
     ]
    }
   ],
   "source": [
    "alpha = 0.05\n",
    "\n",
    "if pVal < alpha:\n",
    "    print('La media de la muestra es significativamente diferente de la referencia.')\n",
    "else:\n",
    "    print('La media de la muestra no es significativamente diferente de la referencia.')"
   ]
  },
  {
   "cell_type": "code",
   "execution_count": 39,
   "id": "af492b44",
   "metadata": {},
   "outputs": [
    {
     "name": "stdout",
     "output_type": "stream",
     "text": [
      "                            OLS Regression Results                            \n",
      "==============================================================================\n",
      "Dep. Variable:                  diffs   R-squared:                       0.000\n",
      "Model:                            OLS   Adj. R-squared:                  0.000\n",
      "Method:                 Least Squares   F-statistic:                       nan\n",
      "Date:                Thu, 27 Jul 2023   Prob (F-statistic):                nan\n",
      "Time:                        12:30:52   Log-Likelihood:                -153.96\n",
      "No. Observations:                 100   AIC:                             309.9\n",
      "Df Residuals:                      99   BIC:                             312.5\n",
      "Df Model:                           0                                         \n",
      "Covariance Type:            nonrobust                                         \n",
      "==============================================================================\n",
      "                 coef    std err          t      P>|t|      [0.025      0.975]\n",
      "------------------------------------------------------------------------------\n",
      "Intercept      0.2271      0.113      2.003      0.048       0.002       0.452\n",
      "==============================================================================\n",
      "Omnibus:                        2.725   Durbin-Watson:                   1.975\n",
      "Prob(Omnibus):                  0.256   Jarque-Bera (JB):                1.734\n",
      "Skew:                           0.033   Prob(JB):                        0.420\n",
      "Kurtosis:                       2.358   Cond. No.                         1.00\n",
      "==============================================================================\n",
      "\n",
      "Notes:\n",
      "[1] Standard Errors assume that the covariance matrix of the errors is correctly specified.\n"
     ]
    }
   ],
   "source": [
    "# Modelo lineal equivalente\n",
    "result = smf.ols('diffs ~ 1', data=diffs_df).fit()\n",
    "print(result.summary())"
   ]
  },
  {
   "cell_type": "code",
   "execution_count": 40,
   "id": "aa7aeba0",
   "metadata": {},
   "outputs": [
    {
     "data": {
      "text/plain": [
       "diffs    0.227109\n",
       "dtype: float64"
      ]
     },
     "execution_count": 40,
     "metadata": {},
     "output_type": "execute_result"
    }
   ],
   "source": [
    "diffs_df.mean() # Da el mismo valor que el intercepto "
   ]
  },
  {
   "cell_type": "markdown",
   "id": "f8709452",
   "metadata": {},
   "source": [
    "Expresado como un modelo estadístico, asumimos que la diferencia entre los datos de la muestra y la referencia es simplemente un valor constante. \n",
    "\n",
    "La hipótesis nula sería que este valor es igual a cero. \n",
    "\n",
    "Este modelo tiene un parámetro, un valor constante, y esto se expresa en la fórmula 'diffs ~ 1'. \n",
    "\n",
    "MCO prueba el modelo que describe las diferencias con solo un desplazamiento, que en el lenguaje de modelado también se denomina \"intersección\". \n",
    "\n",
    "La probabilidad de que esta intersección sea cero es 0.048, que es equivalente al resultado de la prueba t.\n",
    "\n",
    "El valor t y p para el intercepto obtenido con el modelo estadístico son los mismos que con la prueba t clásica"
   ]
  },
  {
   "cell_type": "markdown",
   "id": "0acd21e4",
   "metadata": {},
   "source": [
    "# 8.3 Comparación de múltiples grupos"
   ]
  },
  {
   "cell_type": "markdown",
   "id": "e9185ae5",
   "metadata": {},
   "source": [
    "## 8.3.1 Análisis de Varianza (ANOVA)"
   ]
  },
  {
   "cell_type": "markdown",
   "id": "797fd1e1",
   "metadata": {},
   "source": [
    "La idea es dividir la varianza en la varianza entre grupos y dentro de los grupos, y ver si esas distribuciones coinciden con la hipótesis nula de que todos los grupos provienen de la misma distribución. \n",
    "\n",
    "Las variables que distinguen a los diferentes grupos se denominan factores o tratamientos. "
   ]
  },
  {
   "cell_type": "code",
   "execution_count": 47,
   "id": "f5b48415",
   "metadata": {},
   "outputs": [
    {
     "data": {
      "image/png": "[encoded data removed]",
      "text/plain": [
       "<Figure size 640x480 with 2 Axes>"
      ]
     },
     "metadata": {},
     "output_type": "display_data"
    }
   ],
   "source": [
    "def show_fig(std, ax, title):\n",
    "    \"\"\"Crear una gráfica de datos normalmente distribuidos en un eje dado\"\"\"\n",
    "\n",
    "    for ii in range(3):\n",
    "        data = stats.norm(centers[ii], std).rvs(numData)\n",
    "        offset = ii*numData\n",
    "        ax.plot( offset+np.arange(numData), data, '.', ms=8)\n",
    "\n",
    "    ax.xaxis.set_ticks([50,150,250])\n",
    "    ax.set_xticklabels(['Grupo 1', 'Grupo 2', 'Grupo 3'])\n",
    "    ax.set_title(title)\n",
    "    sns.despine()\n",
    "\n",
    "\n",
    "if __name__ == '__main__':\n",
    "\n",
    "    # Configurar la figura\n",
    "    sns.set_context('paper')\n",
    "    sns.set_style('whitegrid')\n",
    "    #setFonts(14)\n",
    "\n",
    "    # Cree 2 gráficos de 3 grupos de datos diferentes, distribuidos normalmente, con SD diferentes\n",
    "    fig, axs = plt.subplots(1, 2)\n",
    "    centers = [5, 5.3, 4.7]\n",
    "    stds = [0.1, 2]\n",
    "    numData = 100\n",
    "    show_fig(0.1, axs[0], 'SD=0.1')\n",
    "    show_fig(2,   axs[1], 'SD=2.0')\n",
    "    plt.show()"
   ]
  },
  {
   "cell_type": "markdown",
   "id": "238c4f7d",
   "metadata": {},
   "source": [
    "Las pruebas t analizan los valores medios de 2 grupos y verifican si son consistentes con la suposición de que los dos grupos provienen de la misma distribución. \n",
    "\n",
    "Si comparamos 3 grupos (un grupo sin tratamiento, otro con el tratamiento A y un tercero con el tratamiento B), luego realizamos un ANOVA de un factor (ANOVA de una vía) con el tratamiento como factor de análisis único. \n",
    "\n",
    "Si hacemos la misma prueba con hombres y mujeres, entonces tenemos un ANOVA de 2 factores o de 2 vías, con el género y el tratamiento como los 2 factores de tratamiento. \n",
    "\n",
    "Con los ANOVA es muy importante tener exactamente el mismo número de muestras en cada grupo de análisis. (ANOVA balanceado: un diseño balanceado tiene el mismo número de observaciones para todas las combinaciones posibles de niveles de factores). \n",
    "\n",
    "Debido a que la hipótesis nula es que no hay diferencia entre los grupos, la prueba se basa en una comparación de la variación observada entre los grupos (eentre sus medias) con la esperada de la variabilidad observada entre sujetos. La comparación toma la forma general de una prueba F para comparar varianzas, pero para 2 grupos la prueba t conduce exactamente al mismo resultado."
   ]
  },
  {
   "cell_type": "markdown",
   "id": "418b8f6d",
   "metadata": {},
   "source": [
    "ANOVA de una vía: Supone que todas las muestras se extraen de poblaciones normalmente distribuidas, que estas poblaciones tienen la misma varianza y que las muestras son independientes entre sí. \n",
    "\n",
    "La suposición de igualdad de varianza se puede verificar con la prueba de Levene. \n",
    "\n",
    "ANOVA utiliza terminología tradicional. \n",
    "- DF: Grados de libertad\n",
    "- SS: Suma de cuadrados\n",
    "    - Suma\n",
    "- MS: Cuadrado medio\n",
    "    - Relación entre los 2\n",
    "- Desviaciones de la media muestral\n",
    "    - Términos cuadrados\n",
    "    \n",
    "La varianza de la muestra se define por\n",
    "\n",
    "$ s^2 = \\frac{1}{DF} \\sum (y_i - \\bar{y})^2 = \\frac{SS}{DF} $.\n",
    "\n",
    "Técnica fundamental: es una partición de la suma total de cuadrados SS en componentes relacionados con los efectos utilizados en el modelo."
   ]
  },
  {
   "cell_type": "code",
   "execution_count": 2,
   "id": "4436f435",
   "metadata": {},
   "outputs": [
    {
     "name": "stderr",
     "output_type": "stream",
     "text": [
      "C:\\Users\\usuario\\AppData\\Local\\Temp\\ipykernel_3392\\3546600920.py:24: UserWarning: Setting the 'color' property will override the edgecolor or facecolor properties.\n",
      "  ax.annotate('', xy=(210, grandMean), xytext=(210,groupMean[1]),\n",
      "C:\\Users\\usuario\\AppData\\Local\\Temp\\ipykernel_3392\\3546600920.py:26: UserWarning: Setting the 'color' property will override the edgecolor or facecolor properties.\n",
      "  ax.annotate('', xy=(90, groupMean[1]), xytext=(90,groupMean[1]+0.2),\n"
     ]
    },
    {
     "data": {
      "image/png": "[encoded data removed]",
      "text/plain": [
       "<Figure size 640x480 with 1 Axes>"
      ]
     },
     "metadata": {},
     "output_type": "display_data"
    }
   ],
   "source": [
    "def show_fig(std, ax, title):\n",
    "    \"\"\"Cree un gráfico de 3 grupos de datos diferentes, \n",
    "    normalmente distribuidos\"\"\"\n",
    "\n",
    "    groupMean = []\n",
    "    for i in range(3):\n",
    "        data = stats.norm(centers[i], std).rvs(numData)\n",
    "        offset = i*numData\n",
    "        ax.plot(offset+np.arange(numData), data, '.', ms=10)\n",
    "        groupMean.append(np.mean(data))\n",
    "\n",
    "    ax.xaxis.set_ticks([50,150,250])\n",
    "    ax.set_xticklabels(['Grupo 1', 'Grupo 2', 'Grupo 3'])\n",
    "    ax.yaxis.set_ticks([])\n",
    "    ax.set_title(title)\n",
    "\n",
    "    grandMean = np.mean(groupMean)\n",
    "    gray = '#999999'\n",
    "    arrowprops = dict(arrowstyle = '<->', facecolor='black', color=gray)\n",
    "\n",
    "    ax.axhline(grandMean, color=gray)\n",
    "    ax.plot([80, 220], [groupMean[1], groupMean[1]], color=gray)\n",
    "    ax.plot([80, 120], [groupMean[1]+0.2, groupMean[1]+0.2], color=gray)\n",
    "    ax.annotate('', xy=(210, grandMean), xytext=(210,groupMean[1]),\n",
    "            arrowprops=arrowprops )\n",
    "    ax.annotate('', xy=(90, groupMean[1]), xytext=(90,groupMean[1]+0.2),\n",
    "            arrowprops=arrowprops )\n",
    "    ax.text(210, (grandMean + groupMean[1])/2., '$SS_{Tratamiento}$', fontsize=18)\n",
    "    ax.text(90, groupMean[1]+0.1, '$SS_{Error}$', ha='right', fontsize=18)\n",
    "\n",
    "\n",
    "if __name__ == '__main__':\n",
    "    centers = [5, 5.3, 4.7]\n",
    "\n",
    "    np.random.seed(123)\n",
    "    #setFonts(18)\n",
    "\n",
    "    fig = plt.figure()\n",
    "    ax = fig.add_subplot(111)\n",
    "    std = 0.1\n",
    "    numData = 100\n",
    "    show_fig(0.1, ax, 'Suma de Cuadrados')\n",
    "\n",
    "    plt.show()"
   ]
  },
  {
   "cell_type": "markdown",
   "id": "0dfc5bad",
   "metadata": {},
   "source": [
    "ANOVA estima 3 varianzas de muestra:\n",
    "- Una varianza total basada en todas las desviaciones de observación de la gran media (calculada a partir de $SS_{Total}$)\n",
    "- Una varianza de tratamiento ($SS_{Tratamiento}$)\n",
    "- Una varianza de error basada en todas las desviaciones de observación de su medios de tratamiento apropiados (de $SS_{Error}$) \n",
    "\n",
    "La varianza del tratamiento se basa en las desviaciones de las medias de los tratamientos con respecto a la gran media, y el resultado se multiplica por el número de observaciones en cada tratamiento para tener en cuenta la diferencia entre la varianza de las observaciones y la varianza de las medias. \n",
    "\n",
    "Las tres sumas de cuadrados están relacionadas por\n",
    "\n",
    "$ SS_{Total} = SS_{Error} + SS_{Tratamiento} $\n",
    "\n",
    "donde\n",
    "- $SS_{Total}$: es la desviación de la suma cuadrática de la media general\n",
    "- $SS_{Error}$: es la desviación de la suma cuadrática de la media dentro de un grupo\n",
    "- $SS_{Tratamiento}$: es la desviación de la suma cuadrática entre cada grupo y la media general \n",
    "\n",
    "Si la hipótesis nula es verdadera, las tres estimaciones de varianza son iguales (dentro del error de muestreo). \n",
    "\n",
    "El número de grados de libertad se puede dividir: uno de estos componentes (el del error) especifica una distribución de chi-cuadrado que describe la suma de cuadrados asociada, mientras que lo mismo es cierto para los tratamientos si no hay tratamiento efecto.\n",
    "\n",
    "$ DF_{Total} = DF_{Error} + DF_{Tratamiento} $"
   ]
  },
  {
   "cell_type": "markdown",
   "id": "741c4bff",
   "metadata": {},
   "source": [
    "### a) Ejemplo: ANOVA de una vía"
   ]
  },
  {
   "cell_type": "markdown",
   "id": "81683d18",
   "metadata": {},
   "source": [
    "ANOVA de una vía: prueba si los resultados de 3 grupos son iguales.\n",
    "\n",
    "Tome los niveles de folato en los glóbulos rojos (µg/l) en 3 grupos de pacientes de bypass cardíaco que recibieron diferentes niveles de ventilación con óxido nitroso. \n",
    "\n",
    "22 pacientes fueron incluidos en el análisis.\n",
    "\n",
    "Los pacientes se sometieron a una cirugía de derivación cardíaca se asignaron al azar a uno de 3 grupos de ventilación:\n",
    "\n",
    "Grupo I: Los pacientes recibieron una mezcla de óxido nitroso al 50% y oxígeno al 50% de forma continua durante 24 h.\n",
    "\n",
    "Grupo II: Los pacientes recibieron una mezcla de 50% de óxido nitroso y 50% de oxígeno solo durante la operación.\n",
    "\n",
    "Grupo III: Los pacientes no recibieron óxido nitroso pero recibieron 35-50% de oxígeno durante 24 h.\n",
    "\n",
    "Los datos muestran los niveles de folato en glóbulos rojos para los tres grupos después de 24 horas de ventilación.\n",
    "\n",
    "Hipótesis nula de los ANOVA: todos los grupos provienen de la misma población. "
   ]
  },
  {
   "cell_type": "code",
   "execution_count": 3,
   "id": "5e9f3f85",
   "metadata": {},
   "outputs": [
    {
     "data": {
      "text/plain": [
       "array([[243.,   1.],\n",
       "       [251.,   1.],\n",
       "       [275.,   1.],\n",
       "       [291.,   1.],\n",
       "       [347.,   1.],\n",
       "       [354.,   1.],\n",
       "       [380.,   1.],\n",
       "       [392.,   1.],\n",
       "       [206.,   2.],\n",
       "       [210.,   2.],\n",
       "       [226.,   2.],\n",
       "       [249.,   2.],\n",
       "       [255.,   2.],\n",
       "       [273.,   2.],\n",
       "       [285.,   2.],\n",
       "       [295.,   2.],\n",
       "       [309.,   2.],\n",
       "       [241.,   3.],\n",
       "       [258.,   3.],\n",
       "       [270.,   3.],\n",
       "       [293.,   3.],\n",
       "       [328.,   3.]])"
      ]
     },
     "execution_count": 3,
     "metadata": {},
     "output_type": "execute_result"
    }
   ],
   "source": [
    "# Datos\n",
    "inFile = r'Datos/altman_910.txt'\n",
    "data = np.genfromtxt(inFile, delimiter=',')\n",
    "data"
   ]
  },
  {
   "cell_type": "code",
   "execution_count": 4,
   "id": "31d43e61",
   "metadata": {},
   "outputs": [],
   "source": [
    "# Ordenarlos en grupos, según la columna 1\n",
    "group1 = data[data[:,1]==1,0]\n",
    "group2 = data[data[:,1]==2,0]\n",
    "group3 = data[data[:,1]==3,0]"
   ]
  },
  {
   "cell_type": "code",
   "execution_count": 5,
   "id": "c353456b",
   "metadata": {},
   "outputs": [
    {
     "data": {
      "text/html": [
       "<div>\n",
       "<style scoped>\n",
       "    .dataframe tbody tr th:only-of-type {\n",
       "        vertical-align: middle;\n",
       "    }\n",
       "\n",
       "    .dataframe tbody tr th {\n",
       "        vertical-align: top;\n",
       "    }\n",
       "\n",
       "    .dataframe thead th {\n",
       "        text-align: right;\n",
       "    }\n",
       "</style>\n",
       "<table border=\"1\" class=\"dataframe\">\n",
       "  <thead>\n",
       "    <tr style=\"text-align: right;\">\n",
       "      <th></th>\n",
       "      <th>value</th>\n",
       "      <th>treatment</th>\n",
       "    </tr>\n",
       "  </thead>\n",
       "  <tbody>\n",
       "    <tr>\n",
       "      <th>0</th>\n",
       "      <td>243.0</td>\n",
       "      <td>1.0</td>\n",
       "    </tr>\n",
       "    <tr>\n",
       "      <th>1</th>\n",
       "      <td>251.0</td>\n",
       "      <td>1.0</td>\n",
       "    </tr>\n",
       "    <tr>\n",
       "      <th>2</th>\n",
       "      <td>275.0</td>\n",
       "      <td>1.0</td>\n",
       "    </tr>\n",
       "    <tr>\n",
       "      <th>3</th>\n",
       "      <td>291.0</td>\n",
       "      <td>1.0</td>\n",
       "    </tr>\n",
       "    <tr>\n",
       "      <th>4</th>\n",
       "      <td>347.0</td>\n",
       "      <td>1.0</td>\n",
       "    </tr>\n",
       "  </tbody>\n",
       "</table>\n",
       "</div>"
      ],
      "text/plain": [
       "   value  treatment\n",
       "0  243.0        1.0\n",
       "1  251.0        1.0\n",
       "2  275.0        1.0\n",
       "3  291.0        1.0\n",
       "4  347.0        1.0"
      ]
     },
     "execution_count": 5,
     "metadata": {},
     "output_type": "execute_result"
    }
   ],
   "source": [
    "df = pd.DataFrame(data, columns=['value', 'treatment'])\n",
    "df.head()"
   ]
  },
  {
   "cell_type": "code",
   "execution_count": 6,
   "id": "92f022ea",
   "metadata": {},
   "outputs": [
    {
     "data": {
      "text/plain": [
       "value        float64\n",
       "treatment    float64\n",
       "dtype: object"
      ]
     },
     "execution_count": 6,
     "metadata": {},
     "output_type": "execute_result"
    }
   ],
   "source": [
    "df.dtypes"
   ]
  },
  {
   "cell_type": "code",
   "execution_count": 7,
   "id": "cf806cf6",
   "metadata": {},
   "outputs": [],
   "source": [
    "# Cambio a variable categórica\n",
    "df['treatment'] = pd.Categorical(np.int8(df.treatment))"
   ]
  },
  {
   "cell_type": "code",
   "execution_count": 8,
   "id": "14d24dbd",
   "metadata": {},
   "outputs": [
    {
     "data": {
      "text/plain": [
       "value         float64\n",
       "treatment    category\n",
       "dtype: object"
      ]
     },
     "execution_count": 8,
     "metadata": {},
     "output_type": "execute_result"
    }
   ],
   "source": [
    "df.dtypes"
   ]
  },
  {
   "cell_type": "code",
   "execution_count": 9,
   "id": "73229cc1",
   "metadata": {},
   "outputs": [],
   "source": [
    "# Primero, verificamos si las varianzas son iguales, con la prueba \"Levene\"\n",
    "(W,p) = stats.levene(group1, group2, group3)"
   ]
  },
  {
   "cell_type": "code",
   "execution_count": 10,
   "id": "1a26b284",
   "metadata": {},
   "outputs": [
    {
     "data": {
      "text/plain": [
       "3.641303086027156"
      ]
     },
     "execution_count": 10,
     "metadata": {},
     "output_type": "execute_result"
    }
   ],
   "source": [
    "W"
   ]
  },
  {
   "cell_type": "code",
   "execution_count": 11,
   "id": "1394dbc8",
   "metadata": {},
   "outputs": [
    {
     "data": {
      "text/plain": [
       "0.045846812634186246"
      ]
     },
     "execution_count": 11,
     "metadata": {},
     "output_type": "execute_result"
    }
   ],
   "source": [
    "p # < 0.05"
   ]
  },
  {
   "cell_type": "code",
   "execution_count": 12,
   "id": "a78b406c",
   "metadata": {},
   "outputs": [
    {
     "name": "stdout",
     "output_type": "stream",
     "text": [
      "Al menos una de las varianzas es significativamente diferente de las demás.\n"
     ]
    }
   ],
   "source": [
    "alpha = 0.05\n",
    "\n",
    "if p < alpha:\n",
    "    print('Al menos una de las varianzas es significativamente diferente de las demás.')\n",
    "else:\n",
    "    print('Las varianzas son iguales en todos los grupos.')"
   ]
  },
  {
   "cell_type": "code",
   "execution_count": 13,
   "id": "878842af",
   "metadata": {},
   "outputs": [],
   "source": [
    "# ANOVA de una vía con scipy.stats\n",
    "F_statistic, pVal = stats.f_oneway(group1, group2, group3)"
   ]
  },
  {
   "cell_type": "code",
   "execution_count": 14,
   "id": "2f78e6d2",
   "metadata": {},
   "outputs": [
    {
     "data": {
      "text/plain": [
       "3.7113359882669763"
      ]
     },
     "execution_count": 14,
     "metadata": {},
     "output_type": "execute_result"
    }
   ],
   "source": [
    "F_statistic"
   ]
  },
  {
   "cell_type": "code",
   "execution_count": 15,
   "id": "3d192c5d",
   "metadata": {},
   "outputs": [
    {
     "data": {
      "text/plain": [
       "0.043589334959178244"
      ]
     },
     "execution_count": 15,
     "metadata": {},
     "output_type": "execute_result"
    }
   ],
   "source": [
    "pVal"
   ]
  },
  {
   "cell_type": "code",
   "execution_count": 16,
   "id": "2483ef83",
   "metadata": {},
   "outputs": [
    {
     "name": "stdout",
     "output_type": "stream",
     "text": [
      "Uno de los grupos es significativamente diferente.\n"
     ]
    }
   ],
   "source": [
    "if pVal < 0.05:\n",
    "    print('Uno de los grupos es significativamente diferente.')\n",
    "else:\n",
    "    print('Ninguno de los grupos es significativamente diferente.')    "
   ]
  },
  {
   "cell_type": "code",
   "execution_count": 17,
   "id": "2efce87a",
   "metadata": {},
   "outputs": [
    {
     "data": {
      "text/html": [
       "<div>\n",
       "<style scoped>\n",
       "    .dataframe tbody tr th:only-of-type {\n",
       "        vertical-align: middle;\n",
       "    }\n",
       "\n",
       "    .dataframe tbody tr th {\n",
       "        vertical-align: top;\n",
       "    }\n",
       "\n",
       "    .dataframe thead th {\n",
       "        text-align: right;\n",
       "    }\n",
       "</style>\n",
       "<table border=\"1\" class=\"dataframe\">\n",
       "  <thead>\n",
       "    <tr style=\"text-align: right;\">\n",
       "      <th></th>\n",
       "      <th>Source</th>\n",
       "      <th>ddof1</th>\n",
       "      <th>ddof2</th>\n",
       "      <th>F</th>\n",
       "      <th>p-unc</th>\n",
       "      <th>np2</th>\n",
       "    </tr>\n",
       "  </thead>\n",
       "  <tbody>\n",
       "    <tr>\n",
       "      <th>0</th>\n",
       "      <td>treatment</td>\n",
       "      <td>2</td>\n",
       "      <td>19</td>\n",
       "      <td>3.7113</td>\n",
       "      <td>0.0436</td>\n",
       "      <td>0.2809</td>\n",
       "    </tr>\n",
       "  </tbody>\n",
       "</table>\n",
       "</div>"
      ],
      "text/plain": [
       "      Source  ddof1  ddof2       F   p-unc     np2\n",
       "0  treatment      2     19  3.7113  0.0436  0.2809"
      ]
     },
     "execution_count": 17,
     "metadata": {},
     "output_type": "execute_result"
    }
   ],
   "source": [
    "# Con pingouin \n",
    "pg_results = pg.anova(data=df, dv='value', between='treatment')\n",
    "pg_results.round(4)"
   ]
  },
  {
   "cell_type": "code",
   "execution_count": 18,
   "id": "76d3b504",
   "metadata": {},
   "outputs": [
    {
     "name": "stdout",
     "output_type": "stream",
     "text": [
      "                            OLS Regression Results                            \n",
      "==============================================================================\n",
      "Dep. Variable:                  value   R-squared:                       0.281\n",
      "Model:                            OLS   Adj. R-squared:                  0.205\n",
      "Method:                 Least Squares   F-statistic:                     3.711\n",
      "Date:                Fri, 28 Jul 2023   Prob (F-statistic):             0.0436\n",
      "Time:                        10:27:15   Log-Likelihood:                -113.70\n",
      "No. Observations:                  22   AIC:                             233.4\n",
      "Df Residuals:                      19   BIC:                             236.7\n",
      "Df Model:                           2                                         \n",
      "Covariance Type:            nonrobust                                         \n",
      "=====================================================================================\n",
      "                        coef    std err          t      P>|t|      [0.025      0.975]\n",
      "-------------------------------------------------------------------------------------\n",
      "Intercept           316.6250     16.164     19.588      0.000     282.792     350.458\n",
      "C(treatment)[T.2]   -60.1806     22.216     -2.709      0.014    -106.679     -13.682\n",
      "C(treatment)[T.3]   -38.6250     26.064     -1.482      0.155     -93.178      15.928\n",
      "==============================================================================\n",
      "Omnibus:                        2.618   Durbin-Watson:                   0.819\n",
      "Prob(Omnibus):                  0.270   Jarque-Bera (JB):                1.189\n",
      "Skew:                           0.021   Prob(JB):                        0.552\n",
      "Kurtosis:                       1.862   Cond. No.                         3.69\n",
      "==============================================================================\n",
      "\n",
      "Notes:\n",
      "[1] Standard Errors assume that the covariance matrix of the errors is correctly specified.\n"
     ]
    }
   ],
   "source": [
    "# ... and with statsmodels\n",
    "model = smf.ols('value ~ C(treatment)', df).fit()\n",
    "print(model.summary())"
   ]
  },
  {
   "cell_type": "code",
   "execution_count": 19,
   "id": "dc6bcf29",
   "metadata": {},
   "outputs": [],
   "source": [
    "from statsmodels.stats.anova import anova_lm"
   ]
  },
  {
   "cell_type": "code",
   "execution_count": 20,
   "id": "7c63aa01",
   "metadata": {},
   "outputs": [
    {
     "data": {
      "text/html": [
       "<div>\n",
       "<style scoped>\n",
       "    .dataframe tbody tr th:only-of-type {\n",
       "        vertical-align: middle;\n",
       "    }\n",
       "\n",
       "    .dataframe tbody tr th {\n",
       "        vertical-align: top;\n",
       "    }\n",
       "\n",
       "    .dataframe thead th {\n",
       "        text-align: right;\n",
       "    }\n",
       "</style>\n",
       "<table border=\"1\" class=\"dataframe\">\n",
       "  <thead>\n",
       "    <tr style=\"text-align: right;\">\n",
       "      <th></th>\n",
       "      <th>df</th>\n",
       "      <th>sum_sq</th>\n",
       "      <th>mean_sq</th>\n",
       "      <th>F</th>\n",
       "      <th>PR(&gt;F)</th>\n",
       "    </tr>\n",
       "  </thead>\n",
       "  <tbody>\n",
       "    <tr>\n",
       "      <th>C(treatment)</th>\n",
       "      <td>2.0</td>\n",
       "      <td>15515.7664</td>\n",
       "      <td>7757.8832</td>\n",
       "      <td>3.7113</td>\n",
       "      <td>0.0436</td>\n",
       "    </tr>\n",
       "    <tr>\n",
       "      <th>Residual</th>\n",
       "      <td>19.0</td>\n",
       "      <td>39716.0972</td>\n",
       "      <td>2090.3209</td>\n",
       "      <td>NaN</td>\n",
       "      <td>NaN</td>\n",
       "    </tr>\n",
       "  </tbody>\n",
       "</table>\n",
       "</div>"
      ],
      "text/plain": [
       "                df      sum_sq    mean_sq       F  PR(>F)\n",
       "C(treatment)   2.0  15515.7664  7757.8832  3.7113  0.0436\n",
       "Residual      19.0  39716.0972  2090.3209     NaN     NaN"
      ]
     },
     "execution_count": 20,
     "metadata": {},
     "output_type": "execute_result"
    }
   ],
   "source": [
    "sm_results = anova_lm(model)\n",
    "sm_results.round(4)"
   ]
  },
  {
   "cell_type": "markdown",
   "id": "ae0ce5a9",
   "metadata": {},
   "source": [
    "La salida de statsmodel se puede interpretar de la siguiente manera: \n",
    "- Primero se calculan las “Sumas de cuadrados (SS)”. \n",
    "    - El SS entre tratamientos es 15515.88\n",
    "    - El SS de los residuos es 39716.09. \n",
    "    - El SS total es la suma de estos 2 valores. \n",
    "- Los cuadrados medios (MS) son los SS divididos por los grados de libertad (DF) correspondientes. \n",
    "- La prueba F o prueba de relación de varianza se utiliza para comparar los factores de la desviación total. \n",
    "    - El valor F es el valor de los cuadrados medios más grande dividido por el valor más pequeño. \n",
    "    - Si solo tenemos 2 grupos, el valor F es el cuadrado del valor t correspondiente. \n",
    "\n",
    "$ F = \\frac{\\textit{variación_entre_tratamientos}}{\\textit{variación_dentro_tratamientos}} $\n",
    "\n",
    "$ F = \\frac{MS_{Tratamientos}}{MS_{Error}} = \\frac{\\frac{SS_{Tratamientos}}{(n_{Grupos})-1}}{\\frac{SS_{Error}}{(n_{Total}-n_{Grupos})}}$\n",
    "\n",
    "- Bajo la hipótesis nula de que 2 poblaciones normalmente distribuidas tienen varianzas iguales, esperamos que la razón de las 2 varianzas muestrales tenga una Distribución F. \n",
    "    - A partir del valor F, podemos ver el correspondiente valor-p."
   ]
  },
  {
   "cell_type": "code",
   "execution_count": 21,
   "id": "ebd58509",
   "metadata": {},
   "outputs": [],
   "source": [
    "# Comprobar si los dos resultados son iguales. Si lo son, no hay salida.\n",
    "np.testing.assert_almost_equal(F_statistic, sm_results['F'][0])"
   ]
  },
  {
   "cell_type": "markdown",
   "id": "f33b7f17",
   "metadata": {},
   "source": [
    "Calcular el ANOVA a mano."
   ]
  },
  {
   "cell_type": "code",
   "execution_count": 22,
   "id": "2c1ce769",
   "metadata": {},
   "outputs": [
    {
     "data": {
      "text/plain": [
       "array([[243.,   1.],\n",
       "       [251.,   1.],\n",
       "       [275.,   1.],\n",
       "       [291.,   1.],\n",
       "       [347.,   1.],\n",
       "       [354.,   1.],\n",
       "       [380.,   1.],\n",
       "       [392.,   1.],\n",
       "       [206.,   2.],\n",
       "       [210.,   2.],\n",
       "       [226.,   2.],\n",
       "       [249.,   2.],\n",
       "       [255.,   2.],\n",
       "       [273.,   2.],\n",
       "       [285.,   2.],\n",
       "       [295.,   2.],\n",
       "       [309.,   2.],\n",
       "       [241.,   3.],\n",
       "       [258.,   3.],\n",
       "       [270.,   3.],\n",
       "       [293.,   3.],\n",
       "       [328.,   3.]])"
      ]
     },
     "execution_count": 22,
     "metadata": {},
     "output_type": "execute_result"
    }
   ],
   "source": [
    "# Datos\n",
    "inFile = r'Datos/altman_910.txt'\n",
    "data = np.genfromtxt(inFile, delimiter=',')\n",
    "data"
   ]
  },
  {
   "cell_type": "code",
   "execution_count": 23,
   "id": "dd2a335f",
   "metadata": {},
   "outputs": [
    {
     "data": {
      "text/html": [
       "<div>\n",
       "<style scoped>\n",
       "    .dataframe tbody tr th:only-of-type {\n",
       "        vertical-align: middle;\n",
       "    }\n",
       "\n",
       "    .dataframe tbody tr th {\n",
       "        vertical-align: top;\n",
       "    }\n",
       "\n",
       "    .dataframe thead th {\n",
       "        text-align: right;\n",
       "    }\n",
       "</style>\n",
       "<table border=\"1\" class=\"dataframe\">\n",
       "  <thead>\n",
       "    <tr style=\"text-align: right;\">\n",
       "      <th></th>\n",
       "      <th>values</th>\n",
       "      <th>group</th>\n",
       "    </tr>\n",
       "  </thead>\n",
       "  <tbody>\n",
       "    <tr>\n",
       "      <th>0</th>\n",
       "      <td>243.0</td>\n",
       "      <td>1.0</td>\n",
       "    </tr>\n",
       "    <tr>\n",
       "      <th>1</th>\n",
       "      <td>251.0</td>\n",
       "      <td>1.0</td>\n",
       "    </tr>\n",
       "    <tr>\n",
       "      <th>2</th>\n",
       "      <td>275.0</td>\n",
       "      <td>1.0</td>\n",
       "    </tr>\n",
       "    <tr>\n",
       "      <th>3</th>\n",
       "      <td>291.0</td>\n",
       "      <td>1.0</td>\n",
       "    </tr>\n",
       "    <tr>\n",
       "      <th>4</th>\n",
       "      <td>347.0</td>\n",
       "      <td>1.0</td>\n",
       "    </tr>\n",
       "  </tbody>\n",
       "</table>\n",
       "</div>"
      ],
      "text/plain": [
       "   values  group\n",
       "0   243.0    1.0\n",
       "1   251.0    1.0\n",
       "2   275.0    1.0\n",
       "3   291.0    1.0\n",
       "4   347.0    1.0"
      ]
     },
     "execution_count": 23,
     "metadata": {},
     "output_type": "execute_result"
    }
   ],
   "source": [
    "df = pd.DataFrame(data, columns=['values', 'group'])\n",
    "df.head()"
   ]
  },
  {
   "cell_type": "code",
   "execution_count": 24,
   "id": "ddc4012c",
   "metadata": {},
   "outputs": [
    {
     "data": {
      "text/plain": [
       "<pandas.core.groupby.generic.DataFrameGroupBy object at 0x000001EDCCD23310>"
      ]
     },
     "execution_count": 24,
     "metadata": {},
     "output_type": "execute_result"
    }
   ],
   "source": [
    "groups = df.groupby('group')\n",
    "groups"
   ]
  },
  {
   "cell_type": "code",
   "execution_count": 25,
   "id": "18e589bc",
   "metadata": {},
   "outputs": [
    {
     "data": {
      "text/plain": [
       "55231.86363636364"
      ]
     },
     "execution_count": 25,
     "metadata": {},
     "output_type": "execute_result"
    }
   ],
   "source": [
    "# La \"suma cuadrática total\" es la desviación al cuadrado de la media\n",
    "ss_total = np.sum((df['values']-df['values'].mean())**2)\n",
    "ss_total"
   ]
  },
  {
   "cell_type": "code",
   "execution_count": 26,
   "id": "a499cd3f",
   "metadata": {},
   "outputs": [],
   "source": [
    "# Calcular ss_tratamiento y ss_error\n",
    "(ss_treatments, ss_error) = (0, 0)\n",
    "for val, group in groups:\n",
    "    ss_error += sum((group['values'] - group['values'].mean())**2)\n",
    "    ss_treatments += len(group) * (group['values'].mean() - df['values'].mean())**2\n",
    "\n",
    "df_groups = len(groups)-1\n",
    "df_residuals = len(data)-len(groups)\n",
    "F = (ss_treatments/df_groups) / (ss_error/df_residuals)\n",
    "df = stats.f(df_groups,df_residuals)\n",
    "p = df.sf(F)"
   ]
  },
  {
   "cell_type": "code",
   "execution_count": 28,
   "id": "625af0a5",
   "metadata": {},
   "outputs": [
    {
     "name": "stdout",
     "output_type": "stream",
     "text": [
      "ANOVA-Resultados: F = 3.711, p < 0.044\n"
     ]
    }
   ],
   "source": [
    "print(f'ANOVA-Resultados: F = {F:5.3f}, p < {p:.3f}')"
   ]
  },
  {
   "cell_type": "markdown",
   "id": "be552e05",
   "metadata": {},
   "source": [
    "Equivalencia de la prueba t y la prueba F, para comparar 2 grupos."
   ]
  },
  {
   "cell_type": "code",
   "execution_count": 29,
   "id": "27b809e8",
   "metadata": {},
   "outputs": [
    {
     "data": {
      "text/html": [
       "<div>\n",
       "<style scoped>\n",
       "    .dataframe tbody tr th:only-of-type {\n",
       "        vertical-align: middle;\n",
       "    }\n",
       "\n",
       "    .dataframe tbody tr th {\n",
       "        vertical-align: top;\n",
       "    }\n",
       "\n",
       "    .dataframe thead th {\n",
       "        text-align: right;\n",
       "    }\n",
       "</style>\n",
       "<table border=\"1\" class=\"dataframe\">\n",
       "  <thead>\n",
       "    <tr style=\"text-align: right;\">\n",
       "      <th></th>\n",
       "      <th>family</th>\n",
       "      <th>father</th>\n",
       "      <th>mother</th>\n",
       "      <th>sex</th>\n",
       "      <th>height</th>\n",
       "      <th>nkids</th>\n",
       "    </tr>\n",
       "  </thead>\n",
       "  <tbody>\n",
       "    <tr>\n",
       "      <th>0</th>\n",
       "      <td>1</td>\n",
       "      <td>78.5</td>\n",
       "      <td>67.0</td>\n",
       "      <td>M</td>\n",
       "      <td>73.2</td>\n",
       "      <td>4</td>\n",
       "    </tr>\n",
       "    <tr>\n",
       "      <th>1</th>\n",
       "      <td>1</td>\n",
       "      <td>78.5</td>\n",
       "      <td>67.0</td>\n",
       "      <td>F</td>\n",
       "      <td>69.2</td>\n",
       "      <td>4</td>\n",
       "    </tr>\n",
       "    <tr>\n",
       "      <th>2</th>\n",
       "      <td>1</td>\n",
       "      <td>78.5</td>\n",
       "      <td>67.0</td>\n",
       "      <td>F</td>\n",
       "      <td>69.0</td>\n",
       "      <td>4</td>\n",
       "    </tr>\n",
       "    <tr>\n",
       "      <th>3</th>\n",
       "      <td>1</td>\n",
       "      <td>78.5</td>\n",
       "      <td>67.0</td>\n",
       "      <td>F</td>\n",
       "      <td>69.0</td>\n",
       "      <td>4</td>\n",
       "    </tr>\n",
       "    <tr>\n",
       "      <th>4</th>\n",
       "      <td>2</td>\n",
       "      <td>75.5</td>\n",
       "      <td>66.5</td>\n",
       "      <td>M</td>\n",
       "      <td>73.5</td>\n",
       "      <td>4</td>\n",
       "    </tr>\n",
       "    <tr>\n",
       "      <th>...</th>\n",
       "      <td>...</td>\n",
       "      <td>...</td>\n",
       "      <td>...</td>\n",
       "      <td>...</td>\n",
       "      <td>...</td>\n",
       "      <td>...</td>\n",
       "    </tr>\n",
       "    <tr>\n",
       "      <th>893</th>\n",
       "      <td>136A</td>\n",
       "      <td>68.5</td>\n",
       "      <td>65.0</td>\n",
       "      <td>M</td>\n",
       "      <td>68.5</td>\n",
       "      <td>8</td>\n",
       "    </tr>\n",
       "    <tr>\n",
       "      <th>894</th>\n",
       "      <td>136A</td>\n",
       "      <td>68.5</td>\n",
       "      <td>65.0</td>\n",
       "      <td>M</td>\n",
       "      <td>67.7</td>\n",
       "      <td>8</td>\n",
       "    </tr>\n",
       "    <tr>\n",
       "      <th>895</th>\n",
       "      <td>136A</td>\n",
       "      <td>68.5</td>\n",
       "      <td>65.0</td>\n",
       "      <td>F</td>\n",
       "      <td>64.0</td>\n",
       "      <td>8</td>\n",
       "    </tr>\n",
       "    <tr>\n",
       "      <th>896</th>\n",
       "      <td>136A</td>\n",
       "      <td>68.5</td>\n",
       "      <td>65.0</td>\n",
       "      <td>F</td>\n",
       "      <td>63.5</td>\n",
       "      <td>8</td>\n",
       "    </tr>\n",
       "    <tr>\n",
       "      <th>897</th>\n",
       "      <td>136A</td>\n",
       "      <td>68.5</td>\n",
       "      <td>65.0</td>\n",
       "      <td>F</td>\n",
       "      <td>63.0</td>\n",
       "      <td>8</td>\n",
       "    </tr>\n",
       "  </tbody>\n",
       "</table>\n",
       "<p>898 rows × 6 columns</p>\n",
       "</div>"
      ],
      "text/plain": [
       "    family  father  mother sex  height  nkids\n",
       "0        1    78.5    67.0   M    73.2      4\n",
       "1        1    78.5    67.0   F    69.2      4\n",
       "2        1    78.5    67.0   F    69.0      4\n",
       "3        1    78.5    67.0   F    69.0      4\n",
       "4        2    75.5    66.5   M    73.5      4\n",
       "..     ...     ...     ...  ..     ...    ...\n",
       "893   136A    68.5    65.0   M    68.5      8\n",
       "894   136A    68.5    65.0   M    67.7      8\n",
       "895   136A    68.5    65.0   F    64.0      8\n",
       "896   136A    68.5    65.0   F    63.5      8\n",
       "897   136A    68.5    65.0   F    63.0      8\n",
       "\n",
       "[898 rows x 6 columns]"
      ]
     },
     "execution_count": 29,
     "metadata": {},
     "output_type": "execute_result"
    }
   ],
   "source": [
    "# Datos\n",
    "data = pd.read_csv(r'Datos/galton.csv')\n",
    "data"
   ]
  },
  {
   "cell_type": "code",
   "execution_count": 30,
   "id": "6a524d24",
   "metadata": {},
   "outputs": [],
   "source": [
    "# Calculo los valores F y T, ...\n",
    "F_statistic, pVal = stats.f_oneway(data['father'], data['mother'])"
   ]
  },
  {
   "cell_type": "code",
   "execution_count": 31,
   "id": "2ad42aa2",
   "metadata": {},
   "outputs": [
    {
     "data": {
      "text/plain": [
       "2083.4808060362743"
      ]
     },
     "execution_count": 31,
     "metadata": {},
     "output_type": "execute_result"
    }
   ],
   "source": [
    "F_statistic"
   ]
  },
  {
   "cell_type": "code",
   "execution_count": 32,
   "id": "951c6e8e",
   "metadata": {},
   "outputs": [
    {
     "data": {
      "text/plain": [
       "1.4431979631307123e-302"
      ]
     },
     "execution_count": 32,
     "metadata": {},
     "output_type": "execute_result"
    }
   ],
   "source": [
    "pVal"
   ]
  },
  {
   "cell_type": "code",
   "execution_count": 33,
   "id": "163df3d6",
   "metadata": {},
   "outputs": [],
   "source": [
    "t_val, pVal_t = stats.ttest_ind(data['father'], data['mother'])"
   ]
  },
  {
   "cell_type": "code",
   "execution_count": 34,
   "id": "e60f9943",
   "metadata": {},
   "outputs": [
    {
     "data": {
      "text/plain": [
       "45.64516191269643"
      ]
     },
     "execution_count": 34,
     "metadata": {},
     "output_type": "execute_result"
    }
   ],
   "source": [
    "t_val"
   ]
  },
  {
   "cell_type": "code",
   "execution_count": 35,
   "id": "458f84a0",
   "metadata": {},
   "outputs": [
    {
     "data": {
      "text/plain": [
       "1.443197963131157e-302"
      ]
     },
     "execution_count": 35,
     "metadata": {},
     "output_type": "execute_result"
    }
   ],
   "source": [
    "pVal_t"
   ]
  },
  {
   "cell_type": "code",
   "execution_count": 36,
   "id": "16d99553",
   "metadata": {},
   "outputs": [
    {
     "name": "stdout",
     "output_type": "stream",
     "text": [
      "De la prueba t obtenemos t^2 = 45.645, y de la prueba F F = 2083.481.\n"
     ]
    }
   ],
   "source": [
    "print(f'De la prueba t obtenemos t^2 = {t_val:2.3f}, y de la prueba F F = {F_statistic:4.3f}.')"
   ]
  },
  {
   "cell_type": "code",
   "execution_count": 37,
   "id": "34432ad0",
   "metadata": {},
   "outputs": [],
   "source": [
    "# prueba numérica\n",
    "np.testing.assert_almost_equal(t_val**2, F_statistic)"
   ]
  },
  {
   "cell_type": "markdown",
   "id": "bec95d33",
   "metadata": {},
   "source": [
    "## 8.3.2 Comparaciones múltiples"
   ]
  },
  {
   "cell_type": "markdown",
   "id": "f906a304",
   "metadata": {},
   "source": [
    "La hipótesis nula en un ANOVA de una vía es que las medias de todas las muestras son las mismas. \n",
    "\n",
    "Si un ANOVA de una vía arroja un resultado significativo, solo sabemos que no son lo mismo. \n",
    "\n",
    "A menudo no solo nos interesa la hipótesis conjunta si todas las muestras son iguales, sino que también nos gustaría saber para qué pares de muestras se rechaza la hipótesis de valores iguales. \n",
    "\n",
    "En este caso, realizamos varias pruebas al mismo tiempo, una prueba para cada par de muestras. \n",
    "- Por lo general, esto se hace con pruebas t. \n",
    "\n",
    "Estas pruebas a veces se denominan análisis post-hoc (“después de esto”). \n",
    "\n",
    "En el diseño y análisis de experimentos, un análisis post-hoc consiste en buscar en los datos (después de que el experimento haya concluido) patrones que no se especificaron de antemano. \n",
    "\n",
    "Este es el caso, porque la hipótesis nula del ANOVA es que no hay diferencia entre los grupos. \n",
    "\n",
    "Esto resulta en un problema de prueba múltiple: dado que realizamos pruebas de comparación múltiple, debemos compensar el riesgo de obtener un resultado significativo, incluso si nuestra hipótesis nula es cierta. Esto se puede hacer corrigiendo los valores de p para tener en cuenta esto. \n",
    "\n",
    "Tenemos varias opciones para hacerlo: \n",
    "- Prueba Tukey HSD \n",
    "- Corrección de Bonferroni \n",
    "- Corrección de Holms \n",
    "- Otras"
   ]
  },
  {
   "cell_type": "markdown",
   "id": "3f91edbc",
   "metadata": {},
   "source": [
    "### a) Test de Tukey"
   ]
  },
  {
   "cell_type": "markdown",
   "id": "f56dbd89",
   "metadata": {},
   "source": [
    "También denominada método de prueba de diferencia significativa honesta (HSD) de Tukey.\n",
    "\n",
    "Controla la tasa de error de tipo I en múltiples comparaciones.\n",
    "\n",
    "Se considera una técnica aceptable. \n",
    "\n",
    "Se basa en el rango estudentizado (q). \n",
    "\n",
    "Este se calcula a partir de una lista de números $x_1, ..., x_n$\n",
    "\n",
    "$ q_n = \\frac{max\\{x_1, ..., x_n\\} - min\\{x_1, ..., x_n\\}}{s} $\n",
    "\n",
    "s es la desviación estándar de la muestra. \n",
    "\n",
    "La muestra es una muestra de medias y q es el estadístico de prueba básico. \n",
    "\n",
    "Puede usarse como análisis post hoc para probar entre qué dos grupos significa que hay una diferencia significativa (comparaciones por pares) después de rechazar la hipótesis nula de que todos los grupos son de la misma población (todas las medias son iguales)."
   ]
  },
  {
   "cell_type": "code",
   "execution_count": 38,
   "id": "dfd5c54f",
   "metadata": {},
   "outputs": [],
   "source": [
    "# El primer y último campo son números enteros de 32 bits; el segundo campo es una cadena de 8 bytes. \n",
    "# ¡Tenga en cuenta que aquí también podemos dar nombres a los campos individuales!\n",
    "\n",
    "data = np.rec.array([\n",
    "                     (1, 'mental', 2),\n",
    "                     (2, 'mental', 2),\n",
    "                     (3, 'mental', 3 ),\n",
    "                     (4, 'mental', 4 ),\n",
    "                     (5, 'mental', 4 ),\n",
    "                     (6, 'mental', 5 ),\n",
    "                     (7, 'mental', 3 ),\n",
    "                     (8, 'mental', 4 ),\n",
    "                     (9, 'mental', 4 ),\n",
    "                     (10, 'mental', 4 ),\n",
    "                     (11, 'physical', 4 ),\n",
    "                     (12, 'physical', 4 ),\n",
    "                     (13, 'physical', 3 ),\n",
    "                     (14, 'physical', 5 ),\n",
    "                     (15, 'physical', 4 ),\n",
    "                     (16, 'physical', 1 ),\n",
    "                     (17, 'physical', 1 ),\n",
    "                     (18, 'physical', 2 ),\n",
    "                     (19, 'physical', 3 ),\n",
    "                     (20, 'physical', 3 ),\n",
    "                     (21, 'medical', 1 ),\n",
    "                     (22, 'medical', 2 ),\n",
    "                     (23, 'medical', 2 ),\n",
    "                     (24, 'medical', 2 ),\n",
    "                     (25, 'medical', 3 ),\n",
    "                     (26, 'medical', 2 ),\n",
    "                     (27, 'medical', 3 ),\n",
    "                     (28, 'medical', 1 ),\n",
    "                     (29, 'medical', 3 ),\n",
    "                     (30, 'medical', 1 )], dtype=[('idx', '<i4'),\n",
    "                                    ('Treatment', '|S8'),\n",
    "                                    ('StressReduction', '<i4')])"
   ]
  },
  {
   "cell_type": "code",
   "execution_count": 43,
   "id": "b1b29514",
   "metadata": {},
   "outputs": [
    {
     "data": {
      "text/html": [
       "<div>\n",
       "<style scoped>\n",
       "    .dataframe tbody tr th:only-of-type {\n",
       "        vertical-align: middle;\n",
       "    }\n",
       "\n",
       "    .dataframe tbody tr th {\n",
       "        vertical-align: top;\n",
       "    }\n",
       "\n",
       "    .dataframe thead th {\n",
       "        text-align: right;\n",
       "    }\n",
       "</style>\n",
       "<table border=\"1\" class=\"dataframe\">\n",
       "  <thead>\n",
       "    <tr style=\"text-align: right;\">\n",
       "      <th></th>\n",
       "      <th>idx</th>\n",
       "      <th>Treatment</th>\n",
       "      <th>StressReduction</th>\n",
       "    </tr>\n",
       "  </thead>\n",
       "  <tbody>\n",
       "    <tr>\n",
       "      <th>0</th>\n",
       "      <td>1</td>\n",
       "      <td>b'mental'</td>\n",
       "      <td>2</td>\n",
       "    </tr>\n",
       "    <tr>\n",
       "      <th>1</th>\n",
       "      <td>2</td>\n",
       "      <td>b'mental'</td>\n",
       "      <td>2</td>\n",
       "    </tr>\n",
       "    <tr>\n",
       "      <th>2</th>\n",
       "      <td>3</td>\n",
       "      <td>b'mental'</td>\n",
       "      <td>3</td>\n",
       "    </tr>\n",
       "    <tr>\n",
       "      <th>3</th>\n",
       "      <td>4</td>\n",
       "      <td>b'mental'</td>\n",
       "      <td>4</td>\n",
       "    </tr>\n",
       "    <tr>\n",
       "      <th>4</th>\n",
       "      <td>5</td>\n",
       "      <td>b'mental'</td>\n",
       "      <td>4</td>\n",
       "    </tr>\n",
       "  </tbody>\n",
       "</table>\n",
       "</div>"
      ],
      "text/plain": [
       "   idx  Treatment  StressReduction\n",
       "0    1  b'mental'                2\n",
       "1    2  b'mental'                2\n",
       "2    3  b'mental'                3\n",
       "3    4  b'mental'                4\n",
       "4    5  b'mental'                4"
      ]
     },
     "execution_count": 43,
     "metadata": {},
     "output_type": "execute_result"
    }
   ],
   "source": [
    "df = pd.DataFrame(data)\n",
    "df.head()"
   ]
  },
  {
   "cell_type": "markdown",
   "id": "1e650359",
   "metadata": {},
   "source": [
    "ANOVA de una vía"
   ]
  },
  {
   "cell_type": "code",
   "execution_count": 45,
   "id": "ad50dcb7",
   "metadata": {},
   "outputs": [
    {
     "name": "stdout",
     "output_type": "stream",
     "text": [
      "                            OLS Regression Results                            \n",
      "==============================================================================\n",
      "Dep. Variable:        StressReduction   R-squared:                       0.277\n",
      "Model:                            OLS   Adj. R-squared:                  0.223\n",
      "Method:                 Least Squares   F-statistic:                     5.164\n",
      "Date:                Fri, 28 Jul 2023   Prob (F-statistic):             0.0126\n",
      "Time:                        11:20:19   Log-Likelihood:                -42.816\n",
      "No. Observations:                  30   AIC:                             91.63\n",
      "Df Residuals:                      27   BIC:                             95.84\n",
      "Df Model:                           2                                         \n",
      "Covariance Type:            nonrobust                                         \n",
      "============================================================================================\n",
      "                               coef    std err          t      P>|t|      [0.025      0.975]\n",
      "--------------------------------------------------------------------------------------------\n",
      "Intercept                    2.0000      0.336      5.951      0.000       1.310       2.690\n",
      "C(Treatment)[T.mental]       1.5000      0.475      3.156      0.004       0.525       2.475\n",
      "C(Treatment)[T.physical]     1.0000      0.475      2.104      0.045       0.025       1.975\n",
      "==============================================================================\n",
      "Omnibus:                        0.893   Durbin-Watson:                   1.385\n",
      "Prob(Omnibus):                  0.640   Jarque-Bera (JB):                0.918\n",
      "Skew:                          -0.293   Prob(JB):                        0.632\n",
      "Kurtosis:                       2.374   Cond. No.                         3.73\n",
      "==============================================================================\n",
      "\n",
      "Notes:\n",
      "[1] Standard Errors assume that the covariance matrix of the errors is correctly specified.\n"
     ]
    }
   ],
   "source": [
    "model = smf.ols('StressReduction ~ C(Treatment)',df).fit()\n",
    "print(model.summary())"
   ]
  },
  {
   "cell_type": "code",
   "execution_count": 47,
   "id": "0bfc6453",
   "metadata": {},
   "outputs": [
    {
     "data": {
      "text/html": [
       "<div>\n",
       "<style scoped>\n",
       "    .dataframe tbody tr th:only-of-type {\n",
       "        vertical-align: middle;\n",
       "    }\n",
       "\n",
       "    .dataframe tbody tr th {\n",
       "        vertical-align: top;\n",
       "    }\n",
       "\n",
       "    .dataframe thead th {\n",
       "        text-align: right;\n",
       "    }\n",
       "</style>\n",
       "<table border=\"1\" class=\"dataframe\">\n",
       "  <thead>\n",
       "    <tr style=\"text-align: right;\">\n",
       "      <th></th>\n",
       "      <th>df</th>\n",
       "      <th>sum_sq</th>\n",
       "      <th>mean_sq</th>\n",
       "      <th>F</th>\n",
       "      <th>PR(&gt;F)</th>\n",
       "    </tr>\n",
       "  </thead>\n",
       "  <tbody>\n",
       "    <tr>\n",
       "      <th>C(Treatment)</th>\n",
       "      <td>2.0</td>\n",
       "      <td>11.666667</td>\n",
       "      <td>5.833333</td>\n",
       "      <td>5.163934</td>\n",
       "      <td>0.012617</td>\n",
       "    </tr>\n",
       "    <tr>\n",
       "      <th>Residual</th>\n",
       "      <td>27.0</td>\n",
       "      <td>30.500000</td>\n",
       "      <td>1.129630</td>\n",
       "      <td>NaN</td>\n",
       "      <td>NaN</td>\n",
       "    </tr>\n",
       "  </tbody>\n",
       "</table>\n",
       "</div>"
      ],
      "text/plain": [
       "                df     sum_sq   mean_sq         F    PR(>F)\n",
       "C(Treatment)   2.0  11.666667  5.833333  5.163934  0.012617\n",
       "Residual      27.0  30.500000  1.129630       NaN       NaN"
      ]
     },
     "execution_count": 47,
     "metadata": {},
     "output_type": "execute_result"
    }
   ],
   "source": [
    "anovaResults =  anova_lm(model)\n",
    "anovaResults"
   ]
  },
  {
   "cell_type": "code",
   "execution_count": 48,
   "id": "3b6c829f",
   "metadata": {},
   "outputs": [
    {
     "name": "stdout",
     "output_type": "stream",
     "text": [
      "Uno de los grupos es diferente.\n"
     ]
    }
   ],
   "source": [
    "if anovaResults['PR(>F)'][0] < 0.05:\n",
    "    print('Uno de los grupos es diferente.')\n",
    "else: \n",
    "    print('Ninguno de los grupos es diferente.')"
   ]
  },
  {
   "cell_type": "markdown",
   "id": "d0d116ae",
   "metadata": {},
   "source": [
    "Test de Tukey"
   ]
  },
  {
   "cell_type": "code",
   "execution_count": 50,
   "id": "e60dc1f7",
   "metadata": {},
   "outputs": [],
   "source": [
    "from statsmodels.stats.multicomp import (pairwise_tukeyhsd, MultiComparison)"
   ]
  },
  {
   "cell_type": "code",
   "execution_count": 52,
   "id": "61a09fe0",
   "metadata": {},
   "outputs": [
    {
     "name": "stdout",
     "output_type": "stream",
     "text": [
      "    Multiple Comparison of Means - Tukey HSD, FWER=0.05     \n",
      "============================================================\n",
      "  group1      group2   meandiff p-adj   lower  upper  reject\n",
      "------------------------------------------------------------\n",
      "b'medical'   b'mental'      1.5 0.0106  0.3215 2.6785   True\n",
      "b'medical' b'physical'      1.0 0.1079 -0.1785 2.1785  False\n",
      " b'mental' b'physical'     -0.5 0.5514 -1.6785 0.6785  False\n",
      "------------------------------------------------------------\n"
     ]
    }
   ],
   "source": [
    "multiComp = MultiComparison(data['StressReduction'], data['Treatment'])\n",
    "print((multiComp.tukeyhsd().summary()))"
   ]
  },
  {
   "cell_type": "code",
   "execution_count": 53,
   "id": "8f0ff4df",
   "metadata": {},
   "outputs": [],
   "source": [
    "# Calculo los valores-p:\n",
    "res2 = pairwise_tukeyhsd(data['StressReduction'], data['Treatment'])\n",
    "numData = len(df)\n",
    "numTreatments = len(df.Treatment.unique())\n",
    "dof = numData - numTreatments"
   ]
  },
  {
   "cell_type": "code",
   "execution_count": 54,
   "id": "13924abd",
   "metadata": {},
   "outputs": [
    {
     "name": "stdout",
     "output_type": "stream",
     "text": [
      "[b'medical' b'mental' b'physical']\n"
     ]
    }
   ],
   "source": [
    "# Mostrar los nombres de los grupos\n",
    "print(multiComp.groupsunique)"
   ]
  },
  {
   "cell_type": "code",
   "execution_count": 55,
   "id": "dde870eb",
   "metadata": {},
   "outputs": [],
   "source": [
    "# Datos\n",
    "xvals = np.arange(3)\n",
    "res2 = pairwise_tukeyhsd(data['StressReduction'], data['Treatment'])\n",
    "errors = np.ravel(np.diff(res2.confint)/2)"
   ]
  },
  {
   "cell_type": "code",
   "execution_count": 56,
   "id": "c6e7ec23",
   "metadata": {},
   "outputs": [
    {
     "data": {
      "image/png": "[encoded data removed]",
      "text/plain": [
       "<Figure size 640x480 with 1 Axes>"
      ]
     },
     "metadata": {},
     "output_type": "display_data"
    }
   ],
   "source": [
    "# Gráfico\n",
    "plt.plot(xvals, res2.meandiffs, 'o')\n",
    "plt.errorbar(xvals, res2.meandiffs, yerr=errors, fmt='o')\n",
    "\n",
    "# Etiquetas\n",
    "pair_labels = multiComp.groupsunique[np.column_stack(res2._multicomp.pairindices)]\n",
    "plt.xticks(xvals, pair_labels)\n",
    "\n",
    "xlim = -0.5, 2.5\n",
    "plt.hlines(0, *xlim)\n",
    "plt.xlim(*xlim)\n",
    "plt.title('Comparación múltiple de medias - Tukey HSD, FWER=0.05\\n Diferencias de medias por pares')\n",
    "\n",
    "plt.show()"
   ]
  },
  {
   "cell_type": "markdown",
   "id": "7b26e049",
   "metadata": {},
   "source": [
    "### b) Corrección de Bonferroni"
   ]
  },
  {
   "cell_type": "markdown",
   "id": "dfc8ef7d",
   "metadata": {},
   "source": [
    "La prueba de rango estudentizado de Tukey (HSD) es una prueba específica para la comparación de todos los pares de $k$ muestras independientes.\n",
    "\n",
    "Podemos ejecutar pruebas t en todos los pares, calcular los valores p y aplicar una de las correcciones del valor p para múltiples problemas de prueba. \n",
    "\n",
    "El enfoque más simple es dividir el valor p requerido por el número de pruebas que hacemos (corrección de Bonferroni). \n",
    "\n",
    "Ej: si realiza 4 comparaciones, verifica la significación no en p = 0.05, sino en p = 0.05/4 = 0.0125. "
   ]
  },
  {
   "cell_type": "code",
   "execution_count": 65,
   "id": "675d9f55",
   "metadata": {},
   "outputs": [
    {
     "data": {
      "text/plain": [
       "(array([False, False,  True]),\n",
       " array([0.15, 0.9 , 0.03]),\n",
       " 0.016952427508441503,\n",
       " 0.016666666666666666)"
      ]
     },
     "execution_count": 65,
     "metadata": {},
     "output_type": "execute_result"
    }
   ],
   "source": [
    "from statsmodels.stats.multitest import multipletests\n",
    "multipletests([.05, 0.3, 0.01], method='bonferroni')"
   ]
  },
  {
   "cell_type": "markdown",
   "id": "32445ba6",
   "metadata": {},
   "source": [
    "### c) Ajuste de Holm"
   ]
  },
  {
   "cell_type": "markdown",
   "id": "afdf1847",
   "metadata": {},
   "source": [
    "También denominado método de Holm-Bonferroni.\n",
    "\n",
    "Compara secuencialmente el valor p más bajo con una tasa de error de tipo I que se reduce para cada prueba consecutiva. \n",
    "\n",
    "Ej: Si tiene 3 grupos (y, por lo tanto, tres comparaciones), esto significa que el primer valor p se prueba en el nivel 0.05/3 = 0,017, el segundo en el nivel 0.05/2 = 0.025 y el tercero en el nivel 0.05/1 = 0.05. \n",
    "\n",
    "Holm (1979) “Excepto en casos triviales sin interés, la prueba de Bonferroni secuencialmente rechazante [es decir, el método de Holm-Bonferroni] tiene una probabilidad estrictamente mayor de rechazar hipótesis falsas, por lo que debería reemplazar la prueba clásica de Bonferroni en todos los instantes en los que esta última suele aplicarse.”"
   ]
  },
  {
   "cell_type": "code",
   "execution_count": 60,
   "id": "eb43d27e",
   "metadata": {},
   "outputs": [
    {
     "data": {
      "text/plain": [
       "(<class 'statsmodels.iolib.table.SimpleTable'>,\n",
       " (array([[-4.02492236e+00,  2.99577745e-03],\n",
       "         [-1.93649167e+00,  8.47852128e-02],\n",
       "         [ 8.32050294e-01,  4.26905707e-01]]),\n",
       "  array([ True, False, False]),\n",
       "  array([0.00898733, 0.16957043, 0.42690571]),\n",
       "  0.016952427508441503,\n",
       "  0.016666666666666666),\n",
       " array([(b'medical', b'mental', -4.0249, 0.003 , 0.009 ,  True),\n",
       "        (b'medical', b'physical', -1.9365, 0.0848, 0.1696, False),\n",
       "        (b'mental', b'physical',  0.8321, 0.4269, 0.4269, False)],\n",
       "       dtype=[('group1', 'O'), ('group2', 'O'), ('stat', '<f8'), ('pval', '<f8'), ('pval_corr', '<f8'), ('reject', '?')]))"
      ]
     },
     "execution_count": 60,
     "metadata": {},
     "output_type": "execute_result"
    }
   ],
   "source": [
    "# Primero, con la corrección \"Holm\"\n",
    "rtp = multiComp.allpairtest(stats.ttest_rel, method='Holm')\n",
    "rtp"
   ]
  },
  {
   "cell_type": "code",
   "execution_count": 61,
   "id": "b1e741cb",
   "metadata": {},
   "outputs": [
    {
     "name": "stdout",
     "output_type": "stream",
     "text": [
      "Test Multiple Comparison ttest_rel \n",
      "FWER=0.05 method=Holm\n",
      "alphacSidak=0.02, alphacBonf=0.017\n",
      "======================================================\n",
      "  group1      group2     stat   pval  pval_corr reject\n",
      "------------------------------------------------------\n",
      "b'medical'   b'mental' -4.0249  0.003     0.009   True\n",
      "b'medical' b'physical' -1.9365 0.0848    0.1696  False\n",
      " b'mental' b'physical'  0.8321 0.4269    0.4269  False\n",
      "------------------------------------------------------\n"
     ]
    }
   ],
   "source": [
    "print(rtp[0])"
   ]
  },
  {
   "cell_type": "code",
   "execution_count": 62,
   "id": "3561482f",
   "metadata": {},
   "outputs": [
    {
     "data": {
      "text/plain": [
       "(<class 'statsmodels.iolib.table.SimpleTable'>,\n",
       " (array([[-4.02492236e+00,  2.99577745e-03],\n",
       "         [-1.93649167e+00,  8.47852128e-02],\n",
       "         [ 8.32050294e-01,  4.26905707e-01]]),\n",
       "  array([ True, False, False]),\n",
       "  array([0.00898733, 0.25435564, 1.        ]),\n",
       "  0.016952427508441503,\n",
       "  0.016666666666666666),\n",
       " array([(b'medical', b'mental', -4.0249, 0.003 , 0.009 ,  True),\n",
       "        (b'medical', b'physical', -1.9365, 0.0848, 0.2544, False),\n",
       "        (b'mental', b'physical',  0.8321, 0.4269, 1.    , False)],\n",
       "       dtype=[('group1', 'O'), ('group2', 'O'), ('stat', '<f8'), ('pval', '<f8'), ('pval_corr', '<f8'), ('reject', '?')]))"
      ]
     },
     "execution_count": 62,
     "metadata": {},
     "output_type": "execute_result"
    }
   ],
   "source": [
    "# y luego con la corrección de Bonferroni\n",
    "multiComp.allpairtest(stats.ttest_rel, method='b')"
   ]
  },
  {
   "cell_type": "code",
   "execution_count": 63,
   "id": "c13b45df",
   "metadata": {},
   "outputs": [
    {
     "name": "stdout",
     "output_type": "stream",
     "text": [
      "Test Multiple Comparison ttest_rel \n",
      "FWER=0.05 method=b\n",
      "alphacSidak=0.02, alphacBonf=0.017\n",
      "======================================================\n",
      "  group1      group2     stat   pval  pval_corr reject\n",
      "------------------------------------------------------\n",
      "b'medical'   b'mental' -4.0249  0.003     0.009   True\n",
      "b'medical' b'physical' -1.9365 0.0848    0.2544  False\n",
      " b'mental' b'physical'  0.8321 0.4269       1.0  False\n",
      "------------------------------------------------------\n"
     ]
    }
   ],
   "source": [
    "print((multiComp.allpairtest(stats.ttest_rel, method='b')[0]))"
   ]
  },
  {
   "cell_type": "code",
   "execution_count": 64,
   "id": "6a691126",
   "metadata": {},
   "outputs": [
    {
     "data": {
      "text/plain": [
       "-4.024922359499621"
      ]
     },
     "execution_count": 64,
     "metadata": {},
     "output_type": "execute_result"
    }
   ],
   "source": [
    "# Chequeo el programa para probar su correcta ejecución\n",
    "checkVal = rtp[1][0][0,0]\n",
    "checkVal"
   ]
  },
  {
   "cell_type": "markdown",
   "id": "25d4c5c1",
   "metadata": {},
   "source": [
    "## 8.3.3 Test de Kruskal–Wallis "
   ]
  },
  {
   "cell_type": "markdown",
   "id": "8565c730",
   "metadata": {},
   "source": [
    "Cuando comparamos 2 grupos entre sí, usamos la prueba t cuando los datos se distribuyen normalmente, y la prueba no paramétrica de Mann-Whitney en caso contrario. \n",
    "\n",
    "Para 3 o más grupos, el análisis comienza con la verificación de la normalidad y la prueba de Levene, que verifica si las variables son comparables.\n",
    "\n",
    "Si ese es el caso, se puede proceder con la prueba ANOVA; si no es el caso, entonces se debe utilizar la prueba de Kruskal-Wallis. "
   ]
  },
  {
   "cell_type": "code",
   "execution_count": 66,
   "id": "cec8c254",
   "metadata": {},
   "outputs": [],
   "source": [
    "from scipy.stats.mstats import kruskalwallis"
   ]
  },
  {
   "cell_type": "markdown",
   "id": "70c9041c",
   "metadata": {},
   "source": [
    "Comparación de los niveles de smog en cuatro ciudades diferentes."
   ]
  },
  {
   "cell_type": "code",
   "execution_count": 67,
   "id": "f1ea3495",
   "metadata": {},
   "outputs": [],
   "source": [
    "# Datos\n",
    "city1 = np.array([68, 93, 123, 83, 108, 122])\n",
    "city2 = np.array([119, 116, 101, 103, 113, 84])\n",
    "city3 = np.array([70, 68, 54, 73, 81, 68])\n",
    "city4 = np.array([61, 54, 59, 67, 59, 70])"
   ]
  },
  {
   "cell_type": "code",
   "execution_count": 68,
   "id": "452b3220",
   "metadata": {},
   "outputs": [],
   "source": [
    "# Realizar la prueba de Kruskal-Wallis\n",
    "h, p = kruskalwallis(city1, city2, city3, city4)"
   ]
  },
  {
   "cell_type": "code",
   "execution_count": 69,
   "id": "8d0dd153",
   "metadata": {},
   "outputs": [
    {
     "data": {
      "text/plain": [
       "16.028783253379856"
      ]
     },
     "execution_count": 69,
     "metadata": {},
     "output_type": "execute_result"
    }
   ],
   "source": [
    "h"
   ]
  },
  {
   "cell_type": "code",
   "execution_count": 70,
   "id": "6616e74c",
   "metadata": {},
   "outputs": [
    {
     "data": {
      "text/plain": [
       "0.0011186794961869423"
      ]
     },
     "execution_count": 70,
     "metadata": {},
     "output_type": "execute_result"
    }
   ],
   "source": [
    "p"
   ]
  },
  {
   "cell_type": "code",
   "execution_count": 71,
   "id": "d90f1cd1",
   "metadata": {},
   "outputs": [
    {
     "name": "stdout",
     "output_type": "stream",
     "text": [
      "Hay una diferencia significativa entre las ciudades.\n"
     ]
    }
   ],
   "source": [
    "if p < 0.05:\n",
    "    print('Hay una diferencia significativa entre las ciudades.')\n",
    "else:\n",
    "    print('No hay diferencia significativa entre las ciudades.')"
   ]
  },
  {
   "cell_type": "markdown",
   "id": "1628179c",
   "metadata": {},
   "source": [
    "## 8.3.4 ANOVA de dos vías"
   ]
  },
  {
   "cell_type": "markdown",
   "id": "e3747ea4",
   "metadata": {},
   "source": [
    "En comparación con los ANOVA de una vía, el análisis con ANOVA de 2 vías tiene un elemento nuevo. \n",
    "\n",
    "Podemos mirar no solo si cada uno de los factores es significativo; también podemos comprobar si la interacción de los factores tiene una influencia significativa en la distribución de los datos. \n",
    "\n",
    "Ej: La medición de la circunferencia de la cabeza fetal, por 4 observadores en 3 fetos, de un estudio que investiga la reproducibilidad de los datos ultrasónicos de la circunferencia de la cabeza fetal."
   ]
  },
  {
   "cell_type": "code",
   "execution_count": 72,
   "id": "446bc5c8",
   "metadata": {},
   "outputs": [
    {
     "data": {
      "text/plain": [
       "array([[14.3,  1. ,  1. ],\n",
       "       [14. ,  1. ,  1. ],\n",
       "       [14.8,  1. ,  1. ],\n",
       "       [13.6,  1. ,  2. ],\n",
       "       [13.6,  1. ,  2. ],\n",
       "       [13.8,  1. ,  2. ],\n",
       "       [13.9,  1. ,  3. ],\n",
       "       [13.7,  1. ,  3. ],\n",
       "       [13.8,  1. ,  3. ],\n",
       "       [13.8,  1. ,  4. ],\n",
       "       [14.7,  1. ,  4. ],\n",
       "       [13.9,  1. ,  4. ],\n",
       "       [19.7,  2. ,  1. ],\n",
       "       [19.9,  2. ,  1. ],\n",
       "       [19.8,  2. ,  1. ],\n",
       "       [19.8,  2. ,  2. ],\n",
       "       [19.3,  2. ,  2. ],\n",
       "       [19.8,  2. ,  2. ],\n",
       "       [19.5,  2. ,  3. ],\n",
       "       [19.8,  2. ,  3. ],\n",
       "       [19.5,  2. ,  3. ],\n",
       "       [19.8,  2. ,  4. ],\n",
       "       [19.6,  2. ,  4. ],\n",
       "       [19.8,  2. ,  4. ],\n",
       "       [13. ,  3. ,  1. ],\n",
       "       [12.6,  3. ,  1. ],\n",
       "       [12.9,  3. ,  1. ],\n",
       "       [12.4,  3. ,  2. ],\n",
       "       [12.8,  3. ,  2. ],\n",
       "       [12.5,  3. ,  2. ],\n",
       "       [12.8,  3. ,  3. ],\n",
       "       [12.7,  3. ,  3. ],\n",
       "       [12.5,  3. ,  3. ],\n",
       "       [13. ,  3. ,  4. ],\n",
       "       [12.9,  3. ,  4. ],\n",
       "       [13.8,  3. ,  4. ]])"
      ]
     },
     "execution_count": 72,
     "metadata": {},
     "output_type": "execute_result"
    }
   ],
   "source": [
    "# Datos\n",
    "inFile = r'Datos/altman_12_6.txt'\n",
    "data = np.genfromtxt(inFile, delimiter=',')\n",
    "data"
   ]
  },
  {
   "cell_type": "code",
   "execution_count": 73,
   "id": "dbb5bb66",
   "metadata": {},
   "outputs": [
    {
     "data": {
      "text/html": [
       "<div>\n",
       "<style scoped>\n",
       "    .dataframe tbody tr th:only-of-type {\n",
       "        vertical-align: middle;\n",
       "    }\n",
       "\n",
       "    .dataframe tbody tr th {\n",
       "        vertical-align: top;\n",
       "    }\n",
       "\n",
       "    .dataframe thead th {\n",
       "        text-align: right;\n",
       "    }\n",
       "</style>\n",
       "<table border=\"1\" class=\"dataframe\">\n",
       "  <thead>\n",
       "    <tr style=\"text-align: right;\">\n",
       "      <th></th>\n",
       "      <th>hs</th>\n",
       "      <th>fetus</th>\n",
       "      <th>observer</th>\n",
       "    </tr>\n",
       "  </thead>\n",
       "  <tbody>\n",
       "    <tr>\n",
       "      <th>0</th>\n",
       "      <td>14.3</td>\n",
       "      <td>1.0</td>\n",
       "      <td>1.0</td>\n",
       "    </tr>\n",
       "    <tr>\n",
       "      <th>1</th>\n",
       "      <td>14.0</td>\n",
       "      <td>1.0</td>\n",
       "      <td>1.0</td>\n",
       "    </tr>\n",
       "    <tr>\n",
       "      <th>2</th>\n",
       "      <td>14.8</td>\n",
       "      <td>1.0</td>\n",
       "      <td>1.0</td>\n",
       "    </tr>\n",
       "    <tr>\n",
       "      <th>3</th>\n",
       "      <td>13.6</td>\n",
       "      <td>1.0</td>\n",
       "      <td>2.0</td>\n",
       "    </tr>\n",
       "    <tr>\n",
       "      <th>4</th>\n",
       "      <td>13.6</td>\n",
       "      <td>1.0</td>\n",
       "      <td>2.0</td>\n",
       "    </tr>\n",
       "  </tbody>\n",
       "</table>\n",
       "</div>"
      ],
      "text/plain": [
       "     hs  fetus  observer\n",
       "0  14.3    1.0       1.0\n",
       "1  14.0    1.0       1.0\n",
       "2  14.8    1.0       1.0\n",
       "3  13.6    1.0       2.0\n",
       "4  13.6    1.0       2.0"
      ]
     },
     "execution_count": 73,
     "metadata": {},
     "output_type": "execute_result"
    }
   ],
   "source": [
    "df = pd.DataFrame(data, columns=['hs', 'fetus', 'observer'])\n",
    "df.head()"
   ]
  },
  {
   "cell_type": "code",
   "execution_count": 75,
   "id": "c3fd66d3",
   "metadata": {},
   "outputs": [
    {
     "name": "stdout",
     "output_type": "stream",
     "text": [
      "                            OLS Regression Results                            \n",
      "==============================================================================\n",
      "Dep. Variable:                     hs   R-squared:                       0.994\n",
      "Model:                            OLS   Adj. R-squared:                  0.992\n",
      "Method:                 Least Squares   F-statistic:                     386.3\n",
      "Date:                Fri, 28 Jul 2023   Prob (F-statistic):           3.29e-24\n",
      "Time:                        12:10:53   Log-Likelihood:                 2.4458\n",
      "No. Observations:                  36   AIC:                             19.11\n",
      "Df Residuals:                      24   BIC:                             38.11\n",
      "Df Model:                          11                                         \n",
      "Covariance Type:            nonrobust                                         \n",
      "======================================================================================================\n",
      "                                         coef    std err          t      P>|t|      [0.025      0.975]\n",
      "------------------------------------------------------------------------------------------------------\n",
      "Intercept                             14.3667      0.160     89.870      0.000      14.037      14.697\n",
      "C(fetus)[T.2.0]                        5.4333      0.226     24.033      0.000       4.967       5.900\n",
      "C(fetus)[T.3.0]                       -1.5333      0.226     -6.782      0.000      -2.000      -1.067\n",
      "C(observer)[T.2.0]                    -0.7000      0.226     -3.096      0.005      -1.167      -0.233\n",
      "C(observer)[T.3.0]                    -0.5667      0.226     -2.507      0.019      -1.033      -0.100\n",
      "C(observer)[T.4.0]                    -0.2333      0.226     -1.032      0.312      -0.700       0.233\n",
      "C(fetus)[T.2.0]:C(observer)[T.2.0]     0.5333      0.320      1.668      0.108      -0.127       1.193\n",
      "C(fetus)[T.3.0]:C(observer)[T.2.0]     0.4333      0.320      1.355      0.188      -0.227       1.093\n",
      "C(fetus)[T.2.0]:C(observer)[T.3.0]     0.3667      0.320      1.147      0.263      -0.293       1.027\n",
      "C(fetus)[T.3.0]:C(observer)[T.3.0]     0.4000      0.320      1.251      0.223      -0.260       1.060\n",
      "C(fetus)[T.2.0]:C(observer)[T.4.0]     0.1667      0.320      0.521      0.607      -0.493       0.827\n",
      "C(fetus)[T.3.0]:C(observer)[T.4.0]     0.6333      0.320      1.981      0.059      -0.027       1.293\n",
      "==============================================================================\n",
      "Omnibus:                        3.922   Durbin-Watson:                   2.753\n",
      "Prob(Omnibus):                  0.141   Jarque-Bera (JB):                2.759\n",
      "Skew:                           0.654   Prob(JB):                        0.252\n",
      "Kurtosis:                       3.356   Cond. No.                         17.9\n",
      "==============================================================================\n",
      "\n",
      "Notes:\n",
      "[1] Standard Errors assume that the covariance matrix of the errors is correctly specified.\n"
     ]
    }
   ],
   "source": [
    "lm = smf.ols('hs ~ C(fetus) + C(observer) + C(fetus):C(observer)', data = df).fit()\n",
    "print(lm.summary())"
   ]
  },
  {
   "cell_type": "code",
   "execution_count": 77,
   "id": "f88cb24f",
   "metadata": {},
   "outputs": [
    {
     "data": {
      "text/html": [
       "<div>\n",
       "<style scoped>\n",
       "    .dataframe tbody tr th:only-of-type {\n",
       "        vertical-align: middle;\n",
       "    }\n",
       "\n",
       "    .dataframe tbody tr th {\n",
       "        vertical-align: top;\n",
       "    }\n",
       "\n",
       "    .dataframe thead th {\n",
       "        text-align: right;\n",
       "    }\n",
       "</style>\n",
       "<table border=\"1\" class=\"dataframe\">\n",
       "  <thead>\n",
       "    <tr style=\"text-align: right;\">\n",
       "      <th></th>\n",
       "      <th>df</th>\n",
       "      <th>sum_sq</th>\n",
       "      <th>mean_sq</th>\n",
       "      <th>F</th>\n",
       "      <th>PR(&gt;F)</th>\n",
       "    </tr>\n",
       "  </thead>\n",
       "  <tbody>\n",
       "    <tr>\n",
       "      <th>C(fetus)</th>\n",
       "      <td>2.0</td>\n",
       "      <td>324.0089</td>\n",
       "      <td>162.0044</td>\n",
       "      <td>2113.1014</td>\n",
       "      <td>0.0000</td>\n",
       "    </tr>\n",
       "    <tr>\n",
       "      <th>C(observer)</th>\n",
       "      <td>3.0</td>\n",
       "      <td>1.1986</td>\n",
       "      <td>0.3995</td>\n",
       "      <td>5.2114</td>\n",
       "      <td>0.0065</td>\n",
       "    </tr>\n",
       "    <tr>\n",
       "      <th>C(fetus):C(observer)</th>\n",
       "      <td>6.0</td>\n",
       "      <td>0.5622</td>\n",
       "      <td>0.0937</td>\n",
       "      <td>1.2222</td>\n",
       "      <td>0.3296</td>\n",
       "    </tr>\n",
       "    <tr>\n",
       "      <th>Residual</th>\n",
       "      <td>24.0</td>\n",
       "      <td>1.8400</td>\n",
       "      <td>0.0767</td>\n",
       "      <td>NaN</td>\n",
       "      <td>NaN</td>\n",
       "    </tr>\n",
       "  </tbody>\n",
       "</table>\n",
       "</div>"
      ],
      "text/plain": [
       "                        df    sum_sq   mean_sq          F  PR(>F)\n",
       "C(fetus)               2.0  324.0089  162.0044  2113.1014  0.0000\n",
       "C(observer)            3.0    1.1986    0.3995     5.2114  0.0065\n",
       "C(fetus):C(observer)   6.0    0.5622    0.0937     1.2222  0.3296\n",
       "Residual              24.0    1.8400    0.0767        NaN     NaN"
      ]
     },
     "execution_count": 77,
     "metadata": {},
     "output_type": "execute_result"
    }
   ],
   "source": [
    "# Usar ANOVA con interacción\n",
    "sm_results = anova_lm(lm)\n",
    "sm_results.round(4)"
   ]
  },
  {
   "cell_type": "code",
   "execution_count": 78,
   "id": "a16c3f48",
   "metadata": {},
   "outputs": [
    {
     "data": {
      "text/html": [
       "<div>\n",
       "<style scoped>\n",
       "    .dataframe tbody tr th:only-of-type {\n",
       "        vertical-align: middle;\n",
       "    }\n",
       "\n",
       "    .dataframe tbody tr th {\n",
       "        vertical-align: top;\n",
       "    }\n",
       "\n",
       "    .dataframe thead th {\n",
       "        text-align: right;\n",
       "    }\n",
       "</style>\n",
       "<table border=\"1\" class=\"dataframe\">\n",
       "  <thead>\n",
       "    <tr style=\"text-align: right;\">\n",
       "      <th></th>\n",
       "      <th>Source</th>\n",
       "      <th>SS</th>\n",
       "      <th>DF</th>\n",
       "      <th>MS</th>\n",
       "      <th>F</th>\n",
       "      <th>p-unc</th>\n",
       "      <th>np2</th>\n",
       "    </tr>\n",
       "  </thead>\n",
       "  <tbody>\n",
       "    <tr>\n",
       "      <th>0</th>\n",
       "      <td>fetus</td>\n",
       "      <td>324.0089</td>\n",
       "      <td>2</td>\n",
       "      <td>162.0044</td>\n",
       "      <td>2113.1014</td>\n",
       "      <td>0.0000</td>\n",
       "      <td>0.9944</td>\n",
       "    </tr>\n",
       "    <tr>\n",
       "      <th>1</th>\n",
       "      <td>observer</td>\n",
       "      <td>1.1986</td>\n",
       "      <td>3</td>\n",
       "      <td>0.3995</td>\n",
       "      <td>5.2114</td>\n",
       "      <td>0.0065</td>\n",
       "      <td>0.3945</td>\n",
       "    </tr>\n",
       "    <tr>\n",
       "      <th>2</th>\n",
       "      <td>fetus * observer</td>\n",
       "      <td>0.5622</td>\n",
       "      <td>6</td>\n",
       "      <td>0.0937</td>\n",
       "      <td>1.2222</td>\n",
       "      <td>0.3296</td>\n",
       "      <td>0.2340</td>\n",
       "    </tr>\n",
       "    <tr>\n",
       "      <th>3</th>\n",
       "      <td>Residual</td>\n",
       "      <td>1.8400</td>\n",
       "      <td>24</td>\n",
       "      <td>0.0767</td>\n",
       "      <td>NaN</td>\n",
       "      <td>NaN</td>\n",
       "      <td>NaN</td>\n",
       "    </tr>\n",
       "  </tbody>\n",
       "</table>\n",
       "</div>"
      ],
      "text/plain": [
       "             Source        SS  DF        MS          F   p-unc     np2\n",
       "0             fetus  324.0089   2  162.0044  2113.1014  0.0000  0.9944\n",
       "1          observer    1.1986   3    0.3995     5.2114  0.0065  0.3945\n",
       "2  fetus * observer    0.5622   6    0.0937     1.2222  0.3296  0.2340\n",
       "3          Residual    1.8400  24    0.0767        NaN     NaN     NaN"
      ]
     },
     "execution_count": 78,
     "metadata": {},
     "output_type": "execute_result"
    }
   ],
   "source": [
    "# Con pingouin\n",
    "pg_results = pg.anova(dv='hs', between=['fetus', 'observer'],data=df)\n",
    "pg_results.round(4)"
   ]
  },
  {
   "cell_type": "markdown",
   "id": "9707258a",
   "metadata": {},
   "source": [
    "Diferentes fetos muestran diferencias altamente significativas en el tamaño de su cabeza (p < 0.001). \n",
    "\n",
    "La elección del observador tiene un efecto significativo (p < 0.05). \n",
    "\n",
    "Ningún observador individual estuvo significativamente equivocado con ningún feto individual (p > 0,05)."
   ]
  },
  {
   "cell_type": "markdown",
   "id": "58337198",
   "metadata": {},
   "source": [
    "## 8.3.5 ANOVA de 3 vías"
   ]
  },
  {
   "cell_type": "markdown",
   "id": "65772a2e",
   "metadata": {},
   "source": [
    "Con más de 2 factores, es recomendable utilizar modelos estadísticos para el análisis de datos. \n",
    "\n",
    "Sin embargo, como siempre ocurre con el análisis de datos estadísticos, primero se deben inspeccionar los datos visualmente.\n",
    "\n",
    "Ej: frecuencia del pulso después de (1/15/30) minutos de (reposo/caminar/correr), en 2 grupos que siguen dietas diferentes."
   ]
  },
  {
   "cell_type": "code",
   "execution_count": 2,
   "id": "e8b21f02",
   "metadata": {},
   "outputs": [
    {
     "data": {
      "text/html": [
       "<div>\n",
       "<style scoped>\n",
       "    .dataframe tbody tr th:only-of-type {\n",
       "        vertical-align: middle;\n",
       "    }\n",
       "\n",
       "    .dataframe tbody tr th {\n",
       "        vertical-align: top;\n",
       "    }\n",
       "\n",
       "    .dataframe thead th {\n",
       "        text-align: right;\n",
       "    }\n",
       "</style>\n",
       "<table border=\"1\" class=\"dataframe\">\n",
       "  <thead>\n",
       "    <tr style=\"text-align: right;\">\n",
       "      <th></th>\n",
       "      <th>id</th>\n",
       "      <th>diet</th>\n",
       "      <th>pulse</th>\n",
       "      <th>time</th>\n",
       "      <th>kind</th>\n",
       "    </tr>\n",
       "  </thead>\n",
       "  <tbody>\n",
       "    <tr>\n",
       "      <th>0</th>\n",
       "      <td>1</td>\n",
       "      <td>low fat</td>\n",
       "      <td>85</td>\n",
       "      <td>1 min</td>\n",
       "      <td>rest</td>\n",
       "    </tr>\n",
       "    <tr>\n",
       "      <th>1</th>\n",
       "      <td>1</td>\n",
       "      <td>low fat</td>\n",
       "      <td>85</td>\n",
       "      <td>15 min</td>\n",
       "      <td>rest</td>\n",
       "    </tr>\n",
       "    <tr>\n",
       "      <th>2</th>\n",
       "      <td>1</td>\n",
       "      <td>low fat</td>\n",
       "      <td>88</td>\n",
       "      <td>30 min</td>\n",
       "      <td>rest</td>\n",
       "    </tr>\n",
       "    <tr>\n",
       "      <th>3</th>\n",
       "      <td>2</td>\n",
       "      <td>low fat</td>\n",
       "      <td>90</td>\n",
       "      <td>1 min</td>\n",
       "      <td>rest</td>\n",
       "    </tr>\n",
       "    <tr>\n",
       "      <th>4</th>\n",
       "      <td>2</td>\n",
       "      <td>low fat</td>\n",
       "      <td>92</td>\n",
       "      <td>15 min</td>\n",
       "      <td>rest</td>\n",
       "    </tr>\n",
       "  </tbody>\n",
       "</table>\n",
       "</div>"
      ],
      "text/plain": [
       "   id     diet  pulse    time  kind\n",
       "0   1  low fat     85   1 min  rest\n",
       "1   1  low fat     85  15 min  rest\n",
       "2   1  low fat     88  30 min  rest\n",
       "3   2  low fat     90   1 min  rest\n",
       "4   2  low fat     92  15 min  rest"
      ]
     },
     "execution_count": 2,
     "metadata": {},
     "output_type": "execute_result"
    }
   ],
   "source": [
    "df = sns.load_dataset(\"exercise\")\n",
    "df = df.drop('Unnamed: 0', axis=1)\n",
    "df.head()"
   ]
  },
  {
   "cell_type": "code",
   "execution_count": 6,
   "id": "450b230b",
   "metadata": {},
   "outputs": [
    {
     "data": {
      "image/png": "[encoded data removed]",
      "text/plain": [
       "<Figure size 882.75x500 with 2 Axes>"
      ]
     },
     "metadata": {},
     "output_type": "display_data"
    }
   ],
   "source": [
    "sns.set(style=\"whitegrid\", font_scale=1.25)\n",
    "\n",
    "sns.catplot(x=\"time\", y=\"pulse\", hue=\"kind\", col=\"diet\",\n",
    "            data=df, kind=\"point\",\n",
    "            hue_order=[\"rest\", \"walking\", \"running\"],\n",
    "            palette=\"YlGnBu_d\", aspect=.75)\n",
    "\n",
    "plt.show()"
   ]
  },
  {
   "cell_type": "markdown",
   "id": "d799d6ab",
   "metadata": {},
   "source": [
    "## 8.3.6 Test de Friedman "
   ]
  },
  {
   "cell_type": "markdown",
   "id": "1ce43b57",
   "metadata": {},
   "source": [
    "Es la prueba de rango para más de 2 grupos de datos emparejados. \n",
    "\n",
    "Ej: 10 pianistas profesionales tienen los ojos vendados y se les pide que juzguen la calidad de 3 pianos diferentes. \n",
    "\n",
    "Cada jugador califica cada piano en una escala de 1 a 10 (siendo 1 la calificación más baja posible y 10 la calificación más alta posible). \n",
    "\n",
    "La hipótesis nula es que los 3 pianos tienen la misma calificación. \n",
    "\n",
    "Para probar la hipótesis nula, se utiliza la prueba de Friedman sobre las calificaciones de los 10 pianistas. \n",
    "\n",
    "En los casos en que el ANOVA de medidas repetidas de una vía no es apropiado, la transformación de rango seguida de ANOVA proporcionará una prueba más robusta con mayor poder estadístico que la prueba de Friedman (Thom Baguley) (http:// www.r-bloggers.com/beware-the-friedman-test/)."
   ]
  },
  {
   "cell_type": "markdown",
   "id": "679fba94",
   "metadata": {},
   "source": [
    "# 8.4 Resumen: Selección de la prueba adecuada para comparar grupos"
   ]
  },
  {
   "cell_type": "markdown",
   "id": "292325c9",
   "metadata": {},
   "source": [
    "Cuando tenemos datos univariados y 2 grupos, podemos hacer la pregunta: \"¿Son diferentes?\"\n",
    "\n",
    "La respuesta se obtiene mediante pruebas de hipótesis: \n",
    "- Mediante una prueba t \n",
    "    - Si los datos se distribuyen normalmente\n",
    "- Mediante una prueba de Mann-Whitney\n",
    "    - En caso contrario. \n",
    "    \n",
    "¿Qué sucede cuando tenemos más de 2 grupos? \n",
    "\n",
    "Para responder a la pregunta \"¿Son diferentes?\" para más de 2 grupos, tenemos que empezar con comprobaciones de normalidad y con la prueba de Levene para comprobar la igualdad de las varianzas. \n",
    "- Si ese es el caso\n",
    "    - Procedemos con ANOVA. \n",
    "- Si no se cumple esta condición\n",
    "    - Se debe utilizar la prueba de Kruskal-Wallis. \n",
    "    \n",
    "Si estas pruebas indican que se debe rechazar la hipótesis nula, entonces se deben usar pruebas post hoc para averiguar qué grupos son significativamente diferentes entre sí. \n",
    "\n",
    "¿Qué debemos hacer si tenemos datos emparejados? \n",
    "\n",
    "Si hemos emparejado pares para 2 grupos y las diferencias no se distribuyen normalmente, podemos usar la prueba de la suma de rangos con signo de Wilcoxon. \n",
    "\n",
    "La prueba de rango para más de dos grupos de datos emparejados es la prueba de Friedman.\n",
    "\n",
    "|Grupos comparados|Muestras independientes|Muestras emparejadas|\n",
    "|---|---|---|\n",
    "|Datos nominales| | |\n",
    "|2|Prueba exacta de Fisher o prueba de chi-cuadrado (para >2 grupos)|Test de McNemar|\n",
    "|Datos ordinales| | |\n",
    "|1|Prueba de suma de rangos con signo de Wilcoxon|-|\n",
    "|2|Prueba U de Mann-Whitney|Prueba de suma de rango con signo de Wilcoxon|\n",
    "|3 o más|Test de Kruskal-Wallis|Test de Friedman|\n",
    "|Datos continuos| | |\n",
    "|1|Prueba t de una muestra o prueba de suma de rangos con signo de Wilcoxon|-|\n",
    "|2|Prueba t de Student o prueba de Mann-Whitney|Prueba t pareada o prueba de suma de rangos con signo de Wilcoxon|\n",
    "|3 o más|Prueba ANOVA o Kruskal-Wallis|Medidas repetidas ANOVA o prueba de Friedman|\n",
    "\n",
    "Ejemplos hipotéticos\n",
    "- 2 grupos, nominal \n",
    "    - masculino/femenino, ojos rubios/ojos oscuros. \n",
    "    - ¿Las mujeres tienen ojos azules con más frecuencia que los hombres? \n",
    " \n",
    "- 2 grupos, nominales, emparejados \n",
    "    - 2 laboratorios, análisis de muestras de sangre. \n",
    "    - ¿El análisis de sangre de Lab1 indica más infecciones que el análisis de Lab2? \n",
    "\n",
    "- 1 grupo, ordinal\n",
    "    - Secuencia de planetas gigantes. \n",
    "    - En nuestro sistema solar, ¿los planetas gigantes están más alejados que el promedio en la secuencia de planetas?\n",
    "\n",
    "- 2 grupos, ordinal \n",
    "    - jamaicano/estadounidense, ranking 100 m sprint. \n",
    "    - ¿Son los velocistas jamaicanos más exitosos que los velocistas estadounidenses? \n",
    "    \n",
    "- 2 grupos, ordinal, emparejados\n",
    "    - Velocistas, dieta antes/después. \n",
    "    - ¿La dieta del chocolate hace que los velocistas sean más exitosos? \n",
    "    \n",
    "- 3 o más grupos, ordinales \n",
    "    - solteros/casados/divorciados, ranking 100 m sprint. \n",
    "    - ¿El estado civil tiene un efecto en el éxito de los velocistas?\n",
    "    \n",
    "- 3 o más grupos, ordinales, emparejados\n",
    "    - Velocistas de EEUU, China y Rusia, antes/después de la dieta. \n",
    "    - ¿Una dieta de arroz hace que los velocistas chinos sean más exitosos?\n",
    "    \n",
    "- 1 grupo, continuo\n",
    "    - Ingesta calórica media. \n",
    "    - ¿Nuestros hijos comen más de lo que deberían?\n",
    "    \n",
    "- 2 grupos, continuo\n",
    "    - masculino/femenino, IQ. \n",
    "    - ¿Son las mujeres más inteligentes que los hombres? \n",
    "    \n",
    "- 2 grupos, continuos, emparejados \n",
    "    - Hombre, mirando autos deportivos. \n",
    "    - ¿Mirar autos deportivos aumenta el latido del corazón masculino más que el latido del corazón femenino? \n",
    "    \n",
    "- 3 grupos, continuos \n",
    "    - Tiroleses, vieneses, estirios; coeficiente intelectual \n",
    "    - ¿Son los tiroleses más inteligentes que las personas de otros estados federales de Austria? \n",
    "\n",
    "- 3 grupos, continuos, emparejados\n",
    "    - Tiroleses, vieneses, estirenos; mirando las montañas. \n",
    "    - ¿Mirar las montañas eleva más los latidos del corazón de los tiroleses que los de otras personas?\n",
    "\n",
    "- ANOVA de 2 factores \n",
    "    - pequeño/grande y masculino/femenino. \n",
    "    - ¿Los hombres altos tienen un ingreso más alto?"
   ]
  },
  {
   "cell_type": "markdown",
   "id": "a41f459b",
   "metadata": {},
   "source": [
    "# 8.5 Exercises"
   ]
  },
  {
   "cell_type": "markdown",
   "id": "2f01ed48",
   "metadata": {},
   "source": [
    "1. Uno o dos grupos \n",
    "\n",
    "a) Prueba t de una muestra para la media y Prueba de suma de rango con signo de Wilcoxon\n",
    "\n",
    "La ingesta diaria de energía de 11 mujeres sanas es\n",
    "\n",
    "[5260, 5470, 5640, 6180, 6390, 6515, 6805, 7515, 7515, 8230, 8770] kJ. \n",
    "\n",
    "¿Es este valor significativamente diferente del valor recomendado de 7725?\n",
    "\n",
    "b) Prueba t de muestras independientes \n",
    "\n",
    "En una clínica, 15 pacientes perezosos pesan [76, 101, 66, 72, 88, 82, 79, 73, 76, 85, 75, 64, 76, 81, 86.] kg, y 15 pacientes deportistas pesan [64, 65, 56, 62, 59, 76, 66, 82, 91, 57, 92, 80, 82, 67, 54] kg. \n",
    "\n",
    "¿Son los pacientes perezosos significativamente más pesados? \n",
    "\n",
    "c) Prueba de normalidad \n",
    "\n",
    "¿Se distribuyen normalmente los dos conjuntos de datos? \n",
    "\n",
    "d) Prueba de Mann-Whitney \n",
    "\n",
    "¿Son los pacientes perezosos aún más pesados, si se comprueba con la prueba de Mann-Whitney?"
   ]
  },
  {
   "cell_type": "markdown",
   "id": "fe1c42fd",
   "metadata": {},
   "source": [
    "$\\textbf{a)}$"
   ]
  },
  {
   "cell_type": "code",
   "execution_count": 14,
   "id": "fb0e7723",
   "metadata": {},
   "outputs": [
    {
     "data": {
      "text/plain": [
       "array([5260., 5470., 5640., 6180., 6390., 6515., 6805., 7515., 7515.,\n",
       "       8230., 8770.])"
      ]
     },
     "execution_count": 14,
     "metadata": {},
     "output_type": "execute_result"
    }
   ],
   "source": [
    "# Datos\n",
    "data = np.array([5260, 5470, 5640, 6180, 6390,\n",
    "                 6515, 6805, 7515, 7515, 8230, 8770],\n",
    "                dtype=float)\n",
    "data"
   ]
  },
  {
   "cell_type": "code",
   "execution_count": 15,
   "id": "3c1e4baa",
   "metadata": {},
   "outputs": [],
   "source": [
    "checkValue = 7725"
   ]
  },
  {
   "cell_type": "code",
   "execution_count": 16,
   "id": "10408777",
   "metadata": {},
   "outputs": [],
   "source": [
    "alpha = 0.05"
   ]
  },
  {
   "cell_type": "code",
   "execution_count": 17,
   "id": "0fe730cb",
   "metadata": {},
   "outputs": [
    {
     "name": "stdout",
     "output_type": "stream",
     "text": [
      "Los datos se distribuyen normalmente, p = 0.681\n"
     ]
    }
   ],
   "source": [
    "# (1) Prueba de normalidad\n",
    "# No necesitamos el primer parámetro, así que simplemente asignamos la salida a la variable ficticia \"_\"\n",
    "(_, p) = stats.normaltest(data)\n",
    "if p < alpha:\n",
    "    print('Los datos se distribuyen normalmente.')\n",
    "else:\n",
    "    print(f'Los datos se distribuyen normalmente, p = {p:.3f}')"
   ]
  },
  {
   "cell_type": "code",
   "execution_count": 18,
   "id": "19831068",
   "metadata": {},
   "outputs": [],
   "source": [
    "# (2) Haga la prueba t de una muestra\n",
    "t, prob = stats.ttest_1samp(data, checkValue)"
   ]
  },
  {
   "cell_type": "code",
   "execution_count": 19,
   "id": "5e86b7a2",
   "metadata": {},
   "outputs": [
    {
     "data": {
      "text/plain": [
       "-2.8207540608310193"
      ]
     },
     "execution_count": 19,
     "metadata": {},
     "output_type": "execute_result"
    }
   ],
   "source": [
    "t"
   ]
  },
  {
   "cell_type": "code",
   "execution_count": 20,
   "id": "f9ec3d63",
   "metadata": {},
   "outputs": [
    {
     "data": {
      "text/plain": [
       "0.018137235176105812"
      ]
     },
     "execution_count": 20,
     "metadata": {},
     "output_type": "execute_result"
    }
   ],
   "source": [
    "prob"
   ]
  },
  {
   "cell_type": "code",
   "execution_count": 21,
   "id": "d0a7cd6a",
   "metadata": {},
   "outputs": [
    {
     "name": "stdout",
     "output_type": "stream",
     "text": [
      "Con la prueba t de una muestra, 7725 es significativamente diferente de la media (p = 0.018).\n"
     ]
    }
   ],
   "source": [
    "if prob < alpha:\n",
    "    print(f'Con la prueba t de una muestra, {checkValue} es significativamente diferente de la media (p = {prob:5.3f}).')\n",
    "else:\n",
    "    print('No hay diferencia con el valor de referencia con la prueba t de una muestra.')"
   ]
  },
  {
   "cell_type": "code",
   "execution_count": 22,
   "id": "2dcba034",
   "metadata": {},
   "outputs": [],
   "source": [
    "# (3) Esta implementación de la prueba de Wilcoxon verifica la \"diferencia\" de un vector de datos de cero\n",
    "(_,p) = stats.wilcoxon(data-checkValue, correction=True)"
   ]
  },
  {
   "cell_type": "code",
   "execution_count": 23,
   "id": "bda135a0",
   "metadata": {},
   "outputs": [
    {
     "data": {
      "text/plain": [
       "0.0244140625"
      ]
     },
     "execution_count": 23,
     "metadata": {},
     "output_type": "execute_result"
    }
   ],
   "source": [
    "p"
   ]
  },
  {
   "cell_type": "code",
   "execution_count": 24,
   "id": "a054bc72",
   "metadata": {},
   "outputs": [
    {
     "name": "stdout",
     "output_type": "stream",
     "text": [
      "Con la prueba de Wilcoxon, 7725.00 es significativamente diferente de la media (p=0.024).\n"
     ]
    }
   ],
   "source": [
    "if p < alpha:\n",
    "    print(f'Con la prueba de Wilcoxon, {checkValue:4.2f} es significativamente diferente de la media (p={p:5.3f}).')\n",
    "else:\n",
    "    print('Sin diferencia con el valor de referencia con la prueba de suma de rangos de Wilcoxon.')"
   ]
  },
  {
   "cell_type": "markdown",
   "id": "33266754",
   "metadata": {},
   "source": [
    "$\\textbf{b)}$"
   ]
  },
  {
   "cell_type": "code",
   "execution_count": 41,
   "id": "34564d69",
   "metadata": {},
   "outputs": [],
   "source": [
    "# Datos\n",
    "data1 = [76, 101, 66, 72, 88, 82, 79, 73, 76, 85, 75, 64, 76, 81, 86]\n",
    "data2 = [64, 65, 56, 62, 59, 76, 66, 82, 91, 57, 92, 80, 82, 67, 54]"
   ]
  },
  {
   "cell_type": "code",
   "execution_count": 42,
   "id": "ac65e667",
   "metadata": {},
   "outputs": [],
   "source": [
    "# Test t para muestras independientes\n",
    "t, pval = stats.ttest_ind(data1, data2)    "
   ]
  },
  {
   "cell_type": "code",
   "execution_count": 43,
   "id": "8ff611f3",
   "metadata": {},
   "outputs": [
    {
     "data": {
      "text/plain": [
       "2.0968730776547093"
      ]
     },
     "execution_count": 43,
     "metadata": {},
     "output_type": "execute_result"
    }
   ],
   "source": [
    "t"
   ]
  },
  {
   "cell_type": "code",
   "execution_count": 44,
   "id": "219be435",
   "metadata": {},
   "outputs": [
    {
     "data": {
      "text/plain": [
       "0.04516066585880743"
      ]
     },
     "execution_count": 44,
     "metadata": {},
     "output_type": "execute_result"
    }
   ],
   "source": [
    "pval"
   ]
  },
  {
   "cell_type": "code",
   "execution_count": 46,
   "id": "fed70441",
   "metadata": {},
   "outputs": [
    {
     "name": "stdout",
     "output_type": "stream",
     "text": [
      "Perezosos y deportistas son significativamente diferentes (p = 0.045)\n"
     ]
    }
   ],
   "source": [
    "if pval < alpha:\n",
    "    print(f'Perezosos y deportistas son significativamente diferentes (p = {pval:5.3f})')\n",
    "else:\n",
    "    print('No hay diferencia entre perezosos y deportistas con el test T.')"
   ]
  },
  {
   "cell_type": "markdown",
   "id": "2f383f63",
   "metadata": {},
   "source": [
    "Los pacientes perezosos son significativamente más pesados."
   ]
  },
  {
   "cell_type": "markdown",
   "id": "ed1b29f7",
   "metadata": {},
   "source": [
    "$\\textbf{c)}$"
   ]
  },
  {
   "cell_type": "code",
   "execution_count": 31,
   "id": "8e6b4a12",
   "metadata": {},
   "outputs": [
    {
     "name": "stdout",
     "output_type": "stream",
     "text": [
      "El conjunto de datos # 0 se distribuye normalmente.\n",
      "El conjunto de datos # 1 se distribuye normalmente.\n"
     ]
    }
   ],
   "source": [
    "# Para hacer la prueba para ambos conjuntos de datos, haga una tupla con \"(... , ...)\", agregue un contador con \"enumerar\" e itere sobre el conjunto:\n",
    "for i, data in enumerate((data1, data2)):\n",
    "    (_, pval) = stats.normaltest(data)\n",
    "    if pval > alpha:\n",
    "            print(f'El conjunto de datos # {i} se distribuye normalmente.')\n",
    "    else:\n",
    "        print(f'El conjunto de datos # {i} no se distribuye normalmente.')"
   ]
  },
  {
   "cell_type": "markdown",
   "id": "2d59f8a8",
   "metadata": {},
   "source": [
    "Ambos conjuntos de datos se distribuyen normalmente."
   ]
  },
  {
   "cell_type": "markdown",
   "id": "b95fceb6",
   "metadata": {},
   "source": [
    "$\\textbf{d)}$"
   ]
  },
  {
   "cell_type": "code",
   "execution_count": 47,
   "id": "fb00bf5b",
   "metadata": {},
   "outputs": [],
   "source": [
    "# Test Mann-Whitney\n",
    "u, pval = stats.mannwhitneyu(data1, data2, alternative='two-sided')"
   ]
  },
  {
   "cell_type": "code",
   "execution_count": 48,
   "id": "d7c7721f",
   "metadata": {},
   "outputs": [
    {
     "data": {
      "text/plain": [
       "155.5"
      ]
     },
     "execution_count": 48,
     "metadata": {},
     "output_type": "execute_result"
    }
   ],
   "source": [
    "u"
   ]
  },
  {
   "cell_type": "code",
   "execution_count": 49,
   "id": "8d992700",
   "metadata": {},
   "outputs": [
    {
     "data": {
      "text/plain": [
       "0.07740194475805182"
      ]
     },
     "execution_count": 49,
     "metadata": {},
     "output_type": "execute_result"
    }
   ],
   "source": [
    "pval"
   ]
  },
  {
   "cell_type": "code",
   "execution_count": 50,
   "id": "f9e82cce",
   "metadata": {},
   "outputs": [
    {
     "name": "stdout",
     "output_type": "stream",
     "text": [
      "No hay diferencia entre perezosos y deportistas.\n"
     ]
    }
   ],
   "source": [
    "if pval < alpha:\n",
    "    print(f'Perezosos y deportistas son significativamente diferentes (p = {pval:5.3f})')\n",
    "else:\n",
    "    print('No hay diferencia entre perezosos y deportistas.')"
   ]
  },
  {
   "cell_type": "code",
   "execution_count": 38,
   "id": "20070439",
   "metadata": {},
   "outputs": [],
   "source": [
    "# Usando la prueba de una cola\n",
    "u, pval = stats.mannwhitneyu(data1, data2, alternative='greater')"
   ]
  },
  {
   "cell_type": "code",
   "execution_count": 39,
   "id": "84dd78e3",
   "metadata": {},
   "outputs": [
    {
     "data": {
      "text/plain": [
       "0.03870097237902591"
      ]
     },
     "execution_count": 39,
     "metadata": {},
     "output_type": "execute_result"
    }
   ],
   "source": [
    "pval"
   ]
  },
  {
   "cell_type": "code",
   "execution_count": 40,
   "id": "988eb15e",
   "metadata": {},
   "outputs": [
    {
     "name": "stdout",
     "output_type": "stream",
     "text": [
      "Los pacientes perezosos también son más pesados (p = 0.039).\n"
     ]
    }
   ],
   "source": [
    "if pval < alpha:\n",
    "    print(f'Los pacientes perezosos también son más pesados (p = {pval:5.3f}).')\n",
    "else:\n",
    "    print('No hay diferencia entre perezosos y deportistas.')"
   ]
  },
  {
   "cell_type": "markdown",
   "id": "10a4dc65",
   "metadata": {},
   "source": [
    "2. Grupos Múltiples\n",
    "\n",
    "El siguiente ejemplo está tomado del libro realmente bueno, pero algo avanzado, de AJ Dobson: “An Introduction to Generalized Linear Models”: \n",
    "\n",
    "a) Obtenga los datos \n",
    "\n",
    "El archivo Data/data_others/Table 6.6 Plant experiment.xls, que también se puede encontrar en https://github.com/thomas-haslwanter/statsintro-python-2e/tree/master/data, contiene datos de un experimento con plantas en tres condiciones de crecimiento diferentes. Lea los datos en Python. Sugerencia: utilice el módulo xlrd. \n",
    "\n",
    "b) Realizar un ANOVA \n",
    "\n",
    "¿Son diferentes los 3 grupos? \n",
    "\n",
    "c) Comparaciones Múltiples \n",
    "\n",
    "Utilizando la prueba de Tukey, ¿cuáles de los pares son diferentes? \n",
    "\n",
    "d) Kruskal–Wallis \n",
    "\n",
    "¿Llevaría una comparación no paramétrica a un resultado diferente?"
   ]
  },
  {
   "cell_type": "markdown",
   "id": "f0e629cd",
   "metadata": {},
   "source": [
    "$\\textbf{a)}$"
   ]
  },
  {
   "cell_type": "code",
   "execution_count": 57,
   "id": "5fc09950",
   "metadata": {},
   "outputs": [],
   "source": [
    "import xlrd\n",
    "# Primero tenemos que obtener los datos de Excel en Python. Esto se puede hacer, p. con el paquete \"xlrd\".\n",
    "book = xlrd.open_workbook(r'Datos/Table 6.6 Plant experiment.xls')\n",
    "# Los datos están en la primera hoja.\n",
    "sheet = book.sheet_by_index(0)\n",
    "# Seleccione las columnas y filas que desee:\n",
    "# La información del \"tratamiento\" se encuentra en la columna \"E\", es decir, debe omitir las primeras 4 columnas\n",
    "# La información de \"peso\" está en la columna \"F\", es decir, debe omitir las primeras 5 columnas\n",
    "treatment = sheet.col_values(4)\n",
    "weight = sheet.col_values(5)\n",
    "# Los datos comienzan en la línea 4, por lo que debe omitir los primeros 3\n",
    "# Uso un DataFrame \"pandas\", para poder asignar nombres a las variables.\n",
    "df = pd.DataFrame({'group':treatment[3:],\n",
    "                   'weight':weight[3:]})"
   ]
  },
  {
   "cell_type": "code",
   "execution_count": 58,
   "id": "25f8378f",
   "metadata": {},
   "outputs": [
    {
     "data": {
      "text/html": [
       "<div>\n",
       "<style scoped>\n",
       "    .dataframe tbody tr th:only-of-type {\n",
       "        vertical-align: middle;\n",
       "    }\n",
       "\n",
       "    .dataframe tbody tr th {\n",
       "        vertical-align: top;\n",
       "    }\n",
       "\n",
       "    .dataframe thead th {\n",
       "        text-align: right;\n",
       "    }\n",
       "</style>\n",
       "<table border=\"1\" class=\"dataframe\">\n",
       "  <thead>\n",
       "    <tr style=\"text-align: right;\">\n",
       "      <th></th>\n",
       "      <th>group</th>\n",
       "      <th>weight</th>\n",
       "    </tr>\n",
       "  </thead>\n",
       "  <tbody>\n",
       "    <tr>\n",
       "      <th>0</th>\n",
       "      <td>Control</td>\n",
       "      <td>4.17</td>\n",
       "    </tr>\n",
       "    <tr>\n",
       "      <th>1</th>\n",
       "      <td>Control</td>\n",
       "      <td>5.58</td>\n",
       "    </tr>\n",
       "    <tr>\n",
       "      <th>2</th>\n",
       "      <td>Control</td>\n",
       "      <td>5.18</td>\n",
       "    </tr>\n",
       "    <tr>\n",
       "      <th>3</th>\n",
       "      <td>Control</td>\n",
       "      <td>6.11</td>\n",
       "    </tr>\n",
       "    <tr>\n",
       "      <th>4</th>\n",
       "      <td>Control</td>\n",
       "      <td>4.50</td>\n",
       "    </tr>\n",
       "  </tbody>\n",
       "</table>\n",
       "</div>"
      ],
      "text/plain": [
       "     group  weight\n",
       "0  Control    4.17\n",
       "1  Control    5.58\n",
       "2  Control    5.18\n",
       "3  Control    6.11\n",
       "4  Control    4.50"
      ]
     },
     "execution_count": 58,
     "metadata": {},
     "output_type": "execute_result"
    }
   ],
   "source": [
    "df.head()"
   ]
  },
  {
   "cell_type": "code",
   "execution_count": 59,
   "id": "3d13640b",
   "metadata": {},
   "outputs": [
    {
     "data": {
      "text/html": [
       "<div>\n",
       "<style scoped>\n",
       "    .dataframe tbody tr th:only-of-type {\n",
       "        vertical-align: middle;\n",
       "    }\n",
       "\n",
       "    .dataframe tbody tr th {\n",
       "        vertical-align: top;\n",
       "    }\n",
       "\n",
       "    .dataframe thead th {\n",
       "        text-align: right;\n",
       "    }\n",
       "</style>\n",
       "<table border=\"1\" class=\"dataframe\">\n",
       "  <thead>\n",
       "    <tr style=\"text-align: right;\">\n",
       "      <th></th>\n",
       "      <th>group</th>\n",
       "      <th>weight</th>\n",
       "    </tr>\n",
       "  </thead>\n",
       "  <tbody>\n",
       "    <tr>\n",
       "      <th>25</th>\n",
       "      <td>TreatmentB</td>\n",
       "      <td>5.29</td>\n",
       "    </tr>\n",
       "    <tr>\n",
       "      <th>26</th>\n",
       "      <td>TreatmentB</td>\n",
       "      <td>4.92</td>\n",
       "    </tr>\n",
       "    <tr>\n",
       "      <th>27</th>\n",
       "      <td>TreatmentB</td>\n",
       "      <td>6.15</td>\n",
       "    </tr>\n",
       "    <tr>\n",
       "      <th>28</th>\n",
       "      <td>TreatmentB</td>\n",
       "      <td>5.80</td>\n",
       "    </tr>\n",
       "    <tr>\n",
       "      <th>29</th>\n",
       "      <td>TreatmentB</td>\n",
       "      <td>5.26</td>\n",
       "    </tr>\n",
       "  </tbody>\n",
       "</table>\n",
       "</div>"
      ],
      "text/plain": [
       "         group  weight\n",
       "25  TreatmentB    5.29\n",
       "26  TreatmentB    4.92\n",
       "27  TreatmentB    6.15\n",
       "28  TreatmentB    5.80\n",
       "29  TreatmentB    5.26"
      ]
     },
     "execution_count": 59,
     "metadata": {},
     "output_type": "execute_result"
    }
   ],
   "source": [
    "df.tail()"
   ]
  },
  {
   "cell_type": "markdown",
   "id": "3442e585",
   "metadata": {},
   "source": [
    "$\\textbf{b)}$"
   ]
  },
  {
   "cell_type": "code",
   "execution_count": 61,
   "id": "847c570a",
   "metadata": {},
   "outputs": [],
   "source": [
    "# Agrupar los datos\n",
    "grouped = df.groupby('group')"
   ]
  },
  {
   "cell_type": "code",
   "execution_count": 62,
   "id": "00271d40",
   "metadata": {},
   "outputs": [
    {
     "name": "stdout",
     "output_type": "stream",
     "text": [
      "Control\n",
      "TreatmentA\n",
      "TreatmentB\n"
     ]
    }
   ],
   "source": [
    "# Extraer los valores en una lista\n",
    "data = []\n",
    "for group in (grouped.groups.keys()):\n",
    "    print(group)\n",
    "    data.append(grouped.get_group(group).weight)"
   ]
  },
  {
   "cell_type": "code",
   "execution_count": 63,
   "id": "893ea799",
   "metadata": {},
   "outputs": [
    {
     "data": {
      "text/plain": [
       "[0    4.17\n",
       " 1    5.58\n",
       " 2    5.18\n",
       " 3    6.11\n",
       " 4    4.50\n",
       " 5    4.61\n",
       " 6    5.17\n",
       " 7    4.53\n",
       " 8    5.33\n",
       " 9    5.14\n",
       " Name: weight, dtype: float64,\n",
       " 10    4.81\n",
       " 11    4.17\n",
       " 12    4.41\n",
       " 13    3.59\n",
       " 14    5.87\n",
       " 15    3.83\n",
       " 16    6.03\n",
       " 17    4.89\n",
       " 18    4.32\n",
       " 19    4.69\n",
       " Name: weight, dtype: float64,\n",
       " 20    6.31\n",
       " 21    5.12\n",
       " 22    5.54\n",
       " 23    5.50\n",
       " 24    5.37\n",
       " 25    5.29\n",
       " 26    4.92\n",
       " 27    6.15\n",
       " 28    5.80\n",
       " 29    5.26\n",
       " Name: weight, dtype: float64]"
      ]
     },
     "execution_count": 63,
     "metadata": {},
     "output_type": "execute_result"
    }
   ],
   "source": [
    "data"
   ]
  },
  {
   "cell_type": "code",
   "execution_count": 64,
   "id": "21cbfd24",
   "metadata": {},
   "outputs": [],
   "source": [
    "# Haga la prueba de Levene en esos valores\n",
    "_, p = stats.levene(*data)"
   ]
  },
  {
   "cell_type": "code",
   "execution_count": 65,
   "id": "ae616ea2",
   "metadata": {},
   "outputs": [
    {
     "data": {
      "text/plain": [
       "0.3412266241254737"
      ]
     },
     "execution_count": 65,
     "metadata": {},
     "output_type": "execute_result"
    }
   ],
   "source": [
    "p"
   ]
  },
  {
   "cell_type": "code",
   "execution_count": 66,
   "id": "c7707418",
   "metadata": {},
   "outputs": [
    {
     "name": "stdout",
     "output_type": "stream",
     "text": [
      "Las varianzas son iguales, puedes hacer un ANOVA.\n"
     ]
    }
   ],
   "source": [
    "if p > alpha:\n",
    "    print('Las varianzas son iguales, puedes hacer un ANOVA.')\n",
    "else:\n",
    "    print('Las varianzas NO son iguales, debe proceder con una prueba de Kruskal-Wallis.')"
   ]
  },
  {
   "cell_type": "code",
   "execution_count": 70,
   "id": "4f6090b1",
   "metadata": {},
   "outputs": [
    {
     "name": "stdout",
     "output_type": "stream",
     "text": [
      "                            OLS Regression Results                            \n",
      "==============================================================================\n",
      "Dep. Variable:                 weight   R-squared:                       0.264\n",
      "Model:                            OLS   Adj. R-squared:                  0.210\n",
      "Method:                 Least Squares   F-statistic:                     4.846\n",
      "Date:                Fri, 28 Jul 2023   Prob (F-statistic):             0.0159\n",
      "Time:                        16:06:26   Log-Likelihood:                -26.810\n",
      "No. Observations:                  30   AIC:                             59.62\n",
      "Df Residuals:                      27   BIC:                             63.82\n",
      "Df Model:                           2                                         \n",
      "Covariance Type:            nonrobust                                         \n",
      "==========================================================================================\n",
      "                             coef    std err          t      P>|t|      [0.025      0.975]\n",
      "------------------------------------------------------------------------------------------\n",
      "Intercept                  5.0320      0.197     25.527      0.000       4.628       5.436\n",
      "C(group)[T.TreatmentA]    -0.3710      0.279     -1.331      0.194      -0.943       0.201\n",
      "C(group)[T.TreatmentB]     0.4940      0.279      1.772      0.088      -0.078       1.066\n",
      "==============================================================================\n",
      "Omnibus:                        1.835   Durbin-Watson:                   2.704\n",
      "Prob(Omnibus):                  0.400   Jarque-Bera (JB):                1.406\n",
      "Skew:                           0.524   Prob(JB):                        0.495\n",
      "Kurtosis:                       2.835   Cond. No.                         3.73\n",
      "==============================================================================\n",
      "\n",
      "Notes:\n",
      "[1] Standard Errors assume that the covariance matrix of the errors is correctly specified.\n"
     ]
    }
   ],
   "source": [
    "# Primero, ajusto un estadístico \"mínimo cuadrado ordinario (MCO)\" \n",
    "# -modelo a los datos, usando el lenguaje de fórmulas de \"patsy\".\n",
    "# La fórmula  'weight ~ C(group)' dice:\n",
    "# \"weight\" es una función del valor categórico \"group\"\n",
    "\n",
    "model = smf.ols('weight ~ C(group)', data = df).fit()\n",
    "print(model.summary())"
   ]
  },
  {
   "cell_type": "code",
   "execution_count": 72,
   "id": "bcd14ad6",
   "metadata": {},
   "outputs": [],
   "source": [
    "from statsmodels.stats.anova import anova_lm"
   ]
  },
  {
   "cell_type": "code",
   "execution_count": 73,
   "id": "71f8f9b7",
   "metadata": {},
   "outputs": [
    {
     "data": {
      "text/html": [
       "<div>\n",
       "<style scoped>\n",
       "    .dataframe tbody tr th:only-of-type {\n",
       "        vertical-align: middle;\n",
       "    }\n",
       "\n",
       "    .dataframe tbody tr th {\n",
       "        vertical-align: top;\n",
       "    }\n",
       "\n",
       "    .dataframe thead th {\n",
       "        text-align: right;\n",
       "    }\n",
       "</style>\n",
       "<table border=\"1\" class=\"dataframe\">\n",
       "  <thead>\n",
       "    <tr style=\"text-align: right;\">\n",
       "      <th></th>\n",
       "      <th>df</th>\n",
       "      <th>sum_sq</th>\n",
       "      <th>mean_sq</th>\n",
       "      <th>F</th>\n",
       "      <th>PR(&gt;F)</th>\n",
       "    </tr>\n",
       "  </thead>\n",
       "  <tbody>\n",
       "    <tr>\n",
       "      <th>C(group)</th>\n",
       "      <td>2.0</td>\n",
       "      <td>3.76634</td>\n",
       "      <td>1.883170</td>\n",
       "      <td>4.846088</td>\n",
       "      <td>0.01591</td>\n",
       "    </tr>\n",
       "    <tr>\n",
       "      <th>Residual</th>\n",
       "      <td>27.0</td>\n",
       "      <td>10.49209</td>\n",
       "      <td>0.388596</td>\n",
       "      <td>NaN</td>\n",
       "      <td>NaN</td>\n",
       "    </tr>\n",
       "  </tbody>\n",
       "</table>\n",
       "</div>"
      ],
      "text/plain": [
       "            df    sum_sq   mean_sq         F   PR(>F)\n",
       "C(group)   2.0   3.76634  1.883170  4.846088  0.01591\n",
       "Residual  27.0  10.49209  0.388596       NaN      NaN"
      ]
     },
     "execution_count": 73,
     "metadata": {},
     "output_type": "execute_result"
    }
   ],
   "source": [
    "# \"anova_lm\" (donde \"lm\" significa \"modelo lineal\")\n",
    "# extrae los parámetros ANOVA del modelo ajustado.\n",
    "anovaResults = anova_lm(model)\n",
    "anovaResults"
   ]
  },
  {
   "cell_type": "code",
   "execution_count": 74,
   "id": "3389a802",
   "metadata": {},
   "outputs": [
    {
     "name": "stdout",
     "output_type": "stream",
     "text": [
      "Uno de los grupos es diferente.\n"
     ]
    }
   ],
   "source": [
    "if anovaResults['PR(>F)'][0] < alpha:\n",
    "    print('Uno de los grupos es diferente.')\n",
    "else:\n",
    "    print('Ninguno de los grupos es diferente.')"
   ]
  },
  {
   "cell_type": "markdown",
   "id": "7b4fae28",
   "metadata": {},
   "source": [
    "$\\textbf{c)}$"
   ]
  },
  {
   "cell_type": "code",
   "execution_count": 75,
   "id": "805bfebd",
   "metadata": {},
   "outputs": [],
   "source": [
    "from statsmodels.stats import multicomp"
   ]
  },
  {
   "cell_type": "code",
   "execution_count": 77,
   "id": "b9294c26",
   "metadata": {},
   "outputs": [],
   "source": [
    "# Un ANOVA es una prueba de hipótesis y solo responde a la pregunta: \"¿Son todos los grupos de la misma distribución?\"\n",
    "# ¡NO te dice cuál es diferente!\n",
    "# Dado que ahora comparamos muchos grupos diferentes entre sí, \n",
    "# tenemos que ajustar los valores p para asegurarnos de que no obtengamos un error de Tipo I. \n",
    "\n",
    "mc = multicomp.MultiComparison(df['weight'],\n",
    "                                   df['group'])"
   ]
  },
  {
   "cell_type": "code",
   "execution_count": 78,
   "id": "74c3b941",
   "metadata": {},
   "outputs": [
    {
     "name": "stdout",
     "output_type": "stream",
     "text": [
      "    Multiple Comparison of Means - Tukey HSD, FWER=0.05    \n",
      "===========================================================\n",
      "  group1     group2   meandiff p-adj   lower  upper  reject\n",
      "-----------------------------------------------------------\n",
      "   Control TreatmentA   -0.371 0.3909 -1.0622 0.3202  False\n",
      "   Control TreatmentB    0.494  0.198 -0.1972 1.1852  False\n",
      "TreatmentA TreatmentB    0.865  0.012  0.1738 1.5562   True\n",
      "-----------------------------------------------------------\n"
     ]
    }
   ],
   "source": [
    "# There are many ways to do multiple comparisons. \n",
    "# Elegimos la prueba \"Diferencia significativa honesta de Tukeys\".\n",
    "# El primer elemento de la salida (\"0\") es una tabla que contiene los resultados\n",
    "print(mc.tukeyhsd().summary())"
   ]
  },
  {
   "cell_type": "code",
   "execution_count": 79,
   "id": "379a01d8",
   "metadata": {},
   "outputs": [
    {
     "name": "stdout",
     "output_type": "stream",
     "text": [
      "['Control' 'TreatmentA' 'TreatmentB']\n"
     ]
    }
   ],
   "source": [
    "# Mostrar los nombres de los grupos\n",
    "print(mc.groupsunique)"
   ]
  },
  {
   "cell_type": "code",
   "execution_count": 80,
   "id": "fd99cba8",
   "metadata": {},
   "outputs": [
    {
     "data": {
      "image/png": "[encoded data removed]",
      "text/plain": [
       "<Figure size 640x480 with 1 Axes>"
      ]
     },
     "metadata": {},
     "output_type": "display_data"
    }
   ],
   "source": [
    "res2 = mc.tukeyhsd()     # Obtener los datos\n",
    "\n",
    "simple = False\n",
    "if simple:\n",
    "    # Puedes hacer el gráfico con una sola línea, pero esto, todavía, no se ve tan bien.\n",
    "    res2.plot_simultaneous()\n",
    "else:\n",
    "    # O puedes hacerlo de la manera difícil, es decir, a mano:\n",
    "    # Grafico valores y barras de error\n",
    "    xvals = np.arange(3)\n",
    "    plt.plot(xvals, res2.meandiffs, 'o')\n",
    "    errors = np.ravel(np.diff(res2.confint)/2)\n",
    "    plt.errorbar(xvals, res2.meandiffs, yerr=errors, fmt='o')\n",
    "\n",
    "    # Establecer los límites x\n",
    "    xlim = -0.5, 2.5\n",
    "    # El \"*xlim\" pasa los elementos de la variable\n",
    "    # \"xlim\" por elementos en la función \"hlines\"\n",
    "    plt.hlines(0, *xlim)\n",
    "    plt.xlim(*xlim)\n",
    "\n",
    "    # Graficar etiquetas:\n",
    "    # Primero, \"np.array(mc.groupsunique)\" hace un vector\n",
    "    # con los nombres de los grupos\n",
    "    # \"np.column_stack(res2[1][0])]\"pone los grupos correctos juntos\n",
    "    pair_labels = mc.groupsunique[np.column_stack(res2._multicomp.pairindices)]\n",
    "    labels = ['\\n'.join(label) for label in pair_labels]\n",
    "    plt.xticks(xvals, labels)\n",
    "\n",
    "    plt.title('Comparación múltiple de medias - Tukey HSD, FWER=0.05\\n Diferencias de medias por pares')\n",
    "\n",
    "    plt.show()"
   ]
  },
  {
   "cell_type": "markdown",
   "id": "91ff2b8c",
   "metadata": {},
   "source": [
    "$\\textbf{d)}$"
   ]
  },
  {
   "cell_type": "code",
   "execution_count": 81,
   "id": "4bed401c",
   "metadata": {},
   "outputs": [],
   "source": [
    "# Primero, obtengo los valores del marco de datos\n",
    "g_a = df['weight'][df['group']=='TreatmentA']\n",
    "g_b = df['weight'][df['group']=='TreatmentB']\n",
    "g_c = df['weight'][df['group']=='Control']"
   ]
  },
  {
   "cell_type": "code",
   "execution_count": 82,
   "id": "28ffaad0",
   "metadata": {},
   "outputs": [],
   "source": [
    "#Nota: esto también podría lograrse con la función \"groupby\" de pandas\n",
    "# groups = pd.groupby(data, 'group')\n",
    "# g_a = groups.get_group('TreatmentA').values[:,1]\n",
    "# g_c = groups.get_group('Control').values[:,1]\n",
    "# g_b = groups.get_group('TreatmentB').values[:,1]"
   ]
  },
  {
   "cell_type": "code",
   "execution_count": 83,
   "id": "ce05e7ee",
   "metadata": {},
   "outputs": [],
   "source": [
    "# Testnn de Kruskal-Wallis\n",
    "h, p = stats.kruskal(g_c, g_a, g_b)"
   ]
  },
  {
   "cell_type": "code",
   "execution_count": 84,
   "id": "dbba86d1",
   "metadata": {},
   "outputs": [
    {
     "data": {
      "text/plain": [
       "7.988228749443715"
      ]
     },
     "execution_count": 84,
     "metadata": {},
     "output_type": "execute_result"
    }
   ],
   "source": [
    "h"
   ]
  },
  {
   "cell_type": "code",
   "execution_count": 85,
   "id": "9af02150",
   "metadata": {},
   "outputs": [
    {
     "data": {
      "text/plain": [
       "0.018423755731471966"
      ]
     },
     "execution_count": 85,
     "metadata": {},
     "output_type": "execute_result"
    }
   ],
   "source": [
    "p"
   ]
  },
  {
   "cell_type": "code",
   "execution_count": 88,
   "id": "7a218f3d",
   "metadata": {},
   "outputs": [
    {
     "name": "stdout",
     "output_type": "stream",
     "text": [
      "Uno de los grupos es diferente (p = 0.018).\n"
     ]
    }
   ],
   "source": [
    "if p < alpha:\n",
    "    print(f'Uno de los grupos es diferente (p = {p:5.3f}).')\n",
    "else:\n",
    "    print('Ninguno de los grupos es diferente.')"
   ]
  },
  {
   "cell_type": "markdown",
   "id": "96c3ce28",
   "metadata": {},
   "source": [
    "# Apéndice "
   ]
  },
  {
   "cell_type": "markdown",
   "id": "c30eaab0",
   "metadata": {},
   "source": [
    "## 1. Tests de hipótesis vs modelado"
   ]
  },
  {
   "cell_type": "code",
   "execution_count": 3,
   "id": "8e1d82a3",
   "metadata": {},
   "outputs": [],
   "source": [
    "# Generar datos distribuidos normalmente alrededor de 'referencia'\n",
    "\n",
    "np.random.seed(123)\n",
    "\n",
    "reference = 5\n",
    "\n",
    "data = reference + np.random.randn(100)"
   ]
  },
  {
   "cell_type": "code",
   "execution_count": 4,
   "id": "ace7b252",
   "metadata": {},
   "outputs": [
    {
     "name": "stdout",
     "output_type": "stream",
     "text": [
      "La probabilidad de que la media muestral sea diferente de 5 es 0.812.\n"
     ]
    }
   ],
   "source": [
    "# Test t\n",
    "\n",
    "(t, pVal) = stats.ttest_1samp(data, reference)\n",
    "\n",
    "print(f'La probabilidad de que la media muestral sea diferente de {reference} es {pVal:5.3f}.')"
   ]
  },
  {
   "cell_type": "code",
   "execution_count": 6,
   "id": "0e6d1dcf",
   "metadata": {},
   "outputs": [
    {
     "name": "stdout",
     "output_type": "stream",
     "text": [
      "                            OLS Regression Results                            \n",
      "==============================================================================\n",
      "Dep. Variable:                   data   R-squared:                      -0.000\n",
      "Model:                            OLS   Adj. R-squared:                 -0.000\n",
      "Method:                 Least Squares   F-statistic:                       nan\n",
      "Date:                Fri, 11 Aug 2023   Prob (F-statistic):                nan\n",
      "Time:                        23:58:17   Log-Likelihood:                -153.96\n",
      "No. Observations:                 100   AIC:                             309.9\n",
      "Df Residuals:                      99   BIC:                             312.5\n",
      "Df Model:                           0                                         \n",
      "Covariance Type:            nonrobust                                         \n",
      "==============================================================================\n",
      "                 coef    std err          t      P>|t|      [0.025      0.975]\n",
      "------------------------------------------------------------------------------\n",
      "Intercept      0.0271      0.113      0.239      0.812      -0.198       0.252\n",
      "==============================================================================\n",
      "Omnibus:                        2.725   Durbin-Watson:                   1.975\n",
      "Prob(Omnibus):                  0.256   Jarque-Bera (JB):                1.734\n",
      "Skew:                           0.033   Prob(JB):                        0.420\n",
      "Kurtosis:                       2.358   Cond. No.                         1.00\n",
      "==============================================================================\n",
      "\n",
      "Notes:\n",
      "[1] Standard Errors assume that the covariance matrix of the errors is correctly specified.\n"
     ]
    }
   ],
   "source": [
    "# Modelo Lineal\n",
    "\n",
    "df = pd.DataFrame({'data': data-reference})\n",
    "\n",
    "result = smf.ols(formula='data ~ 1', data=df).fit()\n",
    "\n",
    "print(result.summary())"
   ]
  }
 ],
 "metadata": {
  "kernelspec": {
   "display_name": "Python 3 (ipykernel)",
   "language": "python",
   "name": "python3"
  },
  "language_info": {
   "codemirror_mode": {
    "name": "ipython",
    "version": 3
   },
   "file_extension": ".py",
   "mimetype": "text/x-python",
   "name": "python",
   "nbconvert_exporter": "python",
   "pygments_lexer": "ipython3",
   "version": "3.10.9"
  }
 },
 "nbformat": 4,
 "nbformat_minor": 5
}
