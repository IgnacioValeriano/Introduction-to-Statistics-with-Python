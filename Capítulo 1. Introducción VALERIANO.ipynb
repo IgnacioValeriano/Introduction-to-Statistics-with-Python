{
 "cells": [
  {
   "cell_type": "markdown",
   "id": "74f96ebf",
   "metadata": {},
   "source": [
    "# 1. ¿Por qué estadísticas? "
   ]
  },
  {
   "cell_type": "markdown",
   "id": "2b9d0f25",
   "metadata": {},
   "source": [
    "Las estadísticas pueden ayudar a extraer el máximo conocimiento de la información proporcionada y explicar claramente lo que sabemos y lo que no sabemos. \n",
    "\n",
    "Puede convertir una declaración vaga en una declaración específica.\n",
    "\n",
    "Sin estadísticas, la interpretación de los datos puede volverse enormemente defectuosa rápidamente. \n",
    "\n",
    "El uso de pruebas incorrectas puede conducir a resultados erróneos. \n",
    "\n",
    "Las estadísticas ayudarán a \n",
    "- Aclarar la pregunta. \n",
    "- Identificar la variable y la medida de esa variable que responderá a esa pregunta. \n",
    "- Determinar el tamaño de muestra requerido. \n",
    "- Describir la variación. •\n",
    "- Hacer declaraciones cuantitativas sobre los parámetros estimados. \n",
    "- Haz predicciones basadas en tus datos."
   ]
  },
  {
   "cell_type": "markdown",
   "id": "e38f091e",
   "metadata": {},
   "source": [
    "# 2. Convenciones "
   ]
  },
  {
   "cell_type": "markdown",
   "id": "02f7c042",
   "metadata": {},
   "source": [
    "# 3. Material complementario "
   ]
  }
 ],
 "metadata": {
  "kernelspec": {
   "display_name": "Python 3 (ipykernel)",
   "language": "python",
   "name": "python3"
  },
  "language_info": {
   "codemirror_mode": {
    "name": "ipython",
    "version": 3
   },
   "file_extension": ".py",
   "mimetype": "text/x-python",
   "name": "python",
   "nbconvert_exporter": "python",
   "pygments_lexer": "ipython3",
   "version": "3.10.9"
  }
 },
 "nbformat": 4,
 "nbformat_minor": 5
}
