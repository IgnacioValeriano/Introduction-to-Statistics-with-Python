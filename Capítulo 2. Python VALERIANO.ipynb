{
 "cells": [
  {
   "cell_type": "code",
   "execution_count": 1,
   "id": "0e3f5187",
   "metadata": {},
   "outputs": [],
   "source": [
    "import numpy as np\n",
    "import pandas as pd\n",
    "from scipy import stats\n",
    "import pingouin as pg\n",
    "import statsmodels.formula.api as smf\n",
    "import matplotlib.pyplot as plt\n",
    "import seaborn as sns"
   ]
  },
  {
   "cell_type": "markdown",
   "id": "48b95d2c",
   "metadata": {},
   "source": [
    "# 1. Primeros pasos"
   ]
  },
  {
   "cell_type": "markdown",
   "id": "597dd24c",
   "metadata": {},
   "source": [
    "## 1.1 Distribuciones y Paquetes "
   ]
  },
  {
   "cell_type": "markdown",
   "id": "b798c98c",
   "metadata": {},
   "source": [
    "### a) PyPI-El índice del paquete python "
   ]
  },
  {
   "cell_type": "code",
   "execution_count": null,
   "id": "d29f28ac",
   "metadata": {},
   "outputs": [],
   "source": [
    "# pip install <package>\n",
    "# pip install <package> -U\n",
    "# pip list\n",
    "# pip show <package>"
   ]
  },
  {
   "cell_type": "markdown",
   "id": "729797a8",
   "metadata": {},
   "source": [
    "## 1.2 Instalación de Python"
   ]
  },
  {
   "cell_type": "markdown",
   "id": "249e15c9",
   "metadata": {},
   "source": [
    "### a) Windows"
   ]
  },
  {
   "cell_type": "markdown",
   "id": "c82dad4d",
   "metadata": {},
   "source": [
    "### b) Linux "
   ]
  },
  {
   "cell_type": "markdown",
   "id": "20c7e9a7",
   "metadata": {},
   "source": [
    "### c) Mac OS X "
   ]
  },
  {
   "cell_type": "markdown",
   "id": "9e85d4f1",
   "metadata": {},
   "source": [
    "## 1.3 Instalación de R y rpy2"
   ]
  },
  {
   "cell_type": "markdown",
   "id": "f4365865",
   "metadata": {},
   "source": [
    "### 1.3.1 Usando extensiones R dentro de los programas de Python"
   ]
  },
  {
   "cell_type": "markdown",
   "id": "30efa667",
   "metadata": {},
   "source": [
    "La R es una herramienta muy poderosa para el análisis de datos estadísticos. \n",
    "\n",
    "Ofrece muchos modelos estadísticos avanzados que (todavía) no están disponibles en Python. \n",
    "\n",
    "Para hacer que estos módulos sean accesibles desde Python, *rpy2* es una forma conveniente de ejecutar código R dentro de un entorno de Python. \n",
    "\n",
    "No es sorprendente que esto también requiera que R se haya instalado en el sistema actual. \n",
    "\n",
    "Personalmente, no soy un gran admirador de R. \n",
    "\n",
    "Es muy poderoso, pero en comparación con Python, el lenguaje me parece poco natural y torpe. \n",
    "\n",
    "Al igual que Python, R es gratuito y se puede obtener en https://cran.r-project.org/. "
   ]
  },
  {
   "cell_type": "code",
   "execution_count": 40,
   "id": "73cd1134",
   "metadata": {},
   "outputs": [],
   "source": [
    "#import os\n",
    "#import rpy2\n",
    "#import rpy2.situation"
   ]
  },
  {
   "cell_type": "code",
   "execution_count": null,
   "id": "6a4180ee",
   "metadata": {},
   "outputs": [],
   "source": [
    "#os.environ[\"R_HOME\"] = rpy2.situation.r_home_from_registry()\n",
    "#os.environ[\"R_USER\"] = os.environ['USERPROFILE']"
   ]
  },
  {
   "cell_type": "code",
   "execution_count": null,
   "id": "e8f22c95",
   "metadata": {},
   "outputs": [],
   "source": [
    "#from rpy2.robjects.packages import importr"
   ]
  },
  {
   "cell_type": "code",
   "execution_count": null,
   "id": "30422782",
   "metadata": {},
   "outputs": [],
   "source": [
    "# import R's \"base\" package\n",
    "#base = importr('base')"
   ]
  },
  {
   "cell_type": "code",
   "execution_count": null,
   "id": "2b69fd98",
   "metadata": {},
   "outputs": [],
   "source": [
    "#from rpy2.robjects import r"
   ]
  },
  {
   "cell_type": "code",
   "execution_count": null,
   "id": "fc95ce05",
   "metadata": {},
   "outputs": [],
   "source": [
    "#%load_ext rpy2.ipython\n",
    "#%precision 3"
   ]
  },
  {
   "cell_type": "markdown",
   "id": "deed8855",
   "metadata": {},
   "source": [
    "#### 1.3.2 Un ejemplo simple: diagrama de dispersión"
   ]
  },
  {
   "cell_type": "markdown",
   "id": "f0ec58ce",
   "metadata": {},
   "source": [
    "Un caso de uso típico que uno imagina es tener algunas matrices numpy, queriendo calcular algunas estadísticas de interés en estas matrices y devolver el resultado a python. \n",
    "\n",
    "Supongamos que solo queremos ajustar un modelo lineal simple a un diagrama de dispersión."
   ]
  },
  {
   "cell_type": "code",
   "execution_count": null,
   "id": "f16109a5",
   "metadata": {},
   "outputs": [],
   "source": [
    "# Genero los datos con python\n",
    "\n",
    "#X = np.array([0,1,2,3,4])\n",
    "#Y = np.array([3,5,4,6,7])"
   ]
  },
  {
   "cell_type": "code",
   "execution_count": null,
   "id": "dbfd856f",
   "metadata": {},
   "outputs": [],
   "source": [
    "# Grafico con python\n",
    "\n",
    "#plt.scatter(X, Y);"
   ]
  },
  {
   "cell_type": "markdown",
   "id": "ac2e85c2",
   "metadata": {},
   "source": [
    "#### 1.3.3 Empujar variables de Python en R y ejecutar comandos R en IPython"
   ]
  },
  {
   "cell_type": "markdown",
   "id": "b6402441",
   "metadata": {},
   "source": [
    "Podemos lograr esto empujando primero las variables a R, ajustando un modelo y devolviendo los resultados. La línea mágica %Rpush copia sus argumentos en variables del mismo nombre en rpy2. \n",
    "\n",
    "La línea mágica %R evalúa la cadena en rpy2 y devuelve los resultados. En este caso, los coeficientes de un modelo lineal."
   ]
  },
  {
   "cell_type": "code",
   "execution_count": null,
   "id": "e12ca594",
   "metadata": {},
   "outputs": [],
   "source": [
    "#%Rpush X Y\n",
    "#%R lm(Y~X)$coef"
   ]
  },
  {
   "cell_type": "code",
   "execution_count": null,
   "id": "0fb1e283",
   "metadata": {},
   "outputs": [],
   "source": [
    "# Note: %Rpush is equivalent to calling %R with just -i and no trailing code.\n",
    "#A = np.arange(20)\n",
    "#%R -i A\n",
    "#%R mean(A)"
   ]
  },
  {
   "cell_type": "code",
   "execution_count": null,
   "id": "21ee6b5c",
   "metadata": {},
   "outputs": [],
   "source": [
    "# We can check that the computation in R is correct fairly easily:\n",
    "\n",
    "#Xr = X - X.mean()\n",
    "#Yr = Y - Y.mean()\n",
    "#slope = (Xr*Yr).sum() / (Xr**2).sum()\n",
    "#intercept = Y.mean() - X.mean() * slope\n",
    "#(intercept, slope)"
   ]
  },
  {
   "cell_type": "code",
   "execution_count": null,
   "id": "42291cb6",
   "metadata": {},
   "outputs": [],
   "source": [
    "# It is also possible to return more than one value with %R.\n",
    "#%R resid(lm(Y~X)); coef(lm(X~Y))"
   ]
  },
  {
   "cell_type": "markdown",
   "id": "e10dc608",
   "metadata": {},
   "source": [
    "#### 1.3.4 Captura de salida literal de R en IPython"
   ]
  },
  {
   "cell_type": "code",
   "execution_count": null,
   "id": "8eed2042",
   "metadata": {},
   "outputs": [],
   "source": [
    "# Unfortunately, the literal output from R does not work directly (yet):\n",
    "#%R summary(lm(Y~X))"
   ]
  },
  {
   "cell_type": "markdown",
   "id": "6345b2f1",
   "metadata": {},
   "source": [
    "Por lo tanto tenemos que usar un truco: \n",
    "- Primero \"capturamos\" la salida del comando R \n",
    "- Y luego lo mostramos, línea por línea \n",
    "\n",
    "Nota: \"%%R\" ejecuta varias líneas de comando R"
   ]
  },
  {
   "cell_type": "code",
   "execution_count": null,
   "id": "367ba834",
   "metadata": {},
   "outputs": [],
   "source": [
    "#%%R\n",
    "#X = c(1,2,3,4,5)\n",
    "#Y = c(1,2,3,6,5)\n",
    "#s = capture.output(summary(lm(Y~X)))"
   ]
  },
  {
   "cell_type": "code",
   "execution_count": null,
   "id": "b806df33",
   "metadata": {},
   "outputs": [],
   "source": [
    "# to get the variable back in to Python, we use \n",
    "# r from rpy2.robjects\n",
    "\n",
    "#spy = r['s']"
   ]
  },
  {
   "cell_type": "code",
   "execution_count": null,
   "id": "65ef89cc",
   "metadata": {},
   "outputs": [],
   "source": [
    "#for line in spy[2:-1]:\n",
    "#    print(line)"
   ]
  },
  {
   "cell_type": "markdown",
   "id": "9395181f",
   "metadata": {},
   "source": [
    "#### 1.3.5 Recuperar las variables R en IPython"
   ]
  },
  {
   "cell_type": "markdown",
   "id": "60daec8e",
   "metadata": {},
   "source": [
    "Hay dos líneas mágicas, %Rpull y %Rget. Ambos son útiles después de que se haya ejecutado algún código R y haya variables en el espacio de nombres rpy2 que le gustaría recuperar. La principal diferencia es que uno devuelve el valor (%Rget), mientras que el otro lo extrae a self.shell.user_ns (%Rpull). \n",
    "\n",
    "Imagina que hemos almacenado los resultados de algún cálculo en la variable \"a\" en el espacio de nombres de rpy2. Usando la magia %R, podemos obtener estos resultados y almacenarlos en b. También podemos llevarlos directamente a user_ns con %Rpull. Ambos son puntos de vista sobre los mismos datos."
   ]
  },
  {
   "cell_type": "code",
   "execution_count": null,
   "id": "7981d841",
   "metadata": {},
   "outputs": [],
   "source": [
    "#b = %R a=resid(lm(Y~X))\n",
    "#two equivalent ways of getting things into Python\n",
    "#%R -o a\n",
    "#%Rpull a\n",
    "\n",
    "# and to use it in Python\n",
    "#c = r['a']"
   ]
  },
  {
   "cell_type": "code",
   "execution_count": null,
   "id": "bcb5801e",
   "metadata": {},
   "outputs": [],
   "source": [
    "#print(f'a = {a}')\n",
    "#print(f'b = {b}')\n",
    "#print(f'c = {c}')"
   ]
  },
  {
   "cell_type": "code",
   "execution_count": null,
   "id": "383e0f0a",
   "metadata": {},
   "outputs": [],
   "source": [
    "#%R d=resid(lm(Y~X)); e=coef(lm(Y~X))\n",
    "#%R -o d -o e\n",
    "#%Rpull e\n",
    "#print(d)\n",
    "#print(e)\n",
    "\n",
    "#print(r['e'])"
   ]
  },
  {
   "cell_type": "code",
   "execution_count": null,
   "id": "70a4105c",
   "metadata": {},
   "outputs": [],
   "source": [
    "# The magic %Rget retrieves one variable from R.\n",
    "#%Rget A"
   ]
  },
  {
   "cell_type": "markdown",
   "id": "5b112897",
   "metadata": {},
   "source": [
    "#### 1.3.6 Trazado y captura de resultados"
   ]
  },
  {
   "cell_type": "markdown",
   "id": "8f8dcf3a",
   "metadata": {},
   "source": [
    "La consola de R (es decir, su conexión stdout()) es capturada por ipython, al igual que los gráficos que se publican como archivos PNG como el cuaderno con argumentos --pylab en línea. Como una llamada a %R puede producir un valor de retorno (ver arriba), debemos preguntarnos qué sucede con una magia como la que se muestra a continuación. El código R especifica que algo se publica en el cuaderno. Si se publica algo en el cuaderno, esa llamada a %R devuelve Ninguno."
   ]
  },
  {
   "cell_type": "code",
   "execution_count": null,
   "id": "fc1f4eda",
   "metadata": {},
   "outputs": [],
   "source": [
    "#v1 = %R plot(X,Y); print(summary(lm(Y~X))); vv=mean(X)*mean(Y)\n",
    "#print('v1 is:', v1)\n",
    "#v2 = %R mean(X)*mean(Y)\n",
    "#print('v2 is:', v2)"
   ]
  },
  {
   "cell_type": "markdown",
   "id": "e62d8f9e",
   "metadata": {},
   "source": [
    "#### 1.3.7 ¿Qué valor devuelve %R?"
   ]
  },
  {
   "cell_type": "markdown",
   "id": "db450764",
   "metadata": {},
   "source": [
    "Algunas llamadas no tienen un valor de retorno particularmente interesante, el %R mágico no devolverá nada en este caso. El valor devuelto en rpy2 en realidad es NULL, por lo que %R devuelve Ninguno. \n",
    "\n",
    "Además, si el valor de retorno de una llamada a %R (en modo de línea) acaba de imprimirse en la consola, tampoco se devuelve su valor."
   ]
  },
  {
   "cell_type": "code",
   "execution_count": null,
   "id": "7b1d5360",
   "metadata": {},
   "outputs": [],
   "source": [
    "#v = %R plot(X)\n",
    "#assert (v is None)"
   ]
  },
  {
   "cell_type": "markdown",
   "id": "4c8be5bf",
   "metadata": {},
   "source": [
    "Pero, si el último valor no imprimió nada en la consola, se devuelve el valor:"
   ]
  },
  {
   "cell_type": "code",
   "execution_count": null,
   "id": "7555572b",
   "metadata": {},
   "outputs": [],
   "source": [
    "#v = %R print(summary(X)); X\n",
    "#print('v:', v)"
   ]
  },
  {
   "cell_type": "markdown",
   "id": "4e5a4edc",
   "metadata": {},
   "source": [
    "El valor devuelto se puede suprimir con un ';' al final. o un argumento -n."
   ]
  },
  {
   "cell_type": "code",
   "execution_count": null,
   "id": "28d78347",
   "metadata": {},
   "outputs": [],
   "source": [
    "#%R -n X"
   ]
  },
  {
   "cell_type": "code",
   "execution_count": null,
   "id": "8f257a5b",
   "metadata": {},
   "outputs": [],
   "source": [
    "#%R X; "
   ]
  },
  {
   "cell_type": "markdown",
   "id": "65b73c06",
   "metadata": {},
   "source": [
    "#### 1.3.8 Magia a nivel celular"
   ]
  },
  {
   "cell_type": "markdown",
   "id": "2675e688",
   "metadata": {},
   "source": [
    "A menudo, querremos hacer más que un simple modelo de regresión lineal. Puede haber varias líneas de código R que queramos usar antes de volver a python. Esta es la magia a nivel celular. \n",
    "\n",
    "Para la magia de nivel de celda, las entradas se pueden pasar a través del argumento -i o --inputs en la línea. Estas variables se copian del espacio de nombres del shell al espacio de nombres de R mediante rpy2.robjects.r.assign. Sería bueno no tener que copiarlos en R: rnumpy ( https://rpy2.github.io/doc/latest/html/introduction.html ) ha trabajado para limitar o al menos hacer transparente el número de copias. de una matriz. Esto parece algo natural para tratar de construir. Las matrices se pueden generar desde R mediante el argumento -o o --outputs en la línea. Todos los demás argumentos se envían a la función png de R, que es el dispositivo gráfico utilizado para crear los gráficos. \n",
    "\n",
    "Podemos rehacer los cálculos anteriores en una celda de ipython. También es posible que deseemos agregar algún resultado, como un resumen de R o quizás el diagnóstico de trazado estándar de la película."
   ]
  },
  {
   "cell_type": "code",
   "execution_count": null,
   "id": "4ae87927",
   "metadata": {},
   "outputs": [],
   "source": [
    "#%%R -i X,Y -o XYcoef\n",
    "#XYlm = lm(Y~X)\n",
    "#XYcoef = coef(XYlm)\n",
    "#print(summary(XYlm))\n",
    "#par(mfrow=c(2,2))\n",
    "#plot(XYlm)"
   ]
  },
  {
   "cell_type": "markdown",
   "id": "3f0fbf4a",
   "metadata": {},
   "source": [
    "#### 1.3.9 Pasar datos de un lado a otro"
   ]
  },
  {
   "cell_type": "markdown",
   "id": "02131e0d",
   "metadata": {},
   "source": [
    "Actualmente, los datos se pasan a través de RMagics.pyconverter cuando se pasa de python a R y RMagics.Rconverter cuando se pasa de R a python. \n",
    "\n",
    "La sintaxis parece estar todavía en desarrollo. Pero con los ejemplos aquí, espero que encuentre su camino."
   ]
  },
  {
   "cell_type": "code",
   "execution_count": null,
   "id": "d27f5972",
   "metadata": {},
   "outputs": [],
   "source": [
    "#seq1 = np.arange(10)"
   ]
  },
  {
   "cell_type": "code",
   "execution_count": null,
   "id": "c6dbe3bd",
   "metadata": {},
   "outputs": [],
   "source": [
    "#%%R -i seq1 -o seq2\n",
    "#seq2 = rep(seq1, 2)"
   ]
  },
  {
   "cell_type": "code",
   "execution_count": null,
   "id": "60b7f915",
   "metadata": {},
   "outputs": [],
   "source": [
    "#print(r['seq2'])\n",
    "#print(type(seq2))"
   ]
  },
  {
   "cell_type": "code",
   "execution_count": null,
   "id": "5b0e907e",
   "metadata": {},
   "outputs": [],
   "source": [
    "# To use the rpy2 object with numpy, you have to convert it to an array:\n",
    "#py_seq2 = np.array(r['seq2'])\n",
    "#py_seq2[::2] = 0\n",
    "#print(py_seq2)"
   ]
  },
  {
   "cell_type": "markdown",
   "id": "999798cc",
   "metadata": {},
   "source": [
    "La salida de R parece no funcionar para %%R en este momento:"
   ]
  },
  {
   "cell_type": "code",
   "execution_count": null,
   "id": "78085121",
   "metadata": {},
   "outputs": [],
   "source": [
    "#%%R\n",
    "#print(seq2)"
   ]
  },
  {
   "cell_type": "markdown",
   "id": "034c9b51",
   "metadata": {},
   "source": [
    "Una vez que los datos de la matriz se han pasado a R, modificar su contenido no modifica la copia de R de los datos."
   ]
  },
  {
   "cell_type": "code",
   "execution_count": null,
   "id": "0398bb96",
   "metadata": {},
   "outputs": [],
   "source": [
    "#seq1[0] = 200\n",
    "#%R print(seq1)"
   ]
  },
  {
   "cell_type": "markdown",
   "id": "61e48178",
   "metadata": {},
   "source": [
    "Pero, si pasamos datos como entrada y salida, el valor de \"datos\" en user_ns se sobrescribirá y la nueva matriz será una vista de los datos en la copia de R."
   ]
  },
  {
   "cell_type": "code",
   "execution_count": null,
   "id": "71cd0352",
   "metadata": {},
   "outputs": [],
   "source": [
    "#print(seq1)\n",
    "#%R -i seq1 -o seq1\n",
    "#print(seq1)\n",
    "#seq1[0] = 200\n",
    "#%R print(seq1)\n",
    "#seq1_view = %R seq1\n",
    "#print(seq1_view)"
   ]
  },
  {
   "cell_type": "markdown",
   "id": "e1c2a31f",
   "metadata": {},
   "source": [
    "#### 1.3.10 R Gráficos"
   ]
  },
  {
   "cell_type": "code",
   "execution_count": null,
   "id": "30f29ed2",
   "metadata": {},
   "outputs": [],
   "source": [
    "#%R plot(X,Y)"
   ]
  },
  {
   "cell_type": "markdown",
   "id": "86f20c80",
   "metadata": {},
   "source": [
    "#### 1.3.11 Manejo de excepciones (¡actualmente no es compatible/funciona!)"
   ]
  },
  {
   "cell_type": "markdown",
   "id": "e2bb2ccd",
   "metadata": {},
   "source": [
    "Las excepciones se manejan (se supone que se deben) devolviendo la excepción de rpy2 y la línea que la activó. \n",
    "\n",
    "Actualmente hay un problema con ese mecanismo: https://github.com/rpy2/rpy2/issues/792"
   ]
  },
  {
   "cell_type": "code",
   "execution_count": null,
   "id": "9b792bcb",
   "metadata": {},
   "outputs": [],
   "source": [
    "# try:\n",
    "#    %R -n nosuchvar\n",
    "#except Exception as e:\n",
    "#    print(e.message)\n",
    "#    pass"
   ]
  },
  {
   "cell_type": "markdown",
   "id": "c35f8965",
   "metadata": {},
   "source": [
    "## 1.4 Recursos de Python"
   ]
  },
  {
   "cell_type": "markdown",
   "id": "8f69cc9d",
   "metadata": {},
   "source": [
    "## 1.5 Un simple programa de Python "
   ]
  },
  {
   "cell_type": "markdown",
   "id": "05652c36",
   "metadata": {},
   "source": [
    "### a) Hola Mundo "
   ]
  },
  {
   "cell_type": "code",
   "execution_count": 2,
   "id": "5321e117",
   "metadata": {},
   "outputs": [
    {
     "name": "stdout",
     "output_type": "stream",
     "text": [
      "Hola Mundo\n"
     ]
    }
   ],
   "source": [
    "print('Hola Mundo')"
   ]
  },
  {
   "cell_type": "markdown",
   "id": "cb842922",
   "metadata": {},
   "source": [
    "### b)  Cuadrado"
   ]
  },
  {
   "cell_type": "markdown",
   "id": "e61d09b3",
   "metadata": {},
   "source": [
    "Mostrar el cuadrado de los números del 0 al 5."
   ]
  },
  {
   "cell_type": "code",
   "execution_count": 3,
   "id": "b9aca2aa",
   "metadata": {},
   "outputs": [],
   "source": [
    "def cuadrado(x):\n",
    "    \n",
    "    return x**2"
   ]
  },
  {
   "cell_type": "code",
   "execution_count": 4,
   "id": "16a786c8",
   "metadata": {},
   "outputs": [
    {
     "name": "stdout",
     "output_type": "stream",
     "text": [
      "0 0\n",
      "1 1\n",
      "2 4\n",
      "3 9\n",
      "4 16\n",
      "5 25\n"
     ]
    }
   ],
   "source": [
    "for i in range(6):\n",
    "    \n",
    "    print(i, cuadrado(i))"
   ]
  },
  {
   "cell_type": "markdown",
   "id": "b2abf865",
   "metadata": {},
   "source": [
    "## Apéndice"
   ]
  },
  {
   "cell_type": "markdown",
   "id": "5fb8dfa4",
   "metadata": {},
   "source": [
    "### 1. Empezando "
   ]
  },
  {
   "cell_type": "markdown",
   "id": "b57a81cf",
   "metadata": {},
   "source": [
    "Este cuaderno Jupyter es una breve demostración de Python para el análisis de datos científicos. \n",
    "\n",
    "Cubre los siguientes puntos: \n",
    "\n",
    "- Trazar una onda sinusoidal \n",
    "- Generar de una matriz de columnas de datos \n",
    "- Escribir datos en un archivo de texto y leer datos de un archivo de texto \n",
    "- Esperar la pulsación de un botón para continuar con la ejecución del programa \n",
    "- Usar un diccionario, que es similar a las estructuras de MATLAB \n",
    "- Extraer datos que cumplen una determinada condición \n",
    "- Cálcular la mejor línea de ajuste a datos ruidosos \n",
    "- Formato de salida de texto \n",
    "- Esperar una pulsación de teclado \n",
    "- Cálcular intervalos de confianza para ajustes de recta \n",
    "- Ahorrar cifras"
   ]
  },
  {
   "cell_type": "markdown",
   "id": "eaf8637f",
   "metadata": {},
   "source": [
    "#### 1.1 Módulos y Paquetes"
   ]
  },
  {
   "cell_type": "markdown",
   "id": "e2ad812b",
   "metadata": {},
   "source": [
    "En Python tienes que cargar explícitamente los módulos que necesitas. \n",
    "\n",
    "No se preocupe aquí por no conocer los módulos correctos: *numpy*, *scipy* y *matplotlib.pyplot* son casi todo lo que necesitará la mayor parte del tiempo, y se acostumbrará rápidamente a ellos.\n",
    "\n",
    "import numpy as np                  # para trabajar con vectores y matrices\n",
    "import matplotlib.pyplot as plt     # para graficar"
   ]
  },
  {
   "cell_type": "markdown",
   "id": "0b32c9f3",
   "metadata": {},
   "source": [
    "#### 1.2 Onda sinusoidal"
   ]
  },
  {
   "cell_type": "code",
   "execution_count": 2,
   "id": "8ad273e2",
   "metadata": {},
   "outputs": [],
   "source": [
    "# Creo la onda sinusoidal\n",
    "\n",
    "t = np.arange(0,10,0.1)\n",
    "x = np.sin(t)"
   ]
  },
  {
   "cell_type": "code",
   "execution_count": 3,
   "id": "d29421ff",
   "metadata": {},
   "outputs": [],
   "source": [
    "# Guardo los datos en un archivo de texto, en forma de columna.\n",
    "\n",
    "out_file = 'test.txt'\n",
    "np.savetxt(out_file, np.column_stack([t,x]) )"
   ]
  },
  {
   "cell_type": "code",
   "execution_count": 4,
   "id": "7cfacdfb",
   "metadata": {},
   "outputs": [
    {
     "name": "stdout",
     "output_type": "stream",
     "text": [
      "Los datos se han guardado en test.txt.\n"
     ]
    }
   ],
   "source": [
    "print(f'Los datos se han guardado en {out_file}.')"
   ]
  },
  {
   "cell_type": "code",
   "execution_count": 6,
   "id": "00ea651f",
   "metadata": {},
   "outputs": [],
   "source": [
    "# Leo los datos en una variable diferente\n",
    "\n",
    "inData = np.loadtxt(out_file)\n",
    "\n",
    "t2 = inData[:,0] \n",
    "x2 = inData[:,1]"
   ]
  },
  {
   "cell_type": "code",
   "execution_count": 8,
   "id": "02aa1b4f",
   "metadata": {},
   "outputs": [
    {
     "data": {
      "image/png": "[encoded data removed]",
      "text/plain": [
       "<Figure size 640x480 with 1 Axes>"
      ]
     },
     "metadata": {},
     "output_type": "display_data"
    }
   ],
   "source": [
    "plt.plot(t2, x2);"
   ]
  },
  {
   "cell_type": "markdown",
   "id": "1a969882",
   "metadata": {},
   "source": [
    "#### 1.3 Rotando un Vector"
   ]
  },
  {
   "cell_type": "markdown",
   "id": "c639c929",
   "metadata": {},
   "source": [
    "Cuando trabaje con vectores y matrices, tenga en cuenta lo siguiente \n",
    "- Por defecto, los datos son vectores. \n",
    "- Usa *array* cuando quieras generar matrices."
   ]
  },
  {
   "cell_type": "markdown",
   "id": "e10645da",
   "metadata": {},
   "source": [
    "#### 1.4 Datos ruidosos y ajustes de la recta "
   ]
  },
  {
   "cell_type": "markdown",
   "id": "971917f7",
   "metadata": {},
   "source": [
    "Ajusta la siguiente función: \n",
    "\n",
    "$y = k*x + d$"
   ]
  },
  {
   "cell_type": "code",
   "execution_count": 14,
   "id": "808986a8",
   "metadata": {},
   "outputs": [
    {
     "data": {
      "text/plain": [
       "array([-100,  -99,  -98,  -97,  -96,  -95,  -94,  -93,  -92,  -91])"
      ]
     },
     "execution_count": 14,
     "metadata": {},
     "output_type": "execute_result"
    }
   ],
   "source": [
    "# Generar la recta ruidosa\n",
    "\n",
    "t = np.arange(-100, 100)\n",
    "\n",
    "t[:10] # Muestro los primeros 10"
   ]
  },
  {
   "cell_type": "code",
   "execution_count": 10,
   "id": "66be46ca",
   "metadata": {},
   "outputs": [],
   "source": [
    "par = {'offset':100, 'slope':0.5, 'noiseAmp':4}"
   ]
  },
  {
   "cell_type": "code",
   "execution_count": 13,
   "id": "455a07c0",
   "metadata": {},
   "outputs": [
    {
     "data": {
      "text/plain": [
       "array([51.24917615, 51.50067132, 56.92112539, 56.84708191, 51.91112262,\n",
       "       52.82072346, 45.06254437, 57.59808658, 49.38142085, 48.79037898])"
      ]
     },
     "execution_count": 13,
     "metadata": {},
     "output_type": "execute_result"
    }
   ],
   "source": [
    "x = par['offset'] + par['slope']*t + par['noiseAmp']*np.random.randn(len(t))\n",
    "\n",
    "x[:10] # Muestro los primeros 10"
   ]
  },
  {
   "cell_type": "code",
   "execution_count": 15,
   "id": "9181b9ba",
   "metadata": {},
   "outputs": [],
   "source": [
    "# Indexación booleana\n",
    "\n",
    "x_high = x[t>10]\n",
    "t_high = t[t>10]"
   ]
  },
  {
   "cell_type": "code",
   "execution_count": 16,
   "id": "29050e57",
   "metadata": {},
   "outputs": [
    {
     "data": {
      "image/png": "[encoded data removed]",
      "text/plain": [
       "<Figure size 640x480 with 1 Axes>"
      ]
     },
     "metadata": {},
     "output_type": "display_data"
    }
   ],
   "source": [
    "plt.plot(t_high, x_high);"
   ]
  },
  {
   "cell_type": "code",
   "execution_count": 18,
   "id": "f1d167ff",
   "metadata": {},
   "outputs": [],
   "source": [
    "x = np.arange(10)"
   ]
  },
  {
   "cell_type": "code",
   "execution_count": 19,
   "id": "81dbf427",
   "metadata": {},
   "outputs": [],
   "source": [
    "# Indexación booleana combinada\n",
    "\n",
    "top_range = x>2\n",
    "bottom_range = x<8"
   ]
  },
  {
   "cell_type": "code",
   "execution_count": 20,
   "id": "4878b699",
   "metadata": {},
   "outputs": [
    {
     "data": {
      "text/plain": [
       "array([3, 4, 5, 6, 7])"
      ]
     },
     "execution_count": 20,
     "metadata": {},
     "output_type": "execute_result"
    }
   ],
   "source": [
    "x[top_range & bottom_range]"
   ]
  },
  {
   "cell_type": "markdown",
   "id": "5ae4e336",
   "metadata": {},
   "source": [
    "#### 1.5 Ajustando una línea a los datos"
   ]
  },
  {
   "cell_type": "code",
   "execution_count": 24,
   "id": "aeb3d549",
   "metadata": {},
   "outputs": [
    {
     "data": {
      "text/plain": [
       "array([[11.,  1.],\n",
       "       [12.,  1.],\n",
       "       [13.,  1.],\n",
       "       [14.,  1.],\n",
       "       [15.,  1.],\n",
       "       [16.,  1.],\n",
       "       [17.,  1.],\n",
       "       [18.,  1.],\n",
       "       [19.,  1.],\n",
       "       [20.,  1.]])"
      ]
     },
     "execution_count": 24,
     "metadata": {},
     "output_type": "execute_result"
    }
   ],
   "source": [
    "# Determino la línea de mejor ajuste\n",
    "\n",
    "# Genere una matriz de diseño, con \"tiempo\" en la primera columna y una columna de \"1\" en la segunda columna:\n",
    "\n",
    "x_mat = np.column_stack([t_high, np.ones(len(t_high))])\n",
    "\n",
    "x_mat[:10] # Muestro los primeros 10"
   ]
  },
  {
   "cell_type": "code",
   "execution_count": 25,
   "id": "e9eeccf3",
   "metadata": {},
   "outputs": [],
   "source": [
    "# Para la solución de MCO de una ecuación matricial lineal, \n",
    "# el parámetro opcional \"rcond\" determina cómo se manejan los valores singulares pequeños de la matriz.\n",
    "\n",
    "slope, intercept = np.linalg.lstsq(x_mat, x_high, rcond=None)[0]"
   ]
  },
  {
   "cell_type": "code",
   "execution_count": 27,
   "id": "c73e3871",
   "metadata": {},
   "outputs": [
    {
     "name": "stdout",
     "output_type": "stream",
     "text": [
      "Intercepto: 99.652\n",
      "Pendiente: 0.512\n"
     ]
    }
   ],
   "source": [
    "print(f'Intercepto: {intercept:5.3f}\\nPendiente: {slope:5.3f}')"
   ]
  },
  {
   "cell_type": "code",
   "execution_count": 28,
   "id": "5732c298",
   "metadata": {},
   "outputs": [
    {
     "data": {
      "text/plain": [
       "array([105.27912587, 105.79070176, 106.30227765, 106.81385354,\n",
       "       107.32542943, 107.83700533, 108.34858122, 108.86015711,\n",
       "       109.371733  , 109.88330889])"
      ]
     },
     "execution_count": 28,
     "metadata": {},
     "output_type": "execute_result"
    }
   ],
   "source": [
    "reg = intercept + slope * t_high\n",
    "\n",
    "reg[:10]"
   ]
  },
  {
   "cell_type": "code",
   "execution_count": 29,
   "id": "3389ccc0",
   "metadata": {},
   "outputs": [
    {
     "data": {
      "image/png": "[encoded data removed]",
      "text/plain": [
       "<Figure size 640x480 with 1 Axes>"
      ]
     },
     "metadata": {},
     "output_type": "display_data"
    }
   ],
   "source": [
    "plt.plot(t_high, x_high)\n",
    "\n",
    "plt.plot(t_high, reg, 'r')\n",
    "\n",
    "plt.show()"
   ]
  },
  {
   "cell_type": "markdown",
   "id": "84ff77d9",
   "metadata": {},
   "source": [
    "#### 1.6 Pandas"
   ]
  },
  {
   "cell_type": "code",
   "execution_count": 32,
   "id": "8eaf1828",
   "metadata": {},
   "outputs": [],
   "source": [
    "data = {'x': t_high, 'y' :x_high}"
   ]
  },
  {
   "cell_type": "code",
   "execution_count": 33,
   "id": "55e07b76",
   "metadata": {},
   "outputs": [
    {
     "data": {
      "text/html": [
       "<div>\n",
       "<style scoped>\n",
       "    .dataframe tbody tr th:only-of-type {\n",
       "        vertical-align: middle;\n",
       "    }\n",
       "\n",
       "    .dataframe tbody tr th {\n",
       "        vertical-align: top;\n",
       "    }\n",
       "\n",
       "    .dataframe thead th {\n",
       "        text-align: right;\n",
       "    }\n",
       "</style>\n",
       "<table border=\"1\" class=\"dataframe\">\n",
       "  <thead>\n",
       "    <tr style=\"text-align: right;\">\n",
       "      <th></th>\n",
       "      <th>x</th>\n",
       "      <th>y</th>\n",
       "    </tr>\n",
       "  </thead>\n",
       "  <tbody>\n",
       "    <tr>\n",
       "      <th>0</th>\n",
       "      <td>11</td>\n",
       "      <td>98.606625</td>\n",
       "    </tr>\n",
       "    <tr>\n",
       "      <th>1</th>\n",
       "      <td>12</td>\n",
       "      <td>108.918377</td>\n",
       "    </tr>\n",
       "    <tr>\n",
       "      <th>2</th>\n",
       "      <td>13</td>\n",
       "      <td>105.893534</td>\n",
       "    </tr>\n",
       "    <tr>\n",
       "      <th>3</th>\n",
       "      <td>14</td>\n",
       "      <td>101.095103</td>\n",
       "    </tr>\n",
       "    <tr>\n",
       "      <th>4</th>\n",
       "      <td>15</td>\n",
       "      <td>111.741727</td>\n",
       "    </tr>\n",
       "  </tbody>\n",
       "</table>\n",
       "</div>"
      ],
      "text/plain": [
       "    x           y\n",
       "0  11   98.606625\n",
       "1  12  108.918377\n",
       "2  13  105.893534\n",
       "3  14  101.095103\n",
       "4  15  111.741727"
      ]
     },
     "execution_count": 33,
     "metadata": {},
     "output_type": "execute_result"
    }
   ],
   "source": [
    "df = pd.DataFrame(data)\n",
    "\n",
    "df.head()"
   ]
  },
  {
   "cell_type": "code",
   "execution_count": 34,
   "id": "ce84b822",
   "metadata": {},
   "outputs": [
    {
     "name": "stdout",
     "output_type": "stream",
     "text": [
      "                 Results: Ordinary least squares\n",
      "=================================================================\n",
      "Model:              OLS              Adj. R-squared:     0.918   \n",
      "Dependent Variable: y                AIC:                498.9521\n",
      "Date:               2023-08-11 10:00 BIC:                503.9293\n",
      "No. Observations:   89               Log-Likelihood:     -247.48 \n",
      "Df Model:           1                F-statistic:        986.6   \n",
      "Df Residuals:       87               Prob (F-statistic): 3.00e-49\n",
      "R-squared:          0.919            Scale:              15.582  \n",
      "------------------------------------------------------------------\n",
      "             Coef.   Std.Err.     t      P>|t|    [0.025   0.975] \n",
      "------------------------------------------------------------------\n",
      "Intercept   99.6518    0.9887  100.7913  0.0000  97.6867  101.6169\n",
      "x            0.5116    0.0163   31.4099  0.0000   0.4792    0.5439\n",
      "-----------------------------------------------------------------\n",
      "Omnibus:              1.248        Durbin-Watson:           2.473\n",
      "Prob(Omnibus):        0.536        Jarque-Bera (JB):        1.194\n",
      "Skew:                 0.149        Prob(JB):                0.550\n",
      "Kurtosis:             2.517        Condition No.:           143  \n",
      "=================================================================\n",
      "\n"
     ]
    }
   ],
   "source": [
    "model = smf.ols('y ~ x', df).fit()\n",
    "print(model.summary2())"
   ]
  },
  {
   "cell_type": "markdown",
   "id": "7c8c947b",
   "metadata": {},
   "source": [
    "#### 1.7 Pingouin"
   ]
  },
  {
   "cell_type": "code",
   "execution_count": 36,
   "id": "367f6bdf",
   "metadata": {},
   "outputs": [
    {
     "data": {
      "text/html": [
       "<div>\n",
       "<style scoped>\n",
       "    .dataframe tbody tr th:only-of-type {\n",
       "        vertical-align: middle;\n",
       "    }\n",
       "\n",
       "    .dataframe tbody tr th {\n",
       "        vertical-align: top;\n",
       "    }\n",
       "\n",
       "    .dataframe thead th {\n",
       "        text-align: right;\n",
       "    }\n",
       "</style>\n",
       "<table border=\"1\" class=\"dataframe\">\n",
       "  <thead>\n",
       "    <tr style=\"text-align: right;\">\n",
       "      <th></th>\n",
       "      <th>names</th>\n",
       "      <th>coef</th>\n",
       "      <th>se</th>\n",
       "      <th>T</th>\n",
       "      <th>pval</th>\n",
       "      <th>r2</th>\n",
       "      <th>adj_r2</th>\n",
       "      <th>CI[2.5%]</th>\n",
       "      <th>CI[97.5%]</th>\n",
       "    </tr>\n",
       "  </thead>\n",
       "  <tbody>\n",
       "    <tr>\n",
       "      <th>0</th>\n",
       "      <td>Intercept</td>\n",
       "      <td>99.652</td>\n",
       "      <td>0.989</td>\n",
       "      <td>100.791</td>\n",
       "      <td>0.0</td>\n",
       "      <td>0.919</td>\n",
       "      <td>0.918</td>\n",
       "      <td>97.687</td>\n",
       "      <td>101.617</td>\n",
       "    </tr>\n",
       "    <tr>\n",
       "      <th>1</th>\n",
       "      <td>x</td>\n",
       "      <td>0.512</td>\n",
       "      <td>0.016</td>\n",
       "      <td>31.410</td>\n",
       "      <td>0.0</td>\n",
       "      <td>0.919</td>\n",
       "      <td>0.918</td>\n",
       "      <td>0.479</td>\n",
       "      <td>0.544</td>\n",
       "    </tr>\n",
       "  </tbody>\n",
       "</table>\n",
       "</div>"
      ],
      "text/plain": [
       "       names    coef     se        T  pval     r2  adj_r2  CI[2.5%]  CI[97.5%]\n",
       "0  Intercept  99.652  0.989  100.791   0.0  0.919   0.918    97.687    101.617\n",
       "1          x   0.512  0.016   31.410   0.0  0.919   0.918     0.479      0.544"
      ]
     },
     "execution_count": 36,
     "metadata": {},
     "output_type": "execute_result"
    }
   ],
   "source": [
    "pg.linear_regression(df.x, df.y).round(3)"
   ]
  },
  {
   "cell_type": "markdown",
   "id": "d355337d",
   "metadata": {},
   "source": [
    "#### 1.8 Información en la Web"
   ]
  },
  {
   "cell_type": "markdown",
   "id": "eab281df",
   "metadata": {},
   "source": [
    "* [Scipy Lecture Notes](https://scipy-lectures.org/) **If you read nothing else, read this!**\n",
    "* [numpy-for-matlab-users](https://docs.scipy.org/doc/numpy/user/numpy-for-matlab-users.html) Start here if you have lots of Matlab experience.\n",
    "* [The Python Tutorial](https://docs.python.org/3.11/tutorial/)  The original introduction.\n",
    "* [jrjohansson's scientific-python-lectures](https://github.com/jrjohansson/scientific-python-lectures) Lectures on scientic computing with Python. Good ipython notebooks, but not very actively maintained\n",
    "* [An introduction to seaborn](https://seaborn.pydata.org/tutorial/introduction.html) Especially for the visualization of statistical data, seaborn is extremely valuable"
   ]
  },
  {
   "cell_type": "markdown",
   "id": "aac04d79",
   "metadata": {},
   "source": [
    "# 2. Elementos de la programación científica en Python"
   ]
  },
  {
   "cell_type": "markdown",
   "id": "b063bca6",
   "metadata": {},
   "source": [
    "## 2.1 Tipos de datos de Python"
   ]
  },
  {
   "cell_type": "markdown",
   "id": "cd5867ae",
   "metadata": {},
   "source": [
    "### a) Lista"
   ]
  },
  {
   "cell_type": "code",
   "execution_count": 5,
   "id": "01453cb8",
   "metadata": {},
   "outputs": [
    {
     "data": {
      "text/plain": [
       "['abc', 'def', 'ghij']"
      ]
     },
     "execution_count": 5,
     "metadata": {},
     "output_type": "execute_result"
    }
   ],
   "source": [
    "lista1 = ['abc', 'def', 'ghij']\n",
    "\n",
    "lista1"
   ]
  },
  {
   "cell_type": "code",
   "execution_count": 6,
   "id": "c41624bf",
   "metadata": {},
   "outputs": [],
   "source": [
    "lista1.append('klm')"
   ]
  },
  {
   "cell_type": "code",
   "execution_count": 7,
   "id": "3dead057",
   "metadata": {},
   "outputs": [
    {
     "data": {
      "text/plain": [
       "['abc', 'def', 'ghij', 'klm']"
      ]
     },
     "execution_count": 7,
     "metadata": {},
     "output_type": "execute_result"
    }
   ],
   "source": [
    "lista1"
   ]
  },
  {
   "cell_type": "code",
   "execution_count": 8,
   "id": "77888e65",
   "metadata": {},
   "outputs": [],
   "source": [
    "lista2 = [1,2,3]\n",
    "\n",
    "lista3 = [4,5,6]"
   ]
  },
  {
   "cell_type": "code",
   "execution_count": 9,
   "id": "7e918ad4",
   "metadata": {},
   "outputs": [
    {
     "data": {
      "text/plain": [
       "[1, 2, 3, 4, 5, 6]"
      ]
     },
     "execution_count": 9,
     "metadata": {},
     "output_type": "execute_result"
    }
   ],
   "source": [
    "lista2 + lista3"
   ]
  },
  {
   "cell_type": "markdown",
   "id": "4e492720",
   "metadata": {},
   "source": [
    "### b) Array"
   ]
  },
  {
   "cell_type": "code",
   "execution_count": 12,
   "id": "a1c3a9b1",
   "metadata": {},
   "outputs": [
    {
     "data": {
      "text/plain": [
       "array([1, 2, 3])"
      ]
     },
     "execution_count": 12,
     "metadata": {},
     "output_type": "execute_result"
    }
   ],
   "source": [
    "array1 = np.array(lista2)\n",
    "\n",
    "array1"
   ]
  },
  {
   "cell_type": "code",
   "execution_count": 13,
   "id": "df27677c",
   "metadata": {},
   "outputs": [
    {
     "data": {
      "text/plain": [
       "array([4, 5, 6])"
      ]
     },
     "execution_count": 13,
     "metadata": {},
     "output_type": "execute_result"
    }
   ],
   "source": [
    "array2 = np.array(lista3)\n",
    "\n",
    "array2"
   ]
  },
  {
   "cell_type": "code",
   "execution_count": 14,
   "id": "0bdf1349",
   "metadata": {},
   "outputs": [
    {
     "data": {
      "text/plain": [
       "array([5, 7, 9])"
      ]
     },
     "execution_count": 14,
     "metadata": {},
     "output_type": "execute_result"
    }
   ],
   "source": [
    "array1 + array2"
   ]
  },
  {
   "cell_type": "code",
   "execution_count": 15,
   "id": "86f2ccea",
   "metadata": {},
   "outputs": [
    {
     "data": {
      "text/plain": [
       "32"
      ]
     },
     "execution_count": 15,
     "metadata": {},
     "output_type": "execute_result"
    }
   ],
   "source": [
    "array1.dot(array2) # Multiplicación"
   ]
  },
  {
   "cell_type": "code",
   "execution_count": 16,
   "id": "ea03b7e0",
   "metadata": {},
   "outputs": [
    {
     "data": {
      "text/plain": [
       "32"
      ]
     },
     "execution_count": 16,
     "metadata": {},
     "output_type": "execute_result"
    }
   ],
   "source": [
    "array1 @ array2"
   ]
  },
  {
   "cell_type": "markdown",
   "id": "e22d32fc",
   "metadata": {},
   "source": [
    "### c) Tupla "
   ]
  },
  {
   "cell_type": "code",
   "execution_count": 17,
   "id": "0443f828",
   "metadata": {},
   "outputs": [
    {
     "data": {
      "text/plain": [
       "('abc',\n",
       " array([0. , 0.2, 0.4, 0.6, 0.8, 1. , 1.2, 1.4, 1.6, 1.8, 2. , 2.2, 2.4,\n",
       "        2.6, 2.8]),\n",
       " 2.5)"
      ]
     },
     "execution_count": 17,
     "metadata": {},
     "output_type": "execute_result"
    }
   ],
   "source": [
    "tupla = ('abc', np.arange(0,3,0.2), 2.5)\n",
    "\n",
    "tupla"
   ]
  },
  {
   "cell_type": "code",
   "execution_count": 18,
   "id": "9eb0fd29",
   "metadata": {},
   "outputs": [
    {
     "data": {
      "text/plain": [
       "2.5"
      ]
     },
     "execution_count": 18,
     "metadata": {},
     "output_type": "execute_result"
    }
   ],
   "source": [
    "tupla[2]"
   ]
  },
  {
   "cell_type": "markdown",
   "id": "03232ab7",
   "metadata": {},
   "source": [
    "### d) Diccionarios"
   ]
  },
  {
   "cell_type": "code",
   "execution_count": 19,
   "id": "83498abc",
   "metadata": {},
   "outputs": [
    {
     "data": {
      "text/plain": [
       "{'one': 1, 'two': 2, 'info': 'alguna información'}"
      ]
     },
     "execution_count": 19,
     "metadata": {},
     "output_type": "execute_result"
    }
   ],
   "source": [
    "diccionario1 = dict(one = 1, two = 2, info = 'alguna información')\n",
    "\n",
    "diccionario1"
   ]
  },
  {
   "cell_type": "code",
   "execution_count": 20,
   "id": "932d1671",
   "metadata": {},
   "outputs": [
    {
     "data": {
      "text/plain": [
       "{'diez': 1, 'veinte': 20, 'info': 'más información'}"
      ]
     },
     "execution_count": 20,
     "metadata": {},
     "output_type": "execute_result"
    }
   ],
   "source": [
    "diccionario2 = {'diez': 1, 'veinte': 20, 'info': 'más información'}\n",
    "\n",
    "diccionario2"
   ]
  },
  {
   "cell_type": "code",
   "execution_count": 21,
   "id": "da2b5242",
   "metadata": {},
   "outputs": [
    {
     "data": {
      "text/plain": [
       "'alguna información'"
      ]
     },
     "execution_count": 21,
     "metadata": {},
     "output_type": "execute_result"
    }
   ],
   "source": [
    "diccionario1['info']"
   ]
  },
  {
   "cell_type": "code",
   "execution_count": 22,
   "id": "3ff6d9ac",
   "metadata": {},
   "outputs": [
    {
     "data": {
      "text/plain": [
       "dict_keys(['one', 'two', 'info'])"
      ]
     },
     "execution_count": 22,
     "metadata": {},
     "output_type": "execute_result"
    }
   ],
   "source": [
    "diccionario1.keys()"
   ]
  },
  {
   "cell_type": "code",
   "execution_count": 23,
   "id": "1f65399a",
   "metadata": {},
   "outputs": [
    {
     "data": {
      "text/plain": [
       "dict_values([1, 2, 'alguna información'])"
      ]
     },
     "execution_count": 23,
     "metadata": {},
     "output_type": "execute_result"
    }
   ],
   "source": [
    "diccionario1.values()"
   ]
  },
  {
   "cell_type": "markdown",
   "id": "43c51685",
   "metadata": {},
   "source": [
    "### e) DataFrame"
   ]
  },
  {
   "cell_type": "markdown",
   "id": "a3a3303e",
   "metadata": {},
   "source": [
    "## 2.2 Indexación y corte"
   ]
  },
  {
   "cell_type": "code",
   "execution_count": 24,
   "id": "ab5bcd54",
   "metadata": {},
   "outputs": [
    {
     "data": {
      "text/plain": [
       "['abc', 'def', 'ghij', 'klm']"
      ]
     },
     "execution_count": 24,
     "metadata": {},
     "output_type": "execute_result"
    }
   ],
   "source": [
    "lista1"
   ]
  },
  {
   "cell_type": "code",
   "execution_count": 25,
   "id": "1cd35033",
   "metadata": {},
   "outputs": [
    {
     "data": {
      "text/plain": [
       "['def', 'ghij']"
      ]
     },
     "execution_count": 25,
     "metadata": {},
     "output_type": "execute_result"
    }
   ],
   "source": [
    "lista1[1:3] # Elementos comienzan hasta el final-1"
   ]
  },
  {
   "cell_type": "code",
   "execution_count": 26,
   "id": "e8194ab3",
   "metadata": {},
   "outputs": [
    {
     "data": {
      "text/plain": [
       "['ghij', 'klm']"
      ]
     },
     "execution_count": 26,
     "metadata": {},
     "output_type": "execute_result"
    }
   ],
   "source": [
    "lista1[2:] # Elementos comienzan a través del resto de la array"
   ]
  },
  {
   "cell_type": "code",
   "execution_count": 27,
   "id": "78486119",
   "metadata": {},
   "outputs": [
    {
     "data": {
      "text/plain": [
       "['abc', 'def']"
      ]
     },
     "execution_count": 27,
     "metadata": {},
     "output_type": "execute_result"
    }
   ],
   "source": [
    "lista1[:2] # Elementos desde el principio hasta el final-1"
   ]
  },
  {
   "cell_type": "code",
   "execution_count": 28,
   "id": "340d9e60",
   "metadata": {},
   "outputs": [
    {
     "data": {
      "text/plain": [
       "['abc', 'def', 'ghij', 'klm']"
      ]
     },
     "execution_count": 28,
     "metadata": {},
     "output_type": "execute_result"
    }
   ],
   "source": [
    "lista1[:] # Una copia de toda la matriz"
   ]
  },
  {
   "cell_type": "code",
   "execution_count": 29,
   "id": "181bd4b6",
   "metadata": {},
   "outputs": [
    {
     "data": {
      "text/plain": [
       "['def', 'klm']"
      ]
     },
     "execution_count": 29,
     "metadata": {},
     "output_type": "execute_result"
    }
   ],
   "source": [
    "lista1[1:4:2] # De principio a fin, paso a paso"
   ]
  },
  {
   "cell_type": "code",
   "execution_count": 30,
   "id": "b9be06a5",
   "metadata": {},
   "outputs": [
    {
     "data": {
      "text/plain": [
       "'klm'"
      ]
     },
     "execution_count": 30,
     "metadata": {},
     "output_type": "execute_result"
    }
   ],
   "source": [
    "lista1[-1] # Último elemento de la matriz"
   ]
  },
  {
   "cell_type": "code",
   "execution_count": 31,
   "id": "6b496983",
   "metadata": {},
   "outputs": [
    {
     "data": {
      "text/plain": [
       "['ghij', 'klm']"
      ]
     },
     "execution_count": 31,
     "metadata": {},
     "output_type": "execute_result"
    }
   ],
   "source": [
    "lista1[-2:] # Los dos últimos elementos de la matriz"
   ]
  },
  {
   "cell_type": "code",
   "execution_count": 32,
   "id": "6cd5bff8",
   "metadata": {},
   "outputs": [
    {
     "data": {
      "text/plain": [
       "['abc', 'def']"
      ]
     },
     "execution_count": 32,
     "metadata": {},
     "output_type": "execute_result"
    }
   ],
   "source": [
    "lista1[:-2] # Todo excepto los dos últimos elementos"
   ]
  },
  {
   "cell_type": "code",
   "execution_count": 33,
   "id": "d0c85b81",
   "metadata": {},
   "outputs": [
    {
     "data": {
      "text/plain": [
       "['abc', 'def', 'ghij', 'klm']"
      ]
     },
     "execution_count": 33,
     "metadata": {},
     "output_type": "execute_result"
    }
   ],
   "source": [
    "lista1[:5]"
   ]
  },
  {
   "cell_type": "markdown",
   "id": "bac96e57",
   "metadata": {},
   "source": [
    "## 2.3 Vectores Numpy y arrays "
   ]
  },
  {
   "cell_type": "markdown",
   "id": "d0c55909",
   "metadata": {},
   "source": [
    "### a) np.zeros"
   ]
  },
  {
   "cell_type": "code",
   "execution_count": 34,
   "id": "44844ece",
   "metadata": {},
   "outputs": [
    {
     "data": {
      "text/plain": [
       "array([0., 0., 0.])"
      ]
     },
     "execution_count": 34,
     "metadata": {},
     "output_type": "execute_result"
    }
   ],
   "source": [
    "np.zeros(3) # Por defecto, las funciones numpy generan vectores 1D"
   ]
  },
  {
   "cell_type": "code",
   "execution_count": 35,
   "id": "2696b84e",
   "metadata": {},
   "outputs": [
    {
     "data": {
      "text/plain": [
       "array([[0., 0., 0.],\n",
       "       [0., 0., 0.]])"
      ]
     },
     "execution_count": 35,
     "metadata": {},
     "output_type": "execute_result"
    }
   ],
   "source": [
    "np.zeros([2,3])"
   ]
  },
  {
   "cell_type": "markdown",
   "id": "5bb4de56",
   "metadata": {},
   "source": [
    "### b) np.ones "
   ]
  },
  {
   "cell_type": "code",
   "execution_count": 36,
   "id": "c188849c",
   "metadata": {},
   "outputs": [
    {
     "data": {
      "text/plain": [
       "array([1., 1., 1.])"
      ]
     },
     "execution_count": 36,
     "metadata": {},
     "output_type": "execute_result"
    }
   ],
   "source": [
    "np.ones(3)"
   ]
  },
  {
   "cell_type": "code",
   "execution_count": 37,
   "id": "be7c97e2",
   "metadata": {},
   "outputs": [
    {
     "data": {
      "text/plain": [
       "array([[1., 1., 1.],\n",
       "       [1., 1., 1.]])"
      ]
     },
     "execution_count": 37,
     "metadata": {},
     "output_type": "execute_result"
    }
   ],
   "source": [
    "np.ones([2,3])"
   ]
  },
  {
   "cell_type": "markdown",
   "id": "b83e4b66",
   "metadata": {},
   "source": [
    "### c) np.random.randn"
   ]
  },
  {
   "cell_type": "code",
   "execution_count": 38,
   "id": "e7dc146b",
   "metadata": {},
   "outputs": [
    {
     "data": {
      "text/plain": [
       "0.3924583534177893"
      ]
     },
     "execution_count": 38,
     "metadata": {},
     "output_type": "execute_result"
    }
   ],
   "source": [
    "np.random.randn() # Genera números distribuidos normalmente, con una media de 0 y una desviación estándar de 1."
   ]
  },
  {
   "cell_type": "code",
   "execution_count": 39,
   "id": "a6e20197",
   "metadata": {},
   "outputs": [
    {
     "data": {
      "text/plain": [
       "array([[ 0.48465024,  0.75412829, -0.86572675],\n",
       "       [ 1.30203578,  1.92986362, -0.61590086]])"
      ]
     },
     "execution_count": 39,
     "metadata": {},
     "output_type": "execute_result"
    }
   ],
   "source": [
    "np.random.randn(2, 3) "
   ]
  },
  {
   "cell_type": "markdown",
   "id": "6203651a",
   "metadata": {},
   "source": [
    "### d) np.arange "
   ]
  },
  {
   "cell_type": "code",
   "execution_count": 40,
   "id": "0104953d",
   "metadata": {},
   "outputs": [
    {
     "data": {
      "text/plain": [
       "array([0, 1, 2])"
      ]
     },
     "execution_count": 40,
     "metadata": {},
     "output_type": "execute_result"
    }
   ],
   "source": [
    "np.arange(3)"
   ]
  },
  {
   "cell_type": "code",
   "execution_count": 41,
   "id": "f40edb3c",
   "metadata": {},
   "outputs": [
    {
     "data": {
      "text/plain": [
       "array([0. , 0.5, 1. , 1.5, 2. , 2.5])"
      ]
     },
     "execution_count": 41,
     "metadata": {},
     "output_type": "execute_result"
    }
   ],
   "source": [
    "xBajo = np.arange(0, 3, 0.5)\n",
    "\n",
    "xBajo"
   ]
  },
  {
   "cell_type": "code",
   "execution_count": 42,
   "id": "494d2c2a",
   "metadata": {},
   "outputs": [
    {
     "data": {
      "text/plain": [
       "array([3. , 3.5, 4. , 4.5])"
      ]
     },
     "execution_count": 42,
     "metadata": {},
     "output_type": "execute_result"
    }
   ],
   "source": [
    "xAlto = np.arange(3, 5, 0.5)\n",
    "\n",
    "xAlto"
   ]
  },
  {
   "cell_type": "markdown",
   "id": "3e2b50bf",
   "metadata": {},
   "source": [
    "### e) np.linspace"
   ]
  },
  {
   "cell_type": "code",
   "execution_count": 43,
   "id": "dc22b458",
   "metadata": {},
   "outputs": [
    {
     "data": {
      "text/plain": [
       "array([ 0.,  2.,  4.,  6.,  8., 10.])"
      ]
     },
     "execution_count": 43,
     "metadata": {},
     "output_type": "execute_result"
    }
   ],
   "source": [
    "np.linspace(0, 10, 6)"
   ]
  },
  {
   "cell_type": "markdown",
   "id": "bab699fb",
   "metadata": {},
   "source": [
    "### f) np.array"
   ]
  },
  {
   "cell_type": "code",
   "execution_count": 2,
   "id": "659dd7e0",
   "metadata": {},
   "outputs": [
    {
     "data": {
      "text/plain": [
       "array([[1, 2],\n",
       "       [3, 4]])"
      ]
     },
     "execution_count": 2,
     "metadata": {},
     "output_type": "execute_result"
    }
   ],
   "source": [
    "np.array([[1,2],\n",
    "          [3,4]])"
   ]
  },
  {
   "cell_type": "markdown",
   "id": "db1c9661",
   "metadata": {},
   "source": [
    "### g) Matrices"
   ]
  },
  {
   "cell_type": "code",
   "execution_count": 3,
   "id": "7d56bc42",
   "metadata": {},
   "outputs": [
    {
     "data": {
      "text/plain": [
       "array([[1, 2],\n",
       "       [3, 4]])"
      ]
     },
     "execution_count": 3,
     "metadata": {},
     "output_type": "execute_result"
    }
   ],
   "source": [
    "A = np.array([[1, 2],\n",
    "              [3, 4] ])\n",
    "\n",
    "A"
   ]
  },
  {
   "cell_type": "code",
   "execution_count": 4,
   "id": "0d539704",
   "metadata": {},
   "outputs": [
    {
     "data": {
      "text/plain": [
       "array([1, 2])"
      ]
     },
     "execution_count": 4,
     "metadata": {},
     "output_type": "execute_result"
    }
   ],
   "source": [
    "A[0]"
   ]
  },
  {
   "cell_type": "markdown",
   "id": "4e23847d",
   "metadata": {},
   "source": [
    "#### Advertencia"
   ]
  },
  {
   "cell_type": "code",
   "execution_count": 5,
   "id": "312468da",
   "metadata": {},
   "outputs": [
    {
     "data": {
      "text/plain": [
       "array([0, 1, 2])"
      ]
     },
     "execution_count": 5,
     "metadata": {},
     "output_type": "execute_result"
    }
   ],
   "source": [
    "x = np.arange(3)\n",
    "\n",
    "x"
   ]
  },
  {
   "cell_type": "code",
   "execution_count": 6,
   "id": "8446865d",
   "metadata": {},
   "outputs": [
    {
     "data": {
      "text/plain": [
       "array([[1, 2],\n",
       "       [3, 4]])"
      ]
     },
     "execution_count": 6,
     "metadata": {},
     "output_type": "execute_result"
    }
   ],
   "source": [
    "A"
   ]
  },
  {
   "cell_type": "code",
   "execution_count": 7,
   "id": "90a15f51",
   "metadata": {},
   "outputs": [
    {
     "data": {
      "text/plain": [
       "array([0, 1, 2])"
      ]
     },
     "execution_count": 7,
     "metadata": {},
     "output_type": "execute_result"
    }
   ],
   "source": [
    "x.T"
   ]
  },
  {
   "cell_type": "code",
   "execution_count": 8,
   "id": "d2d27aa4",
   "metadata": {},
   "outputs": [
    {
     "data": {
      "text/plain": [
       "array([ True,  True,  True])"
      ]
     },
     "execution_count": 8,
     "metadata": {},
     "output_type": "execute_result"
    }
   ],
   "source": [
    "# El resultado indica que un vector sigue siendo un vector,\n",
    "# y que la transposición con '.T' no tiene efecto en su forma. \n",
    "\n",
    "x.T == x "
   ]
  },
  {
   "cell_type": "code",
   "execution_count": 9,
   "id": "d03fe660",
   "metadata": {},
   "outputs": [
    {
     "data": {
      "text/plain": [
       "array([[1, 3],\n",
       "       [2, 4]])"
      ]
     },
     "execution_count": 9,
     "metadata": {},
     "output_type": "execute_result"
    }
   ],
   "source": [
    "A.T"
   ]
  },
  {
   "cell_type": "code",
   "execution_count": 10,
   "id": "fa38b732",
   "metadata": {},
   "outputs": [
    {
     "data": {
      "text/plain": [
       "array([[ True, False],\n",
       "       [False,  True]])"
      ]
     },
     "execution_count": 10,
     "metadata": {},
     "output_type": "execute_result"
    }
   ],
   "source": [
    "A.T == A"
   ]
  },
  {
   "cell_type": "markdown",
   "id": "6336fe43",
   "metadata": {},
   "source": [
    "### h) np.r_"
   ]
  },
  {
   "cell_type": "code",
   "execution_count": 11,
   "id": "99cca681",
   "metadata": {},
   "outputs": [
    {
     "data": {
      "text/plain": [
       "array([1, 2, 3], dtype=int32)"
      ]
     },
     "execution_count": 11,
     "metadata": {},
     "output_type": "execute_result"
    }
   ],
   "source": [
    "# Filas\n",
    "\n",
    "np.r_[1,2,3]"
   ]
  },
  {
   "cell_type": "markdown",
   "id": "9b475905",
   "metadata": {},
   "source": [
    "### i) np.c_"
   ]
  },
  {
   "cell_type": "code",
   "execution_count": 12,
   "id": "2953c96d",
   "metadata": {},
   "outputs": [
    {
     "data": {
      "text/plain": [
       "array([[1.5],\n",
       "       [2. ],\n",
       "       [3. ]])"
      ]
     },
     "execution_count": 12,
     "metadata": {},
     "output_type": "execute_result"
    }
   ],
   "source": [
    "# Columnas\n",
    "\n",
    "np.c_[\n",
    "    [1.5,2,3]\n",
    "] "
   ]
  },
  {
   "cell_type": "markdown",
   "id": "18b32c08",
   "metadata": {},
   "source": [
    "### j) np.atleast_2d"
   ]
  },
  {
   "cell_type": "code",
   "execution_count": 13,
   "id": "daa608bf",
   "metadata": {},
   "outputs": [
    {
     "data": {
      "text/plain": [
       "array([0, 1, 2, 3, 4])"
      ]
     },
     "execution_count": 13,
     "metadata": {},
     "output_type": "execute_result"
    }
   ],
   "source": [
    "x = np.arange(5)\n",
    "\n",
    "x"
   ]
  },
  {
   "cell_type": "code",
   "execution_count": 14,
   "id": "d51404e4",
   "metadata": {},
   "outputs": [
    {
     "data": {
      "text/plain": [
       "array([0, 1, 2, 3, 4])"
      ]
     },
     "execution_count": 14,
     "metadata": {},
     "output_type": "execute_result"
    }
   ],
   "source": [
    "x.T"
   ]
  },
  {
   "cell_type": "code",
   "execution_count": 15,
   "id": "266a6904",
   "metadata": {},
   "outputs": [
    {
     "data": {
      "text/plain": [
       "array([[0, 1, 2, 3, 4]])"
      ]
     },
     "execution_count": 15,
     "metadata": {},
     "output_type": "execute_result"
    }
   ],
   "source": [
    "x_2d = np.atleast_2d(x)\n",
    "\n",
    "x_2d"
   ]
  },
  {
   "cell_type": "code",
   "execution_count": 16,
   "id": "7e98a07f",
   "metadata": {},
   "outputs": [
    {
     "data": {
      "text/plain": [
       "array([[0],\n",
       "       [1],\n",
       "       [2],\n",
       "       [3],\n",
       "       [4]])"
      ]
     },
     "execution_count": 16,
     "metadata": {},
     "output_type": "execute_result"
    }
   ],
   "source": [
    "x_2d.T"
   ]
  },
  {
   "cell_type": "markdown",
   "id": "3c6fec4f",
   "metadata": {},
   "source": [
    "### k) np.column_stack"
   ]
  },
  {
   "cell_type": "code",
   "execution_count": 17,
   "id": "2e77e5b7",
   "metadata": {},
   "outputs": [
    {
     "data": {
      "text/plain": [
       "array([0, 1, 2])"
      ]
     },
     "execution_count": 17,
     "metadata": {},
     "output_type": "execute_result"
    }
   ],
   "source": [
    "x = np.arange(3)\n",
    "\n",
    "x"
   ]
  },
  {
   "cell_type": "code",
   "execution_count": 18,
   "id": "31b59ede",
   "metadata": {},
   "outputs": [
    {
     "data": {
      "text/plain": [
       "array([3, 4, 5])"
      ]
     },
     "execution_count": 18,
     "metadata": {},
     "output_type": "execute_result"
    }
   ],
   "source": [
    "y = np.arange(3,6)\n",
    "\n",
    "y"
   ]
  },
  {
   "cell_type": "code",
   "execution_count": 19,
   "id": "ae8fd0a1",
   "metadata": {},
   "outputs": [
    {
     "data": {
      "text/plain": [
       "array([[0, 3],\n",
       "       [1, 4],\n",
       "       [2, 5]])"
      ]
     },
     "execution_count": 19,
     "metadata": {},
     "output_type": "execute_result"
    }
   ],
   "source": [
    "np.column_stack((x,y))"
   ]
  },
  {
   "cell_type": "markdown",
   "id": "8081d690",
   "metadata": {},
   "source": [
    "### Apéndice"
   ]
  },
  {
   "cell_type": "markdown",
   "id": "519710bc",
   "metadata": {},
   "source": [
    "Este cuaderno contiene consejos y trucos para trabajar con vectores y matrices: \n",
    "- Cómo generar matrices de números \n",
    "- Cómo generar matrices, vectores de filas y columnas \n",
    "- Cómo volver a rotar vectores \n",
    "- Y una primera introducción al concepto a menudo muy valioso de \"radiodifusión\""
   ]
  },
  {
   "cell_type": "markdown",
   "id": "3a4d6ec5",
   "metadata": {},
   "source": [
    "#### 1. Generación de datos"
   ]
  },
  {
   "cell_type": "markdown",
   "id": "6a41d0d0",
   "metadata": {},
   "source": [
    "##### 1.1 Generación de vectores uniformemente espaciados"
   ]
  },
  {
   "cell_type": "code",
   "execution_count": 41,
   "id": "0f41c486",
   "metadata": {},
   "outputs": [
    {
     "data": {
      "text/plain": [
       "array([1. , 1.5, 2. , 2.5, 3. , 3.5, 4. , 4.5])"
      ]
     },
     "execution_count": 41,
     "metadata": {},
     "output_type": "execute_result"
    }
   ],
   "source": [
    "x = np.arange(1, 5, 0.5)\n",
    "\n",
    "x"
   ]
  },
  {
   "cell_type": "code",
   "execution_count": 42,
   "id": "97db7873",
   "metadata": {},
   "outputs": [
    {
     "data": {
      "text/plain": [
       "array([0. , 0.1, 0.2, 0.3, 0.4, 0.5, 0.6, 0.7, 0.8, 0.9, 1. ])"
      ]
     },
     "execution_count": 42,
     "metadata": {},
     "output_type": "execute_result"
    }
   ],
   "source": [
    "y = np.linspace(0, 1, 11)\n",
    "\n",
    "y"
   ]
  },
  {
   "cell_type": "markdown",
   "id": "2a7720bb",
   "metadata": {},
   "source": [
    "##### 1.2 Generación de matrices"
   ]
  },
  {
   "cell_type": "code",
   "execution_count": 44,
   "id": "7fa2afcb",
   "metadata": {},
   "outputs": [
    {
     "data": {
      "text/plain": [
       "array([0., 0., 0.])"
      ]
     },
     "execution_count": 44,
     "metadata": {},
     "output_type": "execute_result"
    }
   ],
   "source": [
    "# A diferencia de MATLAB, Python por defecto genera vectores, ¡NO matrices!\n",
    "\n",
    "zero_vector = np.zeros(3)\n",
    "\n",
    "zero_vector"
   ]
  },
  {
   "cell_type": "code",
   "execution_count": 45,
   "id": "8a844d4a",
   "metadata": {},
   "outputs": [
    {
     "data": {
      "text/plain": [
       "array([[0., 0., 0.],\n",
       "       [0., 0., 0.],\n",
       "       [0., 0., 0.]])"
      ]
     },
     "execution_count": 45,
     "metadata": {},
     "output_type": "execute_result"
    }
   ],
   "source": [
    "# \"np.zeros\" y \"np.ones\" generan ceros y unos, respectivamente.\n",
    "# Solo toman UN argumento de entrada, que puede ser un número o una tupla:\n",
    "\n",
    "zero_matrix = np.zeros((3,3))\n",
    "\n",
    "zero_matrix"
   ]
  },
  {
   "cell_type": "code",
   "execution_count": 46,
   "id": "429ed35c",
   "metadata": {},
   "outputs": [
    {
     "data": {
      "text/plain": [
       "array([[ 3.24081238, -0.27443881],\n",
       "       [-0.10845576, -0.29893401],\n",
       "       [ 0.35785241,  0.93585238]])"
      ]
     },
     "execution_count": 46,
     "metadata": {},
     "output_type": "execute_result"
    }
   ],
   "source": [
    "# Nota: \"np.random.randn\", por el contrario, puede usar más de un argumento de entrada:\n",
    "\n",
    "np.random.randn(3,2)"
   ]
  },
  {
   "cell_type": "code",
   "execution_count": 47,
   "id": "9aef421b",
   "metadata": {},
   "outputs": [
    {
     "name": "stdout",
     "output_type": "stream",
     "text": [
      "[[ 0.    1.  ]\n",
      " [ 0.5   0.87]\n",
      " [ 0.87  0.5 ]\n",
      " [ 1.    0.  ]\n",
      " [ 0.87 -0.5 ]\n",
      " [ 0.5  -0.87]\n",
      " [ 0.   -1.  ]\n",
      " [-0.5  -0.87]\n",
      " [-0.87 -0.5 ]\n",
      " [-1.   -0.  ]\n",
      " [-0.87  0.5 ]\n",
      " [-0.5   0.87]]\n"
     ]
    }
   ],
   "source": [
    "# Aquí un ejemplo de cómo generar convenientemente una matriz de vectores columna:\n",
    "\n",
    "phi = np.deg2rad(np.arange(0,360,30))\n",
    "sines = np.sin(phi)\n",
    "cosines = np.cos(phi)\n",
    "\n",
    "data_mat = np.column_stack((sines, cosines))\n",
    "\n",
    "print(np.round(data_mat, 2))"
   ]
  },
  {
   "cell_type": "markdown",
   "id": "106beda2",
   "metadata": {},
   "source": [
    "#####  1.3 Generar vectores de fila y columna"
   ]
  },
  {
   "cell_type": "code",
   "execution_count": 48,
   "id": "5d0a1183",
   "metadata": {},
   "outputs": [
    {
     "data": {
      "text/plain": [
       "array([1, 2, 3])"
      ]
     },
     "execution_count": 48,
     "metadata": {},
     "output_type": "execute_result"
    }
   ],
   "source": [
    "row_vector = np.array([1, 2, 3])\n",
    "\n",
    "row_vector"
   ]
  },
  {
   "cell_type": "code",
   "execution_count": 49,
   "id": "22d1bc2b",
   "metadata": {},
   "outputs": [
    {
     "data": {
      "text/plain": [
       "array([3, 4, 5], dtype=int32)"
      ]
     },
     "execution_count": 49,
     "metadata": {},
     "output_type": "execute_result"
    }
   ],
   "source": [
    "row_vector2 = np.r_[3,4,5]\n",
    "\n",
    "row_vector2"
   ]
  },
  {
   "cell_type": "code",
   "execution_count": 50,
   "id": "45b1f7b0",
   "metadata": {},
   "outputs": [
    {
     "data": {
      "text/plain": [
       "array([[4],\n",
       "       [5],\n",
       "       [6]])"
      ]
     },
     "execution_count": 50,
     "metadata": {},
     "output_type": "execute_result"
    }
   ],
   "source": [
    "col_vector = np.c_[[4,5,6]]\n",
    "\n",
    "col_vector"
   ]
  },
  {
   "cell_type": "code",
   "execution_count": 51,
   "id": "6b5a25ce",
   "metadata": {},
   "outputs": [
    {
     "data": {
      "text/plain": [
       "array([[1],\n",
       "       [2],\n",
       "       [3]])"
      ]
     },
     "execution_count": 51,
     "metadata": {},
     "output_type": "execute_result"
    }
   ],
   "source": [
    "# Este usa el comando \"np.newaxis\" para generar un vector de columna ....\n",
    "\n",
    "row_vector[..., np.newaxis]"
   ]
  },
  {
   "cell_type": "code",
   "execution_count": 52,
   "id": "807454fc",
   "metadata": {},
   "outputs": [
    {
     "data": {
      "text/plain": [
       "array([[1],\n",
       "       [2],\n",
       "       [3]])"
      ]
     },
     "execution_count": 52,
     "metadata": {},
     "output_type": "execute_result"
    }
   ],
   "source": [
    "# Usamos \"reshape\": el \"-1\" significa \"cuantos haya\"\n",
    "\n",
    "np.reshape(row_vector, (-1,1))"
   ]
  },
  {
   "cell_type": "code",
   "execution_count": 53,
   "id": "098d31c6",
   "metadata": {},
   "outputs": [
    {
     "data": {
      "text/plain": [
       "array([1, 2, 3])"
      ]
     },
     "execution_count": 53,
     "metadata": {},
     "output_type": "execute_result"
    }
   ],
   "source": [
    "row_vector"
   ]
  },
  {
   "cell_type": "code",
   "execution_count": 54,
   "id": "574061aa",
   "metadata": {},
   "outputs": [
    {
     "data": {
      "text/plain": [
       "array([1, 2, 3])"
      ]
     },
     "execution_count": 54,
     "metadata": {},
     "output_type": "execute_result"
    }
   ],
   "source": [
    "# Los vectores no se pueden transponer\n",
    "\n",
    "row_vector.T"
   ]
  },
  {
   "cell_type": "code",
   "execution_count": 55,
   "id": "46d2f920",
   "metadata": {},
   "outputs": [
    {
     "data": {
      "text/plain": [
       "array([[1],\n",
       "       [2],\n",
       "       [3]])"
      ]
     },
     "execution_count": 55,
     "metadata": {},
     "output_type": "execute_result"
    }
   ],
   "source": [
    "# Si quieres transponer un vector, tiene que ser bidimensional\n",
    "\n",
    "vector_2d = np.atleast_2d(row_vector)\n",
    "\n",
    "vector_2d.T"
   ]
  },
  {
   "cell_type": "markdown",
   "id": "fdb709de",
   "metadata": {},
   "source": [
    "#### 2. Trabajando con Vectores y Matrices"
   ]
  },
  {
   "cell_type": "markdown",
   "id": "c1a52a64",
   "metadata": {},
   "source": [
    "##### 2.1 Rotación de un vector"
   ]
  },
  {
   "cell_type": "code",
   "execution_count": 56,
   "id": "0c6c451e",
   "metadata": {},
   "outputs": [],
   "source": [
    "# Matriz de rotación para una rotación de 30 grados\n",
    "\n",
    "alpha = np.deg2rad(30)\n",
    "\n",
    "rot_mat = np.array([[np.cos(alpha), -np.sin(alpha)],\n",
    "                    [np.sin(alpha), np.cos(alpha)]])"
   ]
  },
  {
   "cell_type": "code",
   "execution_count": 57,
   "id": "df5dfff6",
   "metadata": {},
   "outputs": [],
   "source": [
    "# La forma más elegante de especificar una multiplicación de matrices es con \"@\"\n",
    "\n",
    "vec = np.r_[1,0]\n",
    "\n",
    "vec_rotated = rot_mat @ vec"
   ]
  },
  {
   "cell_type": "code",
   "execution_count": 60,
   "id": "c07f6bd7",
   "metadata": {},
   "outputs": [
    {
     "name": "stdout",
     "output_type": "stream",
     "text": [
      "[[ 0.8660254 -0.5      ]\n",
      " [ 0.5        0.8660254]]\n",
      "\n",
      "Roté [1 0] en [0.8660254 0.5      ]\n"
     ]
    }
   ],
   "source": [
    "print(rot_mat)\n",
    "print(f'\\nRoté {str(vec)} en {str(vec_rotated)}')"
   ]
  },
  {
   "cell_type": "markdown",
   "id": "e4bfabf2",
   "metadata": {},
   "source": [
    "##### 2.2 Rotación de una lista de vectores"
   ]
  },
  {
   "cell_type": "code",
   "execution_count": 61,
   "id": "c5635f53",
   "metadata": {},
   "outputs": [],
   "source": [
    "# Listas de vectores, p. una secuencia de posiciones 3D, normalmente se almacenan como una matriz en forma de columna\n",
    "\n",
    "positions = np.random.randn(10, 2)"
   ]
  },
  {
   "cell_type": "code",
   "execution_count": 62,
   "id": "a082532c",
   "metadata": {},
   "outputs": [],
   "source": [
    "# Para rotarlos, debe tener cuidado de que las \"posiciones\" coincidan con la matriz de rotación:\n",
    "# tienen que ser transpuestas\n",
    "# Y para devolver los datos a la forma de columna, debe volver a transponerlos\n",
    "\n",
    "rotated = (rot_mat @ positions.T).T"
   ]
  },
  {
   "cell_type": "code",
   "execution_count": 63,
   "id": "5c082711",
   "metadata": {},
   "outputs": [
    {
     "data": {
      "text/plain": [
       "array([[ 0.94818565,  0.03659107],\n",
       "       [ 0.92589023,  0.6095005 ],\n",
       "       [ 0.77841299,  0.01078163],\n",
       "       [ 0.63893973,  0.54975127],\n",
       "       [ 0.62832418,  1.06814018],\n",
       "       [-0.11921495, -1.08259315],\n",
       "       [ 1.01895365, -1.43913162],\n",
       "       [ 0.06380964, -0.63517862],\n",
       "       [ 0.69406374, -0.70698396],\n",
       "       [ 0.68454396,  0.53657522]])"
      ]
     },
     "execution_count": 63,
     "metadata": {},
     "output_type": "execute_result"
    }
   ],
   "source": [
    "positions"
   ]
  },
  {
   "cell_type": "code",
   "execution_count": 64,
   "id": "6e43c5bc",
   "metadata": {},
   "outputs": [
    {
     "data": {
      "text/plain": [
       "array([[ 0.80285732,  0.50578162],\n",
       "       [ 0.49709421,  0.99078803],\n",
       "       [ 0.66873461,  0.39854366],\n",
       "       [ 0.27846241,  0.79556843],\n",
       "       [ 0.01007461,  1.23919862],\n",
       "       [ 0.43805341, -0.99716065],\n",
       "       [ 1.60200556, -0.73684772],\n",
       "       [ 0.37285008, -0.518176  ],\n",
       "       [ 0.95456881, -0.2652342 ],\n",
       "       [ 0.32454485,  0.80695975]])"
      ]
     },
     "execution_count": 64,
     "metadata": {},
     "output_type": "execute_result"
    }
   ],
   "source": [
    "rotated"
   ]
  },
  {
   "cell_type": "markdown",
   "id": "670db06d",
   "metadata": {},
   "source": [
    "##### 2.3 \"Radiodifusión\""
   ]
  },
  {
   "cell_type": "markdown",
   "id": "b9f69012",
   "metadata": {},
   "source": [
    "En *numpy*, \"transmitir\" es una forma conveniente de agregar números o vectores a una matriz, si las dimensiones coinciden.\n",
    "\n",
    "Aquí, muestro cómo restar el valor medio de cada columna:"
   ]
  },
  {
   "cell_type": "code",
   "execution_count": 65,
   "id": "28edb92d",
   "metadata": {},
   "outputs": [
    {
     "data": {
      "text/plain": [
       "array([[ 0,  1,  2],\n",
       "       [ 3,  4,  5],\n",
       "       [ 6,  7,  8],\n",
       "       [ 9, 10, 11],\n",
       "       [12, 13, 14]])"
      ]
     },
     "execution_count": 65,
     "metadata": {},
     "output_type": "execute_result"
    }
   ],
   "source": [
    "# Datos\n",
    "\n",
    "data = np.arange(15).reshape((5,3))\n",
    "\n",
    "data"
   ]
  },
  {
   "cell_type": "code",
   "execution_count": 66,
   "id": "016ad15f",
   "metadata": {},
   "outputs": [
    {
     "data": {
      "text/plain": [
       "7.0"
      ]
     },
     "execution_count": 66,
     "metadata": {},
     "output_type": "execute_result"
    }
   ],
   "source": [
    "# Media general\n",
    "\n",
    "np.mean(data)"
   ]
  },
  {
   "cell_type": "code",
   "execution_count": 67,
   "id": "f1795648",
   "metadata": {},
   "outputs": [
    {
     "data": {
      "text/plain": [
       "array([6., 7., 8.])"
      ]
     },
     "execution_count": 67,
     "metadata": {},
     "output_type": "execute_result"
    }
   ],
   "source": [
    "# Media sobre todas las filas\n",
    "\n",
    "np.mean(data, axis=0)"
   ]
  },
  {
   "cell_type": "code",
   "execution_count": 68,
   "id": "fef28be0",
   "metadata": {},
   "outputs": [
    {
     "data": {
      "text/plain": [
       "array([[-6., -6., -6.],\n",
       "       [-3., -3., -3.],\n",
       "       [ 0.,  0.,  0.],\n",
       "       [ 3.,  3.,  3.],\n",
       "       [ 6.,  6.,  6.]])"
      ]
     },
     "execution_count": 68,
     "metadata": {},
     "output_type": "execute_result"
    }
   ],
   "source": [
    "# Ahora usamos \"radiodifusión\" para restar la media de cada columna:\n",
    "# si el segundo índice coincide, la operación se aplica a cada fila:\n",
    "\n",
    "data - np.mean(data, axis = 0)"
   ]
  },
  {
   "cell_type": "markdown",
   "id": "d17b9c22",
   "metadata": {},
   "source": [
    "**Nota:** \n",
    "\n",
    "Esto solo funciona en el último índice de \"datos\", ya que las reglas de transmisión requieren que este índice coincida con el primer índice de la siguiente matriz.\n",
    "\n",
    "Si este no es el caso, se produce un error, como se muestra en la siguiente declaración:"
   ]
  },
  {
   "cell_type": "code",
   "execution_count": 69,
   "id": "90bea1e0",
   "metadata": {},
   "outputs": [
    {
     "name": "stdout",
     "output_type": "stream",
     "text": [
      "ERROR: La forma de los operandos no coincide\n"
     ]
    }
   ],
   "source": [
    "# Esto solo funciona en el último índice de \"datos\";\n",
    "# ya que las reglas de transmisión requieren que este índice coincida\n",
    "# con la longitud del vector!\n",
    "# ADVERTENCIA: ¡Entonces el siguiente comando conducirá a un error!\n",
    "\n",
    "# En Python, los errores se pueden detectar con \"try - except\":\n",
    "try:\n",
    "    data - np.mean(data, axis=1)\n",
    "except ValueError:\n",
    "    print('ERROR: La forma de los operandos no coincide')"
   ]
  },
  {
   "cell_type": "markdown",
   "id": "a9926db8",
   "metadata": {},
   "source": [
    "## 2.4 DataFrames pandas"
   ]
  },
  {
   "cell_type": "markdown",
   "id": "2e0fc4b4",
   "metadata": {},
   "source": [
    "### a) Sintaxis básica de DataFrames"
   ]
  },
  {
   "cell_type": "code",
   "execution_count": 21,
   "id": "9f76fc71",
   "metadata": {},
   "outputs": [
    {
     "data": {
      "text/html": [
       "<div>\n",
       "<style scoped>\n",
       "    .dataframe tbody tr th:only-of-type {\n",
       "        vertical-align: middle;\n",
       "    }\n",
       "\n",
       "    .dataframe tbody tr th {\n",
       "        vertical-align: top;\n",
       "    }\n",
       "\n",
       "    .dataframe thead th {\n",
       "        text-align: right;\n",
       "    }\n",
       "</style>\n",
       "<table border=\"1\" class=\"dataframe\">\n",
       "  <thead>\n",
       "    <tr style=\"text-align: right;\">\n",
       "      <th></th>\n",
       "      <th>Nombre</th>\n",
       "      <th>Apellido</th>\n",
       "      <th>Peso</th>\n",
       "      <th>Genero</th>\n",
       "      <th>Ranking</th>\n",
       "      <th>Dob</th>\n",
       "    </tr>\n",
       "  </thead>\n",
       "  <tbody>\n",
       "    <tr>\n",
       "      <th>0</th>\n",
       "      <td>Peter</td>\n",
       "      <td>Doe</td>\n",
       "      <td>68.3</td>\n",
       "      <td>m</td>\n",
       "      <td>2</td>\n",
       "      <td>1958-05-03</td>\n",
       "    </tr>\n",
       "    <tr>\n",
       "      <th>1</th>\n",
       "      <td>Paul</td>\n",
       "      <td>Miller</td>\n",
       "      <td>77.1</td>\n",
       "      <td>m</td>\n",
       "      <td>3</td>\n",
       "      <td>1958-12-01</td>\n",
       "    </tr>\n",
       "    <tr>\n",
       "      <th>2</th>\n",
       "      <td>Mary</td>\n",
       "      <td>Johnson</td>\n",
       "      <td>56.7</td>\n",
       "      <td>f</td>\n",
       "      <td>1</td>\n",
       "      <td>1959-03-20</td>\n",
       "    </tr>\n",
       "  </tbody>\n",
       "</table>\n",
       "</div>"
      ],
      "text/plain": [
       "  Nombre Apellido  Peso Genero  Ranking         Dob\n",
       "0  Peter      Doe  68.3      m        2  1958-05-03\n",
       "1   Paul   Miller  77.1      m        3  1958-12-01\n",
       "2   Mary  Johnson  56.7      f        1  1959-03-20"
      ]
     },
     "execution_count": 21,
     "metadata": {},
     "output_type": "execute_result"
    }
   ],
   "source": [
    "df = pd.DataFrame({\n",
    "    'Nombre':['Peter','Paul','Mary'],\n",
    "    'Apellido':['Doe','Miller','Johnson'],\n",
    "    'Peso':[68.3, 77.1, 56.7],\n",
    "    'Genero':['m','m','f'],\n",
    "    'Ranking':[2, 3, 1],\n",
    "    'Dob':['1958-05-03','1958-12-01','1959-03-20']\n",
    "})\n",
    "\n",
    "df"
   ]
  },
  {
   "cell_type": "code",
   "execution_count": 22,
   "id": "cef823b7",
   "metadata": {},
   "outputs": [
    {
     "data": {
      "text/plain": [
       "Nombre       object\n",
       "Apellido     object\n",
       "Peso        float64\n",
       "Genero       object\n",
       "Ranking       int64\n",
       "Dob          object\n",
       "dtype: object"
      ]
     },
     "execution_count": 22,
     "metadata": {},
     "output_type": "execute_result"
    }
   ],
   "source": [
    "df.dtypes"
   ]
  },
  {
   "cell_type": "code",
   "execution_count": 25,
   "id": "0fc6a2d1",
   "metadata": {},
   "outputs": [],
   "source": [
    "df.Dob = pd.to_datetime(df.Dob)"
   ]
  },
  {
   "cell_type": "code",
   "execution_count": 27,
   "id": "1c8a305c",
   "metadata": {},
   "outputs": [
    {
     "data": {
      "text/plain": [
       "Nombre              object\n",
       "Apellido            object\n",
       "Peso               float64\n",
       "Genero              object\n",
       "Ranking              int64\n",
       "Dob         datetime64[ns]\n",
       "dtype: object"
      ]
     },
     "execution_count": 27,
     "metadata": {},
     "output_type": "execute_result"
    }
   ],
   "source": [
    "df.dtypes"
   ]
  },
  {
   "cell_type": "code",
   "execution_count": 28,
   "id": "fa1bb78b",
   "metadata": {},
   "outputs": [
    {
     "data": {
      "text/html": [
       "<div>\n",
       "<style scoped>\n",
       "    .dataframe tbody tr th:only-of-type {\n",
       "        vertical-align: middle;\n",
       "    }\n",
       "\n",
       "    .dataframe tbody tr th {\n",
       "        vertical-align: top;\n",
       "    }\n",
       "\n",
       "    .dataframe thead th {\n",
       "        text-align: right;\n",
       "    }\n",
       "</style>\n",
       "<table border=\"1\" class=\"dataframe\">\n",
       "  <thead>\n",
       "    <tr style=\"text-align: right;\">\n",
       "      <th></th>\n",
       "      <th>Nombre</th>\n",
       "      <th>Apellido</th>\n",
       "      <th>Peso</th>\n",
       "      <th>Genero</th>\n",
       "      <th>Ranking</th>\n",
       "      <th>Dob</th>\n",
       "    </tr>\n",
       "  </thead>\n",
       "  <tbody>\n",
       "    <tr>\n",
       "      <th>0</th>\n",
       "      <td>Peter</td>\n",
       "      <td>Doe</td>\n",
       "      <td>68.3</td>\n",
       "      <td>m</td>\n",
       "      <td>2</td>\n",
       "      <td>1958-05-03</td>\n",
       "    </tr>\n",
       "    <tr>\n",
       "      <th>1</th>\n",
       "      <td>Paul</td>\n",
       "      <td>Miller</td>\n",
       "      <td>77.1</td>\n",
       "      <td>m</td>\n",
       "      <td>3</td>\n",
       "      <td>1958-12-01</td>\n",
       "    </tr>\n",
       "    <tr>\n",
       "      <th>2</th>\n",
       "      <td>Mary</td>\n",
       "      <td>Johnson</td>\n",
       "      <td>56.7</td>\n",
       "      <td>f</td>\n",
       "      <td>1</td>\n",
       "      <td>1959-03-20</td>\n",
       "    </tr>\n",
       "  </tbody>\n",
       "</table>\n",
       "</div>"
      ],
      "text/plain": [
       "  Nombre Apellido  Peso Genero  Ranking        Dob\n",
       "0  Peter      Doe  68.3      m        2 1958-05-03\n",
       "1   Paul   Miller  77.1      m        3 1958-12-01\n",
       "2   Mary  Johnson  56.7      f        1 1959-03-20"
      ]
     },
     "execution_count": 28,
     "metadata": {},
     "output_type": "execute_result"
    }
   ],
   "source": [
    "df"
   ]
  },
  {
   "cell_type": "code",
   "execution_count": 29,
   "id": "8884bd19",
   "metadata": {},
   "outputs": [
    {
     "data": {
      "image/png": "[encoded data removed]",
      "text/plain": [
       "<Figure size 640x480 with 1 Axes>"
      ]
     },
     "metadata": {},
     "output_type": "display_data"
    }
   ],
   "source": [
    "df.plot('Dob', 'Peso', marker = '*', lw=0 , ms = 15);"
   ]
  },
  {
   "cell_type": "code",
   "execution_count": 30,
   "id": "7709eb2d",
   "metadata": {},
   "outputs": [
    {
     "data": {
      "text/plain": [
       "array([0. , 0.1, 0.2, 0.3, 0.4, 0.5, 0.6, 0.7, 0.8, 0.9, 1. , 1.1, 1.2,\n",
       "       1.3, 1.4, 1.5, 1.6, 1.7, 1.8, 1.9, 2. , 2.1, 2.2, 2.3, 2.4, 2.5,\n",
       "       2.6, 2.7, 2.8, 2.9, 3. , 3.1, 3.2, 3.3, 3.4, 3.5, 3.6, 3.7, 3.8,\n",
       "       3.9, 4. , 4.1, 4.2, 4.3, 4.4, 4.5, 4.6, 4.7, 4.8, 4.9, 5. , 5.1,\n",
       "       5.2, 5.3, 5.4, 5.5, 5.6, 5.7, 5.8, 5.9, 6. , 6.1, 6.2, 6.3, 6.4,\n",
       "       6.5, 6.6, 6.7, 6.8, 6.9, 7. , 7.1, 7.2, 7.3, 7.4, 7.5, 7.6, 7.7,\n",
       "       7.8, 7.9, 8. , 8.1, 8.2, 8.3, 8.4, 8.5, 8.6, 8.7, 8.8, 8.9, 9. ,\n",
       "       9.1, 9.2, 9.3, 9.4, 9.5, 9.6, 9.7, 9.8, 9.9])"
      ]
     },
     "execution_count": 30,
     "metadata": {},
     "output_type": "execute_result"
    }
   ],
   "source": [
    "t = np.arange(0, 10, 0.1)\n",
    "\n",
    "t"
   ]
  },
  {
   "cell_type": "code",
   "execution_count": 31,
   "id": "c5bf562a",
   "metadata": {},
   "outputs": [
    {
     "data": {
      "text/plain": [
       "array([ 0.        ,  0.09983342,  0.19866933,  0.29552021,  0.38941834,\n",
       "        0.47942554,  0.56464247,  0.64421769,  0.71735609,  0.78332691,\n",
       "        0.84147098,  0.89120736,  0.93203909,  0.96355819,  0.98544973,\n",
       "        0.99749499,  0.9995736 ,  0.99166481,  0.97384763,  0.94630009,\n",
       "        0.90929743,  0.86320937,  0.8084964 ,  0.74570521,  0.67546318,\n",
       "        0.59847214,  0.51550137,  0.42737988,  0.33498815,  0.23924933,\n",
       "        0.14112001,  0.04158066, -0.05837414, -0.15774569, -0.2555411 ,\n",
       "       -0.35078323, -0.44252044, -0.52983614, -0.61185789, -0.68776616,\n",
       "       -0.7568025 , -0.81827711, -0.87157577, -0.91616594, -0.95160207,\n",
       "       -0.97753012, -0.993691  , -0.99992326, -0.99616461, -0.98245261,\n",
       "       -0.95892427, -0.92581468, -0.88345466, -0.83226744, -0.77276449,\n",
       "       -0.70554033, -0.63126664, -0.55068554, -0.46460218, -0.37387666,\n",
       "       -0.2794155 , -0.1821625 , -0.0830894 ,  0.0168139 ,  0.1165492 ,\n",
       "        0.21511999,  0.31154136,  0.40484992,  0.49411335,  0.57843976,\n",
       "        0.6569866 ,  0.72896904,  0.79366786,  0.85043662,  0.8987081 ,\n",
       "        0.93799998,  0.96791967,  0.98816823,  0.99854335,  0.99894134,\n",
       "        0.98935825,  0.96988981,  0.94073056,  0.90217183,  0.85459891,\n",
       "        0.79848711,  0.7343971 ,  0.66296923,  0.58491719,  0.50102086,\n",
       "        0.41211849,  0.31909836,  0.22288991,  0.12445442,  0.02477543,\n",
       "       -0.07515112, -0.17432678, -0.27176063, -0.36647913, -0.45753589])"
      ]
     },
     "execution_count": 31,
     "metadata": {},
     "output_type": "execute_result"
    }
   ],
   "source": [
    "x = np.sin(t)\n",
    "\n",
    "x"
   ]
  },
  {
   "cell_type": "code",
   "execution_count": 32,
   "id": "682fc645",
   "metadata": {},
   "outputs": [
    {
     "data": {
      "text/plain": [
       "array([ 1.        ,  0.99500417,  0.98006658,  0.95533649,  0.92106099,\n",
       "        0.87758256,  0.82533561,  0.76484219,  0.69670671,  0.62160997,\n",
       "        0.54030231,  0.45359612,  0.36235775,  0.26749883,  0.16996714,\n",
       "        0.0707372 , -0.02919952, -0.12884449, -0.22720209, -0.32328957,\n",
       "       -0.41614684, -0.5048461 , -0.58850112, -0.66627602, -0.73739372,\n",
       "       -0.80114362, -0.85688875, -0.90407214, -0.94222234, -0.97095817,\n",
       "       -0.9899925 , -0.99913515, -0.99829478, -0.98747977, -0.96679819,\n",
       "       -0.93645669, -0.89675842, -0.84810003, -0.79096771, -0.7259323 ,\n",
       "       -0.65364362, -0.57482395, -0.49026082, -0.40079917, -0.30733287,\n",
       "       -0.2107958 , -0.11215253, -0.01238866,  0.08749898,  0.18651237,\n",
       "        0.28366219,  0.37797774,  0.46851667,  0.55437434,  0.63469288,\n",
       "        0.70866977,  0.77556588,  0.83471278,  0.88551952,  0.92747843,\n",
       "        0.96017029,  0.98326844,  0.9965421 ,  0.99985864,  0.99318492,\n",
       "        0.97658763,  0.95023259,  0.91438315,  0.86939749,  0.8157251 ,\n",
       "        0.75390225,  0.68454667,  0.60835131,  0.52607752,  0.43854733,\n",
       "        0.34663532,  0.25125984,  0.15337386,  0.05395542, -0.04600213,\n",
       "       -0.14550003, -0.24354415, -0.33915486, -0.43137684, -0.51928865,\n",
       "       -0.6020119 , -0.67872005, -0.74864665, -0.81109301, -0.86543521,\n",
       "       -0.91113026, -0.9477216 , -0.97484362, -0.99222533, -0.99969304,\n",
       "       -0.99717216, -0.98468786, -0.96236488, -0.93042627, -0.88919115])"
      ]
     },
     "execution_count": 32,
     "metadata": {},
     "output_type": "execute_result"
    }
   ],
   "source": [
    "y = np.cos(t)\n",
    "\n",
    "y"
   ]
  },
  {
   "cell_type": "code",
   "execution_count": 34,
   "id": "9889f83d",
   "metadata": {},
   "outputs": [
    {
     "data": {
      "text/html": [
       "<div>\n",
       "<style scoped>\n",
       "    .dataframe tbody tr th:only-of-type {\n",
       "        vertical-align: middle;\n",
       "    }\n",
       "\n",
       "    .dataframe tbody tr th {\n",
       "        vertical-align: top;\n",
       "    }\n",
       "\n",
       "    .dataframe thead th {\n",
       "        text-align: right;\n",
       "    }\n",
       "</style>\n",
       "<table border=\"1\" class=\"dataframe\">\n",
       "  <thead>\n",
       "    <tr style=\"text-align: right;\">\n",
       "      <th></th>\n",
       "      <th>Tiempo</th>\n",
       "      <th>x</th>\n",
       "      <th>y</th>\n",
       "    </tr>\n",
       "  </thead>\n",
       "  <tbody>\n",
       "    <tr>\n",
       "      <th>0</th>\n",
       "      <td>0.0</td>\n",
       "      <td>0.000000</td>\n",
       "      <td>1.000000</td>\n",
       "    </tr>\n",
       "    <tr>\n",
       "      <th>1</th>\n",
       "      <td>0.1</td>\n",
       "      <td>0.099833</td>\n",
       "      <td>0.995004</td>\n",
       "    </tr>\n",
       "    <tr>\n",
       "      <th>2</th>\n",
       "      <td>0.2</td>\n",
       "      <td>0.198669</td>\n",
       "      <td>0.980067</td>\n",
       "    </tr>\n",
       "    <tr>\n",
       "      <th>3</th>\n",
       "      <td>0.3</td>\n",
       "      <td>0.295520</td>\n",
       "      <td>0.955336</td>\n",
       "    </tr>\n",
       "    <tr>\n",
       "      <th>4</th>\n",
       "      <td>0.4</td>\n",
       "      <td>0.389418</td>\n",
       "      <td>0.921061</td>\n",
       "    </tr>\n",
       "  </tbody>\n",
       "</table>\n",
       "</div>"
      ],
      "text/plain": [
       "   Tiempo         x         y\n",
       "0     0.0  0.000000  1.000000\n",
       "1     0.1  0.099833  0.995004\n",
       "2     0.2  0.198669  0.980067\n",
       "3     0.3  0.295520  0.955336\n",
       "4     0.4  0.389418  0.921061"
      ]
     },
     "execution_count": 34,
     "metadata": {},
     "output_type": "execute_result"
    }
   ],
   "source": [
    "df = pd.DataFrame({'Tiempo': t, 'x': x, 'y': y})\n",
    "\n",
    "df.head()"
   ]
  },
  {
   "cell_type": "code",
   "execution_count": 35,
   "id": "eeb80ddd",
   "metadata": {},
   "outputs": [
    {
     "data": {
      "text/plain": [
       "0     0.0\n",
       "1     0.1\n",
       "2     0.2\n",
       "3     0.3\n",
       "4     0.4\n",
       "     ... \n",
       "95    9.5\n",
       "96    9.6\n",
       "97    9.7\n",
       "98    9.8\n",
       "99    9.9\n",
       "Name: Tiempo, Length: 100, dtype: float64"
      ]
     },
     "execution_count": 35,
     "metadata": {},
     "output_type": "execute_result"
    }
   ],
   "source": [
    "df.Tiempo"
   ]
  },
  {
   "cell_type": "code",
   "execution_count": 36,
   "id": "ffc4d9e9",
   "metadata": {},
   "outputs": [
    {
     "data": {
      "text/plain": [
       "0     0.0\n",
       "1     0.1\n",
       "2     0.2\n",
       "3     0.3\n",
       "4     0.4\n",
       "     ... \n",
       "95    9.5\n",
       "96    9.6\n",
       "97    9.7\n",
       "98    9.8\n",
       "99    9.9\n",
       "Name: Tiempo, Length: 100, dtype: float64"
      ]
     },
     "execution_count": 36,
     "metadata": {},
     "output_type": "execute_result"
    }
   ],
   "source": [
    "# Alternativamente\n",
    "\n",
    "df['Tiempo']"
   ]
  },
  {
   "cell_type": "code",
   "execution_count": 38,
   "id": "cefaf1c8",
   "metadata": {},
   "outputs": [
    {
     "data": {
      "text/html": [
       "<div>\n",
       "<style scoped>\n",
       "    .dataframe tbody tr th:only-of-type {\n",
       "        vertical-align: middle;\n",
       "    }\n",
       "\n",
       "    .dataframe tbody tr th {\n",
       "        vertical-align: top;\n",
       "    }\n",
       "\n",
       "    .dataframe thead th {\n",
       "        text-align: right;\n",
       "    }\n",
       "</style>\n",
       "<table border=\"1\" class=\"dataframe\">\n",
       "  <thead>\n",
       "    <tr style=\"text-align: right;\">\n",
       "      <th></th>\n",
       "      <th>Tiempo</th>\n",
       "      <th>y</th>\n",
       "    </tr>\n",
       "  </thead>\n",
       "  <tbody>\n",
       "    <tr>\n",
       "      <th>0</th>\n",
       "      <td>0.0</td>\n",
       "      <td>1.000000</td>\n",
       "    </tr>\n",
       "    <tr>\n",
       "      <th>1</th>\n",
       "      <td>0.1</td>\n",
       "      <td>0.995004</td>\n",
       "    </tr>\n",
       "    <tr>\n",
       "      <th>2</th>\n",
       "      <td>0.2</td>\n",
       "      <td>0.980067</td>\n",
       "    </tr>\n",
       "    <tr>\n",
       "      <th>3</th>\n",
       "      <td>0.3</td>\n",
       "      <td>0.955336</td>\n",
       "    </tr>\n",
       "    <tr>\n",
       "      <th>4</th>\n",
       "      <td>0.4</td>\n",
       "      <td>0.921061</td>\n",
       "    </tr>\n",
       "  </tbody>\n",
       "</table>\n",
       "</div>"
      ],
      "text/plain": [
       "   Tiempo         y\n",
       "0     0.0  1.000000\n",
       "1     0.1  0.995004\n",
       "2     0.2  0.980067\n",
       "3     0.3  0.955336\n",
       "4     0.4  0.921061"
      ]
     },
     "execution_count": 38,
     "metadata": {},
     "output_type": "execute_result"
    }
   ],
   "source": [
    "datos = df[['Tiempo', 'y']]\n",
    "\n",
    "datos.head()"
   ]
  },
  {
   "cell_type": "code",
   "execution_count": 39,
   "id": "71d0796f",
   "metadata": {},
   "outputs": [
    {
     "data": {
      "text/html": [
       "<div>\n",
       "<style scoped>\n",
       "    .dataframe tbody tr th:only-of-type {\n",
       "        vertical-align: middle;\n",
       "    }\n",
       "\n",
       "    .dataframe tbody tr th {\n",
       "        vertical-align: top;\n",
       "    }\n",
       "\n",
       "    .dataframe thead th {\n",
       "        text-align: right;\n",
       "    }\n",
       "</style>\n",
       "<table border=\"1\" class=\"dataframe\">\n",
       "  <thead>\n",
       "    <tr style=\"text-align: right;\">\n",
       "      <th></th>\n",
       "      <th>Tiempo</th>\n",
       "      <th>y</th>\n",
       "    </tr>\n",
       "  </thead>\n",
       "  <tbody>\n",
       "    <tr>\n",
       "      <th>95</th>\n",
       "      <td>9.5</td>\n",
       "      <td>-0.997172</td>\n",
       "    </tr>\n",
       "    <tr>\n",
       "      <th>96</th>\n",
       "      <td>9.6</td>\n",
       "      <td>-0.984688</td>\n",
       "    </tr>\n",
       "    <tr>\n",
       "      <th>97</th>\n",
       "      <td>9.7</td>\n",
       "      <td>-0.962365</td>\n",
       "    </tr>\n",
       "    <tr>\n",
       "      <th>98</th>\n",
       "      <td>9.8</td>\n",
       "      <td>-0.930426</td>\n",
       "    </tr>\n",
       "    <tr>\n",
       "      <th>99</th>\n",
       "      <td>9.9</td>\n",
       "      <td>-0.889191</td>\n",
       "    </tr>\n",
       "  </tbody>\n",
       "</table>\n",
       "</div>"
      ],
      "text/plain": [
       "    Tiempo         y\n",
       "95     9.5 -0.997172\n",
       "96     9.6 -0.984688\n",
       "97     9.7 -0.962365\n",
       "98     9.8 -0.930426\n",
       "99     9.9 -0.889191"
      ]
     },
     "execution_count": 39,
     "metadata": {},
     "output_type": "execute_result"
    }
   ],
   "source": [
    "datos.tail()"
   ]
  },
  {
   "cell_type": "code",
   "execution_count": 40,
   "id": "cf0b45d6",
   "metadata": {},
   "outputs": [
    {
     "data": {
      "text/html": [
       "<div>\n",
       "<style scoped>\n",
       "    .dataframe tbody tr th:only-of-type {\n",
       "        vertical-align: middle;\n",
       "    }\n",
       "\n",
       "    .dataframe tbody tr th {\n",
       "        vertical-align: top;\n",
       "    }\n",
       "\n",
       "    .dataframe thead th {\n",
       "        text-align: right;\n",
       "    }\n",
       "</style>\n",
       "<table border=\"1\" class=\"dataframe\">\n",
       "  <thead>\n",
       "    <tr style=\"text-align: right;\">\n",
       "      <th></th>\n",
       "      <th>Tiempo</th>\n",
       "      <th>y</th>\n",
       "    </tr>\n",
       "  </thead>\n",
       "  <tbody>\n",
       "    <tr>\n",
       "      <th>4</th>\n",
       "      <td>0.4</td>\n",
       "      <td>0.921061</td>\n",
       "    </tr>\n",
       "    <tr>\n",
       "      <th>5</th>\n",
       "      <td>0.5</td>\n",
       "      <td>0.877583</td>\n",
       "    </tr>\n",
       "    <tr>\n",
       "      <th>6</th>\n",
       "      <td>0.6</td>\n",
       "      <td>0.825336</td>\n",
       "    </tr>\n",
       "    <tr>\n",
       "      <th>7</th>\n",
       "      <td>0.7</td>\n",
       "      <td>0.764842</td>\n",
       "    </tr>\n",
       "    <tr>\n",
       "      <th>8</th>\n",
       "      <td>0.8</td>\n",
       "      <td>0.696707</td>\n",
       "    </tr>\n",
       "    <tr>\n",
       "      <th>9</th>\n",
       "      <td>0.9</td>\n",
       "      <td>0.621610</td>\n",
       "    </tr>\n",
       "  </tbody>\n",
       "</table>\n",
       "</div>"
      ],
      "text/plain": [
       "   Tiempo         y\n",
       "4     0.4  0.921061\n",
       "5     0.5  0.877583\n",
       "6     0.6  0.825336\n",
       "7     0.7  0.764842\n",
       "8     0.8  0.696707\n",
       "9     0.9  0.621610"
      ]
     },
     "execution_count": 40,
     "metadata": {},
     "output_type": "execute_result"
    }
   ],
   "source": [
    "datos[4:10]"
   ]
  },
  {
   "cell_type": "code",
   "execution_count": 41,
   "id": "3f88f411",
   "metadata": {},
   "outputs": [
    {
     "data": {
      "text/html": [
       "<div>\n",
       "<style scoped>\n",
       "    .dataframe tbody tr th:only-of-type {\n",
       "        vertical-align: middle;\n",
       "    }\n",
       "\n",
       "    .dataframe tbody tr th {\n",
       "        vertical-align: top;\n",
       "    }\n",
       "\n",
       "    .dataframe thead th {\n",
       "        text-align: right;\n",
       "    }\n",
       "</style>\n",
       "<table border=\"1\" class=\"dataframe\">\n",
       "  <thead>\n",
       "    <tr style=\"text-align: right;\">\n",
       "      <th></th>\n",
       "      <th>Tiempo</th>\n",
       "      <th>y</th>\n",
       "    </tr>\n",
       "  </thead>\n",
       "  <tbody>\n",
       "    <tr>\n",
       "      <th>4</th>\n",
       "      <td>0.4</td>\n",
       "      <td>0.921061</td>\n",
       "    </tr>\n",
       "    <tr>\n",
       "      <th>5</th>\n",
       "      <td>0.5</td>\n",
       "      <td>0.877583</td>\n",
       "    </tr>\n",
       "    <tr>\n",
       "      <th>6</th>\n",
       "      <td>0.6</td>\n",
       "      <td>0.825336</td>\n",
       "    </tr>\n",
       "    <tr>\n",
       "      <th>7</th>\n",
       "      <td>0.7</td>\n",
       "      <td>0.764842</td>\n",
       "    </tr>\n",
       "    <tr>\n",
       "      <th>8</th>\n",
       "      <td>0.8</td>\n",
       "      <td>0.696707</td>\n",
       "    </tr>\n",
       "    <tr>\n",
       "      <th>9</th>\n",
       "      <td>0.9</td>\n",
       "      <td>0.621610</td>\n",
       "    </tr>\n",
       "  </tbody>\n",
       "</table>\n",
       "</div>"
      ],
      "text/plain": [
       "   Tiempo         y\n",
       "4     0.4  0.921061\n",
       "5     0.5  0.877583\n",
       "6     0.6  0.825336\n",
       "7     0.7  0.764842\n",
       "8     0.8  0.696707\n",
       "9     0.9  0.621610"
      ]
     },
     "execution_count": 41,
     "metadata": {},
     "output_type": "execute_result"
    }
   ],
   "source": [
    "df[['Tiempo', 'y']][4:10]"
   ]
  },
  {
   "cell_type": "code",
   "execution_count": 42,
   "id": "e1fb5cd8",
   "metadata": {},
   "outputs": [
    {
     "data": {
      "text/html": [
       "<div>\n",
       "<style scoped>\n",
       "    .dataframe tbody tr th:only-of-type {\n",
       "        vertical-align: middle;\n",
       "    }\n",
       "\n",
       "    .dataframe tbody tr th {\n",
       "        vertical-align: top;\n",
       "    }\n",
       "\n",
       "    .dataframe thead th {\n",
       "        text-align: right;\n",
       "    }\n",
       "</style>\n",
       "<table border=\"1\" class=\"dataframe\">\n",
       "  <thead>\n",
       "    <tr style=\"text-align: right;\">\n",
       "      <th></th>\n",
       "      <th>Tiempo</th>\n",
       "      <th>y</th>\n",
       "    </tr>\n",
       "  </thead>\n",
       "  <tbody>\n",
       "    <tr>\n",
       "      <th>4</th>\n",
       "      <td>0.4</td>\n",
       "      <td>0.921061</td>\n",
       "    </tr>\n",
       "    <tr>\n",
       "      <th>5</th>\n",
       "      <td>0.5</td>\n",
       "      <td>0.877583</td>\n",
       "    </tr>\n",
       "    <tr>\n",
       "      <th>6</th>\n",
       "      <td>0.6</td>\n",
       "      <td>0.825336</td>\n",
       "    </tr>\n",
       "    <tr>\n",
       "      <th>7</th>\n",
       "      <td>0.7</td>\n",
       "      <td>0.764842</td>\n",
       "    </tr>\n",
       "    <tr>\n",
       "      <th>8</th>\n",
       "      <td>0.8</td>\n",
       "      <td>0.696707</td>\n",
       "    </tr>\n",
       "    <tr>\n",
       "      <th>9</th>\n",
       "      <td>0.9</td>\n",
       "      <td>0.621610</td>\n",
       "    </tr>\n",
       "  </tbody>\n",
       "</table>\n",
       "</div>"
      ],
      "text/plain": [
       "   Tiempo         y\n",
       "4     0.4  0.921061\n",
       "5     0.5  0.877583\n",
       "6     0.6  0.825336\n",
       "7     0.7  0.764842\n",
       "8     0.8  0.696707\n",
       "9     0.9  0.621610"
      ]
     },
     "execution_count": 42,
     "metadata": {},
     "output_type": "execute_result"
    }
   ],
   "source": [
    "df.iloc[4:10, [0,2]]"
   ]
  },
  {
   "cell_type": "code",
   "execution_count": 43,
   "id": "a15d4f2c",
   "metadata": {},
   "outputs": [
    {
     "data": {
      "text/plain": [
       "array([[ 0.        ,  1.        ],\n",
       "       [ 0.1       ,  0.99500417],\n",
       "       [ 0.2       ,  0.98006658],\n",
       "       [ 0.3       ,  0.95533649],\n",
       "       [ 0.4       ,  0.92106099],\n",
       "       [ 0.5       ,  0.87758256],\n",
       "       [ 0.6       ,  0.82533561],\n",
       "       [ 0.7       ,  0.76484219],\n",
       "       [ 0.8       ,  0.69670671],\n",
       "       [ 0.9       ,  0.62160997],\n",
       "       [ 1.        ,  0.54030231],\n",
       "       [ 1.1       ,  0.45359612],\n",
       "       [ 1.2       ,  0.36235775],\n",
       "       [ 1.3       ,  0.26749883],\n",
       "       [ 1.4       ,  0.16996714],\n",
       "       [ 1.5       ,  0.0707372 ],\n",
       "       [ 1.6       , -0.02919952],\n",
       "       [ 1.7       , -0.12884449],\n",
       "       [ 1.8       , -0.22720209],\n",
       "       [ 1.9       , -0.32328957],\n",
       "       [ 2.        , -0.41614684],\n",
       "       [ 2.1       , -0.5048461 ],\n",
       "       [ 2.2       , -0.58850112],\n",
       "       [ 2.3       , -0.66627602],\n",
       "       [ 2.4       , -0.73739372],\n",
       "       [ 2.5       , -0.80114362],\n",
       "       [ 2.6       , -0.85688875],\n",
       "       [ 2.7       , -0.90407214],\n",
       "       [ 2.8       , -0.94222234],\n",
       "       [ 2.9       , -0.97095817],\n",
       "       [ 3.        , -0.9899925 ],\n",
       "       [ 3.1       , -0.99913515],\n",
       "       [ 3.2       , -0.99829478],\n",
       "       [ 3.3       , -0.98747977],\n",
       "       [ 3.4       , -0.96679819],\n",
       "       [ 3.5       , -0.93645669],\n",
       "       [ 3.6       , -0.89675842],\n",
       "       [ 3.7       , -0.84810003],\n",
       "       [ 3.8       , -0.79096771],\n",
       "       [ 3.9       , -0.7259323 ],\n",
       "       [ 4.        , -0.65364362],\n",
       "       [ 4.1       , -0.57482395],\n",
       "       [ 4.2       , -0.49026082],\n",
       "       [ 4.3       , -0.40079917],\n",
       "       [ 4.4       , -0.30733287],\n",
       "       [ 4.5       , -0.2107958 ],\n",
       "       [ 4.6       , -0.11215253],\n",
       "       [ 4.7       , -0.01238866],\n",
       "       [ 4.8       ,  0.08749898],\n",
       "       [ 4.9       ,  0.18651237],\n",
       "       [ 5.        ,  0.28366219],\n",
       "       [ 5.1       ,  0.37797774],\n",
       "       [ 5.2       ,  0.46851667],\n",
       "       [ 5.3       ,  0.55437434],\n",
       "       [ 5.4       ,  0.63469288],\n",
       "       [ 5.5       ,  0.70866977],\n",
       "       [ 5.6       ,  0.77556588],\n",
       "       [ 5.7       ,  0.83471278],\n",
       "       [ 5.8       ,  0.88551952],\n",
       "       [ 5.9       ,  0.92747843],\n",
       "       [ 6.        ,  0.96017029],\n",
       "       [ 6.1       ,  0.98326844],\n",
       "       [ 6.2       ,  0.9965421 ],\n",
       "       [ 6.3       ,  0.99985864],\n",
       "       [ 6.4       ,  0.99318492],\n",
       "       [ 6.5       ,  0.97658763],\n",
       "       [ 6.6       ,  0.95023259],\n",
       "       [ 6.7       ,  0.91438315],\n",
       "       [ 6.8       ,  0.86939749],\n",
       "       [ 6.9       ,  0.8157251 ],\n",
       "       [ 7.        ,  0.75390225],\n",
       "       [ 7.1       ,  0.68454667],\n",
       "       [ 7.2       ,  0.60835131],\n",
       "       [ 7.3       ,  0.52607752],\n",
       "       [ 7.4       ,  0.43854733],\n",
       "       [ 7.5       ,  0.34663532],\n",
       "       [ 7.6       ,  0.25125984],\n",
       "       [ 7.7       ,  0.15337386],\n",
       "       [ 7.8       ,  0.05395542],\n",
       "       [ 7.9       , -0.04600213],\n",
       "       [ 8.        , -0.14550003],\n",
       "       [ 8.1       , -0.24354415],\n",
       "       [ 8.2       , -0.33915486],\n",
       "       [ 8.3       , -0.43137684],\n",
       "       [ 8.4       , -0.51928865],\n",
       "       [ 8.5       , -0.6020119 ],\n",
       "       [ 8.6       , -0.67872005],\n",
       "       [ 8.7       , -0.74864665],\n",
       "       [ 8.8       , -0.81109301],\n",
       "       [ 8.9       , -0.86543521],\n",
       "       [ 9.        , -0.91113026],\n",
       "       [ 9.1       , -0.9477216 ],\n",
       "       [ 9.2       , -0.97484362],\n",
       "       [ 9.3       , -0.99222533],\n",
       "       [ 9.4       , -0.99969304],\n",
       "       [ 9.5       , -0.99717216],\n",
       "       [ 9.6       , -0.98468786],\n",
       "       [ 9.7       , -0.96236488],\n",
       "       [ 9.8       , -0.93042627],\n",
       "       [ 9.9       , -0.88919115]])"
      ]
     },
     "execution_count": 43,
     "metadata": {},
     "output_type": "execute_result"
    }
   ],
   "source": [
    "datos.values"
   ]
  },
  {
   "cell_type": "markdown",
   "id": "f5d7eafe",
   "metadata": {},
   "source": [
    "### b) Nota: Selección de datos"
   ]
  },
  {
   "cell_type": "code",
   "execution_count": 70,
   "id": "e318cd3d",
   "metadata": {},
   "outputs": [],
   "source": [
    "# Datos\n",
    "\n",
    "data = pd.DataFrame({\n",
    "    'Género': ['f', 'f', 'm', 'f', 'm', 'm', 'f', 'm', 'f', 'm', 'm'],\n",
    "    'TV': [3.4, 3.5, 2.6, 4.7, 4.1, 4.1, 5.1, 3.9, 3.7, 2.1, 4.3] })"
   ]
  },
  {
   "cell_type": "code",
   "execution_count": 72,
   "id": "bde36ec6",
   "metadata": {},
   "outputs": [
    {
     "data": {
      "text/plain": [
       "<pandas.core.groupby.generic.DataFrameGroupBy object at 0x000001DD5D0FB790>"
      ]
     },
     "execution_count": 72,
     "metadata": {},
     "output_type": "execute_result"
    }
   ],
   "source": [
    "# Agrupar los datos\n",
    "\n",
    "grouped = data.groupby('Género')\n",
    "\n",
    "grouped"
   ]
  },
  {
   "cell_type": "code",
   "execution_count": 74,
   "id": "8443055b",
   "metadata": {},
   "outputs": [
    {
     "data": {
      "text/html": [
       "<div>\n",
       "<style scoped>\n",
       "    .dataframe tbody tr th:only-of-type {\n",
       "        vertical-align: middle;\n",
       "    }\n",
       "\n",
       "    .dataframe tbody tr th {\n",
       "        vertical-align: top;\n",
       "    }\n",
       "\n",
       "    .dataframe thead tr th {\n",
       "        text-align: left;\n",
       "    }\n",
       "\n",
       "    .dataframe thead tr:last-of-type th {\n",
       "        text-align: right;\n",
       "    }\n",
       "</style>\n",
       "<table border=\"1\" class=\"dataframe\">\n",
       "  <thead>\n",
       "    <tr>\n",
       "      <th></th>\n",
       "      <th colspan=\"8\" halign=\"left\">TV</th>\n",
       "    </tr>\n",
       "    <tr>\n",
       "      <th></th>\n",
       "      <th>count</th>\n",
       "      <th>mean</th>\n",
       "      <th>std</th>\n",
       "      <th>min</th>\n",
       "      <th>25%</th>\n",
       "      <th>50%</th>\n",
       "      <th>75%</th>\n",
       "      <th>max</th>\n",
       "    </tr>\n",
       "    <tr>\n",
       "      <th>Género</th>\n",
       "      <th></th>\n",
       "      <th></th>\n",
       "      <th></th>\n",
       "      <th></th>\n",
       "      <th></th>\n",
       "      <th></th>\n",
       "      <th></th>\n",
       "      <th></th>\n",
       "    </tr>\n",
       "  </thead>\n",
       "  <tbody>\n",
       "    <tr>\n",
       "      <th>f</th>\n",
       "      <td>5.0</td>\n",
       "      <td>4.080000</td>\n",
       "      <td>0.769415</td>\n",
       "      <td>3.4</td>\n",
       "      <td>3.500</td>\n",
       "      <td>3.7</td>\n",
       "      <td>4.7</td>\n",
       "      <td>5.1</td>\n",
       "    </tr>\n",
       "    <tr>\n",
       "      <th>m</th>\n",
       "      <td>6.0</td>\n",
       "      <td>3.516667</td>\n",
       "      <td>0.926103</td>\n",
       "      <td>2.1</td>\n",
       "      <td>2.925</td>\n",
       "      <td>4.0</td>\n",
       "      <td>4.1</td>\n",
       "      <td>4.3</td>\n",
       "    </tr>\n",
       "  </tbody>\n",
       "</table>\n",
       "</div>"
      ],
      "text/plain": [
       "          TV                                               \n",
       "       count      mean       std  min    25%  50%  75%  max\n",
       "Género                                                     \n",
       "f        5.0  4.080000  0.769415  3.4  3.500  3.7  4.7  5.1\n",
       "m        6.0  3.516667  0.926103  2.1  2.925  4.0  4.1  4.3"
      ]
     },
     "execution_count": 74,
     "metadata": {},
     "output_type": "execute_result"
    }
   ],
   "source": [
    "grouped.describe()"
   ]
  },
  {
   "cell_type": "code",
   "execution_count": 75,
   "id": "e3e5afe5",
   "metadata": {},
   "outputs": [
    {
     "data": {
      "image/png": "[encoded data removed]",
      "text/plain": [
       "<Figure size 640x480 with 2 Axes>"
      ]
     },
     "metadata": {},
     "output_type": "display_data"
    }
   ],
   "source": [
    "# Grafico\n",
    "\n",
    "grouped.boxplot()\n",
    "\n",
    "plt.show()"
   ]
  },
  {
   "cell_type": "code",
   "execution_count": 76,
   "id": "31a84f55",
   "metadata": {},
   "outputs": [
    {
     "data": {
      "text/html": [
       "<div>\n",
       "<style scoped>\n",
       "    .dataframe tbody tr th:only-of-type {\n",
       "        vertical-align: middle;\n",
       "    }\n",
       "\n",
       "    .dataframe tbody tr th {\n",
       "        vertical-align: top;\n",
       "    }\n",
       "\n",
       "    .dataframe thead th {\n",
       "        text-align: right;\n",
       "    }\n",
       "</style>\n",
       "<table border=\"1\" class=\"dataframe\">\n",
       "  <thead>\n",
       "    <tr style=\"text-align: right;\">\n",
       "      <th></th>\n",
       "      <th>Género</th>\n",
       "      <th>TV</th>\n",
       "    </tr>\n",
       "  </thead>\n",
       "  <tbody>\n",
       "    <tr>\n",
       "      <th>0</th>\n",
       "      <td>f</td>\n",
       "      <td>3.4</td>\n",
       "    </tr>\n",
       "    <tr>\n",
       "      <th>1</th>\n",
       "      <td>f</td>\n",
       "      <td>3.5</td>\n",
       "    </tr>\n",
       "    <tr>\n",
       "      <th>3</th>\n",
       "      <td>f</td>\n",
       "      <td>4.7</td>\n",
       "    </tr>\n",
       "    <tr>\n",
       "      <th>6</th>\n",
       "      <td>f</td>\n",
       "      <td>5.1</td>\n",
       "    </tr>\n",
       "    <tr>\n",
       "      <th>8</th>\n",
       "      <td>f</td>\n",
       "      <td>3.7</td>\n",
       "    </tr>\n",
       "  </tbody>\n",
       "</table>\n",
       "</div>"
      ],
      "text/plain": [
       "  Género   TV\n",
       "0      f  3.4\n",
       "1      f  3.5\n",
       "3      f  4.7\n",
       "6      f  5.1\n",
       "8      f  3.7"
      ]
     },
     "execution_count": 76,
     "metadata": {},
     "output_type": "execute_result"
    }
   ],
   "source": [
    "# Obtener los grupos como DataFrames\n",
    "\n",
    "df_female = grouped.get_group('f')\n",
    "\n",
    "df_female"
   ]
  },
  {
   "cell_type": "code",
   "execution_count": 77,
   "id": "e7cf6209",
   "metadata": {},
   "outputs": [],
   "source": [
    "# Genera algunos datos de cadena\n",
    "\n",
    "data = '''name, exam, trial, points\n",
    "    Peter, midTerm, 1, 40\n",
    "    Paul, midTerm, 1, 60\n",
    "    Mary, midTerm, 1, 20\n",
    "    Mary, midTerm, 2, 70\n",
    "    Peter, final, 1, 60\n",
    "    Paul, final, 1, 20\n",
    "    Mary, final, 1, 80\n",
    "    Paul, final, 2, 75\n",
    "    '''"
   ]
  },
  {
   "cell_type": "code",
   "execution_count": 79,
   "id": "4bed69b7",
   "metadata": {},
   "outputs": [],
   "source": [
    "from io import StringIO"
   ]
  },
  {
   "cell_type": "code",
   "execution_count": 80,
   "id": "a0efbb84",
   "metadata": {},
   "outputs": [
    {
     "data": {
      "text/plain": [
       "224"
      ]
     },
     "execution_count": 80,
     "metadata": {},
     "output_type": "execute_result"
    }
   ],
   "source": [
    "# Escribirlos en un búfer\n",
    "\n",
    "buffer = StringIO()     # creando un búfer vacío\n",
    "\n",
    "buffer.write(data)"
   ]
  },
  {
   "cell_type": "code",
   "execution_count": 81,
   "id": "42faef84",
   "metadata": {},
   "outputs": [
    {
     "data": {
      "text/html": [
       "<div>\n",
       "<style scoped>\n",
       "    .dataframe tbody tr th:only-of-type {\n",
       "        vertical-align: middle;\n",
       "    }\n",
       "\n",
       "    .dataframe tbody tr th {\n",
       "        vertical-align: top;\n",
       "    }\n",
       "\n",
       "    .dataframe thead th {\n",
       "        text-align: right;\n",
       "    }\n",
       "</style>\n",
       "<table border=\"1\" class=\"dataframe\">\n",
       "  <thead>\n",
       "    <tr style=\"text-align: right;\">\n",
       "      <th></th>\n",
       "      <th>name</th>\n",
       "      <th>exam</th>\n",
       "      <th>trial</th>\n",
       "      <th>points</th>\n",
       "    </tr>\n",
       "  </thead>\n",
       "  <tbody>\n",
       "    <tr>\n",
       "      <th>0</th>\n",
       "      <td>Peter</td>\n",
       "      <td>midTerm</td>\n",
       "      <td>1</td>\n",
       "      <td>40</td>\n",
       "    </tr>\n",
       "    <tr>\n",
       "      <th>1</th>\n",
       "      <td>Paul</td>\n",
       "      <td>midTerm</td>\n",
       "      <td>1</td>\n",
       "      <td>60</td>\n",
       "    </tr>\n",
       "    <tr>\n",
       "      <th>2</th>\n",
       "      <td>Mary</td>\n",
       "      <td>midTerm</td>\n",
       "      <td>1</td>\n",
       "      <td>20</td>\n",
       "    </tr>\n",
       "    <tr>\n",
       "      <th>3</th>\n",
       "      <td>Mary</td>\n",
       "      <td>midTerm</td>\n",
       "      <td>2</td>\n",
       "      <td>70</td>\n",
       "    </tr>\n",
       "    <tr>\n",
       "      <th>4</th>\n",
       "      <td>Peter</td>\n",
       "      <td>final</td>\n",
       "      <td>1</td>\n",
       "      <td>60</td>\n",
       "    </tr>\n",
       "  </tbody>\n",
       "</table>\n",
       "</div>"
      ],
      "text/plain": [
       "    name     exam  trial  points\n",
       "0  Peter  midTerm      1      40\n",
       "1   Paul  midTerm      1      60\n",
       "2   Mary  midTerm      1      20\n",
       "3   Mary  midTerm      2      70\n",
       "4  Peter    final      1      60"
      ]
     },
     "execution_count": 81,
     "metadata": {},
     "output_type": "execute_result"
    }
   ],
   "source": [
    "# Léalo desde el búfer a un marco de datos de pandas\n",
    "\n",
    "buffer.seek(0)\n",
    "\n",
    "df = pd.read_csv(buffer, sep='[, ]+', engine='python')\n",
    "\n",
    "df.head()"
   ]
  },
  {
   "cell_type": "code",
   "execution_count": 83,
   "id": "a75e3ee3",
   "metadata": {},
   "outputs": [
    {
     "data": {
      "text/html": [
       "<div>\n",
       "<style scoped>\n",
       "    .dataframe tbody tr th:only-of-type {\n",
       "        vertical-align: middle;\n",
       "    }\n",
       "\n",
       "    .dataframe tbody tr th {\n",
       "        vertical-align: top;\n",
       "    }\n",
       "\n",
       "    .dataframe thead tr th {\n",
       "        text-align: left;\n",
       "    }\n",
       "\n",
       "    .dataframe thead tr:last-of-type th {\n",
       "        text-align: right;\n",
       "    }\n",
       "</style>\n",
       "<table border=\"1\" class=\"dataframe\">\n",
       "  <thead>\n",
       "    <tr>\n",
       "      <th></th>\n",
       "      <th></th>\n",
       "      <th colspan=\"2\" halign=\"left\">points</th>\n",
       "    </tr>\n",
       "    <tr>\n",
       "      <th></th>\n",
       "      <th>trial</th>\n",
       "      <th>1</th>\n",
       "      <th>2</th>\n",
       "    </tr>\n",
       "    <tr>\n",
       "      <th>exam</th>\n",
       "      <th>name</th>\n",
       "      <th></th>\n",
       "      <th></th>\n",
       "    </tr>\n",
       "  </thead>\n",
       "  <tbody>\n",
       "    <tr>\n",
       "      <th rowspan=\"3\" valign=\"top\">final</th>\n",
       "      <th>Mary</th>\n",
       "      <td>80.0</td>\n",
       "      <td>NaN</td>\n",
       "    </tr>\n",
       "    <tr>\n",
       "      <th>Paul</th>\n",
       "      <td>20.0</td>\n",
       "      <td>75.0</td>\n",
       "    </tr>\n",
       "    <tr>\n",
       "      <th>Peter</th>\n",
       "      <td>60.0</td>\n",
       "      <td>NaN</td>\n",
       "    </tr>\n",
       "    <tr>\n",
       "      <th rowspan=\"3\" valign=\"top\">midTerm</th>\n",
       "      <th>Mary</th>\n",
       "      <td>20.0</td>\n",
       "      <td>70.0</td>\n",
       "    </tr>\n",
       "    <tr>\n",
       "      <th>Paul</th>\n",
       "      <td>60.0</td>\n",
       "      <td>NaN</td>\n",
       "    </tr>\n",
       "    <tr>\n",
       "      <th>Peter</th>\n",
       "      <td>40.0</td>\n",
       "      <td>NaN</td>\n",
       "    </tr>\n",
       "  </tbody>\n",
       "</table>\n",
       "</div>"
      ],
      "text/plain": [
       "              points      \n",
       "trial              1     2\n",
       "exam    name              \n",
       "final   Mary    80.0   NaN\n",
       "        Paul    20.0  75.0\n",
       "        Peter   60.0   NaN\n",
       "midTerm Mary    20.0  70.0\n",
       "        Paul    60.0   NaN\n",
       "        Peter   40.0   NaN"
      ]
     },
     "execution_count": 83,
     "metadata": {},
     "output_type": "execute_result"
    }
   ],
   "source": [
    "# Generar una tabla dinámica\n",
    "\n",
    "pd.pivot_table(df, index=['exam', 'name'], values=['points'], columns=['trial'])"
   ]
  },
  {
   "cell_type": "code",
   "execution_count": 84,
   "id": "0b7beec9",
   "metadata": {},
   "outputs": [
    {
     "data": {
      "text/html": [
       "<div>\n",
       "<style scoped>\n",
       "    .dataframe tbody tr th:only-of-type {\n",
       "        vertical-align: middle;\n",
       "    }\n",
       "\n",
       "    .dataframe tbody tr th {\n",
       "        vertical-align: top;\n",
       "    }\n",
       "\n",
       "    .dataframe thead tr th {\n",
       "        text-align: left;\n",
       "    }\n",
       "\n",
       "    .dataframe thead tr:last-of-type th {\n",
       "        text-align: right;\n",
       "    }\n",
       "</style>\n",
       "<table border=\"1\" class=\"dataframe\">\n",
       "  <thead>\n",
       "    <tr>\n",
       "      <th></th>\n",
       "      <th></th>\n",
       "      <th>amax</th>\n",
       "      <th>len</th>\n",
       "    </tr>\n",
       "    <tr>\n",
       "      <th></th>\n",
       "      <th></th>\n",
       "      <th>points</th>\n",
       "      <th>points</th>\n",
       "    </tr>\n",
       "    <tr>\n",
       "      <th>exam</th>\n",
       "      <th>name</th>\n",
       "      <th></th>\n",
       "      <th></th>\n",
       "    </tr>\n",
       "  </thead>\n",
       "  <tbody>\n",
       "    <tr>\n",
       "      <th rowspan=\"3\" valign=\"top\">final</th>\n",
       "      <th>Mary</th>\n",
       "      <td>80</td>\n",
       "      <td>1</td>\n",
       "    </tr>\n",
       "    <tr>\n",
       "      <th>Paul</th>\n",
       "      <td>75</td>\n",
       "      <td>2</td>\n",
       "    </tr>\n",
       "    <tr>\n",
       "      <th>Peter</th>\n",
       "      <td>60</td>\n",
       "      <td>1</td>\n",
       "    </tr>\n",
       "    <tr>\n",
       "      <th rowspan=\"3\" valign=\"top\">midTerm</th>\n",
       "      <th>Mary</th>\n",
       "      <td>70</td>\n",
       "      <td>2</td>\n",
       "    </tr>\n",
       "    <tr>\n",
       "      <th>Paul</th>\n",
       "      <td>60</td>\n",
       "      <td>1</td>\n",
       "    </tr>\n",
       "    <tr>\n",
       "      <th>Peter</th>\n",
       "      <td>40</td>\n",
       "      <td>1</td>\n",
       "    </tr>\n",
       "  </tbody>\n",
       "</table>\n",
       "</div>"
      ],
      "text/plain": [
       "                amax    len\n",
       "              points points\n",
       "exam    name               \n",
       "final   Mary      80      1\n",
       "        Paul      75      2\n",
       "        Peter     60      1\n",
       "midTerm Mary      70      2\n",
       "        Paul      60      1\n",
       "        Peter     40      1"
      ]
     },
     "execution_count": 84,
     "metadata": {},
     "output_type": "execute_result"
    }
   ],
   "source": [
    "out =  pd.pivot_table(df, index=['exam', 'name'], values=['points'], aggfunc=[np.max, len])\n",
    "    \n",
    "out"
   ]
  },
  {
   "cell_type": "code",
   "execution_count": 85,
   "id": "13c16a7f",
   "metadata": {},
   "outputs": [],
   "source": [
    "# Generar datos que contengan \"nan\":\n",
    "\n",
    "x = np.arange(7, dtype=float)    \n",
    "\n",
    "y = x**2"
   ]
  },
  {
   "cell_type": "code",
   "execution_count": 86,
   "id": "45fadfd3",
   "metadata": {},
   "outputs": [],
   "source": [
    "x[3] = np.nan\n",
    "\n",
    "y[ [2,5] ] = np.nan"
   ]
  },
  {
   "cell_type": "code",
   "execution_count": 87,
   "id": "4b0951c1",
   "metadata": {},
   "outputs": [
    {
     "data": {
      "text/html": [
       "<div>\n",
       "<style scoped>\n",
       "    .dataframe tbody tr th:only-of-type {\n",
       "        vertical-align: middle;\n",
       "    }\n",
       "\n",
       "    .dataframe tbody tr th {\n",
       "        vertical-align: top;\n",
       "    }\n",
       "\n",
       "    .dataframe thead th {\n",
       "        text-align: right;\n",
       "    }\n",
       "</style>\n",
       "<table border=\"1\" class=\"dataframe\">\n",
       "  <thead>\n",
       "    <tr style=\"text-align: right;\">\n",
       "      <th></th>\n",
       "      <th>x</th>\n",
       "      <th>y</th>\n",
       "    </tr>\n",
       "  </thead>\n",
       "  <tbody>\n",
       "    <tr>\n",
       "      <th>0</th>\n",
       "      <td>0.0</td>\n",
       "      <td>0.0</td>\n",
       "    </tr>\n",
       "    <tr>\n",
       "      <th>1</th>\n",
       "      <td>1.0</td>\n",
       "      <td>1.0</td>\n",
       "    </tr>\n",
       "    <tr>\n",
       "      <th>2</th>\n",
       "      <td>2.0</td>\n",
       "      <td>NaN</td>\n",
       "    </tr>\n",
       "    <tr>\n",
       "      <th>3</th>\n",
       "      <td>NaN</td>\n",
       "      <td>9.0</td>\n",
       "    </tr>\n",
       "    <tr>\n",
       "      <th>4</th>\n",
       "      <td>4.0</td>\n",
       "      <td>16.0</td>\n",
       "    </tr>\n",
       "    <tr>\n",
       "      <th>5</th>\n",
       "      <td>5.0</td>\n",
       "      <td>NaN</td>\n",
       "    </tr>\n",
       "    <tr>\n",
       "      <th>6</th>\n",
       "      <td>6.0</td>\n",
       "      <td>36.0</td>\n",
       "    </tr>\n",
       "  </tbody>\n",
       "</table>\n",
       "</div>"
      ],
      "text/plain": [
       "     x     y\n",
       "0  0.0   0.0\n",
       "1  1.0   1.0\n",
       "2  2.0   NaN\n",
       "3  NaN   9.0\n",
       "4  4.0  16.0\n",
       "5  5.0   NaN\n",
       "6  6.0  36.0"
      ]
     },
     "execution_count": 87,
     "metadata": {},
     "output_type": "execute_result"
    }
   ],
   "source": [
    "df = pd.DataFrame({'x':x, 'y':y})\n",
    "\n",
    "df"
   ]
  },
  {
   "cell_type": "code",
   "execution_count": null,
   "id": "238624ec",
   "metadata": {},
   "outputs": [],
   "source": [
    "# Diferentes formas de manejar los \"nan\" en un DataFrame:"
   ]
  },
  {
   "cell_type": "code",
   "execution_count": 88,
   "id": "ff9b5eec",
   "metadata": {},
   "outputs": [
    {
     "data": {
      "text/html": [
       "<div>\n",
       "<style scoped>\n",
       "    .dataframe tbody tr th:only-of-type {\n",
       "        vertical-align: middle;\n",
       "    }\n",
       "\n",
       "    .dataframe tbody tr th {\n",
       "        vertical-align: top;\n",
       "    }\n",
       "\n",
       "    .dataframe thead th {\n",
       "        text-align: right;\n",
       "    }\n",
       "</style>\n",
       "<table border=\"1\" class=\"dataframe\">\n",
       "  <thead>\n",
       "    <tr style=\"text-align: right;\">\n",
       "      <th></th>\n",
       "      <th>x</th>\n",
       "      <th>y</th>\n",
       "    </tr>\n",
       "  </thead>\n",
       "  <tbody>\n",
       "    <tr>\n",
       "      <th>0</th>\n",
       "      <td>0.0</td>\n",
       "      <td>0.0</td>\n",
       "    </tr>\n",
       "    <tr>\n",
       "      <th>1</th>\n",
       "      <td>1.0</td>\n",
       "      <td>1.0</td>\n",
       "    </tr>\n",
       "    <tr>\n",
       "      <th>4</th>\n",
       "      <td>4.0</td>\n",
       "      <td>16.0</td>\n",
       "    </tr>\n",
       "    <tr>\n",
       "      <th>6</th>\n",
       "      <td>6.0</td>\n",
       "      <td>36.0</td>\n",
       "    </tr>\n",
       "  </tbody>\n",
       "</table>\n",
       "</div>"
      ],
      "text/plain": [
       "     x     y\n",
       "0  0.0   0.0\n",
       "1  1.0   1.0\n",
       "4  4.0  16.0\n",
       "6  6.0  36.0"
      ]
     },
     "execution_count": 88,
     "metadata": {},
     "output_type": "execute_result"
    }
   ],
   "source": [
    "# Suelta todas las filas que contengan nan-s\n",
    "\n",
    "df.dropna()"
   ]
  },
  {
   "cell_type": "code",
   "execution_count": 89,
   "id": "578141de",
   "metadata": {},
   "outputs": [
    {
     "data": {
      "text/html": [
       "<div>\n",
       "<style scoped>\n",
       "    .dataframe tbody tr th:only-of-type {\n",
       "        vertical-align: middle;\n",
       "    }\n",
       "\n",
       "    .dataframe tbody tr th {\n",
       "        vertical-align: top;\n",
       "    }\n",
       "\n",
       "    .dataframe thead th {\n",
       "        text-align: right;\n",
       "    }\n",
       "</style>\n",
       "<table border=\"1\" class=\"dataframe\">\n",
       "  <thead>\n",
       "    <tr style=\"text-align: right;\">\n",
       "      <th></th>\n",
       "      <th>x</th>\n",
       "      <th>y</th>\n",
       "    </tr>\n",
       "  </thead>\n",
       "  <tbody>\n",
       "    <tr>\n",
       "      <th>0</th>\n",
       "      <td>0.0</td>\n",
       "      <td>0.0</td>\n",
       "    </tr>\n",
       "    <tr>\n",
       "      <th>1</th>\n",
       "      <td>1.0</td>\n",
       "      <td>1.0</td>\n",
       "    </tr>\n",
       "    <tr>\n",
       "      <th>2</th>\n",
       "      <td>2.0</td>\n",
       "      <td>1.0</td>\n",
       "    </tr>\n",
       "    <tr>\n",
       "      <th>3</th>\n",
       "      <td>2.0</td>\n",
       "      <td>9.0</td>\n",
       "    </tr>\n",
       "    <tr>\n",
       "      <th>4</th>\n",
       "      <td>4.0</td>\n",
       "      <td>16.0</td>\n",
       "    </tr>\n",
       "    <tr>\n",
       "      <th>5</th>\n",
       "      <td>5.0</td>\n",
       "      <td>16.0</td>\n",
       "    </tr>\n",
       "    <tr>\n",
       "      <th>6</th>\n",
       "      <td>6.0</td>\n",
       "      <td>36.0</td>\n",
       "    </tr>\n",
       "  </tbody>\n",
       "</table>\n",
       "</div>"
      ],
      "text/plain": [
       "     x     y\n",
       "0  0.0   0.0\n",
       "1  1.0   1.0\n",
       "2  2.0   1.0\n",
       "3  2.0   9.0\n",
       "4  4.0  16.0\n",
       "5  5.0  16.0\n",
       "6  6.0  36.0"
      ]
     },
     "execution_count": 89,
     "metadata": {},
     "output_type": "execute_result"
    }
   ],
   "source": [
    "# Reemplazar con el siguiente valor más bajo\n",
    "\n",
    "df.fillna(method='pad')"
   ]
  },
  {
   "cell_type": "code",
   "execution_count": 90,
   "id": "797ae3cd",
   "metadata": {},
   "outputs": [
    {
     "data": {
      "text/html": [
       "<div>\n",
       "<style scoped>\n",
       "    .dataframe tbody tr th:only-of-type {\n",
       "        vertical-align: middle;\n",
       "    }\n",
       "\n",
       "    .dataframe tbody tr th {\n",
       "        vertical-align: top;\n",
       "    }\n",
       "\n",
       "    .dataframe thead th {\n",
       "        text-align: right;\n",
       "    }\n",
       "</style>\n",
       "<table border=\"1\" class=\"dataframe\">\n",
       "  <thead>\n",
       "    <tr style=\"text-align: right;\">\n",
       "      <th></th>\n",
       "      <th>x</th>\n",
       "      <th>y</th>\n",
       "    </tr>\n",
       "  </thead>\n",
       "  <tbody>\n",
       "    <tr>\n",
       "      <th>0</th>\n",
       "      <td>0.0</td>\n",
       "      <td>0.0</td>\n",
       "    </tr>\n",
       "    <tr>\n",
       "      <th>1</th>\n",
       "      <td>1.0</td>\n",
       "      <td>1.0</td>\n",
       "    </tr>\n",
       "    <tr>\n",
       "      <th>2</th>\n",
       "      <td>2.0</td>\n",
       "      <td>5.0</td>\n",
       "    </tr>\n",
       "    <tr>\n",
       "      <th>3</th>\n",
       "      <td>3.0</td>\n",
       "      <td>9.0</td>\n",
       "    </tr>\n",
       "    <tr>\n",
       "      <th>4</th>\n",
       "      <td>4.0</td>\n",
       "      <td>16.0</td>\n",
       "    </tr>\n",
       "    <tr>\n",
       "      <th>5</th>\n",
       "      <td>5.0</td>\n",
       "      <td>26.0</td>\n",
       "    </tr>\n",
       "    <tr>\n",
       "      <th>6</th>\n",
       "      <td>6.0</td>\n",
       "      <td>36.0</td>\n",
       "    </tr>\n",
       "  </tbody>\n",
       "</table>\n",
       "</div>"
      ],
      "text/plain": [
       "     x     y\n",
       "0  0.0   0.0\n",
       "1  1.0   1.0\n",
       "2  2.0   5.0\n",
       "3  3.0   9.0\n",
       "4  4.0  16.0\n",
       "5  5.0  26.0\n",
       "6  6.0  36.0"
      ]
     },
     "execution_count": 90,
     "metadata": {},
     "output_type": "execute_result"
    }
   ],
   "source": [
    "# Reemplazar con un valor interpolado\n",
    "\n",
    "df.interpolate()"
   ]
  },
  {
   "cell_type": "markdown",
   "id": "23cd642c",
   "metadata": {},
   "source": [
    "## 2.5 Funciones, módulos y paquetes"
   ]
  },
  {
   "cell_type": "markdown",
   "id": "b6f2cb84",
   "metadata": {},
   "source": [
    "### a) Funciones"
   ]
  },
  {
   "cell_type": "markdown",
   "id": "2616c857",
   "metadata": {},
   "source": [
    "### b) Módulos"
   ]
  },
  {
   "cell_type": "code",
   "execution_count": 44,
   "id": "b5ba4abd",
   "metadata": {},
   "outputs": [],
   "source": [
    "from typing import Tuple"
   ]
  },
  {
   "cell_type": "markdown",
   "id": "c551c0d7",
   "metadata": {},
   "source": [
    "Demostración de una función de Python."
   ]
  },
  {
   "cell_type": "code",
   "execution_count": 45,
   "id": "1f568852",
   "metadata": {},
   "outputs": [
    {
     "name": "stdout",
     "output_type": "stream",
     "text": [
      "Su primera transacción fue una pérdida y se cancelará.\n",
      "Usted ha ganado 23.00 EUR, y ha gastado 10.00 EUR.\n"
     ]
    }
   ],
   "source": [
    "def income_and_expenses(data : np.ndarray) -> Tuple[float, float]:\n",
    "    \"\"\" Encuentra la suma de los números positivos y la suma de los negativos.\n",
    "\n",
    "    Parámeteros\n",
    "    ----------\n",
    "    data : numpy array (,n)\n",
    "    Transacciones de cuenta entrantes y salientes       \n",
    "\n",
    "    Retorna\n",
    "    -------\n",
    "    income : Suma de las transacciones entrantes\n",
    "    expenses : Suma de las transacciones de la cuenta saliente\n",
    "    \"\"\"\n",
    "    \n",
    "    income = np.sum(data[data>0])\n",
    "    expenses = np.sum(data[data<0])\n",
    "    \n",
    "    return (income, expenses)\n",
    "\n",
    "\n",
    "if __name__=='__main__':\n",
    "    testData = np.array([-5, 12, 3, -6, -4, 8])\n",
    "        \n",
    "    if testData[0] < 0:\n",
    "        print('Su primera transacción fue una pérdida y se cancelará.')\n",
    "        testData = np.delete(testData, 0)\n",
    "    else:\n",
    "        print('Felicitaciones: ¡Su primera transacción fue una ganancia!')\n",
    "        \n",
    "    (my_income, my_expenses) = income_and_expenses(testData)\n",
    "    print(f'Usted ha ganado {my_income:5.2f} EUR, y ha gastado {-my_expenses:5.2f} EUR.')"
   ]
  },
  {
   "cell_type": "code",
   "execution_count": 46,
   "id": "9a1817f0",
   "metadata": {},
   "outputs": [
    {
     "name": "stdout",
     "output_type": "stream",
     "text": [
      "Your first transaction was a loss, and will be dropped.\n",
      "You have earned 23.00 EUR, and spent 10.00 EUR.\n"
     ]
    }
   ],
   "source": [
    "%run L2_2_python_module"
   ]
  },
  {
   "cell_type": "markdown",
   "id": "7a7af703",
   "metadata": {},
   "source": [
    "Demostración de importar un módulo de Python."
   ]
  },
  {
   "cell_type": "code",
   "execution_count": 47,
   "id": "714e77f1",
   "metadata": {},
   "outputs": [],
   "source": [
    "# Paquetes adicionales: esto importa la función definida anteriormente\n",
    "\n",
    "import L2_2_python_module as py_func"
   ]
  },
  {
   "cell_type": "code",
   "execution_count": 48,
   "id": "58fef913",
   "metadata": {},
   "outputs": [
    {
     "data": {
      "text/plain": [
       "array([-5, -4, -3, -2, -1,  0,  1,  2,  3,  4,  5,  6,  7,  8,  9])"
      ]
     },
     "execution_count": 48,
     "metadata": {},
     "output_type": "execute_result"
    }
   ],
   "source": [
    "# Generar datos de prueba\n",
    "\n",
    "testData = np.arange(-5, 10)\n",
    "\n",
    "testData"
   ]
  },
  {
   "cell_type": "code",
   "execution_count": 49,
   "id": "7c483e49",
   "metadata": {},
   "outputs": [
    {
     "data": {
      "text/plain": [
       "(45, -15)"
      ]
     },
     "execution_count": 49,
     "metadata": {},
     "output_type": "execute_result"
    }
   ],
   "source": [
    "# Usar una función del módulo importado\n",
    "\n",
    "out = py_func.income_and_expenses(testData)\n",
    "\n",
    "out"
   ]
  },
  {
   "cell_type": "code",
   "execution_count": 50,
   "id": "b16c5795",
   "metadata": {},
   "outputs": [
    {
     "name": "stdout",
     "output_type": "stream",
     "text": [
      "Usted ha ganado 45.00 EUR, y ha gastado 15.00 EUR.\n"
     ]
    }
   ],
   "source": [
    "print(f'Usted ha ganado {out[0]:5.2f} EUR, y ha gastado {-out[1]:5.2f} EUR.')"
   ]
  },
  {
   "cell_type": "markdown",
   "id": "fe84a6e9",
   "metadata": {},
   "source": [
    "# 3. Programación Interactiva—IPython/Jupyter"
   ]
  },
  {
   "cell_type": "markdown",
   "id": "e3dd6440",
   "metadata": {},
   "source": [
    "## 3.1 Flujo de trabajo"
   ]
  },
  {
   "cell_type": "markdown",
   "id": "ff4257f7",
   "metadata": {},
   "source": [
    "## 3.2 Interfaces de Jupyter"
   ]
  },
  {
   "cell_type": "markdown",
   "id": "85150b1a",
   "metadata": {},
   "source": [
    "### a) Consola Qt "
   ]
  },
  {
   "cell_type": "code",
   "execution_count": 51,
   "id": "e12823e2",
   "metadata": {},
   "outputs": [],
   "source": [
    "x = np.arange(0,10,0.1)\n",
    "\n",
    "y = np.sin(x)"
   ]
  },
  {
   "cell_type": "code",
   "execution_count": 54,
   "id": "f8a85856",
   "metadata": {
    "scrolled": true
   },
   "outputs": [
    {
     "data": {
      "image/png": "[encoded data removed]",
      "text/plain": [
       "<Figure size 640x480 with 1 Axes>"
      ]
     },
     "metadata": {},
     "output_type": "display_data"
    }
   ],
   "source": [
    "plt.plot(x,y);"
   ]
  },
  {
   "cell_type": "code",
   "execution_count": 55,
   "id": "40753f16",
   "metadata": {},
   "outputs": [],
   "source": [
    "np.arange? # Me brinda información"
   ]
  },
  {
   "cell_type": "markdown",
   "id": "0f09691d",
   "metadata": {},
   "source": [
    "### b) Jupyter Notebook"
   ]
  },
  {
   "cell_type": "code",
   "execution_count": 56,
   "id": "dca60888",
   "metadata": {},
   "outputs": [
    {
     "data": {
      "image/png": "[encoded data removed]",
      "text/plain": [
       "<Figure size 640x480 with 1 Axes>"
      ]
     },
     "metadata": {},
     "output_type": "display_data"
    }
   ],
   "source": [
    "plt.plot(np.sin(np.arange(0,20,0.1)));"
   ]
  },
  {
   "cell_type": "markdown",
   "id": "568676c8",
   "metadata": {},
   "source": [
    "## 3.3 Personalización de IPython/Jupyter"
   ]
  },
  {
   "cell_type": "markdown",
   "id": "4c3e3b53",
   "metadata": {},
   "source": [
    "## 3.4 Ejemplo de sesión interactiva"
   ]
  },
  {
   "cell_type": "code",
   "execution_count": 57,
   "id": "c5337231",
   "metadata": {},
   "outputs": [
    {
     "data": {
      "text/plain": [
       "array([0. , 0.1, 0.2, 0.3, 0.4, 0.5, 0.6, 0.7, 0.8, 0.9, 1. , 1.1, 1.2,\n",
       "       1.3, 1.4, 1.5, 1.6, 1.7, 1.8, 1.9, 2. , 2.1, 2.2, 2.3, 2.4, 2.5,\n",
       "       2.6, 2.7, 2.8, 2.9, 3. , 3.1, 3.2, 3.3, 3.4, 3.5, 3.6, 3.7, 3.8,\n",
       "       3.9, 4. , 4.1, 4.2, 4.3, 4.4, 4.5, 4.6, 4.7, 4.8, 4.9, 5. , 5.1,\n",
       "       5.2, 5.3, 5.4, 5.5, 5.6, 5.7, 5.8, 5.9, 6. , 6.1, 6.2, 6.3, 6.4,\n",
       "       6.5, 6.6, 6.7, 6.8, 6.9, 7. , 7.1, 7.2, 7.3, 7.4, 7.5, 7.6, 7.7,\n",
       "       7.8, 7.9, 8. , 8.1, 8.2, 8.3, 8.4, 8.5, 8.6, 8.7, 8.8, 8.9, 9. ,\n",
       "       9.1, 9.2, 9.3, 9.4, 9.5, 9.6, 9.7, 9.8, 9.9])"
      ]
     },
     "execution_count": 57,
     "metadata": {},
     "output_type": "execute_result"
    }
   ],
   "source": [
    "t = np.arange(0,10,0.1)\n",
    "\n",
    "t"
   ]
  },
  {
   "cell_type": "code",
   "execution_count": 58,
   "id": "72ad5187",
   "metadata": {},
   "outputs": [],
   "source": [
    "freq = 0.5"
   ]
  },
  {
   "cell_type": "code",
   "execution_count": 59,
   "id": "bb524018",
   "metadata": {},
   "outputs": [
    {
     "data": {
      "text/plain": [
       "3.141592653589793"
      ]
     },
     "execution_count": 59,
     "metadata": {},
     "output_type": "execute_result"
    }
   ],
   "source": [
    "omega = 2 * np.pi * freq # Será igual a pi\n",
    "\n",
    "omega"
   ]
  },
  {
   "cell_type": "code",
   "execution_count": 60,
   "id": "91ba2e0f",
   "metadata": {},
   "outputs": [
    {
     "data": {
      "text/plain": [
       "array([ 0.00000000e+00,  3.09016994e-01,  5.87785252e-01,  8.09016994e-01,\n",
       "        9.51056516e-01,  1.00000000e+00,  9.51056516e-01,  8.09016994e-01,\n",
       "        5.87785252e-01,  3.09016994e-01,  1.22464680e-16, -3.09016994e-01,\n",
       "       -5.87785252e-01, -8.09016994e-01, -9.51056516e-01, -1.00000000e+00,\n",
       "       -9.51056516e-01, -8.09016994e-01, -5.87785252e-01, -3.09016994e-01,\n",
       "       -2.44929360e-16,  3.09016994e-01,  5.87785252e-01,  8.09016994e-01,\n",
       "        9.51056516e-01,  1.00000000e+00,  9.51056516e-01,  8.09016994e-01,\n",
       "        5.87785252e-01,  3.09016994e-01,  3.67394040e-16, -3.09016994e-01,\n",
       "       -5.87785252e-01, -8.09016994e-01, -9.51056516e-01, -1.00000000e+00,\n",
       "       -9.51056516e-01, -8.09016994e-01, -5.87785252e-01, -3.09016994e-01,\n",
       "       -4.89858720e-16,  3.09016994e-01,  5.87785252e-01,  8.09016994e-01,\n",
       "        9.51056516e-01,  1.00000000e+00,  9.51056516e-01,  8.09016994e-01,\n",
       "        5.87785252e-01,  3.09016994e-01,  6.12323400e-16, -3.09016994e-01,\n",
       "       -5.87785252e-01, -8.09016994e-01, -9.51056516e-01, -1.00000000e+00,\n",
       "       -9.51056516e-01, -8.09016994e-01, -5.87785252e-01, -3.09016994e-01,\n",
       "       -7.34788079e-16,  3.09016994e-01,  5.87785252e-01,  8.09016994e-01,\n",
       "        9.51056516e-01,  1.00000000e+00,  9.51056516e-01,  8.09016994e-01,\n",
       "        5.87785252e-01,  3.09016994e-01,  8.57252759e-16, -3.09016994e-01,\n",
       "       -5.87785252e-01, -8.09016994e-01, -9.51056516e-01, -1.00000000e+00,\n",
       "       -9.51056516e-01, -8.09016994e-01, -5.87785252e-01, -3.09016994e-01,\n",
       "       -9.79717439e-16,  3.09016994e-01,  5.87785252e-01,  8.09016994e-01,\n",
       "        9.51056516e-01,  1.00000000e+00,  9.51056516e-01,  8.09016994e-01,\n",
       "        5.87785252e-01,  3.09016994e-01,  1.10218212e-15, -3.09016994e-01,\n",
       "       -5.87785252e-01, -8.09016994e-01, -9.51056516e-01, -1.00000000e+00,\n",
       "       -9.51056516e-01, -8.09016994e-01, -5.87785252e-01, -3.09016994e-01])"
      ]
     },
     "execution_count": 60,
     "metadata": {},
     "output_type": "execute_result"
    }
   ],
   "source": [
    "x = np.sin(omega * t)\n",
    "\n",
    "x"
   ]
  },
  {
   "cell_type": "code",
   "execution_count": 61,
   "id": "a4f25441",
   "metadata": {},
   "outputs": [
    {
     "data": {
      "text/plain": [
       "'C:\\\\Users\\\\usuario\\\\Desktop\\\\Curso Estadística UCCuyo\\\\Libro'"
      ]
     },
     "execution_count": 61,
     "metadata": {},
     "output_type": "execute_result"
    }
   ],
   "source": [
    "pwd # print working directory"
   ]
  },
  {
   "cell_type": "code",
   "execution_count": 62,
   "id": "2dbad079",
   "metadata": {},
   "outputs": [
    {
     "name": "stdout",
     "output_type": "stream",
     "text": [
      "C:\\Users\\usuario\n"
     ]
    }
   ],
   "source": [
    "cd C:\\\\Users\\\\usuario"
   ]
  },
  {
   "cell_type": "code",
   "execution_count": 63,
   "id": "b7a66539",
   "metadata": {},
   "outputs": [
    {
     "data": {
      "image/png": "[encoded data removed]",
      "text/plain": [
       "<Figure size 640x480 with 1 Axes>"
      ]
     },
     "metadata": {},
     "output_type": "display_data"
    }
   ],
   "source": [
    "plt.plot(t,x)\n",
    "\n",
    "plt.xlabel('Tiempo [s]')\n",
    "plt.ylabel('Señal')\n",
    "\n",
    "plt.show();"
   ]
  },
  {
   "cell_type": "markdown",
   "id": "d40b4430",
   "metadata": {},
   "source": [
    "## 3.5 Conversión de comandos interactivos en un programa de Python"
   ]
  },
  {
   "cell_type": "code",
   "execution_count": 64,
   "id": "bc8ce50c",
   "metadata": {},
   "outputs": [
    {
     "name": "stdout",
     "output_type": "stream",
     "text": [
      "import numpy as np\n",
      "np.array([[1,2],\n",
      "          [3,4]])\n",
      "A = np.array([[1, 2],\n",
      "              [3, 4] ])\n",
      "\n",
      "A\n",
      "A[0]\n",
      "x = np.arange(3)\n",
      "\n",
      "x\n",
      "A\n",
      "x.T\n",
      "# El resultado indica que un vector sigue siendo un vector,\n",
      "# y que la transposición con '.T' no tiene efecto en su forma. \n",
      "\n",
      "x.T == x\n",
      "A.T\n",
      "A.T == A\n",
      "# Filas\n",
      "\n",
      "np.r_[1,2,3]\n",
      "# Columnas\n",
      "\n",
      "np.c_[\n",
      "    [1.5,2,3]\n",
      "]\n",
      "x = np.arange(5)\n",
      "\n",
      "x\n",
      "x.T\n",
      "x_2d = np.atleast_2d(x)\n",
      "\n",
      "x_2d\n",
      "x_2d.T\n",
      "x = np.arange(3)\n",
      "\n",
      "x\n",
      "y = np.arange(3,6)\n",
      "\n",
      "y\n",
      "np.column_stack((x,y))\n",
      "import numpy as np\n",
      "import pandas as pd\n",
      "df = pd.DataFrame({\n",
      "    'Nombre':['Peter','Paul','Mary'],\n",
      "    'Apellido':['Doe','Miller','Johnson'],\n",
      "    'Peso':[68.3, 77.1, 56.7],\n",
      "    'Genero':['m','m','f'],\n",
      "    'Ranking':[2, 3, 1],\n",
      "    'Dob':['1958-05-03','1958-12-01','1959-03-20']\n",
      "})\n",
      "\n",
      "df\n",
      "df.dtypes\n",
      "df.dob = pd.to_datetime(df.dob)\n",
      "df.Dob = pd.to_datetime(df.dob)\n",
      "df.Dob = pd.to_datetime(df.Dob)\n",
      "df\n",
      "df.dtypes\n",
      "df\n",
      "df.plot('Dob', 'Peso', marker = '*', lw=0 , ms = 15);\n",
      "t = np.arange(0, 10, 0.1)\n",
      "\n",
      "t\n",
      "x = np.sin(t)\n",
      "\n",
      "x\n",
      "y = np.cos(t)\n",
      "\n",
      "y\n",
      "df = pd.DataFrame({'Tiempo': t, 'x': x, 'y': y})\n",
      "\n",
      "df\n",
      "df = pd.DataFrame({'Tiempo': t, 'x': x, 'y': y})\n",
      "\n",
      "df.head()\n",
      "df.Tiempo\n",
      "# Alternativamente\n",
      "\n",
      "df['Tiempo']\n",
      "datos = df[['Tiempo', 'y']]\n",
      "\n",
      "datos\n",
      "datos = df[['Tiempo', 'y']]\n",
      "\n",
      "datos.head()\n",
      "datos.tail()\n",
      "datos[4:10]\n",
      "df[['Tiempo', 'y']][4:10]\n",
      "df.iloc[4:10, [0,2]]\n",
      "datos.values\n",
      "from typing import Tuple\n",
      "\"\"\" Demostración de una función de Python \"\"\"\n",
      "\n",
      "def income_and_expenses(data : np.ndarray) -> Tuple[float, float]:\n",
      "    \"\"\" Encuentra la suma de los números positivos y la suma de los negativos.\n",
      "\n",
      "    Parámeteros\n",
      "    ----------\n",
      "    data : numpy array (,n)\n",
      "    Transacciones de cuenta entrantes y salientes       \n",
      "\n",
      "    Retorna\n",
      "    -------\n",
      "    income : Suma de las transacciones entrantes\n",
      "    expenses : Suma de las transacciones de la cuenta saliente\n",
      "    \"\"\"\n",
      "    \n",
      "    income = np.sum(data[data>0])\n",
      "    expenses = np.sum(data[data<0])\n",
      "    \n",
      "    return (income, expenses)\n",
      "\n",
      "\n",
      "if __name__=='__main__':\n",
      "    testData = np.array([-5, 12, 3, -6, -4, 8])\n",
      "        \n",
      "    if testData[0] < 0:\n",
      "        print('Su primera transacción fue una pérdida y se cancelará.')\n",
      "        testData = np.delete(testData, 0)\n",
      "    else:\n",
      "        print('Felicitaciones: ¡Su primera transacción fue una ganancia!')\n",
      "        \n",
      "    (my_income, my_expenses) = income_and_expenses(testData)\n",
      "    print(f'Usted ha ganado {my_income:5.2f} EUR, y ha gastado {-my_expenses:5.2f} EUR.')\n",
      "%run L2_2_python_module\n",
      "# Paquetes adicionales: esto importa la función definida anteriormente\n",
      "import L2_2_python_module as py_func\n",
      "# Generar datos de prueba\n",
      "\n",
      "testData = np.arange(-5, 10)\n",
      "\n",
      "testData\n",
      "# Usar una función del módulo importado\n",
      "\n",
      "out = py_func.income_and_expenses(testData)\n",
      "\n",
      "out\n",
      "print(f'Usted ha ganado {out[0]:5.2f} EUR, y ha gastado {-out[1]:5.2f} EUR.')\n",
      "x = np.arange(0,10,0.1)\n",
      "\n",
      "y = np.sin(x)\n",
      "plt.plot(x,y);\n",
      "import numpy as np\n",
      "import pandas as pd\n",
      "import matplotlib.pyplot as plt\n",
      "plt.plot(x,y);\n",
      "np.arange?\n",
      "plt.plot(np.sin(np.arange(0,20,0.1)));\n",
      "t = np.arange(0,10,0.1)\n",
      "\n",
      "t\n",
      "freq = 0.5\n",
      "omega = 2 * np.pi * freq # Será igual a pi\n",
      "\n",
      "omega\n",
      "x = np.sin(omega * t)\n",
      "\n",
      "x\n",
      "pwd # print working directory\n",
      "cd C:\\\\Users\\\\usuario\n",
      "plt.plot(t,x)\n",
      "\n",
      "plt.xlabel('Tiempo [s]')\n",
      "plt.ylabel('Señal')\n",
      "\n",
      "plt.show();\n",
      "%hist\n"
     ]
    }
   ],
   "source": [
    "%hist"
   ]
  },
  {
   "cell_type": "markdown",
   "id": "aee42465",
   "metadata": {},
   "source": [
    "# 4. Paquetes de estadísticas para Python"
   ]
  },
  {
   "cell_type": "markdown",
   "id": "aa761e31",
   "metadata": {},
   "source": [
    "## 4.1 Seaborn—Visualización de datos"
   ]
  },
  {
   "cell_type": "code",
   "execution_count": 65,
   "id": "e2add987",
   "metadata": {},
   "outputs": [
    {
     "data": {
      "text/plain": [
       "array([1.        , 1.12244898, 1.24489796, 1.36734694, 1.48979592,\n",
       "       1.6122449 , 1.73469388, 1.85714286, 1.97959184, 2.10204082,\n",
       "       2.2244898 , 2.34693878, 2.46938776, 2.59183673, 2.71428571,\n",
       "       2.83673469, 2.95918367, 3.08163265, 3.20408163, 3.32653061,\n",
       "       3.44897959, 3.57142857, 3.69387755, 3.81632653, 3.93877551,\n",
       "       4.06122449, 4.18367347, 4.30612245, 4.42857143, 4.55102041,\n",
       "       4.67346939, 4.79591837, 4.91836735, 5.04081633, 5.16326531,\n",
       "       5.28571429, 5.40816327, 5.53061224, 5.65306122, 5.7755102 ,\n",
       "       5.89795918, 6.02040816, 6.14285714, 6.26530612, 6.3877551 ,\n",
       "       6.51020408, 6.63265306, 6.75510204, 6.87755102, 7.        ])"
      ]
     },
     "execution_count": 65,
     "metadata": {},
     "output_type": "execute_result"
    }
   ],
   "source": [
    "x = np.linspace(1, 7, 50)\n",
    "\n",
    "x"
   ]
  },
  {
   "cell_type": "code",
   "execution_count": 66,
   "id": "a99665af",
   "metadata": {},
   "outputs": [
    {
     "data": {
      "text/plain": [
       "array([ 4.70791779,  6.3654291 ,  5.7323749 ,  5.79940438,  7.02986798,\n",
       "        5.04401351,  7.93994922,  8.66698267,  8.69674458,  6.24649177,\n",
       "        8.43389252,  6.69933681,  8.3680565 ,  7.18388321,  7.37728669,\n",
       "       10.70022779,  7.96695159, 10.57277933,  9.58012103,  9.64517244,\n",
       "        7.02824971,  9.94113652, 10.80835178, 10.72255642, 10.39839523,\n",
       "       12.72111706, 11.68518015, 12.79251833, 12.42036377, 16.17237832,\n",
       "       10.90583705,  9.97131033, 14.0340748 , 12.52287035, 12.60832927,\n",
       "       13.3440307 , 13.77843726, 15.3008036 , 13.63474902, 14.78279017,\n",
       "       13.1889367 , 15.05434058, 14.44663789, 14.48763581, 16.25326244,\n",
       "       15.2637724 , 17.83996572, 16.52293468, 16.92301566, 16.07267899])"
      ]
     },
     "execution_count": 66,
     "metadata": {},
     "output_type": "execute_result"
    }
   ],
   "source": [
    "y = 3 + 2 * x + 1.5 * np.random.randn(len(x))\n",
    "\n",
    "y"
   ]
  },
  {
   "cell_type": "code",
   "execution_count": 68,
   "id": "27874d89",
   "metadata": {},
   "outputs": [
    {
     "data": {
      "text/html": [
       "<div>\n",
       "<style scoped>\n",
       "    .dataframe tbody tr th:only-of-type {\n",
       "        vertical-align: middle;\n",
       "    }\n",
       "\n",
       "    .dataframe tbody tr th {\n",
       "        vertical-align: top;\n",
       "    }\n",
       "\n",
       "    .dataframe thead th {\n",
       "        text-align: right;\n",
       "    }\n",
       "</style>\n",
       "<table border=\"1\" class=\"dataframe\">\n",
       "  <thead>\n",
       "    <tr style=\"text-align: right;\">\n",
       "      <th></th>\n",
       "      <th>xData</th>\n",
       "      <th>yData</th>\n",
       "    </tr>\n",
       "  </thead>\n",
       "  <tbody>\n",
       "    <tr>\n",
       "      <th>0</th>\n",
       "      <td>1.000000</td>\n",
       "      <td>4.707918</td>\n",
       "    </tr>\n",
       "    <tr>\n",
       "      <th>1</th>\n",
       "      <td>1.122449</td>\n",
       "      <td>6.365429</td>\n",
       "    </tr>\n",
       "    <tr>\n",
       "      <th>2</th>\n",
       "      <td>1.244898</td>\n",
       "      <td>5.732375</td>\n",
       "    </tr>\n",
       "    <tr>\n",
       "      <th>3</th>\n",
       "      <td>1.367347</td>\n",
       "      <td>5.799404</td>\n",
       "    </tr>\n",
       "    <tr>\n",
       "      <th>4</th>\n",
       "      <td>1.489796</td>\n",
       "      <td>7.029868</td>\n",
       "    </tr>\n",
       "  </tbody>\n",
       "</table>\n",
       "</div>"
      ],
      "text/plain": [
       "      xData     yData\n",
       "0  1.000000  4.707918\n",
       "1  1.122449  6.365429\n",
       "2  1.244898  5.732375\n",
       "3  1.367347  5.799404\n",
       "4  1.489796  7.029868"
      ]
     },
     "execution_count": 68,
     "metadata": {},
     "output_type": "execute_result"
    }
   ],
   "source": [
    "df = pd.DataFrame({'xData': x, 'yData': y})\n",
    "\n",
    "df.head()"
   ]
  },
  {
   "cell_type": "code",
   "execution_count": 70,
   "id": "453e3636",
   "metadata": {},
   "outputs": [
    {
     "data": {
      "image/png": "[encoded data removed]",
      "text/plain": [
       "<Figure size 640x480 with 1 Axes>"
      ]
     },
     "metadata": {},
     "output_type": "display_data"
    }
   ],
   "source": [
    "sns.regplot(x = 'xData', y = 'yData', data = df)\n",
    "\n",
    "plt.show()"
   ]
  },
  {
   "cell_type": "markdown",
   "id": "da3d1db1",
   "metadata": {},
   "source": [
    "## 4.2 Pingouin"
   ]
  },
  {
   "cell_type": "code",
   "execution_count": 72,
   "id": "67edb545",
   "metadata": {},
   "outputs": [],
   "source": [
    "np.random.seed(123)"
   ]
  },
  {
   "cell_type": "code",
   "execution_count": 73,
   "id": "2adeaf99",
   "metadata": {},
   "outputs": [
    {
     "data": {
      "text/plain": [
       "array([ 0,  1,  2,  3,  4,  5,  6,  7,  8,  9, 10, 11, 12, 13, 14, 15, 16,\n",
       "       17, 18, 19, 20, 21, 22, 23, 24, 25, 26, 27, 28, 29, 30, 31, 32, 33,\n",
       "       34, 35, 36, 37, 38, 39, 40, 41, 42, 43, 44, 45, 46, 47, 48, 49, 50,\n",
       "       51, 52, 53, 54, 55, 56, 57, 58, 59, 60, 61, 62, 63, 64, 65, 66, 67,\n",
       "       68, 69, 70, 71, 72, 73, 74, 75, 76, 77, 78, 79, 80, 81, 82, 83, 84,\n",
       "       85, 86, 87, 88, 89, 90, 91, 92, 93, 94, 95, 96, 97, 98, 99])"
      ]
     },
     "execution_count": 73,
     "metadata": {},
     "output_type": "execute_result"
    }
   ],
   "source": [
    "x = np.arange(100)\n",
    "\n",
    "x"
   ]
  },
  {
   "cell_type": "code",
   "execution_count": 74,
   "id": "fb626603",
   "metadata": {},
   "outputs": [
    {
     "data": {
      "text/plain": [
       "array([ 39.14369397,  61.47345447,  55.82978498,  39.43705286,\n",
       "        50.21399748,  74.01436537,  34.73320757,  56.21087371,\n",
       "        74.65936259,  54.83259598,  58.21113848,  65.55291031,\n",
       "        82.91389626,  63.11098003,  66.5601804 ,  68.15648724,\n",
       "        96.05930083,  97.36786089,  87.04053898,  82.36186399,\n",
       "        87.37368576,  96.40732028,  73.64166132,  96.25829045,\n",
       "        73.46119332,  81.12248498,  98.07105196,  76.213193  ,\n",
       "        90.5993128 ,  84.88245104,  92.44380629,  68.51410895,\n",
       "        80.28466895,  92.50122765, 110.27462432, 100.76364317,\n",
       "       104.02845916, 112.38222711,  98.20463657, 111.33627324,\n",
       "       101.94633482,  94.22330506, 109.09100206, 120.23805862,\n",
       "       119.38589051, 117.38169506, 142.92365266, 124.6291216 ,\n",
       "       131.78736006, 145.88143338, 112.05914677, 116.1121179 ,\n",
       "       145.43712225, 121.51937265, 131.2968323 , 143.19315969,\n",
       "       142.90706391, 153.04886182, 151.95644137, 149.1939267 ,\n",
       "       132.27291286, 149.44862668, 146.14271995, 131.2373454 ,\n",
       "       160.17299046, 155.57236535, 149.45490081, 148.16907939,\n",
       "       140.01698855, 155.49524074, 159.68439119, 148.18845016,\n",
       "       169.62204049, 148.52796954, 139.7689965 , 172.89727091,\n",
       "       159.96633962, 164.23970415, 158.62483277, 152.44037239,\n",
       "       182.55237375, 164.61131016, 189.60952488, 182.57308186,\n",
       "       172.85241853, 166.64097599, 171.67538013, 168.37476869,\n",
       "       202.8711336 , 185.1444123 , 196.50205543, 173.82647951,\n",
       "       189.8103513 , 201.27861939, 187.64989238, 202.81114459,\n",
       "       183.15432088, 181.86528455, 200.79400612, 194.70823565])"
      ]
     },
     "execution_count": 74,
     "metadata": {},
     "output_type": "execute_result"
    }
   ],
   "source": [
    "y = 1.5 * x + 50 + 10 * np.random.randn(len(x))\n",
    "\n",
    "y"
   ]
  },
  {
   "cell_type": "code",
   "execution_count": 76,
   "id": "045edbcc",
   "metadata": {},
   "outputs": [
    {
     "data": {
      "text/plain": [
       "LinregressResult(slope=1.5028351171729766, intercept=50.130752434841256, rvalue=0.9678058655187531, pvalue=1.6044598942663455e-60, stderr=0.03948112773960396, intercept_stderr=2.262340965938778)"
      ]
     },
     "execution_count": 76,
     "metadata": {},
     "output_type": "execute_result"
    }
   ],
   "source": [
    "stats.linregress(x,y) # Ajuste de recta con scipy"
   ]
  },
  {
   "cell_type": "code",
   "execution_count": 77,
   "id": "02684e20",
   "metadata": {},
   "outputs": [
    {
     "data": {
      "text/html": [
       "<div>\n",
       "<style scoped>\n",
       "    .dataframe tbody tr th:only-of-type {\n",
       "        vertical-align: middle;\n",
       "    }\n",
       "\n",
       "    .dataframe tbody tr th {\n",
       "        vertical-align: top;\n",
       "    }\n",
       "\n",
       "    .dataframe thead th {\n",
       "        text-align: right;\n",
       "    }\n",
       "</style>\n",
       "<table border=\"1\" class=\"dataframe\">\n",
       "  <thead>\n",
       "    <tr style=\"text-align: right;\">\n",
       "      <th></th>\n",
       "      <th>names</th>\n",
       "      <th>coef</th>\n",
       "      <th>se</th>\n",
       "      <th>T</th>\n",
       "      <th>pval</th>\n",
       "      <th>r2</th>\n",
       "      <th>adj_r2</th>\n",
       "      <th>CI[2.5%]</th>\n",
       "      <th>CI[97.5%]</th>\n",
       "    </tr>\n",
       "  </thead>\n",
       "  <tbody>\n",
       "    <tr>\n",
       "      <th>0</th>\n",
       "      <td>Intercept</td>\n",
       "      <td>50.13</td>\n",
       "      <td>2.26</td>\n",
       "      <td>22.16</td>\n",
       "      <td>0.0</td>\n",
       "      <td>0.94</td>\n",
       "      <td>0.94</td>\n",
       "      <td>45.64</td>\n",
       "      <td>54.62</td>\n",
       "    </tr>\n",
       "    <tr>\n",
       "      <th>1</th>\n",
       "      <td>x1</td>\n",
       "      <td>1.50</td>\n",
       "      <td>0.04</td>\n",
       "      <td>38.06</td>\n",
       "      <td>0.0</td>\n",
       "      <td>0.94</td>\n",
       "      <td>0.94</td>\n",
       "      <td>1.42</td>\n",
       "      <td>1.58</td>\n",
       "    </tr>\n",
       "  </tbody>\n",
       "</table>\n",
       "</div>"
      ],
      "text/plain": [
       "       names   coef    se      T  pval    r2  adj_r2  CI[2.5%]  CI[97.5%]\n",
       "0  Intercept  50.13  2.26  22.16   0.0  0.94    0.94     45.64      54.62\n",
       "1         x1   1.50  0.04  38.06   0.0  0.94    0.94      1.42       1.58"
      ]
     },
     "execution_count": 77,
     "metadata": {},
     "output_type": "execute_result"
    }
   ],
   "source": [
    "lm = pg.linear_regression(x,y) # Ajuste de recta con pingouin\n",
    "\n",
    "lm.round(2)"
   ]
  },
  {
   "cell_type": "markdown",
   "id": "1b28c3c9",
   "metadata": {},
   "source": [
    "## 4.3 Statsmodels—Herramientas para Modelado Estadístico"
   ]
  },
  {
   "cell_type": "code",
   "execution_count": 78,
   "id": "3242bafb",
   "metadata": {},
   "outputs": [],
   "source": [
    "x = np.arange(100)\n",
    "\n",
    "y = 0.5 * x - 20 + np.random.randn(len(x))"
   ]
  },
  {
   "cell_type": "code",
   "execution_count": 80,
   "id": "2e9da529",
   "metadata": {},
   "outputs": [
    {
     "data": {
      "text/html": [
       "<div>\n",
       "<style scoped>\n",
       "    .dataframe tbody tr th:only-of-type {\n",
       "        vertical-align: middle;\n",
       "    }\n",
       "\n",
       "    .dataframe tbody tr th {\n",
       "        vertical-align: top;\n",
       "    }\n",
       "\n",
       "    .dataframe thead th {\n",
       "        text-align: right;\n",
       "    }\n",
       "</style>\n",
       "<table border=\"1\" class=\"dataframe\">\n",
       "  <thead>\n",
       "    <tr style=\"text-align: right;\">\n",
       "      <th></th>\n",
       "      <th>x</th>\n",
       "      <th>y</th>\n",
       "    </tr>\n",
       "  </thead>\n",
       "  <tbody>\n",
       "    <tr>\n",
       "      <th>0</th>\n",
       "      <td>0</td>\n",
       "      <td>-19.357945</td>\n",
       "    </tr>\n",
       "    <tr>\n",
       "      <th>1</th>\n",
       "      <td>1</td>\n",
       "      <td>-21.477888</td>\n",
       "    </tr>\n",
       "    <tr>\n",
       "      <th>2</th>\n",
       "      <td>2</td>\n",
       "      <td>-18.287735</td>\n",
       "    </tr>\n",
       "    <tr>\n",
       "      <th>3</th>\n",
       "      <td>3</td>\n",
       "      <td>-15.901696</td>\n",
       "    </tr>\n",
       "    <tr>\n",
       "      <th>4</th>\n",
       "      <td>4</td>\n",
       "      <td>-18.024626</td>\n",
       "    </tr>\n",
       "  </tbody>\n",
       "</table>\n",
       "</div>"
      ],
      "text/plain": [
       "   x          y\n",
       "0  0 -19.357945\n",
       "1  1 -21.477888\n",
       "2  2 -18.287735\n",
       "3  3 -15.901696\n",
       "4  4 -18.024626"
      ]
     },
     "execution_count": 80,
     "metadata": {},
     "output_type": "execute_result"
    }
   ],
   "source": [
    "df = pd.DataFrame({'x': x, 'y': y})\n",
    "\n",
    "df.head()"
   ]
  },
  {
   "cell_type": "code",
   "execution_count": 82,
   "id": "abb94e78",
   "metadata": {},
   "outputs": [
    {
     "name": "stdout",
     "output_type": "stream",
     "text": [
      "                            OLS Regression Results                            \n",
      "==============================================================================\n",
      "Dep. Variable:                      y   R-squared:                       0.995\n",
      "Model:                            OLS   Adj. R-squared:                  0.995\n",
      "Method:                 Least Squares   F-statistic:                 2.164e+04\n",
      "Date:                Tue, 08 Aug 2023   Prob (F-statistic):          8.94e-117\n",
      "Time:                        13:47:00   Log-Likelihood:                -138.22\n",
      "No. Observations:                 100   AIC:                             280.4\n",
      "Df Residuals:                      98   BIC:                             285.6\n",
      "Df Model:                           1                                         \n",
      "Covariance Type:            nonrobust                                         \n",
      "==============================================================================\n",
      "                 coef    std err          t      P>|t|      [0.025      0.975]\n",
      "------------------------------------------------------------------------------\n",
      "Intercept    -19.8325      0.193   -102.607      0.000     -20.216     -19.449\n",
      "x              0.4962      0.003    147.110      0.000       0.490       0.503\n",
      "==============================================================================\n",
      "Omnibus:                        5.025   Durbin-Watson:                   1.894\n",
      "Prob(Omnibus):                  0.081   Jarque-Bera (JB):                4.660\n",
      "Skew:                          -0.369   Prob(JB):                       0.0973\n",
      "Kurtosis:                       3.758   Cond. No.                         114.\n",
      "==============================================================================\n",
      "\n",
      "Notes:\n",
      "[1] Standard Errors assume that the covariance matrix of the errors is correctly specified.\n"
     ]
    }
   ],
   "source": [
    "# Ajuste un modelo lineal, usando el lenguaje de \"fórmula\" agregado por el paquete \"patsy\"\n",
    "\n",
    "model = smf.ols('y ~ x', data = df).fit()\n",
    "\n",
    "print(model.summary())"
   ]
  },
  {
   "cell_type": "markdown",
   "id": "d724bf53",
   "metadata": {},
   "source": [
    "# 5. Consejos de programación"
   ]
  },
  {
   "cell_type": "markdown",
   "id": "68642243",
   "metadata": {},
   "source": [
    "## 5.1 Consejos generales de programación"
   ]
  },
  {
   "cell_type": "markdown",
   "id": "22a95544",
   "metadata": {},
   "source": [
    "## 5.2 Consejos de Python"
   ]
  },
  {
   "cell_type": "code",
   "execution_count": 83,
   "id": "9bd47129",
   "metadata": {},
   "outputs": [
    {
     "data": {
      "text/plain": [
       "[[1, 2], [3, 4]]"
      ]
     },
     "execution_count": 83,
     "metadata": {},
     "output_type": "execute_result"
    }
   ],
   "source": [
    "matriz = [[1, 2],\n",
    "          [3, 4]]\n",
    "\n",
    "matriz"
   ]
  },
  {
   "cell_type": "code",
   "execution_count": 85,
   "id": "79727f20",
   "metadata": {},
   "outputs": [
    {
     "data": {
      "text/plain": [
       "4"
      ]
     },
     "execution_count": 85,
     "metadata": {},
     "output_type": "execute_result"
    }
   ],
   "source": [
    "np.max(matriz)"
   ]
  },
  {
   "cell_type": "code",
   "execution_count": 86,
   "id": "0f90d71a",
   "metadata": {},
   "outputs": [
    {
     "data": {
      "text/plain": [
       "array([3, 4])"
      ]
     },
     "execution_count": 86,
     "metadata": {},
     "output_type": "execute_result"
    }
   ],
   "source": [
    "np.max(matriz, axis = 0)"
   ]
  },
  {
   "cell_type": "code",
   "execution_count": 87,
   "id": "65e8a979",
   "metadata": {},
   "outputs": [
    {
     "data": {
      "text/plain": [
       "array([2, 4])"
      ]
     },
     "execution_count": 87,
     "metadata": {},
     "output_type": "execute_result"
    }
   ],
   "source": [
    "np.max(matriz, axis = 1)"
   ]
  },
  {
   "cell_type": "markdown",
   "id": "cdb8b03d",
   "metadata": {},
   "source": [
    "## 5.3 Consejos de IPython/Jupyter"
   ]
  },
  {
   "cell_type": "markdown",
   "id": "07db5780",
   "metadata": {},
   "source": [
    "# 6. Ejercicios"
   ]
  },
  {
   "cell_type": "markdown",
   "id": "1811a56e",
   "metadata": {},
   "source": [
    "$\\textbf{Ejercicio 1:}$ Traducir puntos.\n",
    "\n",
    "Escriba un script de Python que:\n",
    "- Especifique 2 puntos\n",
    "    - $P_0$ = (0/0)\n",
    "    - $P_1$ = (2/1). \n",
    "    - Cada punto debe expresarse como una lista de Python ([a,b]).\n",
    "\n",
    "- Combina estos 2 puntos en un np.array.\n",
    "\n",
    "- Cambia esos datos, agregando 3 a la primera coordenada y 1 a la segunda. \n",
    "\n",
    "- Traza una línea desde el $P_0$ original al $P_1$ original, y en el mismo gráfico también trace una línea entre los valores desplazados."
   ]
  },
  {
   "cell_type": "code",
   "execution_count": 88,
   "id": "86c4cfbe",
   "metadata": {},
   "outputs": [],
   "source": [
    "# Definir los puntos originales\n",
    "\n",
    "p_0 = [0,0]\n",
    "\n",
    "p_1 = [2,1]"
   ]
  },
  {
   "cell_type": "code",
   "execution_count": 89,
   "id": "e2a0066c",
   "metadata": {},
   "outputs": [
    {
     "data": {
      "text/plain": [
       "array([[0, 0],\n",
       "       [2, 1]])"
      ]
     },
     "execution_count": 89,
     "metadata": {},
     "output_type": "execute_result"
    }
   ],
   "source": [
    "# Combinarlos en una matriz\n",
    "array = np.array([p_0,\n",
    "                  p_1])\n",
    "\n",
    "array"
   ]
  },
  {
   "cell_type": "code",
   "execution_count": 90,
   "id": "35d244f1",
   "metadata": {},
   "outputs": [
    {
     "data": {
      "text/plain": [
       "array([[3, 1],\n",
       "       [5, 2]])"
      ]
     },
     "execution_count": 90,
     "metadata": {},
     "output_type": "execute_result"
    }
   ],
   "source": [
    "# Trasladar el array\n",
    "\n",
    "array2 = array + [3,1]\n",
    "\n",
    "array2"
   ]
  },
  {
   "cell_type": "code",
   "execution_count": 91,
   "id": "7c51ff6c",
   "metadata": {},
   "outputs": [
    {
     "data": {
      "text/plain": [
       "array([0, 2])"
      ]
     },
     "execution_count": 91,
     "metadata": {},
     "output_type": "execute_result"
    }
   ],
   "source": [
    "array[:,0]"
   ]
  },
  {
   "cell_type": "code",
   "execution_count": 92,
   "id": "8615852e",
   "metadata": {},
   "outputs": [
    {
     "data": {
      "text/plain": [
       "array([0, 1])"
      ]
     },
     "execution_count": 92,
     "metadata": {},
     "output_type": "execute_result"
    }
   ],
   "source": [
    "array[:,1]"
   ]
  },
  {
   "cell_type": "code",
   "execution_count": 93,
   "id": "04d95977",
   "metadata": {},
   "outputs": [
    {
     "data": {
      "text/plain": [
       "array([3, 5])"
      ]
     },
     "execution_count": 93,
     "metadata": {},
     "output_type": "execute_result"
    }
   ],
   "source": [
    "array2[:,0]"
   ]
  },
  {
   "cell_type": "code",
   "execution_count": 94,
   "id": "1c4564b6",
   "metadata": {},
   "outputs": [
    {
     "data": {
      "text/plain": [
       "array([1, 2])"
      ]
     },
     "execution_count": 94,
     "metadata": {},
     "output_type": "execute_result"
    }
   ],
   "source": [
    "array2[:,1]"
   ]
  },
  {
   "cell_type": "code",
   "execution_count": 95,
   "id": "48641c30",
   "metadata": {},
   "outputs": [
    {
     "data": {
      "image/png": "[encoded data removed]",
      "text/plain": [
       "<Figure size 640x480 with 1 Axes>"
      ]
     },
     "metadata": {},
     "output_type": "display_data"
    }
   ],
   "source": [
    "# Graficar los datos\n",
    "\n",
    "plt.plot(array[:,0], array[:,1], label = 'original')\n",
    "\n",
    "plt.plot(array2[:,0], array2[:,1], label = 'trasladado')\n",
    "\n",
    "plt.xlabel('X')\n",
    "plt.ylabel('Y')\n",
    "plt.legend()\n",
    "\n",
    "plt.show()"
   ]
  },
  {
   "cell_type": "markdown",
   "id": "3c4eb80d",
   "metadata": {},
   "source": [
    "$\\textbf{Ejercicio 2:}$ Rotación de un vector.\n",
    "\n",
    "Escriba un script de Python que especifique dos puntos, $P_0$ = (0/0) y $P_1$ = (2/1). \n",
    "\n",
    "Luego escriba una función de Python que\n",
    "- Tome un vector y un ángulo como parámetros de entrada.\n",
    "- Gire el vector 25 grados multiplicándolo con la matriz de rotación R. \n",
    "- Devuelva el vector rotado. \n",
    "- Sugerencia: \n",
    "    - Una matriz de rotación 2D se define mediante \n",
    "        - R = np.array([[np.cos(alpha), -np.sin(alpha)], [np.sin(alpha), np.cos(alpha)]]) \n",
    "    - Si desea experimentar un poco con gráficos, puede intentar: \n",
    "        - Trazar una línea verde de $P_0$ a $P_1$.\n",
    "        - Superponer este gráfico con un sistema de coordenadas, de −2 a +2.\n",
    "        - Superponer la línea rotada en rojo, con mayor grosor de línea. (Puede modificar el ancho de una línea con el parámetro de trazado “linewidth=”)."
   ]
  },
  {
   "cell_type": "code",
   "execution_count": 99,
   "id": "34bf45b3",
   "metadata": {},
   "outputs": [],
   "source": [
    "def rotate_me(in_vector:np.ndarray, alpha:float) -> np.ndarray:\n",
    "    \n",
    "    \"\"\"Función que rota un vector en 2 dimensiones\n",
    "    Parámetros\n",
    "    ----------\n",
    "    in_vector : vector (2,) o array (:,2)\n",
    "    vector(s) a rotar\n",
    "    alpha : ángulo de rotación [grados]\n",
    "    Retorna\n",
    "    -------\n",
    "    rotated_vector : vector (2,) o array (:,2)\n",
    "    rotated vector\n",
    "    Ejemplos\n",
    "    --------\n",
    "    perpendicular = rotate_me([1,2], 90)\n",
    "    \n",
    "    \"\"\"\n",
    "\n",
    "    alpha_rad = np.deg2rad(alpha)\n",
    "    \n",
    "    R = np.array([[np.cos(alpha_rad), -np.sin(alpha_rad)],\n",
    "                  [np.sin(alpha_rad), np.cos(alpha_rad)]])\n",
    "\n",
    "    return R @ in_vector"
   ]
  },
  {
   "cell_type": "code",
   "execution_count": 100,
   "id": "833f08f8",
   "metadata": {},
   "outputs": [
    {
     "data": {
      "image/png": "[encoded data removed]",
      "text/plain": [
       "<Figure size 640x480 with 1 Axes>"
      ]
     },
     "metadata": {},
     "output_type": "display_data"
    }
   ],
   "source": [
    "if __name__ == '__main__':\n",
    "    \n",
    "    vector = [2,1]\n",
    "    \n",
    "    # Dibuja una línea verde de [0,0] a [2,1]\n",
    "    \n",
    "    plt.plot([0,vector[0]], [0, vector[1]], 'g', label = 'original')\n",
    "\n",
    "    # Sistema coordinado\n",
    "    \n",
    "    plt.hlines(0, -2, 2, linestyles='dashed')\n",
    "    \n",
    "    plt.vlines(0, -2, 2, linestyles='dashed')\n",
    "\n",
    "    # Asegúrese de que las dimensiones x/y estén igualmente dibujadas\n",
    "    \n",
    "    cur_axis = plt.gca()\n",
    "    \n",
    "    cur_axis.set_aspect('equal')\n",
    "\n",
    "    # Rotar el vector\n",
    "    \n",
    "    rotated = rotate_me(vector, 25)\n",
    "    \n",
    "    plt.plot([0, rotated[0]], [0 ,rotated[1]],label='rotated',color='r',linewidth=3)\n",
    "\n",
    "    # Poner una leyenda\n",
    "    \n",
    "    plt.legend()\n",
    "\n",
    "    # Grafico\n",
    "    \n",
    "    plt.show()"
   ]
  },
  {
   "cell_type": "markdown",
   "id": "ce5b1814",
   "metadata": {},
   "source": [
    "$\\textbf{Ejercicio 3:}$ Series de Taylor. \n",
    "- Escribe una función que calcule la aproximación a un seno y un coseno, a segundo orden.\n",
    "- Escriba un guión que grafique los valores exactos y los superponga con valores aproximados, en un rango de -50 grados a +50 grados. (Comando plt.xlim)\n",
    "- Consejo:\n",
    "    - Las aproximaciones de segundo orden al seno y al coseno están dadas por:\n",
    "        - $sin(\\alpha) \\approx \\alpha$\n",
    "        - $cos(\\alpha) \\approx 1 - \\frac{\\alpha^2}{2}$"
   ]
  },
  {
   "cell_type": "code",
   "execution_count": 101,
   "id": "f7edeef1",
   "metadata": {},
   "outputs": [],
   "source": [
    "def approximate(angle:np.ndarray) -> Tuple[np.ndarray, np.ndarray]:\n",
    "    \n",
    "    \"\"\"\n",
    "    Función que calcula una aproximación de segundo orden a seno y coseno\n",
    "    Parámetros\n",
    "    ----------\n",
    "    angle : ángulo [deg]\n",
    "    Returns\n",
    "    -------\n",
    "    approx_sine : seno aproximado\n",
    "    approx_cosine : coseno aproximado\n",
    "    Ejemplos\n",
    "    --------\n",
    "    alpha = 0.1\n",
    "    sin_ax, cos_ax = approximate(alpha)\n",
    "    Notas\n",
    "    -----\n",
    "    La entrada también puede ser un solo flotador\n",
    "    \"\"\"\n",
    "    \n",
    "    sin_approx = angle\n",
    "    \n",
    "    cos_approx = 1 - angle**2/2\n",
    "    \n",
    "    return (sin_approx, cos_approx)"
   ]
  },
  {
   "cell_type": "code",
   "execution_count": 102,
   "id": "841ae553",
   "metadata": {},
   "outputs": [
    {
     "data": {
      "image/png": "[encoded data removed]",
      "text/plain": [
       "<Figure size 640x480 with 1 Axes>"
      ]
     },
     "metadata": {},
     "output_type": "display_data"
    }
   ],
   "source": [
    "if __name__ == '__main__':\n",
    "    \n",
    "    limit = 50 # [deg]\n",
    "    \n",
    "    step_size = 0.1 # [deg]\n",
    "    \n",
    "    # Calculo los datos\n",
    "    \n",
    "    theta_deg = np.arange(-limit, limit, step_size)\n",
    "    \n",
    "    theta = np.deg2rad(theta_deg)\n",
    "    \n",
    "    sin_approx, cos_approx = approximate(theta)\n",
    "    \n",
    "    # Grafico\n",
    "    \n",
    "    plt.plot(theta_deg, np.column_stack((np.sin(theta), np.cos(theta))), label='exacto')\n",
    "    \n",
    "    plt.plot(theta_deg,np.column_stack((sin_approx, cos_approx)),linestyle='dashed',label='aproximado')\n",
    "    \n",
    "    # Agrego leyenda, nombre al eje x y título\n",
    "    \n",
    "    plt.legend()\n",
    "    \n",
    "    plt.xlabel('Ángulo [deg]')\n",
    "    \n",
    "    plt.title('Seno y coseno')\n",
    "    \n",
    "    # Muestro el gráfico \n",
    "    \n",
    "    plt.show()"
   ]
  },
  {
   "cell_type": "markdown",
   "id": "23aa2ff4",
   "metadata": {},
   "source": [
    "$\\textbf{Ejercicio 4:}$ Primeros pasos con pandas\n",
    "- Genere un DataFrame de pandas, con las marcas de tiempo de la columna x de 0 a 10 segundos, a una velocidad de 10 Hz, los valores de datos de la columna y con un seno con 1,5 Hz y la columna z con los valores de coseno correspondientes. Etiquete el tiempo de la columna x, los yvals de la columna y y los zvals de la columna z.\n",
    "- Mostrar el encabezado de este DataFrame.\n",
    "- Extraiga los datos de las filas 10 a 15 de yvals y zvals y escríbalos en el archivo out.txt.\n",
    "- Informar al usuario dónde se han escrito los datos.\n",
    "- Consejo: una introducción buena y concisa a los pandas es https://pandas.pydata.org/pandas-docs/stable/user_guide/10min.html"
   ]
  },
  {
   "cell_type": "code",
   "execution_count": 103,
   "id": "a2fdcc8a",
   "metadata": {},
   "outputs": [],
   "source": [
    "# Establecer los parámetros\n",
    "\n",
    "rate = 10\n",
    "\n",
    "dt = 1/rate\n",
    "\n",
    "freq = 1.5"
   ]
  },
  {
   "cell_type": "code",
   "execution_count": 105,
   "id": "6146676b",
   "metadata": {},
   "outputs": [
    {
     "data": {
      "text/plain": [
       "9.42477796076938"
      ]
     },
     "execution_count": 105,
     "metadata": {},
     "output_type": "execute_result"
    }
   ],
   "source": [
    "# Cantidades derivadas\n",
    "\n",
    "omega = 2 * np.pi * freq\n",
    "omega"
   ]
  },
  {
   "cell_type": "code",
   "execution_count": 106,
   "id": "498d0e7c",
   "metadata": {},
   "outputs": [],
   "source": [
    "# Generar los datos\n",
    "\n",
    "t = np.arange(0, 10, dt)\n",
    "\n",
    "y = np.sin(omega * t)\n",
    "\n",
    "z = np.cos(omega * t)"
   ]
  },
  {
   "cell_type": "code",
   "execution_count": 108,
   "id": "94b14c4c",
   "metadata": {},
   "outputs": [
    {
     "data": {
      "text/html": [
       "<div>\n",
       "<style scoped>\n",
       "    .dataframe tbody tr th:only-of-type {\n",
       "        vertical-align: middle;\n",
       "    }\n",
       "\n",
       "    .dataframe tbody tr th {\n",
       "        vertical-align: top;\n",
       "    }\n",
       "\n",
       "    .dataframe thead th {\n",
       "        text-align: right;\n",
       "    }\n",
       "</style>\n",
       "<table border=\"1\" class=\"dataframe\">\n",
       "  <thead>\n",
       "    <tr style=\"text-align: right;\">\n",
       "      <th></th>\n",
       "      <th>Tiempo</th>\n",
       "      <th>Y</th>\n",
       "      <th>Z</th>\n",
       "    </tr>\n",
       "  </thead>\n",
       "  <tbody>\n",
       "    <tr>\n",
       "      <th>0</th>\n",
       "      <td>0.0</td>\n",
       "      <td>0.000000</td>\n",
       "      <td>1.000000</td>\n",
       "    </tr>\n",
       "    <tr>\n",
       "      <th>1</th>\n",
       "      <td>0.1</td>\n",
       "      <td>0.809017</td>\n",
       "      <td>0.587785</td>\n",
       "    </tr>\n",
       "    <tr>\n",
       "      <th>2</th>\n",
       "      <td>0.2</td>\n",
       "      <td>0.951057</td>\n",
       "      <td>-0.309017</td>\n",
       "    </tr>\n",
       "    <tr>\n",
       "      <th>3</th>\n",
       "      <td>0.3</td>\n",
       "      <td>0.309017</td>\n",
       "      <td>-0.951057</td>\n",
       "    </tr>\n",
       "    <tr>\n",
       "      <th>4</th>\n",
       "      <td>0.4</td>\n",
       "      <td>-0.587785</td>\n",
       "      <td>-0.809017</td>\n",
       "    </tr>\n",
       "  </tbody>\n",
       "</table>\n",
       "</div>"
      ],
      "text/plain": [
       "   Tiempo         Y         Z\n",
       "0     0.0  0.000000  1.000000\n",
       "1     0.1  0.809017  0.587785\n",
       "2     0.2  0.951057 -0.309017\n",
       "3     0.3  0.309017 -0.951057\n",
       "4     0.4 -0.587785 -0.809017"
      ]
     },
     "execution_count": 108,
     "metadata": {},
     "output_type": "execute_result"
    }
   ],
   "source": [
    "df = pd.DataFrame({'Tiempo': t, 'Y': y, 'Z': z})\n",
    "\n",
    "df.head()"
   ]
  }
 ],
 "metadata": {
  "kernelspec": {
   "display_name": "Python 3 (ipykernel)",
   "language": "python",
   "name": "python3"
  },
  "language_info": {
   "codemirror_mode": {
    "name": "ipython",
    "version": 3
   },
   "file_extension": ".py",
   "mimetype": "text/x-python",
   "name": "python",
   "nbconvert_exporter": "python",
   "pygments_lexer": "ipython3",
   "version": "3.10.9"
  }
 },
 "nbformat": 4,
 "nbformat_minor": 5
}
